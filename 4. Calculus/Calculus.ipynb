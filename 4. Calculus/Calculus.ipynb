{
 "cells": [
  {
   "cell_type": "markdown",
   "metadata": {},
   "source": [
    "__Ex1: Derivative__"
   ]
  },
  {
   "cell_type": "code",
   "execution_count": 4,
   "metadata": {
    "ExecuteTime": {
     "end_time": "2019-10-30T08:17:10.651212Z",
     "start_time": "2019-10-30T08:17:10.648216Z"
    }
   },
   "outputs": [],
   "source": [
    "from scipy.misc import derivative\n",
    "from math import *"
   ]
  },
  {
   "cell_type": "code",
   "execution_count": 6,
   "metadata": {
    "ExecuteTime": {
     "end_time": "2019-10-30T08:18:14.113665Z",
     "start_time": "2019-10-30T08:18:14.099692Z"
    }
   },
   "outputs": [
    {
     "data": {
      "text/plain": [
       "172.5426557186438"
      ]
     },
     "execution_count": 6,
     "metadata": {},
     "output_type": "execute_result"
    }
   ],
   "source": [
    "def f1(x):\n",
    "    return sin(x)*cos(x) + exp(2*x) + 2*x**4 - 10\n",
    "\n",
    "f1_result = derivative(f1, 2, dx = 1e-10)\n",
    "f1_result"
   ]
  },
  {
   "cell_type": "code",
   "execution_count": 7,
   "metadata": {
    "ExecuteTime": {
     "end_time": "2019-10-30T08:20:51.854762Z",
     "start_time": "2019-10-30T08:20:51.847792Z"
    }
   },
   "outputs": [
    {
     "data": {
      "text/plain": [
       "32.06119814080921"
      ]
     },
     "execution_count": 7,
     "metadata": {},
     "output_type": "execute_result"
    }
   ],
   "source": [
    "def f2(x):\n",
    "    return (5*x**2)/sin(x)\n",
    "\n",
    "f2_result = derivative(f2, 2, dx = 1e-10)\n",
    "f2_result"
   ]
  },
  {
   "cell_type": "code",
   "execution_count": 9,
   "metadata": {
    "ExecuteTime": {
     "end_time": "2019-10-30T08:29:51.204117Z",
     "start_time": "2019-10-30T08:29:51.196141Z"
    }
   },
   "outputs": [
    {
     "data": {
      "text/plain": [
       "18.000001489326678"
      ]
     },
     "execution_count": 9,
     "metadata": {},
     "output_type": "execute_result"
    }
   ],
   "source": [
    "def f3(x):\n",
    "    return (x**2 - 5)*(x**3 - 2*x + 3)\n",
    "\n",
    "f3_result = derivative(f3, 2, dx = 1e-10)\n",
    "f3_result"
   ]
  },
  {
   "cell_type": "code",
   "execution_count": 10,
   "metadata": {
    "ExecuteTime": {
     "end_time": "2019-10-30T08:31:29.580451Z",
     "start_time": "2019-10-30T08:31:29.572471Z"
    }
   },
   "outputs": [
    {
     "data": {
      "text/plain": [
       "121.93076770472544"
      ]
     },
     "execution_count": 10,
     "metadata": {},
     "output_type": "execute_result"
    }
   ],
   "source": [
    "def f4(x):\n",
    "    return (x**0.5 + 2*x)*(4*x**2 - 1)\n",
    "\n",
    "f4_result = derivative(f4, 2, dx = 1e-10)\n",
    "f4_result"
   ]
  },
  {
   "cell_type": "code",
   "execution_count": 11,
   "metadata": {
    "ExecuteTime": {
     "end_time": "2019-10-30T08:32:30.207612Z",
     "start_time": "2019-10-30T08:32:30.201596Z"
    }
   },
   "outputs": [
    {
     "data": {
      "text/plain": [
       "0.26530611041408747"
      ]
     },
     "execution_count": 11,
     "metadata": {},
     "output_type": "execute_result"
    }
   ],
   "source": [
    "def f5(x):\n",
    "    return (x**2 - 1)/(5*x - 3)\n",
    "\n",
    "f5_result = derivative(f5, 2, dx = 1e-10)\n",
    "f5_result"
   ]
  },
  {
   "cell_type": "code",
   "execution_count": 12,
   "metadata": {
    "ExecuteTime": {
     "end_time": "2019-10-30T08:34:23.849869Z",
     "start_time": "2019-10-30T08:34:23.840923Z"
    }
   },
   "outputs": [
    {
     "data": {
      "text/plain": [
       "-0.4900080341485591"
      ]
     },
     "execution_count": 12,
     "metadata": {},
     "output_type": "execute_result"
    }
   ],
   "source": [
    "def f6(x):\n",
    "    return (x - x**0.5)/(x**0.5 - 3)\n",
    "\n",
    "\n",
    "f6_result = derivative(f6, 2, dx = 1e-10)\n",
    "f6_result"
   ]
  },
  {
   "cell_type": "code",
   "execution_count": 13,
   "metadata": {
    "ExecuteTime": {
     "end_time": "2019-10-30T08:57:10.215636Z",
     "start_time": "2019-10-30T08:57:10.208653Z"
    }
   },
   "outputs": [
    {
     "data": {
      "text/plain": [
       "-0.027777780076121417"
      ]
     },
     "execution_count": 13,
     "metadata": {},
     "output_type": "execute_result"
    }
   ],
   "source": [
    "def f7(x):\n",
    "    return (1/x - 3)*((x**2 + 3)/(2*x - 1))\n",
    "\n",
    "f7_result = derivative(f7, 2, dx = 1e-10)\n",
    "f7_result"
   ]
  },
  {
   "cell_type": "code",
   "execution_count": 14,
   "metadata": {
    "ExecuteTime": {
     "end_time": "2019-10-30T10:11:58.835236Z",
     "start_time": "2019-10-30T10:11:58.828254Z"
    }
   },
   "outputs": [
    {
     "data": {
      "text/plain": [
       "70.00359403264156"
      ]
     },
     "execution_count": 14,
     "metadata": {},
     "output_type": "execute_result"
    }
   ],
   "source": [
    "def f8(x):\n",
    "    return (x**0.5)*(2*x -1)*(x**3-x)\n",
    "\n",
    "f8_result = derivative(f8, 2, dx = 1e-10)\n",
    "f8_result"
   ]
  },
  {
   "cell_type": "code",
   "execution_count": 15,
   "metadata": {
    "ExecuteTime": {
     "end_time": "2019-10-30T10:37:20.872258Z",
     "start_time": "2019-10-30T10:37:20.866260Z"
    }
   },
   "outputs": [
    {
     "data": {
      "text/plain": [
       "82944.02505271137"
      ]
     },
     "execution_count": 15,
     "metadata": {},
     "output_type": "execute_result"
    }
   ],
   "source": [
    "def f9(x):\n",
    "    return (x**3 + 4)**4\n",
    "\n",
    "f9_result = derivative(f9, 2, dx = 1e-10)\n",
    "f9_result"
   ]
  },
  {
   "cell_type": "code",
   "execution_count": 16,
   "metadata": {
    "ExecuteTime": {
     "end_time": "2019-10-30T10:38:09.566269Z",
     "start_time": "2019-10-30T10:38:09.559289Z"
    }
   },
   "outputs": [
    {
     "data": {
      "text/plain": [
       "0.01919998882105034"
      ]
     },
     "execution_count": 16,
     "metadata": {},
     "output_type": "execute_result"
    }
   ],
   "source": [
    "def f10(x):\n",
    "    return ((x-1)/(x+3))**3\n",
    "\n",
    "f10_result = derivative(f10, 2, dx = 1e-10)\n",
    "f10_result"
   ]
  },
  {
   "cell_type": "markdown",
   "metadata": {},
   "source": [
    "__Ex2: Partial Derivatives__"
   ]
  },
  {
   "cell_type": "code",
   "execution_count": 17,
   "metadata": {
    "ExecuteTime": {
     "end_time": "2019-10-30T14:37:46.901241Z",
     "start_time": "2019-10-30T14:37:44.109008Z"
    }
   },
   "outputs": [],
   "source": [
    "import sympy as sp\n",
    "from sympy import *"
   ]
  },
  {
   "cell_type": "markdown",
   "metadata": {},
   "source": [
    "__1.__"
   ]
  },
  {
   "cell_type": "code",
   "execution_count": 32,
   "metadata": {
    "ExecuteTime": {
     "end_time": "2019-10-30T15:01:38.131890Z",
     "start_time": "2019-10-30T15:01:38.125237Z"
    }
   },
   "outputs": [],
   "source": [
    "x, y, z = sp.symbols('x y z')\n",
    "init_printing()"
   ]
  },
  {
   "cell_type": "code",
   "execution_count": 33,
   "metadata": {
    "ExecuteTime": {
     "end_time": "2019-10-30T15:01:43.306222Z",
     "start_time": "2019-10-30T15:01:43.209157Z"
    }
   },
   "outputs": [
    {
     "data": {
      "image/png": "[encoded data removed]",
      "text/latex": [
       "$$x^{2} y + 43 x - 10 y^{2} z^{3} - 7 \\tan{\\left (4 y \\right )}$$"
      ],
      "text/plain": [
       " 2                2  3             \n",
       "x ⋅y + 43⋅x - 10⋅y ⋅z  - 7⋅tan(4⋅y)"
      ]
     },
     "execution_count": 33,
     "metadata": {},
     "output_type": "execute_result"
    }
   ],
   "source": [
    "w = x**2*y - 10*y**2*z**3 + 43*x - 7*sp.tan(4*y)\n",
    "w"
   ]
  },
  {
   "cell_type": "code",
   "execution_count": 34,
   "metadata": {
    "ExecuteTime": {
     "end_time": "2019-10-30T15:01:46.244069Z",
     "start_time": "2019-10-30T15:01:46.187278Z"
    }
   },
   "outputs": [
    {
     "data": {
      "image/png": "[encoded data removed]",
      "text/latex": [
       "$$2 x y + 43$$"
      ],
      "text/plain": [
       "2⋅x⋅y + 43"
      ]
     },
     "execution_count": 34,
     "metadata": {},
     "output_type": "execute_result"
    }
   ],
   "source": [
    "w_p = sp.diff(w, x)\n",
    "w_p"
   ]
  },
  {
   "cell_type": "code",
   "execution_count": 35,
   "metadata": {
    "ExecuteTime": {
     "end_time": "2019-10-30T15:01:49.025548Z",
     "start_time": "2019-10-30T15:01:48.971882Z"
    }
   },
   "outputs": [
    {
     "data": {
      "image/png": "[encoded data removed]",
      "text/latex": [
       "$$6 y + 43$$"
      ],
      "text/plain": [
       "6⋅y + 43"
      ]
     },
     "execution_count": 35,
     "metadata": {},
     "output_type": "execute_result"
    }
   ],
   "source": [
    "w_p_v = w_p.subs({x:3})\n",
    "w_p_v"
   ]
  },
  {
   "cell_type": "markdown",
   "metadata": {},
   "source": [
    "__2.__"
   ]
  },
  {
   "cell_type": "code",
   "execution_count": 30,
   "metadata": {
    "ExecuteTime": {
     "end_time": "2019-10-30T15:00:56.435951Z",
     "start_time": "2019-10-30T15:00:55.763701Z"
    }
   },
   "outputs": [],
   "source": [
    "s, t = sp.symbols('s, t')\n",
    "init_printing()"
   ]
  },
  {
   "cell_type": "code",
   "execution_count": 37,
   "metadata": {
    "ExecuteTime": {
     "end_time": "2019-10-30T15:02:38.663199Z",
     "start_time": "2019-10-30T15:02:38.558337Z"
    }
   },
   "outputs": [
    {
     "data": {
      "image/png": "[encoded data removed]",
      "text/latex": [
       "$$- s^{0.571428571428571} + t^{7} \\log{\\left (s^{2} \\right )} + \\frac{9}{t^{3}}$$"
      ],
      "text/plain": [
       "   0.571428571428571    7    ⎛ 2⎞   9 \n",
       "- s                  + t ⋅log⎝s ⎠ + ──\n",
       "                                     3\n",
       "                                    t "
      ]
     },
     "execution_count": 37,
     "metadata": {},
     "output_type": "execute_result"
    }
   ],
   "source": [
    "h = t**7*sp.ln(s**2) + 9/(t**3) - s**(4/7)\n",
    "h"
   ]
  },
  {
   "cell_type": "code",
   "execution_count": 31,
   "metadata": {
    "ExecuteTime": {
     "end_time": "2019-10-30T15:01:01.230743Z",
     "start_time": "2019-10-30T15:01:00.086137Z"
    }
   },
   "outputs": [
    {
     "data": {
      "image/png": "[encoded data removed]",
      "text/latex": [
       "$$7 t^{6} \\log{\\left (s^{2} \\right )} - \\frac{27}{t^{4}}$$"
      ],
      "text/plain": [
       "   6    ⎛ 2⎞   27\n",
       "7⋅t ⋅log⎝s ⎠ - ──\n",
       "                4\n",
       "               t "
      ]
     },
     "execution_count": 31,
     "metadata": {},
     "output_type": "execute_result"
    }
   ],
   "source": [
    "h_p = sp.diff(h,t)\n",
    "h_p"
   ]
  },
  {
   "cell_type": "code",
   "execution_count": 36,
   "metadata": {
    "ExecuteTime": {
     "end_time": "2019-10-30T15:02:33.646479Z",
     "start_time": "2019-10-30T15:02:33.582048Z"
    }
   },
   "outputs": [
    {
     "data": {
      "image/png": "[encoded data removed]",
      "text/latex": [
       "$$448 \\log{\\left (s^{2} \\right )} - \\frac{27}{16}$$"
      ],
      "text/plain": [
       "       ⎛ 2⎞   27\n",
       "448⋅log⎝s ⎠ - ──\n",
       "              16"
      ]
     },
     "execution_count": 36,
     "metadata": {},
     "output_type": "execute_result"
    }
   ],
   "source": [
    "h_p_v = h_p.subs({t:2})\n",
    "h_p_v"
   ]
  },
  {
   "cell_type": "markdown",
   "metadata": {},
   "source": [
    "__3.__"
   ]
  },
  {
   "cell_type": "code",
   "execution_count": 38,
   "metadata": {
    "ExecuteTime": {
     "end_time": "2019-10-30T15:03:55.141191Z",
     "start_time": "2019-10-30T15:03:55.138163Z"
    }
   },
   "outputs": [],
   "source": [
    "x, y = sp.symbols('x, y')"
   ]
  },
  {
   "cell_type": "code",
   "execution_count": 39,
   "metadata": {
    "ExecuteTime": {
     "end_time": "2019-10-30T15:04:53.638957Z",
     "start_time": "2019-10-30T15:04:53.543622Z"
    }
   },
   "outputs": [
    {
     "data": {
      "image/png": "[encoded data removed]",
      "text/latex": [
       "$$e^{x^{2} y - 5 y^{3}} \\cos{\\left (\\frac{4}{x} \\right )}$$"
      ],
      "text/plain": [
       "  2        3       \n",
       " x ⋅y - 5⋅y     ⎛4⎞\n",
       "ℯ           ⋅cos⎜─⎟\n",
       "                ⎝x⎠"
      ]
     },
     "execution_count": 39,
     "metadata": {},
     "output_type": "execute_result"
    }
   ],
   "source": [
    "f = sp.cos(4/x)*sp.exp(x**2*y-5*y**3)\n",
    "f"
   ]
  },
  {
   "cell_type": "code",
   "execution_count": 40,
   "metadata": {
    "ExecuteTime": {
     "end_time": "2019-10-30T15:05:15.550415Z",
     "start_time": "2019-10-30T15:05:15.399160Z"
    }
   },
   "outputs": [
    {
     "data": {
      "image/png": "[encoded data removed]",
      "text/latex": [
       "$$2 x y e^{x^{2} y - 5 y^{3}} \\cos{\\left (\\frac{4}{x} \\right )} + \\frac{4}{x^{2}} e^{x^{2} y - 5 y^{3}} \\sin{\\left (\\frac{4}{x} \\right )}$$"
      ],
      "text/plain": [
       "                                2        3       \n",
       "                               x ⋅y - 5⋅y     ⎛4⎞\n",
       "        2        3          4⋅ℯ           ⋅sin⎜─⎟\n",
       "       x ⋅y - 5⋅y     ⎛4⎞                     ⎝x⎠\n",
       "2⋅x⋅y⋅ℯ           ⋅cos⎜─⎟ + ─────────────────────\n",
       "                      ⎝x⎠              2         \n",
       "                                      x          "
      ]
     },
     "execution_count": 40,
     "metadata": {},
     "output_type": "execute_result"
    }
   ],
   "source": [
    "f_p = sp.diff(f, x)\n",
    "f_p"
   ]
  },
  {
   "cell_type": "code",
   "execution_count": 41,
   "metadata": {
    "ExecuteTime": {
     "end_time": "2019-10-30T15:05:49.518003Z",
     "start_time": "2019-10-30T15:05:49.420051Z"
    }
   },
   "outputs": [
    {
     "data": {
      "image/png": "[encoded data removed]",
      "text/latex": [
       "$$2 y e^{- 5 y^{3} + y} \\cos{\\left (4 \\right )} + 4 e^{- 5 y^{3} + y} \\sin{\\left (4 \\right )}$$"
      ],
      "text/plain": [
       "          3                      3           \n",
       "     - 5⋅y  + y             - 5⋅y  + y       \n",
       "2⋅y⋅ℯ          ⋅cos(4) + 4⋅ℯ          ⋅sin(4)"
      ]
     },
     "execution_count": 41,
     "metadata": {},
     "output_type": "execute_result"
    }
   ],
   "source": [
    "f_p_v = f_p.subs({x:1})\n",
    "f_p_v"
   ]
  },
  {
   "cell_type": "markdown",
   "metadata": {},
   "source": [
    "__4.__"
   ]
  },
  {
   "cell_type": "code",
   "execution_count": 42,
   "metadata": {
    "ExecuteTime": {
     "end_time": "2019-10-30T15:06:28.374884Z",
     "start_time": "2019-10-30T15:06:28.367295Z"
    }
   },
   "outputs": [],
   "source": [
    "u, v = sp.symbols('u, v')"
   ]
  },
  {
   "cell_type": "code",
   "execution_count": 43,
   "metadata": {
    "ExecuteTime": {
     "end_time": "2019-10-30T15:06:58.995032Z",
     "start_time": "2019-10-30T15:06:58.932123Z"
    }
   },
   "outputs": [
    {
     "data": {
      "image/png": "[encoded data removed]",
      "text/latex": [
       "$$\\frac{9 u}{u^{2} + 5 y}$$"
      ],
      "text/plain": [
       "  9⋅u   \n",
       "────────\n",
       " 2      \n",
       "u  + 5⋅y"
      ]
     },
     "execution_count": 43,
     "metadata": {},
     "output_type": "execute_result"
    }
   ],
   "source": [
    "z = 9*u/(u**2 + 5*y)\n",
    "z"
   ]
  },
  {
   "cell_type": "code",
   "execution_count": 44,
   "metadata": {
    "ExecuteTime": {
     "end_time": "2019-10-30T15:07:34.615520Z",
     "start_time": "2019-10-30T15:07:34.495540Z"
    }
   },
   "outputs": [
    {
     "data": {
      "image/png": "[encoded data removed]",
      "text/latex": [
       "$$- \\frac{18 u^{2}}{\\left(u^{2} + 5 y\\right)^{2}} + \\frac{9}{u^{2} + 5 y}$$"
      ],
      "text/plain": [
       "         2              \n",
       "     18⋅u          9    \n",
       "- ─────────── + ────────\n",
       "            2    2      \n",
       "  ⎛ 2      ⎞    u  + 5⋅y\n",
       "  ⎝u  + 5⋅y⎠            "
      ]
     },
     "execution_count": 44,
     "metadata": {},
     "output_type": "execute_result"
    }
   ],
   "source": [
    "z_p = sp.diff(z, u)\n",
    "z_p"
   ]
  },
  {
   "cell_type": "code",
   "execution_count": 45,
   "metadata": {
    "ExecuteTime": {
     "end_time": "2019-10-30T15:08:05.918841Z",
     "start_time": "2019-10-30T15:08:05.760465Z"
    }
   },
   "outputs": [
    {
     "data": {
      "image/png": "[encoded data removed]",
      "text/latex": [
       "$$\\frac{9}{5 y + 4} - \\frac{72}{\\left(5 y + 4\\right)^{2}}$$"
      ],
      "text/plain": [
       "   9          72    \n",
       "─────── - ──────────\n",
       "5⋅y + 4            2\n",
       "          (5⋅y + 4) "
      ]
     },
     "execution_count": 45,
     "metadata": {},
     "output_type": "execute_result"
    }
   ],
   "source": [
    "z_p_v = z_p.subs({u:2})\n",
    "z_p_v"
   ]
  },
  {
   "cell_type": "markdown",
   "metadata": {},
   "source": [
    "__5.__"
   ]
  },
  {
   "cell_type": "code",
   "execution_count": 46,
   "metadata": {
    "ExecuteTime": {
     "end_time": "2019-10-30T15:08:30.647817Z",
     "start_time": "2019-10-30T15:08:30.640242Z"
    }
   },
   "outputs": [],
   "source": [
    "x, y = sp.symbols('x, y')"
   ]
  },
  {
   "cell_type": "code",
   "execution_count": 49,
   "metadata": {
    "ExecuteTime": {
     "end_time": "2019-10-30T15:09:42.829065Z",
     "start_time": "2019-10-30T15:09:42.770017Z"
    }
   },
   "outputs": [
    {
     "data": {
      "image/png": "[encoded data removed]",
      "text/latex": [
       "$$\\sqrt{x^{2} + \\log{\\left (5 x - 2 y^{2} \\right )}}$$"
      ],
      "text/plain": [
       "   ______________________\n",
       "  ╱  2      ⎛         2⎞ \n",
       "╲╱  x  + log⎝5⋅x - 2⋅y ⎠ "
      ]
     },
     "execution_count": 49,
     "metadata": {},
     "output_type": "execute_result"
    }
   ],
   "source": [
    "g = sqrt(x**2 + sp.ln(5*x - 2*y**2))\n",
    "g"
   ]
  },
  {
   "cell_type": "code",
   "execution_count": 50,
   "metadata": {
    "ExecuteTime": {
     "end_time": "2019-10-30T15:10:03.624638Z",
     "start_time": "2019-10-30T15:10:03.487435Z"
    }
   },
   "outputs": [
    {
     "data": {
      "image/png": "[encoded data removed]",
      "text/latex": [
       "$$\\frac{x + \\frac{5}{2 \\left(5 x - 2 y^{2}\\right)}}{\\sqrt{x^{2} + \\log{\\left (5 x - 2 y^{2} \\right )}}}$$"
      ],
      "text/plain": [
       "              5          \n",
       "    x + ──────────────   \n",
       "          ⎛         2⎞   \n",
       "        2⋅⎝5⋅x - 2⋅y ⎠   \n",
       "─────────────────────────\n",
       "   ______________________\n",
       "  ╱  2      ⎛         2⎞ \n",
       "╲╱  x  + log⎝5⋅x - 2⋅y ⎠ "
      ]
     },
     "execution_count": 50,
     "metadata": {},
     "output_type": "execute_result"
    }
   ],
   "source": [
    "g_p = sp.diff(g, x)\n",
    "g_p"
   ]
  },
  {
   "cell_type": "code",
   "execution_count": 51,
   "metadata": {
    "ExecuteTime": {
     "end_time": "2019-10-30T15:10:42.421754Z",
     "start_time": "2019-10-30T15:10:42.300193Z"
    }
   },
   "outputs": [
    {
     "data": {
      "image/png": "[encoded data removed]",
      "text/latex": [
       "$$\\frac{3 + \\frac{5}{2 \\left(- 2 y^{2} + 15\\right)}}{\\sqrt{\\log{\\left (- 2 y^{2} + 15 \\right )} + 9}}$$"
      ],
      "text/plain": [
       "              5          \n",
       "   3 + ───────────────   \n",
       "         ⎛     2     ⎞   \n",
       "       2⋅⎝- 2⋅y  + 15⎠   \n",
       "─────────────────────────\n",
       "   ______________________\n",
       "  ╱    ⎛     2     ⎞     \n",
       "╲╱  log⎝- 2⋅y  + 15⎠ + 9 "
      ]
     },
     "execution_count": 51,
     "metadata": {},
     "output_type": "execute_result"
    }
   ],
   "source": [
    "g_p_v = g_p.subs({x:3})\n",
    "g_p_v"
   ]
  },
  {
   "cell_type": "markdown",
   "metadata": {},
   "source": [
    "__Ex3: Derivative Rules__"
   ]
  },
  {
   "cell_type": "markdown",
   "metadata": {},
   "source": [
    "__1.1: Product Rule__"
   ]
  },
  {
   "cell_type": "code",
   "execution_count": 56,
   "metadata": {
    "ExecuteTime": {
     "end_time": "2019-10-30T15:16:05.926369Z",
     "start_time": "2019-10-30T15:16:05.921839Z"
    }
   },
   "outputs": [],
   "source": [
    "import sympy as sp\n",
    "from sympy import *\n",
    "from scipy.misc import derivative"
   ]
  },
  {
   "cell_type": "code",
   "execution_count": 58,
   "metadata": {
    "ExecuteTime": {
     "end_time": "2019-10-30T15:16:13.735202Z",
     "start_time": "2019-10-30T15:16:13.729026Z"
    }
   },
   "outputs": [],
   "source": [
    "# Solution 1\n",
    "x = sp.Symbol('x')"
   ]
  },
  {
   "cell_type": "code",
   "execution_count": 8,
   "metadata": {
    "ExecuteTime": {
     "end_time": "2019-10-30T15:36:47.664228Z",
     "start_time": "2019-10-30T15:36:47.655717Z"
    }
   },
   "outputs": [],
   "source": [
    "f = 4*x**3 + 3*x**2\n",
    "g = 5*x**6 + 4*x"
   ]
  },
  {
   "cell_type": "code",
   "execution_count": 59,
   "metadata": {
    "ExecuteTime": {
     "end_time": "2019-10-30T15:16:26.043970Z",
     "start_time": "2019-10-30T15:16:25.970980Z"
    }
   },
   "outputs": [
    {
     "data": {
      "image/png": "[encoded data removed]",
      "text/latex": [
       "$$12 x^{2} + 6 x$$"
      ],
      "text/plain": [
       "    2      \n",
       "12⋅x  + 6⋅x"
      ]
     },
     "execution_count": 59,
     "metadata": {},
     "output_type": "execute_result"
    }
   ],
   "source": [
    "f_prime = sp.diff(f)\n",
    "f_prime"
   ]
  },
  {
   "cell_type": "code",
   "execution_count": 60,
   "metadata": {
    "ExecuteTime": {
     "end_time": "2019-10-30T15:16:43.558243Z",
     "start_time": "2019-10-30T15:16:43.500476Z"
    }
   },
   "outputs": [
    {
     "data": {
      "image/png": "[encoded data removed]",
      "text/latex": [
       "$$30 x^{5} + 4$$"
      ],
      "text/plain": [
       "    5    \n",
       "30⋅x  + 4"
      ]
     },
     "execution_count": 60,
     "metadata": {},
     "output_type": "execute_result"
    }
   ],
   "source": [
    "g_prime = sp.diff(g)\n",
    "g_prime"
   ]
  },
  {
   "cell_type": "code",
   "execution_count": 61,
   "metadata": {
    "ExecuteTime": {
     "end_time": "2019-10-30T15:19:16.160748Z",
     "start_time": "2019-10-30T15:19:16.080579Z"
    }
   },
   "outputs": [
    {
     "data": {
      "image/png": "[encoded data removed]",
      "text/latex": [
       "$$\\left(4 x^{3} + 3 x^{2}\\right) \\left(5 x^{6} + 4 x\\right)$$"
      ],
      "text/plain": [
       "⎛   3      2⎞ ⎛   6      ⎞\n",
       "⎝4⋅x  + 3⋅x ⎠⋅⎝5⋅x  + 4⋅x⎠"
      ]
     },
     "execution_count": 61,
     "metadata": {},
     "output_type": "execute_result"
    }
   ],
   "source": [
    "fg = f*g"
   ]
  },
  {
   "cell_type": "code",
   "execution_count": 62,
   "metadata": {
    "ExecuteTime": {
     "end_time": "2019-10-30T15:19:43.895773Z",
     "start_time": "2019-10-30T15:19:43.781309Z"
    }
   },
   "outputs": [
    {
     "data": {
      "image/png": "[encoded data removed]",
      "text/latex": [
       "$$\\left(12 x^{2} + 6 x\\right) \\left(5 x^{6} + 4 x\\right) + \\left(4 x^{3} + 3 x^{2}\\right) \\left(30 x^{5} + 4\\right)$$"
      ],
      "text/plain": [
       "⎛    2      ⎞ ⎛   6      ⎞   ⎛   3      2⎞ ⎛    5    ⎞\n",
       "⎝12⋅x  + 6⋅x⎠⋅⎝5⋅x  + 4⋅x⎠ + ⎝4⋅x  + 3⋅x ⎠⋅⎝30⋅x  + 4⎠"
      ]
     },
     "execution_count": 62,
     "metadata": {},
     "output_type": "execute_result"
    }
   ],
   "source": [
    "fg_prime = sp.diff(fg)\n",
    "fg_prime"
   ]
  },
  {
   "cell_type": "code",
   "execution_count": 64,
   "metadata": {
    "ExecuteTime": {
     "end_time": "2019-10-30T15:20:21.102900Z",
     "start_time": "2019-10-30T15:20:21.060800Z"
    }
   },
   "outputs": [
    {
     "data": {
      "image/png": "[encoded data removed]",
      "text/latex": [
       "$$62096$$"
      ],
      "text/plain": [
       "62096"
      ]
     },
     "execution_count": 64,
     "metadata": {},
     "output_type": "execute_result"
    }
   ],
   "source": [
    "fg_prime_value = fg_prime.subs({x:2})\n",
    "fg_prime_value"
   ]
  },
  {
   "cell_type": "code",
   "execution_count": 65,
   "metadata": {
    "ExecuteTime": {
     "end_time": "2019-10-30T15:21:14.335965Z",
     "start_time": "2019-10-30T15:21:14.291404Z"
    }
   },
   "outputs": [
    {
     "data": {
      "image/png": "[encoded data removed]",
      "text/latex": [
       "$$57840$$"
      ],
      "text/plain": [
       "57840"
      ]
     },
     "execution_count": 65,
     "metadata": {},
     "output_type": "execute_result"
    }
   ],
   "source": [
    "f_prime_value = f_prime.subs({x:2})\n",
    "g_prime_value = g_prime.subs({x:2})\n",
    "f_prime_value * g_prime_value"
   ]
  },
  {
   "cell_type": "code",
   "execution_count": 66,
   "metadata": {
    "ExecuteTime": {
     "end_time": "2019-10-30T15:22:33.253497Z",
     "start_time": "2019-10-30T15:22:33.247562Z"
    }
   },
   "outputs": [],
   "source": [
    "# Solution 2\n",
    "def f(x):\n",
    "    return 4*x**3 + 3*x**2\n",
    "\n",
    "def g(x):\n",
    "    return 5*x**6 + 4*x"
   ]
  },
  {
   "cell_type": "code",
   "execution_count": 67,
   "metadata": {
    "ExecuteTime": {
     "end_time": "2019-10-30T15:22:51.351349Z",
     "start_time": "2019-10-30T15:22:51.343767Z"
    }
   },
   "outputs": [],
   "source": [
    "x=2"
   ]
  },
  {
   "cell_type": "code",
   "execution_count": 68,
   "metadata": {
    "ExecuteTime": {
     "end_time": "2019-10-30T15:24:25.826347Z",
     "start_time": "2019-10-30T15:24:25.764059Z"
    }
   },
   "outputs": [
    {
     "data": {
      "image/png": "[encoded data removed]",
      "text/latex": [
       "$$62096.008264234115$$"
      ],
      "text/plain": [
       "62096.008264234115"
      ]
     },
     "execution_count": 68,
     "metadata": {},
     "output_type": "execute_result"
    }
   ],
   "source": [
    "fg_prime_of_x = derivative(f, x, dx=1e-10)*g(x) + f(x)*derivative(g, x, dx=1e-10)\n",
    "fg_prime_of_x"
   ]
  },
  {
   "cell_type": "code",
   "execution_count": 69,
   "metadata": {
    "ExecuteTime": {
     "end_time": "2019-10-30T15:25:14.561842Z",
     "start_time": "2019-10-30T15:25:14.509159Z"
    }
   },
   "outputs": [
    {
     "data": {
      "image/png": "[encoded data removed]",
      "text/latex": [
       "$$57840.01383466328$$"
      ],
      "text/plain": [
       "57840.01383466328"
      ]
     },
     "execution_count": 69,
     "metadata": {},
     "output_type": "execute_result"
    }
   ],
   "source": [
    "f_prime_g_prime_of_x = derivative(f, x, dx=1e-10) * derivative(g, x, dx=1e-10)\n",
    "f_prime_g_prime_of_x"
   ]
  },
  {
   "cell_type": "markdown",
   "metadata": {},
   "source": [
    "__1.2: Quotient Rule__"
   ]
  },
  {
   "cell_type": "code",
   "execution_count": 2,
   "metadata": {
    "ExecuteTime": {
     "end_time": "2019-10-30T15:33:38.496200Z",
     "start_time": "2019-10-30T15:33:36.981542Z"
    }
   },
   "outputs": [],
   "source": [
    "import sympy as sp\n",
    "from sympy import *\n",
    "init_printing()"
   ]
  },
  {
   "cell_type": "code",
   "execution_count": 3,
   "metadata": {
    "ExecuteTime": {
     "end_time": "2019-10-30T15:33:48.449509Z",
     "start_time": "2019-10-30T15:33:48.445434Z"
    }
   },
   "outputs": [],
   "source": [
    "x = sp.Symbol('x')"
   ]
  },
  {
   "cell_type": "code",
   "execution_count": 4,
   "metadata": {
    "ExecuteTime": {
     "end_time": "2019-10-30T15:33:55.045821Z",
     "start_time": "2019-10-30T15:33:53.791284Z"
    }
   },
   "outputs": [
    {
     "data": {
      "image/png": "[encoded data removed]",
      "text/latex": [
       "$$\\frac{4 x^{3} + 3 x^{2}}{5 x^{6} + 4 x}$$"
      ],
      "text/plain": [
       "   3      2\n",
       "4⋅x  + 3⋅x \n",
       "───────────\n",
       "    6      \n",
       " 5⋅x  + 4⋅x"
      ]
     },
     "execution_count": 4,
     "metadata": {},
     "output_type": "execute_result"
    }
   ],
   "source": [
    "fg = (4*x**3 + 3*x**2)/(5*x**6 + 4*x)\n",
    "fg"
   ]
  },
  {
   "cell_type": "code",
   "execution_count": 6,
   "metadata": {
    "ExecuteTime": {
     "end_time": "2019-10-30T15:35:26.039003Z",
     "start_time": "2019-10-30T15:35:25.918062Z"
    }
   },
   "outputs": [
    {
     "data": {
      "image/png": "[encoded data removed]",
      "text/latex": [
       "$$\\frac{12 x^{2} + 6 x}{5 x^{6} + 4 x} + \\frac{\\left(4 x^{3} + 3 x^{2}\\right) \\left(- 30 x^{5} - 4\\right)}{\\left(5 x^{6} + 4 x\\right)^{2}}$$"
      ],
      "text/plain": [
       "    2         ⎛   3      2⎞ ⎛      5    ⎞\n",
       "12⋅x  + 6⋅x   ⎝4⋅x  + 3⋅x ⎠⋅⎝- 30⋅x  - 4⎠\n",
       "─────────── + ───────────────────────────\n",
       "    6                            2       \n",
       " 5⋅x  + 4⋅x          ⎛   6      ⎞        \n",
       "                     ⎝5⋅x  + 4⋅x⎠        "
      ]
     },
     "execution_count": 6,
     "metadata": {},
     "output_type": "execute_result"
    }
   ],
   "source": [
    "fg_prime = sp.diff(fg, x)\n",
    "fg_prime"
   ]
  },
  {
   "cell_type": "code",
   "execution_count": 7,
   "metadata": {
    "ExecuteTime": {
     "end_time": "2019-10-30T15:36:04.412453Z",
     "start_time": "2019-10-30T15:36:04.359544Z"
    }
   },
   "outputs": [
    {
     "data": {
      "image/png": "[encoded data removed]",
      "text/latex": [
       "$$- \\frac{1421}{6724}$$"
      ],
      "text/plain": [
       "-1421 \n",
       "──────\n",
       " 6724 "
      ]
     },
     "execution_count": 7,
     "metadata": {},
     "output_type": "execute_result"
    }
   ],
   "source": [
    "fg_prime_value = fg_prime.subs({x:2})\n",
    "fg_prime_value"
   ]
  },
  {
   "cell_type": "code",
   "execution_count": 10,
   "metadata": {
    "ExecuteTime": {
     "end_time": "2019-10-30T15:37:52.063382Z",
     "start_time": "2019-10-30T15:37:52.021931Z"
    }
   },
   "outputs": [
    {
     "data": {
      "image/png": "[encoded data removed]",
      "text/latex": [
       "$$\\frac{15}{241}$$"
      ],
      "text/plain": [
       " 15\n",
       "───\n",
       "241"
      ]
     },
     "execution_count": 10,
     "metadata": {},
     "output_type": "execute_result"
    }
   ],
   "source": [
    "f_prime_value = sp.diff(f).subs({x:2})\n",
    "g_prime_value = sp.diff(g).subs({x:2})\n",
    "f_prime_value / g_prime_value"
   ]
  },
  {
   "cell_type": "markdown",
   "metadata": {},
   "source": [
    "__Ex4: Definite Integral__"
   ]
  },
  {
   "cell_type": "code",
   "execution_count": 11,
   "metadata": {
    "ExecuteTime": {
     "end_time": "2019-10-30T15:42:56.885860Z",
     "start_time": "2019-10-30T15:42:56.214141Z"
    }
   },
   "outputs": [],
   "source": [
    "import scipy.integrate\n",
    "import numpy as np"
   ]
  },
  {
   "cell_type": "code",
   "execution_count": 14,
   "metadata": {
    "ExecuteTime": {
     "end_time": "2019-10-30T15:44:30.632795Z",
     "start_time": "2019-10-30T15:44:30.575767Z"
    }
   },
   "outputs": [
    {
     "data": {
      "image/png": "[encoded data removed]",
      "text/latex": [
       "$$46.666666666666664$$"
      ],
      "text/plain": [
       "46.666666666666664"
      ]
     },
     "execution_count": 14,
     "metadata": {},
     "output_type": "execute_result"
    }
   ],
   "source": [
    "f1 = lambda x: (10*x**2) + 10\n",
    "i, e = scipy.integrate.quad(f1, 0, 2)\n",
    "i"
   ]
  },
  {
   "cell_type": "code",
   "execution_count": 15,
   "metadata": {
    "ExecuteTime": {
     "end_time": "2019-10-30T15:44:35.927944Z",
     "start_time": "2019-10-30T15:44:35.875638Z"
    }
   },
   "outputs": [
    {
     "data": {
      "image/png": "[encoded data removed]",
      "text/latex": [
       "$$5.181040781584063e-13$$"
      ],
      "text/plain": [
       "5.181040781584063e-13"
      ]
     },
     "execution_count": 15,
     "metadata": {},
     "output_type": "execute_result"
    }
   ],
   "source": [
    "e"
   ]
  },
  {
   "cell_type": "code",
   "execution_count": 17,
   "metadata": {
    "ExecuteTime": {
     "end_time": "2019-10-30T15:45:47.044231Z",
     "start_time": "2019-10-30T15:45:46.997729Z"
    }
   },
   "outputs": [
    {
     "data": {
      "image/png": "[encoded data removed]",
      "text/latex": [
       "$$17.104004558414548$$"
      ],
      "text/plain": [
       "17.104004558414548"
      ]
     },
     "execution_count": 17,
     "metadata": {},
     "output_type": "execute_result"
    }
   ],
   "source": [
    "f2 = lambda t: (t**4 + 1)/(t**2 + 1)\n",
    "i, e = scipy.integrate.quad(f2, 2, 4)\n",
    "i"
   ]
  },
  {
   "cell_type": "code",
   "execution_count": 18,
   "metadata": {
    "ExecuteTime": {
     "end_time": "2019-10-30T15:45:51.446050Z",
     "start_time": "2019-10-30T15:45:51.393883Z"
    }
   },
   "outputs": [
    {
     "data": {
      "image/png": "[encoded data removed]",
      "text/latex": [
       "$$1.8989259674045466e-13$$"
      ],
      "text/plain": [
       "1.8989259674045466e-13"
      ]
     },
     "execution_count": 18,
     "metadata": {},
     "output_type": "execute_result"
    }
   ],
   "source": [
    "e"
   ]
  },
  {
   "cell_type": "code",
   "execution_count": 19,
   "metadata": {
    "ExecuteTime": {
     "end_time": "2019-10-30T15:47:58.412388Z",
     "start_time": "2019-10-30T15:47:58.357518Z"
    }
   },
   "outputs": [
    {
     "data": {
      "image/png": "[encoded data removed]",
      "text/latex": [
       "$$56.99999999999999$$"
      ],
      "text/plain": [
       "56.99999999999999"
      ]
     },
     "execution_count": 19,
     "metadata": {},
     "output_type": "execute_result"
    }
   ],
   "source": [
    "f3 = lambda x,y: 1 + 8*x*y\n",
    "i, e = scipy.integrate.dblquad(f3, 1, 2, 0, 3)\n",
    "i"
   ]
  },
  {
   "cell_type": "code",
   "execution_count": 20,
   "metadata": {
    "ExecuteTime": {
     "end_time": "2019-10-30T15:48:04.745413Z",
     "start_time": "2019-10-30T15:48:04.690599Z"
    }
   },
   "outputs": [
    {
     "data": {
      "image/png": "[encoded data removed]",
      "text/latex": [
       "$$8.317993953006979e-13$$"
      ],
      "text/plain": [
       "8.317993953006979e-13"
      ]
     },
     "execution_count": 20,
     "metadata": {},
     "output_type": "execute_result"
    }
   ],
   "source": [
    "e"
   ]
  },
  {
   "cell_type": "code",
   "execution_count": 22,
   "metadata": {
    "ExecuteTime": {
     "end_time": "2019-10-30T15:50:36.738307Z",
     "start_time": "2019-10-30T15:50:36.680750Z"
    }
   },
   "outputs": [
    {
     "data": {
      "image/png": "[encoded data removed]",
      "text/latex": [
       "$$0.5671292981468048$$"
      ],
      "text/plain": [
       "0.5671292981468048"
      ]
     },
     "execution_count": 22,
     "metadata": {},
     "output_type": "execute_result"
    }
   ],
   "source": [
    "import math\n",
    "f4 = lambda x,y: y * math.sin(x)\n",
    "i, e = scipy.integrate.dblquad(f4, 0, math.pi/2, 0, 1)\n",
    "i"
   ]
  },
  {
   "cell_type": "code",
   "execution_count": 24,
   "metadata": {
    "ExecuteTime": {
     "end_time": "2019-10-30T15:54:15.397690Z",
     "start_time": "2019-10-30T15:54:15.336374Z"
    }
   },
   "outputs": [
    {
     "data": {
      "image/png": "[encoded data removed]",
      "text/latex": [
       "$$-5.942857142857144$$"
      ],
      "text/plain": [
       "-5.942857142857144"
      ]
     },
     "execution_count": 24,
     "metadata": {},
     "output_type": "execute_result"
    }
   ],
   "source": [
    "f5 = lambda x,y: (y**2)*x\n",
    "g = lambda x: x**2\n",
    "h = lambda x: x\n",
    "i, e = scipy.integrate.dblquad(f5, 0, 2, g, h)\n",
    "i"
   ]
  },
  {
   "cell_type": "code",
   "execution_count": 26,
   "metadata": {
    "ExecuteTime": {
     "end_time": "2019-10-30T15:56:31.891176Z",
     "start_time": "2019-10-30T15:56:31.717265Z"
    }
   },
   "outputs": [
    {
     "data": {
      "image/png": "[encoded data removed]",
      "text/latex": [
       "$$8.018648532808877$$"
      ],
      "text/plain": [
       "8.018648532808877"
      ]
     },
     "execution_count": 26,
     "metadata": {},
     "output_type": "execute_result"
    }
   ],
   "source": [
    "f6 = lambda x,y: math.exp(x/sqrt(y))\n",
    "g = lambda y: sqrt(y)\n",
    "i, e = scipy.integrate.dblquad(f6, 1, 4, 0, g)\n",
    "i"
   ]
  },
  {
   "cell_type": "markdown",
   "metadata": {},
   "source": [
    "__Ex5: Gradient Descent__"
   ]
  },
  {
   "cell_type": "code",
   "execution_count": 6,
   "metadata": {
    "ExecuteTime": {
     "end_time": "2019-11-03T05:42:01.063909Z",
     "start_time": "2019-11-03T05:42:01.055950Z"
    }
   },
   "outputs": [],
   "source": [
    "import pandas as pd\n",
    "import numpy as np"
   ]
  },
  {
   "cell_type": "code",
   "execution_count": 7,
   "metadata": {
    "ExecuteTime": {
     "end_time": "2019-11-03T05:42:01.515117Z",
     "start_time": "2019-11-03T05:42:01.497959Z"
    }
   },
   "outputs": [
    {
     "data": {
      "text/plain": [
       "1015"
      ]
     },
     "execution_count": 7,
     "metadata": {},
     "output_type": "execute_result"
    }
   ],
   "source": [
    "f = open('heights_1.txt','r')\n",
    "h = eval(f.read())\n",
    "heights = np.array(h)\n",
    "f.close()\n",
    "heights.size"
   ]
  },
  {
   "cell_type": "code",
   "execution_count": 8,
   "metadata": {
    "ExecuteTime": {
     "end_time": "2019-11-03T05:42:02.217222Z",
     "start_time": "2019-11-03T05:42:02.201245Z"
    }
   },
   "outputs": [
    {
     "data": {
      "text/plain": [
       "1015"
      ]
     },
     "execution_count": 8,
     "metadata": {},
     "output_type": "execute_result"
    }
   ],
   "source": [
    "f = open('weights_1.txt','r')\n",
    "w = eval(f.read())\n",
    "weights = np.array(w)\n",
    "f.close()\n",
    "weights.size"
   ]
  },
  {
   "cell_type": "code",
   "execution_count": 9,
   "metadata": {
    "ExecuteTime": {
     "end_time": "2019-11-03T05:42:04.169552Z",
     "start_time": "2019-11-03T05:42:02.841591Z"
    }
   },
   "outputs": [
    {
     "data": {
      "image/png": "[encoded data removed]",
      "text/plain": [
       "<Figure size 432x432 with 3 Axes>"
      ]
     },
     "metadata": {},
     "output_type": "display_data"
    }
   ],
   "source": [
    "#before convert\n",
    "import seaborn as sns\n",
    "import matplotlib.pyplot as plt\n",
    "sns.jointplot(x=heights, y=weights)\n",
    "plt.show()"
   ]
  },
  {
   "cell_type": "code",
   "execution_count": 10,
   "metadata": {
    "ExecuteTime": {
     "end_time": "2019-11-03T05:42:04.177512Z",
     "start_time": "2019-11-03T05:42:04.172336Z"
    }
   },
   "outputs": [],
   "source": [
    "# covert heights to mets and weights to kg\n",
    "heights = heights*0.0254\n",
    "weights = weights*0.453592"
   ]
  },
  {
   "cell_type": "code",
   "execution_count": 11,
   "metadata": {
    "ExecuteTime": {
     "end_time": "2019-11-03T05:42:06.366422Z",
     "start_time": "2019-11-03T05:42:05.088742Z"
    }
   },
   "outputs": [
    {
     "data": {
      "image/png": "[encoded data removed]",
      "text/plain": [
       "<Figure size 432x432 with 3 Axes>"
      ]
     },
     "metadata": {},
     "output_type": "display_data"
    }
   ],
   "source": [
    "#after convert\n",
    "import seaborn as sns\n",
    "import matplotlib.pyplot as plt\n",
    "sns.jointplot(x=heights, y=weights)\n",
    "plt.show()"
   ]
  },
  {
   "cell_type": "code",
   "execution_count": 12,
   "metadata": {
    "ExecuteTime": {
     "end_time": "2019-11-03T05:42:07.557048Z",
     "start_time": "2019-11-03T05:42:07.524558Z"
    }
   },
   "outputs": [],
   "source": [
    "import numpy as np\n",
    "\n",
    "# Hàm tính m (slope), b (theta/bias):    y = mx + b\n",
    "def gradient_descent_2(alpha, x, y, numIterations):\n",
    "    M     = x.shape[0] # number of samples\n",
    "    theta = np.ones(2)\n",
    "    x_T   = x.transpose()\n",
    "    for iter in range(0, numIterations):\n",
    "        hypothesis = np.dot(x, theta)\n",
    "        loss       = hypothesis - y\n",
    "        J          = np.sum(loss ** 2) / (2 * M)  # cost\n",
    "        print(\"iter %s | J: %.3f\" % (iter, J))      \n",
    "        gradient   = np.dot(x_T, loss) / M      \n",
    "        \n",
    "        theta    = theta - (alpha * gradient)  # update\n",
    "    return theta"
   ]
  },
  {
   "cell_type": "code",
   "execution_count": 19,
   "metadata": {
    "ExecuteTime": {
     "end_time": "2019-11-03T05:51:10.929394Z",
     "start_time": "2019-11-03T05:51:10.763191Z"
    },
    "collapsed": true
   },
   "outputs": [
    {
     "name": "stdout",
     "output_type": "stream",
     "text": [
      "iter 0 | J: 3956.720\n",
      "iter 1 | J: 1219.347\n",
      "iter 2 | J: 393.101\n",
      "iter 3 | J: 143.706\n",
      "iter 4 | J: 68.429\n",
      "iter 5 | J: 45.707\n",
      "iter 6 | J: 38.848\n",
      "iter 7 | J: 36.778\n",
      "iter 8 | J: 36.152\n",
      "iter 9 | J: 35.963\n",
      "iter 10 | J: 35.905\n",
      "iter 11 | J: 35.888\n",
      "iter 12 | J: 35.882\n",
      "iter 13 | J: 35.880\n",
      "iter 14 | J: 35.879\n",
      "iter 15 | J: 35.878\n",
      "iter 16 | J: 35.877\n",
      "iter 17 | J: 35.877\n",
      "iter 18 | J: 35.876\n",
      "iter 19 | J: 35.875\n",
      "iter 20 | J: 35.875\n",
      "iter 21 | J: 35.874\n",
      "iter 22 | J: 35.874\n",
      "iter 23 | J: 35.873\n",
      "iter 24 | J: 35.872\n",
      "iter 25 | J: 35.872\n",
      "iter 26 | J: 35.871\n",
      "iter 27 | J: 35.871\n",
      "iter 28 | J: 35.870\n",
      "iter 29 | J: 35.869\n",
      "iter 30 | J: 35.869\n",
      "iter 31 | J: 35.868\n",
      "iter 32 | J: 35.868\n",
      "iter 33 | J: 35.867\n",
      "iter 34 | J: 35.866\n",
      "iter 35 | J: 35.866\n",
      "iter 36 | J: 35.865\n",
      "iter 37 | J: 35.865\n",
      "iter 38 | J: 35.864\n",
      "iter 39 | J: 35.863\n",
      "iter 40 | J: 35.863\n",
      "iter 41 | J: 35.862\n",
      "iter 42 | J: 35.862\n",
      "iter 43 | J: 35.861\n",
      "iter 44 | J: 35.861\n",
      "iter 45 | J: 35.860\n",
      "iter 46 | J: 35.859\n",
      "iter 47 | J: 35.859\n",
      "iter 48 | J: 35.858\n",
      "iter 49 | J: 35.858\n",
      "iter 50 | J: 35.857\n",
      "iter 51 | J: 35.856\n",
      "iter 52 | J: 35.856\n",
      "iter 53 | J: 35.855\n",
      "iter 54 | J: 35.855\n",
      "iter 55 | J: 35.854\n",
      "iter 56 | J: 35.853\n",
      "iter 57 | J: 35.853\n",
      "iter 58 | J: 35.852\n",
      "iter 59 | J: 35.852\n",
      "iter 60 | J: 35.851\n",
      "iter 61 | J: 35.850\n",
      "iter 62 | J: 35.850\n",
      "iter 63 | J: 35.849\n",
      "iter 64 | J: 35.849\n",
      "iter 65 | J: 35.848\n",
      "iter 66 | J: 35.847\n",
      "iter 67 | J: 35.847\n",
      "iter 68 | J: 35.846\n",
      "iter 69 | J: 35.846\n",
      "iter 70 | J: 35.845\n",
      "iter 71 | J: 35.844\n",
      "iter 72 | J: 35.844\n",
      "iter 73 | J: 35.843\n",
      "iter 74 | J: 35.843\n",
      "iter 75 | J: 35.842\n",
      "iter 76 | J: 35.841\n",
      "iter 77 | J: 35.841\n",
      "iter 78 | J: 35.840\n",
      "iter 79 | J: 35.840\n",
      "iter 80 | J: 35.839\n",
      "iter 81 | J: 35.839\n",
      "iter 82 | J: 35.838\n",
      "iter 83 | J: 35.837\n",
      "iter 84 | J: 35.837\n",
      "iter 85 | J: 35.836\n",
      "iter 86 | J: 35.836\n",
      "iter 87 | J: 35.835\n",
      "iter 88 | J: 35.834\n",
      "iter 89 | J: 35.834\n",
      "iter 90 | J: 35.833\n",
      "iter 91 | J: 35.833\n",
      "iter 92 | J: 35.832\n",
      "iter 93 | J: 35.831\n",
      "iter 94 | J: 35.831\n",
      "iter 95 | J: 35.830\n",
      "iter 96 | J: 35.830\n",
      "iter 97 | J: 35.829\n",
      "iter 98 | J: 35.828\n",
      "iter 99 | J: 35.828\n",
      "iter 100 | J: 35.827\n",
      "iter 101 | J: 35.827\n",
      "iter 102 | J: 35.826\n",
      "iter 103 | J: 35.826\n",
      "iter 104 | J: 35.825\n",
      "iter 105 | J: 35.824\n",
      "iter 106 | J: 35.824\n",
      "iter 107 | J: 35.823\n",
      "iter 108 | J: 35.823\n",
      "iter 109 | J: 35.822\n",
      "iter 110 | J: 35.821\n",
      "iter 111 | J: 35.821\n",
      "iter 112 | J: 35.820\n",
      "iter 113 | J: 35.820\n",
      "iter 114 | J: 35.819\n",
      "iter 115 | J: 35.818\n",
      "iter 116 | J: 35.818\n",
      "iter 117 | J: 35.817\n",
      "iter 118 | J: 35.817\n",
      "iter 119 | J: 35.816\n",
      "iter 120 | J: 35.815\n",
      "iter 121 | J: 35.815\n",
      "iter 122 | J: 35.814\n",
      "iter 123 | J: 35.814\n",
      "iter 124 | J: 35.813\n",
      "iter 125 | J: 35.813\n",
      "iter 126 | J: 35.812\n",
      "iter 127 | J: 35.811\n",
      "iter 128 | J: 35.811\n",
      "iter 129 | J: 35.810\n",
      "iter 130 | J: 35.810\n",
      "iter 131 | J: 35.809\n",
      "iter 132 | J: 35.808\n",
      "iter 133 | J: 35.808\n",
      "iter 134 | J: 35.807\n",
      "iter 135 | J: 35.807\n",
      "iter 136 | J: 35.806\n",
      "iter 137 | J: 35.805\n",
      "iter 138 | J: 35.805\n",
      "iter 139 | J: 35.804\n",
      "iter 140 | J: 35.804\n",
      "iter 141 | J: 35.803\n",
      "iter 142 | J: 35.803\n",
      "iter 143 | J: 35.802\n",
      "iter 144 | J: 35.801\n",
      "iter 145 | J: 35.801\n",
      "iter 146 | J: 35.800\n",
      "iter 147 | J: 35.800\n",
      "iter 148 | J: 35.799\n",
      "iter 149 | J: 35.798\n",
      "iter 150 | J: 35.798\n",
      "iter 151 | J: 35.797\n",
      "iter 152 | J: 35.797\n",
      "iter 153 | J: 35.796\n",
      "iter 154 | J: 35.796\n",
      "iter 155 | J: 35.795\n",
      "iter 156 | J: 35.794\n",
      "iter 157 | J: 35.794\n",
      "iter 158 | J: 35.793\n",
      "iter 159 | J: 35.793\n",
      "iter 160 | J: 35.792\n",
      "iter 161 | J: 35.791\n",
      "iter 162 | J: 35.791\n",
      "iter 163 | J: 35.790\n",
      "iter 164 | J: 35.790\n",
      "iter 165 | J: 35.789\n",
      "iter 166 | J: 35.789\n",
      "iter 167 | J: 35.788\n",
      "iter 168 | J: 35.787\n",
      "iter 169 | J: 35.787\n",
      "iter 170 | J: 35.786\n",
      "iter 171 | J: 35.786\n",
      "iter 172 | J: 35.785\n",
      "iter 173 | J: 35.784\n",
      "iter 174 | J: 35.784\n",
      "iter 175 | J: 35.783\n",
      "iter 176 | J: 35.783\n",
      "iter 177 | J: 35.782\n",
      "iter 178 | J: 35.781\n",
      "iter 179 | J: 35.781\n",
      "iter 180 | J: 35.780\n",
      "iter 181 | J: 35.780\n",
      "iter 182 | J: 35.779\n",
      "iter 183 | J: 35.779\n",
      "iter 184 | J: 35.778\n",
      "iter 185 | J: 35.777\n",
      "iter 186 | J: 35.777\n",
      "iter 187 | J: 35.776\n",
      "iter 188 | J: 35.776\n",
      "iter 189 | J: 35.775\n",
      "iter 190 | J: 35.774\n",
      "iter 191 | J: 35.774\n",
      "iter 192 | J: 35.773\n",
      "iter 193 | J: 35.773\n",
      "iter 194 | J: 35.772\n",
      "iter 195 | J: 35.772\n",
      "iter 196 | J: 35.771\n",
      "iter 197 | J: 35.770\n",
      "iter 198 | J: 35.770\n",
      "iter 199 | J: 35.769\n",
      "iter 200 | J: 35.769\n",
      "iter 201 | J: 35.768\n",
      "iter 202 | J: 35.768\n",
      "iter 203 | J: 35.767\n",
      "iter 204 | J: 35.766\n",
      "iter 205 | J: 35.766\n",
      "iter 206 | J: 35.765\n",
      "iter 207 | J: 35.765\n",
      "iter 208 | J: 35.764\n",
      "iter 209 | J: 35.763\n",
      "iter 210 | J: 35.763\n",
      "iter 211 | J: 35.762\n",
      "iter 212 | J: 35.762\n",
      "iter 213 | J: 35.761\n",
      "iter 214 | J: 35.761\n",
      "iter 215 | J: 35.760\n",
      "iter 216 | J: 35.759\n",
      "iter 217 | J: 35.759\n",
      "iter 218 | J: 35.758\n",
      "iter 219 | J: 35.758\n",
      "iter 220 | J: 35.757\n",
      "iter 221 | J: 35.756\n",
      "iter 222 | J: 35.756\n",
      "iter 223 | J: 35.755\n",
      "iter 224 | J: 35.755\n",
      "iter 225 | J: 35.754\n",
      "iter 226 | J: 35.754\n",
      "iter 227 | J: 35.753\n",
      "iter 228 | J: 35.752\n",
      "iter 229 | J: 35.752\n",
      "iter 230 | J: 35.751\n",
      "iter 231 | J: 35.751\n",
      "iter 232 | J: 35.750\n",
      "iter 233 | J: 35.750\n",
      "iter 234 | J: 35.749\n",
      "iter 235 | J: 35.748\n",
      "iter 236 | J: 35.748\n",
      "iter 237 | J: 35.747\n",
      "iter 238 | J: 35.747\n",
      "iter 239 | J: 35.746\n",
      "iter 240 | J: 35.745\n",
      "iter 241 | J: 35.745\n",
      "iter 242 | J: 35.744\n",
      "iter 243 | J: 35.744\n",
      "iter 244 | J: 35.743\n",
      "iter 245 | J: 35.743\n",
      "iter 246 | J: 35.742\n",
      "iter 247 | J: 35.741\n",
      "iter 248 | J: 35.741\n",
      "iter 249 | J: 35.740\n",
      "iter 250 | J: 35.740\n",
      "iter 251 | J: 35.739\n",
      "iter 252 | J: 35.739\n",
      "iter 253 | J: 35.738\n",
      "iter 254 | J: 35.737\n",
      "iter 255 | J: 35.737\n",
      "iter 256 | J: 35.736\n",
      "iter 257 | J: 35.736\n",
      "iter 258 | J: 35.735\n",
      "iter 259 | J: 35.735\n",
      "iter 260 | J: 35.734\n",
      "iter 261 | J: 35.733\n",
      "iter 262 | J: 35.733\n",
      "iter 263 | J: 35.732\n",
      "iter 264 | J: 35.732\n",
      "iter 265 | J: 35.731\n",
      "iter 266 | J: 35.730\n",
      "iter 267 | J: 35.730\n",
      "iter 268 | J: 35.729\n",
      "iter 269 | J: 35.729\n",
      "iter 270 | J: 35.728\n",
      "iter 271 | J: 35.728\n",
      "iter 272 | J: 35.727\n",
      "iter 273 | J: 35.726\n",
      "iter 274 | J: 35.726\n",
      "iter 275 | J: 35.725\n",
      "iter 276 | J: 35.725\n",
      "iter 277 | J: 35.724\n",
      "iter 278 | J: 35.724\n",
      "iter 279 | J: 35.723\n",
      "iter 280 | J: 35.722\n",
      "iter 281 | J: 35.722\n",
      "iter 282 | J: 35.721\n",
      "iter 283 | J: 35.721\n",
      "iter 284 | J: 35.720\n",
      "iter 285 | J: 35.720\n",
      "iter 286 | J: 35.719\n",
      "iter 287 | J: 35.718\n",
      "iter 288 | J: 35.718\n",
      "iter 289 | J: 35.717\n",
      "iter 290 | J: 35.717\n",
      "iter 291 | J: 35.716\n",
      "iter 292 | J: 35.716\n",
      "iter 293 | J: 35.715\n",
      "iter 294 | J: 35.714\n",
      "iter 295 | J: 35.714\n",
      "iter 296 | J: 35.713\n",
      "iter 297 | J: 35.713\n",
      "iter 298 | J: 35.712\n",
      "iter 299 | J: 35.712\n",
      "iter 300 | J: 35.711\n",
      "iter 301 | J: 35.710\n",
      "iter 302 | J: 35.710\n",
      "iter 303 | J: 35.709\n",
      "iter 304 | J: 35.709\n",
      "iter 305 | J: 35.708\n",
      "iter 306 | J: 35.708\n",
      "iter 307 | J: 35.707\n",
      "iter 308 | J: 35.706\n",
      "iter 309 | J: 35.706\n",
      "iter 310 | J: 35.705\n",
      "iter 311 | J: 35.705\n",
      "iter 312 | J: 35.704\n",
      "iter 313 | J: 35.704\n",
      "iter 314 | J: 35.703\n",
      "iter 315 | J: 35.702\n",
      "iter 316 | J: 35.702\n",
      "iter 317 | J: 35.701\n",
      "iter 318 | J: 35.701\n",
      "iter 319 | J: 35.700\n",
      "iter 320 | J: 35.700\n",
      "iter 321 | J: 35.699\n",
      "iter 322 | J: 35.698\n",
      "iter 323 | J: 35.698\n",
      "iter 324 | J: 35.697\n",
      "iter 325 | J: 35.697\n",
      "iter 326 | J: 35.696\n",
      "iter 327 | J: 35.696\n",
      "iter 328 | J: 35.695\n",
      "iter 329 | J: 35.694\n",
      "iter 330 | J: 35.694\n",
      "iter 331 | J: 35.693\n",
      "iter 332 | J: 35.693\n",
      "iter 333 | J: 35.692\n",
      "iter 334 | J: 35.692\n",
      "iter 335 | J: 35.691\n",
      "iter 336 | J: 35.690\n",
      "iter 337 | J: 35.690\n",
      "iter 338 | J: 35.689\n",
      "iter 339 | J: 35.689\n",
      "iter 340 | J: 35.688\n",
      "iter 341 | J: 35.688\n",
      "iter 342 | J: 35.687\n",
      "iter 343 | J: 35.686\n",
      "iter 344 | J: 35.686\n",
      "iter 345 | J: 35.685\n",
      "iter 346 | J: 35.685\n",
      "iter 347 | J: 35.684\n",
      "iter 348 | J: 35.684\n",
      "iter 349 | J: 35.683\n",
      "iter 350 | J: 35.682\n",
      "iter 351 | J: 35.682\n",
      "iter 352 | J: 35.681\n",
      "iter 353 | J: 35.681\n",
      "iter 354 | J: 35.680\n",
      "iter 355 | J: 35.680\n",
      "iter 356 | J: 35.679\n",
      "iter 357 | J: 35.678\n",
      "iter 358 | J: 35.678\n",
      "iter 359 | J: 35.677\n",
      "iter 360 | J: 35.677\n",
      "iter 361 | J: 35.676\n",
      "iter 362 | J: 35.676\n",
      "iter 363 | J: 35.675\n",
      "iter 364 | J: 35.674\n",
      "iter 365 | J: 35.674\n",
      "iter 366 | J: 35.673\n",
      "iter 367 | J: 35.673\n",
      "iter 368 | J: 35.672\n",
      "iter 369 | J: 35.672\n",
      "iter 370 | J: 35.671\n",
      "iter 371 | J: 35.671\n",
      "iter 372 | J: 35.670\n",
      "iter 373 | J: 35.669\n",
      "iter 374 | J: 35.669\n",
      "iter 375 | J: 35.668\n",
      "iter 376 | J: 35.668\n",
      "iter 377 | J: 35.667\n",
      "iter 378 | J: 35.667\n",
      "iter 379 | J: 35.666\n",
      "iter 380 | J: 35.665\n",
      "iter 381 | J: 35.665\n",
      "iter 382 | J: 35.664\n",
      "iter 383 | J: 35.664\n",
      "iter 384 | J: 35.663\n",
      "iter 385 | J: 35.663\n",
      "iter 386 | J: 35.662\n",
      "iter 387 | J: 35.661\n",
      "iter 388 | J: 35.661\n",
      "iter 389 | J: 35.660\n",
      "iter 390 | J: 35.660\n",
      "iter 391 | J: 35.659\n",
      "iter 392 | J: 35.659\n",
      "iter 393 | J: 35.658\n",
      "iter 394 | J: 35.658\n",
      "iter 395 | J: 35.657\n",
      "iter 396 | J: 35.656\n",
      "iter 397 | J: 35.656\n",
      "iter 398 | J: 35.655\n",
      "iter 399 | J: 35.655\n",
      "iter 400 | J: 35.654\n",
      "iter 401 | J: 35.654\n",
      "iter 402 | J: 35.653\n",
      "iter 403 | J: 35.652\n",
      "iter 404 | J: 35.652\n",
      "iter 405 | J: 35.651\n",
      "iter 406 | J: 35.651\n",
      "iter 407 | J: 35.650\n",
      "iter 408 | J: 35.650\n",
      "iter 409 | J: 35.649\n",
      "iter 410 | J: 35.648\n",
      "iter 411 | J: 35.648\n",
      "iter 412 | J: 35.647\n",
      "iter 413 | J: 35.647\n",
      "iter 414 | J: 35.646\n",
      "iter 415 | J: 35.646\n",
      "iter 416 | J: 35.645\n",
      "iter 417 | J: 35.645\n",
      "iter 418 | J: 35.644\n",
      "iter 419 | J: 35.643\n",
      "iter 420 | J: 35.643\n",
      "iter 421 | J: 35.642\n",
      "iter 422 | J: 35.642\n",
      "iter 423 | J: 35.641\n",
      "iter 424 | J: 35.641\n",
      "iter 425 | J: 35.640\n",
      "iter 426 | J: 35.639\n",
      "iter 427 | J: 35.639\n",
      "iter 428 | J: 35.638\n",
      "iter 429 | J: 35.638\n",
      "iter 430 | J: 35.637\n",
      "iter 431 | J: 35.637\n",
      "iter 432 | J: 35.636\n",
      "iter 433 | J: 35.636\n",
      "iter 434 | J: 35.635\n",
      "iter 435 | J: 35.634\n",
      "iter 436 | J: 35.634\n",
      "iter 437 | J: 35.633\n",
      "iter 438 | J: 35.633\n",
      "iter 439 | J: 35.632\n",
      "iter 440 | J: 35.632\n",
      "iter 441 | J: 35.631\n",
      "iter 442 | J: 35.631\n",
      "iter 443 | J: 35.630\n",
      "iter 444 | J: 35.629\n",
      "iter 445 | J: 35.629\n",
      "iter 446 | J: 35.628\n",
      "iter 447 | J: 35.628\n",
      "iter 448 | J: 35.627\n",
      "iter 449 | J: 35.627\n",
      "iter 450 | J: 35.626\n",
      "iter 451 | J: 35.625\n",
      "iter 452 | J: 35.625\n",
      "iter 453 | J: 35.624\n",
      "iter 454 | J: 35.624\n",
      "iter 455 | J: 35.623\n",
      "iter 456 | J: 35.623\n",
      "iter 457 | J: 35.622\n",
      "iter 458 | J: 35.622\n",
      "iter 459 | J: 35.621\n",
      "iter 460 | J: 35.620\n",
      "iter 461 | J: 35.620\n",
      "iter 462 | J: 35.619\n",
      "iter 463 | J: 35.619\n",
      "iter 464 | J: 35.618\n",
      "iter 465 | J: 35.618\n",
      "iter 466 | J: 35.617\n",
      "iter 467 | J: 35.617\n",
      "iter 468 | J: 35.616\n",
      "iter 469 | J: 35.615\n",
      "iter 470 | J: 35.615\n",
      "iter 471 | J: 35.614\n",
      "iter 472 | J: 35.614\n",
      "iter 473 | J: 35.613\n",
      "iter 474 | J: 35.613\n",
      "iter 475 | J: 35.612\n",
      "iter 476 | J: 35.611\n",
      "iter 477 | J: 35.611\n",
      "iter 478 | J: 35.610\n",
      "iter 479 | J: 35.610\n",
      "iter 480 | J: 35.609\n",
      "iter 481 | J: 35.609\n",
      "iter 482 | J: 35.608\n",
      "iter 483 | J: 35.608\n",
      "iter 484 | J: 35.607\n",
      "iter 485 | J: 35.606\n",
      "iter 486 | J: 35.606\n",
      "iter 487 | J: 35.605\n",
      "iter 488 | J: 35.605\n",
      "iter 489 | J: 35.604\n",
      "iter 490 | J: 35.604\n",
      "iter 491 | J: 35.603\n",
      "iter 492 | J: 35.603\n",
      "iter 493 | J: 35.602\n",
      "iter 494 | J: 35.601\n",
      "iter 495 | J: 35.601\n",
      "iter 496 | J: 35.600\n",
      "iter 497 | J: 35.600\n",
      "iter 498 | J: 35.599\n",
      "iter 499 | J: 35.599\n",
      "iter 500 | J: 35.598\n",
      "iter 501 | J: 35.598\n",
      "iter 502 | J: 35.597\n",
      "iter 503 | J: 35.596\n",
      "iter 504 | J: 35.596\n",
      "iter 505 | J: 35.595\n",
      "iter 506 | J: 35.595\n",
      "iter 507 | J: 35.594\n",
      "iter 508 | J: 35.594\n",
      "iter 509 | J: 35.593\n",
      "iter 510 | J: 35.593\n",
      "iter 511 | J: 35.592\n",
      "iter 512 | J: 35.591\n",
      "iter 513 | J: 35.591\n",
      "iter 514 | J: 35.590\n",
      "iter 515 | J: 35.590\n",
      "iter 516 | J: 35.589\n",
      "iter 517 | J: 35.589\n",
      "iter 518 | J: 35.588\n",
      "iter 519 | J: 35.588\n",
      "iter 520 | J: 35.587\n",
      "iter 521 | J: 35.586\n",
      "iter 522 | J: 35.586\n",
      "iter 523 | J: 35.585\n",
      "iter 524 | J: 35.585\n",
      "iter 525 | J: 35.584\n",
      "iter 526 | J: 35.584\n",
      "iter 527 | J: 35.583\n",
      "iter 528 | J: 35.583\n",
      "iter 529 | J: 35.582\n",
      "iter 530 | J: 35.582\n",
      "iter 531 | J: 35.581\n",
      "iter 532 | J: 35.580\n",
      "iter 533 | J: 35.580\n",
      "iter 534 | J: 35.579\n",
      "iter 535 | J: 35.579\n",
      "iter 536 | J: 35.578\n",
      "iter 537 | J: 35.578\n",
      "iter 538 | J: 35.577\n",
      "iter 539 | J: 35.577\n",
      "iter 540 | J: 35.576\n",
      "iter 541 | J: 35.575\n",
      "iter 542 | J: 35.575\n",
      "iter 543 | J: 35.574\n",
      "iter 544 | J: 35.574\n",
      "iter 545 | J: 35.573\n",
      "iter 546 | J: 35.573\n",
      "iter 547 | J: 35.572\n",
      "iter 548 | J: 35.572\n",
      "iter 549 | J: 35.571\n",
      "iter 550 | J: 35.570\n",
      "iter 551 | J: 35.570\n",
      "iter 552 | J: 35.569\n",
      "iter 553 | J: 35.569\n",
      "iter 554 | J: 35.568\n",
      "iter 555 | J: 35.568\n",
      "iter 556 | J: 35.567\n",
      "iter 557 | J: 35.567\n",
      "iter 558 | J: 35.566\n",
      "iter 559 | J: 35.566\n",
      "iter 560 | J: 35.565\n",
      "iter 561 | J: 35.564\n",
      "iter 562 | J: 35.564\n",
      "iter 563 | J: 35.563\n",
      "iter 564 | J: 35.563\n",
      "iter 565 | J: 35.562\n",
      "iter 566 | J: 35.562\n",
      "iter 567 | J: 35.561\n",
      "iter 568 | J: 35.561\n",
      "iter 569 | J: 35.560\n",
      "iter 570 | J: 35.559\n",
      "iter 571 | J: 35.559\n",
      "iter 572 | J: 35.558\n",
      "iter 573 | J: 35.558\n",
      "iter 574 | J: 35.557\n",
      "iter 575 | J: 35.557\n",
      "iter 576 | J: 35.556\n",
      "iter 577 | J: 35.556\n",
      "iter 578 | J: 35.555\n",
      "iter 579 | J: 35.555\n",
      "iter 580 | J: 35.554\n",
      "iter 581 | J: 35.553\n",
      "iter 582 | J: 35.553\n",
      "iter 583 | J: 35.552\n",
      "iter 584 | J: 35.552\n",
      "iter 585 | J: 35.551\n",
      "iter 586 | J: 35.551\n",
      "iter 587 | J: 35.550\n",
      "iter 588 | J: 35.550\n",
      "iter 589 | J: 35.549\n",
      "iter 590 | J: 35.548\n",
      "iter 591 | J: 35.548\n",
      "iter 592 | J: 35.547\n",
      "iter 593 | J: 35.547\n",
      "iter 594 | J: 35.546\n",
      "iter 595 | J: 35.546\n",
      "iter 596 | J: 35.545\n",
      "iter 597 | J: 35.545\n",
      "iter 598 | J: 35.544\n",
      "iter 599 | J: 35.544\n",
      "iter 600 | J: 35.543\n",
      "iter 601 | J: 35.542\n",
      "iter 602 | J: 35.542\n",
      "iter 603 | J: 35.541\n",
      "iter 604 | J: 35.541\n",
      "iter 605 | J: 35.540\n",
      "iter 606 | J: 35.540\n",
      "iter 607 | J: 35.539\n",
      "iter 608 | J: 35.539\n",
      "iter 609 | J: 35.538\n",
      "iter 610 | J: 35.538\n",
      "iter 611 | J: 35.537\n",
      "iter 612 | J: 35.536\n",
      "iter 613 | J: 35.536\n",
      "iter 614 | J: 35.535\n",
      "iter 615 | J: 35.535\n",
      "iter 616 | J: 35.534\n",
      "iter 617 | J: 35.534\n",
      "iter 618 | J: 35.533\n",
      "iter 619 | J: 35.533\n",
      "iter 620 | J: 35.532\n",
      "iter 621 | J: 35.532\n",
      "iter 622 | J: 35.531\n",
      "iter 623 | J: 35.530\n",
      "iter 624 | J: 35.530\n",
      "iter 625 | J: 35.529\n",
      "iter 626 | J: 35.529\n",
      "iter 627 | J: 35.528\n",
      "iter 628 | J: 35.528\n",
      "iter 629 | J: 35.527\n",
      "iter 630 | J: 35.527\n",
      "iter 631 | J: 35.526\n",
      "iter 632 | J: 35.526\n",
      "iter 633 | J: 35.525\n",
      "iter 634 | J: 35.524\n",
      "iter 635 | J: 35.524\n",
      "iter 636 | J: 35.523\n",
      "iter 637 | J: 35.523\n",
      "iter 638 | J: 35.522\n",
      "iter 639 | J: 35.522\n",
      "iter 640 | J: 35.521\n",
      "iter 641 | J: 35.521\n",
      "iter 642 | J: 35.520\n",
      "iter 643 | J: 35.520\n",
      "iter 644 | J: 35.519\n",
      "iter 645 | J: 35.518\n",
      "iter 646 | J: 35.518\n",
      "iter 647 | J: 35.517\n",
      "iter 648 | J: 35.517\n",
      "iter 649 | J: 35.516\n",
      "iter 650 | J: 35.516\n",
      "iter 651 | J: 35.515\n",
      "iter 652 | J: 35.515\n",
      "iter 653 | J: 35.514\n",
      "iter 654 | J: 35.514\n",
      "iter 655 | J: 35.513\n",
      "iter 656 | J: 35.513\n",
      "iter 657 | J: 35.512\n",
      "iter 658 | J: 35.511\n",
      "iter 659 | J: 35.511\n",
      "iter 660 | J: 35.510\n",
      "iter 661 | J: 35.510\n",
      "iter 662 | J: 35.509\n",
      "iter 663 | J: 35.509\n",
      "iter 664 | J: 35.508\n",
      "iter 665 | J: 35.508\n",
      "iter 666 | J: 35.507\n",
      "iter 667 | J: 35.507\n",
      "iter 668 | J: 35.506\n",
      "iter 669 | J: 35.505\n",
      "iter 670 | J: 35.505\n",
      "iter 671 | J: 35.504\n",
      "iter 672 | J: 35.504\n",
      "iter 673 | J: 35.503\n",
      "iter 674 | J: 35.503\n",
      "iter 675 | J: 35.502\n",
      "iter 676 | J: 35.502\n",
      "iter 677 | J: 35.501\n",
      "iter 678 | J: 35.501\n",
      "iter 679 | J: 35.500\n",
      "iter 680 | J: 35.500\n",
      "iter 681 | J: 35.499\n",
      "iter 682 | J: 35.498\n",
      "iter 683 | J: 35.498\n",
      "iter 684 | J: 35.497\n",
      "iter 685 | J: 35.497\n",
      "iter 686 | J: 35.496\n",
      "iter 687 | J: 35.496\n",
      "iter 688 | J: 35.495\n",
      "iter 689 | J: 35.495\n",
      "iter 690 | J: 35.494\n",
      "iter 691 | J: 35.494\n",
      "iter 692 | J: 35.493\n",
      "iter 693 | J: 35.492\n",
      "iter 694 | J: 35.492\n",
      "iter 695 | J: 35.491\n",
      "iter 696 | J: 35.491\n",
      "iter 697 | J: 35.490\n",
      "iter 698 | J: 35.490\n",
      "iter 699 | J: 35.489\n",
      "iter 700 | J: 35.489\n",
      "iter 701 | J: 35.488\n",
      "iter 702 | J: 35.488\n",
      "iter 703 | J: 35.487\n",
      "iter 704 | J: 35.487\n",
      "iter 705 | J: 35.486\n",
      "iter 706 | J: 35.485\n",
      "iter 707 | J: 35.485\n",
      "iter 708 | J: 35.484\n",
      "iter 709 | J: 35.484\n",
      "iter 710 | J: 35.483\n",
      "iter 711 | J: 35.483\n",
      "iter 712 | J: 35.482\n",
      "iter 713 | J: 35.482\n",
      "iter 714 | J: 35.481\n",
      "iter 715 | J: 35.481\n",
      "iter 716 | J: 35.480\n",
      "iter 717 | J: 35.480\n",
      "iter 718 | J: 35.479\n",
      "iter 719 | J: 35.479\n",
      "iter 720 | J: 35.478\n",
      "iter 721 | J: 35.477\n",
      "iter 722 | J: 35.477\n",
      "iter 723 | J: 35.476\n",
      "iter 724 | J: 35.476\n",
      "iter 725 | J: 35.475\n",
      "iter 726 | J: 35.475\n",
      "iter 727 | J: 35.474\n",
      "iter 728 | J: 35.474\n",
      "iter 729 | J: 35.473\n",
      "iter 730 | J: 35.473\n",
      "iter 731 | J: 35.472\n",
      "iter 732 | J: 35.472\n",
      "iter 733 | J: 35.471\n",
      "iter 734 | J: 35.470\n",
      "iter 735 | J: 35.470\n",
      "iter 736 | J: 35.469\n",
      "iter 737 | J: 35.469\n",
      "iter 738 | J: 35.468\n",
      "iter 739 | J: 35.468\n",
      "iter 740 | J: 35.467\n",
      "iter 741 | J: 35.467\n",
      "iter 742 | J: 35.466\n",
      "iter 743 | J: 35.466\n",
      "iter 744 | J: 35.465\n",
      "iter 745 | J: 35.465\n",
      "iter 746 | J: 35.464\n",
      "iter 747 | J: 35.463\n",
      "iter 748 | J: 35.463\n",
      "iter 749 | J: 35.462\n",
      "iter 750 | J: 35.462\n",
      "iter 751 | J: 35.461\n",
      "iter 752 | J: 35.461\n",
      "iter 753 | J: 35.460\n",
      "iter 754 | J: 35.460\n",
      "iter 755 | J: 35.459\n",
      "iter 756 | J: 35.459\n",
      "iter 757 | J: 35.458\n",
      "iter 758 | J: 35.458\n",
      "iter 759 | J: 35.457\n",
      "iter 760 | J: 35.457\n",
      "iter 761 | J: 35.456\n",
      "iter 762 | J: 35.455\n",
      "iter 763 | J: 35.455\n",
      "iter 764 | J: 35.454\n",
      "iter 765 | J: 35.454\n",
      "iter 766 | J: 35.453\n",
      "iter 767 | J: 35.453\n",
      "iter 768 | J: 35.452\n",
      "iter 769 | J: 35.452\n",
      "iter 770 | J: 35.451\n",
      "iter 771 | J: 35.451\n",
      "iter 772 | J: 35.450\n",
      "iter 773 | J: 35.450\n",
      "iter 774 | J: 35.449\n",
      "iter 775 | J: 35.449\n",
      "iter 776 | J: 35.448\n",
      "iter 777 | J: 35.447\n",
      "iter 778 | J: 35.447\n",
      "iter 779 | J: 35.446\n",
      "iter 780 | J: 35.446\n",
      "iter 781 | J: 35.445\n",
      "iter 782 | J: 35.445\n",
      "iter 783 | J: 35.444\n",
      "iter 784 | J: 35.444\n",
      "iter 785 | J: 35.443\n",
      "iter 786 | J: 35.443\n",
      "iter 787 | J: 35.442\n",
      "iter 788 | J: 35.442\n",
      "iter 789 | J: 35.441\n",
      "iter 790 | J: 35.441\n",
      "iter 791 | J: 35.440\n",
      "iter 792 | J: 35.440\n",
      "iter 793 | J: 35.439\n",
      "iter 794 | J: 35.438\n",
      "iter 795 | J: 35.438\n",
      "iter 796 | J: 35.437\n",
      "iter 797 | J: 35.437\n",
      "iter 798 | J: 35.436\n",
      "iter 799 | J: 35.436\n",
      "iter 800 | J: 35.435\n",
      "iter 801 | J: 35.435\n",
      "iter 802 | J: 35.434\n",
      "iter 803 | J: 35.434\n",
      "iter 804 | J: 35.433\n",
      "iter 805 | J: 35.433\n",
      "iter 806 | J: 35.432\n",
      "iter 807 | J: 35.432\n",
      "iter 808 | J: 35.431\n",
      "iter 809 | J: 35.430\n",
      "iter 810 | J: 35.430\n",
      "iter 811 | J: 35.429\n",
      "iter 812 | J: 35.429\n",
      "iter 813 | J: 35.428\n",
      "iter 814 | J: 35.428\n",
      "iter 815 | J: 35.427\n",
      "iter 816 | J: 35.427\n",
      "iter 817 | J: 35.426\n",
      "iter 818 | J: 35.426\n",
      "iter 819 | J: 35.425\n",
      "iter 820 | J: 35.425\n",
      "iter 821 | J: 35.424\n",
      "iter 822 | J: 35.424\n",
      "iter 823 | J: 35.423\n",
      "iter 824 | J: 35.423\n",
      "iter 825 | J: 35.422\n",
      "iter 826 | J: 35.421\n",
      "iter 827 | J: 35.421\n",
      "iter 828 | J: 35.420\n",
      "iter 829 | J: 35.420\n",
      "iter 830 | J: 35.419\n",
      "iter 831 | J: 35.419\n",
      "iter 832 | J: 35.418\n",
      "iter 833 | J: 35.418\n",
      "iter 834 | J: 35.417\n",
      "iter 835 | J: 35.417\n",
      "iter 836 | J: 35.416\n",
      "iter 837 | J: 35.416\n",
      "iter 838 | J: 35.415\n",
      "iter 839 | J: 35.415\n",
      "iter 840 | J: 35.414\n",
      "iter 841 | J: 35.414\n",
      "iter 842 | J: 35.413\n",
      "iter 843 | J: 35.413\n",
      "iter 844 | J: 35.412\n",
      "iter 845 | J: 35.411\n",
      "iter 846 | J: 35.411\n",
      "iter 847 | J: 35.410\n",
      "iter 848 | J: 35.410\n",
      "iter 849 | J: 35.409\n",
      "iter 850 | J: 35.409\n",
      "iter 851 | J: 35.408\n",
      "iter 852 | J: 35.408\n",
      "iter 853 | J: 35.407\n",
      "iter 854 | J: 35.407\n",
      "iter 855 | J: 35.406\n",
      "iter 856 | J: 35.406\n",
      "iter 857 | J: 35.405\n",
      "iter 858 | J: 35.405\n",
      "iter 859 | J: 35.404\n",
      "iter 860 | J: 35.404\n",
      "iter 861 | J: 35.403\n",
      "iter 862 | J: 35.403\n",
      "iter 863 | J: 35.402\n",
      "iter 864 | J: 35.401\n",
      "iter 865 | J: 35.401\n",
      "iter 866 | J: 35.400\n",
      "iter 867 | J: 35.400\n",
      "iter 868 | J: 35.399\n",
      "iter 869 | J: 35.399\n",
      "iter 870 | J: 35.398\n",
      "iter 871 | J: 35.398\n",
      "iter 872 | J: 35.397\n",
      "iter 873 | J: 35.397\n",
      "iter 874 | J: 35.396\n",
      "iter 875 | J: 35.396\n",
      "iter 876 | J: 35.395\n",
      "iter 877 | J: 35.395\n",
      "iter 878 | J: 35.394\n",
      "iter 879 | J: 35.394\n",
      "iter 880 | J: 35.393\n",
      "iter 881 | J: 35.393\n",
      "iter 882 | J: 35.392\n",
      "iter 883 | J: 35.392\n",
      "iter 884 | J: 35.391\n",
      "iter 885 | J: 35.390\n",
      "iter 886 | J: 35.390\n",
      "iter 887 | J: 35.389\n",
      "iter 888 | J: 35.389\n",
      "iter 889 | J: 35.388\n",
      "iter 890 | J: 35.388\n",
      "iter 891 | J: 35.387\n",
      "iter 892 | J: 35.387\n",
      "iter 893 | J: 35.386\n",
      "iter 894 | J: 35.386\n",
      "iter 895 | J: 35.385\n",
      "iter 896 | J: 35.385\n",
      "iter 897 | J: 35.384\n",
      "iter 898 | J: 35.384\n",
      "iter 899 | J: 35.383\n",
      "iter 900 | J: 35.383\n",
      "iter 901 | J: 35.382\n",
      "iter 902 | J: 35.382\n",
      "iter 903 | J: 35.381\n",
      "iter 904 | J: 35.381\n",
      "iter 905 | J: 35.380\n",
      "iter 906 | J: 35.379\n",
      "iter 907 | J: 35.379\n",
      "iter 908 | J: 35.378\n",
      "iter 909 | J: 35.378\n",
      "iter 910 | J: 35.377\n",
      "iter 911 | J: 35.377\n",
      "iter 912 | J: 35.376\n",
      "iter 913 | J: 35.376\n",
      "iter 914 | J: 35.375\n",
      "iter 915 | J: 35.375\n",
      "iter 916 | J: 35.374\n",
      "iter 917 | J: 35.374\n",
      "iter 918 | J: 35.373\n",
      "iter 919 | J: 35.373\n",
      "iter 920 | J: 35.372\n",
      "iter 921 | J: 35.372\n",
      "iter 922 | J: 35.371\n",
      "iter 923 | J: 35.371\n",
      "iter 924 | J: 35.370\n",
      "iter 925 | J: 35.370\n",
      "iter 926 | J: 35.369\n",
      "iter 927 | J: 35.369\n",
      "iter 928 | J: 35.368\n",
      "iter 929 | J: 35.367\n",
      "iter 930 | J: 35.367\n",
      "iter 931 | J: 35.366\n",
      "iter 932 | J: 35.366\n",
      "iter 933 | J: 35.365\n",
      "iter 934 | J: 35.365\n",
      "iter 935 | J: 35.364\n",
      "iter 936 | J: 35.364\n",
      "iter 937 | J: 35.363\n",
      "iter 938 | J: 35.363\n",
      "iter 939 | J: 35.362\n",
      "iter 940 | J: 35.362\n",
      "iter 941 | J: 35.361\n",
      "iter 942 | J: 35.361\n",
      "iter 943 | J: 35.360\n",
      "iter 944 | J: 35.360\n",
      "iter 945 | J: 35.359\n",
      "iter 946 | J: 35.359\n",
      "iter 947 | J: 35.358\n",
      "iter 948 | J: 35.358\n",
      "iter 949 | J: 35.357\n",
      "iter 950 | J: 35.357\n",
      "iter 951 | J: 35.356\n",
      "iter 952 | J: 35.356\n",
      "iter 953 | J: 35.355\n",
      "iter 954 | J: 35.355\n",
      "iter 955 | J: 35.354\n",
      "iter 956 | J: 35.353\n",
      "iter 957 | J: 35.353\n",
      "iter 958 | J: 35.352\n",
      "iter 959 | J: 35.352\n",
      "iter 960 | J: 35.351\n",
      "iter 961 | J: 35.351\n",
      "iter 962 | J: 35.350\n",
      "iter 963 | J: 35.350\n",
      "iter 964 | J: 35.349\n",
      "iter 965 | J: 35.349\n",
      "iter 966 | J: 35.348\n",
      "iter 967 | J: 35.348\n",
      "iter 968 | J: 35.347\n",
      "iter 969 | J: 35.347\n",
      "iter 970 | J: 35.346\n",
      "iter 971 | J: 35.346\n",
      "iter 972 | J: 35.345\n",
      "iter 973 | J: 35.345\n",
      "iter 974 | J: 35.344\n",
      "iter 975 | J: 35.344\n",
      "iter 976 | J: 35.343\n",
      "iter 977 | J: 35.343\n",
      "iter 978 | J: 35.342\n",
      "iter 979 | J: 35.342\n",
      "iter 980 | J: 35.341\n",
      "iter 981 | J: 35.341\n",
      "iter 982 | J: 35.340\n",
      "iter 983 | J: 35.340\n",
      "iter 984 | J: 35.339\n",
      "iter 985 | J: 35.338\n",
      "iter 986 | J: 35.338\n",
      "iter 987 | J: 35.337\n",
      "iter 988 | J: 35.337\n",
      "iter 989 | J: 35.336\n",
      "iter 990 | J: 35.336\n",
      "iter 991 | J: 35.335\n",
      "iter 992 | J: 35.335\n",
      "iter 993 | J: 35.334\n",
      "iter 994 | J: 35.334\n",
      "iter 995 | J: 35.333\n",
      "iter 996 | J: 35.333\n",
      "iter 997 | J: 35.332\n",
      "iter 998 | J: 35.332\n",
      "iter 999 | J: 35.331\n"
     ]
    }
   ],
   "source": [
    "# y = mx + b\n",
    "m = heights.size\n",
    "X = np.c_[np.ones(m), heights] #insert column\n",
    "y = weights\n",
    "alpha = 0.01 # Learning rate\n",
    "theta1 = gradient_descent_2(alpha, X, y, 1000)"
   ]
  },
  {
   "cell_type": "code",
   "execution_count": 15,
   "metadata": {
    "ExecuteTime": {
     "end_time": "2019-11-03T05:43:27.281113Z",
     "start_time": "2019-11-03T05:43:27.272354Z"
    },
    "scrolled": true
   },
   "outputs": [
    {
     "data": {
      "text/plain": [
       "array([[1.    , 1.8796],\n",
       "       [1.    , 1.8796],\n",
       "       [1.    , 1.8288],\n",
       "       ...,\n",
       "       [1.    , 1.905 ],\n",
       "       [1.    , 1.905 ],\n",
       "       [1.    , 1.8542]])"
      ]
     },
     "execution_count": 15,
     "metadata": {},
     "output_type": "execute_result"
    }
   ],
   "source": [
    "X"
   ]
  },
  {
   "cell_type": "code",
   "execution_count": 16,
   "metadata": {
    "ExecuteTime": {
     "end_time": "2019-11-03T05:43:39.474517Z",
     "start_time": "2019-11-03T05:43:39.466287Z"
    }
   },
   "outputs": [
    {
     "data": {
      "text/plain": [
       "array([19.96584533, 38.16395791])"
      ]
     },
     "execution_count": 16,
     "metadata": {},
     "output_type": "execute_result"
    }
   ],
   "source": [
    "theta"
   ]
  },
  {
   "cell_type": "code",
   "execution_count": 20,
   "metadata": {
    "ExecuteTime": {
     "end_time": "2019-11-03T05:51:23.638309Z",
     "start_time": "2019-11-03T05:51:23.625666Z"
    }
   },
   "outputs": [
    {
     "data": {
      "text/plain": [
       "array([14.06978199, 41.31162769])"
      ]
     },
     "execution_count": 20,
     "metadata": {},
     "output_type": "execute_result"
    }
   ],
   "source": [
    "theta1"
   ]
  },
  {
   "cell_type": "code",
   "execution_count": 92,
   "metadata": {
    "ExecuteTime": {
     "end_time": "2019-10-31T01:41:11.259178Z",
     "start_time": "2019-10-31T01:41:11.250787Z"
    }
   },
   "outputs": [
    {
     "name": "stdout",
     "output_type": "stream",
     "text": [
      "m=  38.16395791358294 b=  19.96584532847684\n"
     ]
    }
   ],
   "source": [
    "print('m= ', theta[1], 'b= ', theta[0])"
   ]
  },
  {
   "cell_type": "code",
   "execution_count": 93,
   "metadata": {
    "ExecuteTime": {
     "end_time": "2019-10-31T01:42:53.531906Z",
     "start_time": "2019-10-31T01:42:53.524282Z"
    }
   },
   "outputs": [],
   "source": [
    "for i in range(X.shape[1]):\n",
    "    weights_predict = theta[1]* X + theta[0]"
   ]
  },
  {
   "cell_type": "code",
   "execution_count": 94,
   "metadata": {
    "ExecuteTime": {
     "end_time": "2019-10-31T01:45:25.319951Z",
     "start_time": "2019-10-31T01:45:24.934229Z"
    },
    "scrolled": true
   },
   "outputs": [
    {
     "data": {
      "image/png": "[encoded data removed]",
      "text/plain": [
       "<Figure size 864x576 with 1 Axes>"
      ]
     },
     "metadata": {},
     "output_type": "display_data"
    }
   ],
   "source": [
    "plt.figure(figsize=(12,8))\n",
    "plt.xlim(1.6,2.2)\n",
    "plt.ylim(60,150)\n",
    "plt.scatter(X[:,1], weights, color='green')\n",
    "plt.plot(X, weights_predict)\n",
    "plt.xlabel('heights')\n",
    "plt.ylabel('weights')\n",
    "plt.show()"
   ]
  },
  {
   "cell_type": "markdown",
   "metadata": {},
   "source": [
    "__Ex6: Gradient Descent - SAT__"
   ]
  },
  {
   "cell_type": "code",
   "execution_count": 109,
   "metadata": {
    "ExecuteTime": {
     "end_time": "2019-10-31T02:08:11.559864Z",
     "start_time": "2019-10-31T02:08:11.536308Z"
    }
   },
   "outputs": [
    {
     "data": {
      "text/html": [
       "<div>\n",
       "<style scoped>\n",
       "    .dataframe tbody tr th:only-of-type {\n",
       "        vertical-align: middle;\n",
       "    }\n",
       "\n",
       "    .dataframe tbody tr th {\n",
       "        vertical-align: top;\n",
       "    }\n",
       "\n",
       "    .dataframe thead th {\n",
       "        text-align: right;\n",
       "    }\n",
       "</style>\n",
       "<table border=\"1\" class=\"dataframe\">\n",
       "  <thead>\n",
       "    <tr style=\"text-align: right;\">\n",
       "      <th></th>\n",
       "      <th>high_GPA</th>\n",
       "      <th>math_SAT</th>\n",
       "      <th>verb_SAT</th>\n",
       "      <th>comp_GPA</th>\n",
       "      <th>univ_GPA</th>\n",
       "    </tr>\n",
       "  </thead>\n",
       "  <tbody>\n",
       "    <tr>\n",
       "      <th>0</th>\n",
       "      <td>3.45</td>\n",
       "      <td>643</td>\n",
       "      <td>589</td>\n",
       "      <td>3.76</td>\n",
       "      <td>3.52</td>\n",
       "    </tr>\n",
       "    <tr>\n",
       "      <th>1</th>\n",
       "      <td>2.78</td>\n",
       "      <td>558</td>\n",
       "      <td>512</td>\n",
       "      <td>2.87</td>\n",
       "      <td>2.91</td>\n",
       "    </tr>\n",
       "    <tr>\n",
       "      <th>2</th>\n",
       "      <td>2.52</td>\n",
       "      <td>583</td>\n",
       "      <td>503</td>\n",
       "      <td>2.54</td>\n",
       "      <td>2.40</td>\n",
       "    </tr>\n",
       "    <tr>\n",
       "      <th>3</th>\n",
       "      <td>3.67</td>\n",
       "      <td>685</td>\n",
       "      <td>602</td>\n",
       "      <td>3.83</td>\n",
       "      <td>3.47</td>\n",
       "    </tr>\n",
       "    <tr>\n",
       "      <th>4</th>\n",
       "      <td>3.24</td>\n",
       "      <td>592</td>\n",
       "      <td>538</td>\n",
       "      <td>3.29</td>\n",
       "      <td>3.47</td>\n",
       "    </tr>\n",
       "  </tbody>\n",
       "</table>\n",
       "</div>"
      ],
      "text/plain": [
       "   high_GPA  math_SAT  verb_SAT  comp_GPA  univ_GPA\n",
       "0      3.45       643       589      3.76      3.52\n",
       "1      2.78       558       512      2.87      2.91\n",
       "2      2.52       583       503      2.54      2.40\n",
       "3      3.67       685       602      3.83      3.47\n",
       "4      3.24       592       538      3.29      3.47"
      ]
     },
     "execution_count": 109,
     "metadata": {},
     "output_type": "execute_result"
    }
   ],
   "source": [
    "data = pd.read_excel('sat.xls')\n",
    "data.head()"
   ]
  },
  {
   "cell_type": "code",
   "execution_count": 110,
   "metadata": {
    "ExecuteTime": {
     "end_time": "2019-10-31T02:10:05.254242Z",
     "start_time": "2019-10-31T02:10:03.935045Z"
    },
    "scrolled": false
   },
   "outputs": [
    {
     "data": {
      "text/plain": [
       "<Figure size 864x864 with 0 Axes>"
      ]
     },
     "metadata": {},
     "output_type": "display_data"
    },
    {
     "data": {
      "image/png": "[encoded data removed]",
      "text/plain": [
       "<Figure size 432x432 with 3 Axes>"
      ]
     },
     "metadata": {},
     "output_type": "display_data"
    }
   ],
   "source": [
    "plt.figure(figsize=(12,12))\n",
    "sns.jointplot(x='high_GPA',y='univ_GPA',data=data)\n",
    "plt.show()"
   ]
  },
  {
   "cell_type": "code",
   "execution_count": 113,
   "metadata": {
    "ExecuteTime": {
     "end_time": "2019-10-31T02:15:28.043464Z",
     "start_time": "2019-10-31T02:15:28.023241Z"
    }
   },
   "outputs": [],
   "source": [
    "import numpy as np\n",
    "\n",
    "# Hàm tính m (slope), b (theta/bias):    y = mx + b\n",
    "def gradient_descent_2(alpha, x, y, numIterations):\n",
    "    M     = x.shape[0] # number of samples\n",
    "    theta = np.ones(2)\n",
    "    x_T   = x.transpose()\n",
    "    for iter in range(0, numIterations):\n",
    "        hypothesis = np.dot(x, theta)\n",
    "        loss       = hypothesis - y\n",
    "        J          = np.sum(loss ** 2) / (2 * M)  # cost\n",
    "        print(\"iter %s | J: %.3f\" % (iter, J))      \n",
    "        gradient   = np.dot(x_T, loss) / M      \n",
    "        \n",
    "        theta    = theta - (alpha * gradient)  # update\n",
    "    return theta"
   ]
  },
  {
   "cell_type": "code",
   "execution_count": 116,
   "metadata": {
    "ExecuteTime": {
     "end_time": "2019-10-31T02:15:58.463141Z",
     "start_time": "2019-10-31T02:15:57.199662Z"
    },
    "collapsed": true
   },
   "outputs": [
    {
     "name": "stdout",
     "output_type": "stream",
     "text": [
      "iter 0 | J: 0.461\n",
      "iter 1 | J: 0.376\n",
      "iter 2 | J: 0.307\n",
      "iter 3 | J: 0.253\n",
      "iter 4 | J: 0.210\n",
      "iter 5 | J: 0.175\n",
      "iter 6 | J: 0.148\n",
      "iter 7 | J: 0.126\n",
      "iter 8 | J: 0.108\n",
      "iter 9 | J: 0.094\n",
      "iter 10 | J: 0.083\n",
      "iter 11 | J: 0.074\n",
      "iter 12 | J: 0.067\n",
      "iter 13 | J: 0.062\n",
      "iter 14 | J: 0.057\n",
      "iter 15 | J: 0.053\n",
      "iter 16 | J: 0.051\n",
      "iter 17 | J: 0.048\n",
      "iter 18 | J: 0.046\n",
      "iter 19 | J: 0.045\n",
      "iter 20 | J: 0.044\n",
      "iter 21 | J: 0.043\n",
      "iter 22 | J: 0.042\n",
      "iter 23 | J: 0.042\n",
      "iter 24 | J: 0.041\n",
      "iter 25 | J: 0.041\n",
      "iter 26 | J: 0.040\n",
      "iter 27 | J: 0.040\n",
      "iter 28 | J: 0.040\n",
      "iter 29 | J: 0.040\n",
      "iter 30 | J: 0.040\n",
      "iter 31 | J: 0.040\n",
      "iter 32 | J: 0.040\n",
      "iter 33 | J: 0.040\n",
      "iter 34 | J: 0.039\n",
      "iter 35 | J: 0.039\n",
      "iter 36 | J: 0.039\n",
      "iter 37 | J: 0.039\n",
      "iter 38 | J: 0.039\n",
      "iter 39 | J: 0.039\n",
      "iter 40 | J: 0.039\n",
      "iter 41 | J: 0.039\n",
      "iter 42 | J: 0.039\n",
      "iter 43 | J: 0.039\n",
      "iter 44 | J: 0.039\n",
      "iter 45 | J: 0.039\n",
      "iter 46 | J: 0.039\n",
      "iter 47 | J: 0.039\n",
      "iter 48 | J: 0.039\n",
      "iter 49 | J: 0.039\n",
      "iter 50 | J: 0.039\n",
      "iter 51 | J: 0.039\n",
      "iter 52 | J: 0.039\n",
      "iter 53 | J: 0.039\n",
      "iter 54 | J: 0.039\n",
      "iter 55 | J: 0.039\n",
      "iter 56 | J: 0.039\n",
      "iter 57 | J: 0.039\n",
      "iter 58 | J: 0.039\n",
      "iter 59 | J: 0.039\n",
      "iter 60 | J: 0.039\n",
      "iter 61 | J: 0.039\n",
      "iter 62 | J: 0.039\n",
      "iter 63 | J: 0.039\n",
      "iter 64 | J: 0.039\n",
      "iter 65 | J: 0.039\n",
      "iter 66 | J: 0.039\n",
      "iter 67 | J: 0.039\n",
      "iter 68 | J: 0.039\n",
      "iter 69 | J: 0.039\n",
      "iter 70 | J: 0.039\n",
      "iter 71 | J: 0.039\n",
      "iter 72 | J: 0.039\n",
      "iter 73 | J: 0.039\n",
      "iter 74 | J: 0.039\n",
      "iter 75 | J: 0.039\n",
      "iter 76 | J: 0.039\n",
      "iter 77 | J: 0.039\n",
      "iter 78 | J: 0.039\n",
      "iter 79 | J: 0.039\n",
      "iter 80 | J: 0.039\n",
      "iter 81 | J: 0.039\n",
      "iter 82 | J: 0.039\n",
      "iter 83 | J: 0.039\n",
      "iter 84 | J: 0.039\n",
      "iter 85 | J: 0.039\n",
      "iter 86 | J: 0.039\n",
      "iter 87 | J: 0.039\n",
      "iter 88 | J: 0.039\n",
      "iter 89 | J: 0.039\n",
      "iter 90 | J: 0.039\n",
      "iter 91 | J: 0.039\n",
      "iter 92 | J: 0.039\n",
      "iter 93 | J: 0.039\n",
      "iter 94 | J: 0.039\n",
      "iter 95 | J: 0.039\n",
      "iter 96 | J: 0.039\n",
      "iter 97 | J: 0.039\n",
      "iter 98 | J: 0.039\n",
      "iter 99 | J: 0.039\n",
      "iter 100 | J: 0.039\n",
      "iter 101 | J: 0.039\n",
      "iter 102 | J: 0.039\n",
      "iter 103 | J: 0.039\n",
      "iter 104 | J: 0.039\n",
      "iter 105 | J: 0.039\n",
      "iter 106 | J: 0.039\n",
      "iter 107 | J: 0.039\n",
      "iter 108 | J: 0.039\n",
      "iter 109 | J: 0.039\n",
      "iter 110 | J: 0.039\n",
      "iter 111 | J: 0.039\n",
      "iter 112 | J: 0.039\n",
      "iter 113 | J: 0.039\n",
      "iter 114 | J: 0.039\n",
      "iter 115 | J: 0.039\n",
      "iter 116 | J: 0.039\n",
      "iter 117 | J: 0.039\n",
      "iter 118 | J: 0.039\n",
      "iter 119 | J: 0.039\n",
      "iter 120 | J: 0.039\n",
      "iter 121 | J: 0.039\n",
      "iter 122 | J: 0.039\n",
      "iter 123 | J: 0.039\n",
      "iter 124 | J: 0.039\n",
      "iter 125 | J: 0.039\n",
      "iter 126 | J: 0.039\n",
      "iter 127 | J: 0.039\n",
      "iter 128 | J: 0.039\n",
      "iter 129 | J: 0.039\n",
      "iter 130 | J: 0.039\n",
      "iter 131 | J: 0.039\n",
      "iter 132 | J: 0.039\n",
      "iter 133 | J: 0.039\n",
      "iter 134 | J: 0.039\n",
      "iter 135 | J: 0.039\n",
      "iter 136 | J: 0.039\n",
      "iter 137 | J: 0.039\n",
      "iter 138 | J: 0.039\n",
      "iter 139 | J: 0.039\n",
      "iter 140 | J: 0.039\n",
      "iter 141 | J: 0.039\n",
      "iter 142 | J: 0.039\n",
      "iter 143 | J: 0.039\n",
      "iter 144 | J: 0.039\n",
      "iter 145 | J: 0.039\n",
      "iter 146 | J: 0.039\n",
      "iter 147 | J: 0.039\n",
      "iter 148 | J: 0.039\n",
      "iter 149 | J: 0.039\n",
      "iter 150 | J: 0.039\n",
      "iter 151 | J: 0.039\n",
      "iter 152 | J: 0.039\n",
      "iter 153 | J: 0.039\n",
      "iter 154 | J: 0.039\n",
      "iter 155 | J: 0.039\n",
      "iter 156 | J: 0.039\n",
      "iter 157 | J: 0.039\n",
      "iter 158 | J: 0.039\n",
      "iter 159 | J: 0.039\n",
      "iter 160 | J: 0.039\n",
      "iter 161 | J: 0.039\n",
      "iter 162 | J: 0.039\n",
      "iter 163 | J: 0.039\n",
      "iter 164 | J: 0.039\n",
      "iter 165 | J: 0.039\n",
      "iter 166 | J: 0.039\n",
      "iter 167 | J: 0.039\n",
      "iter 168 | J: 0.039\n",
      "iter 169 | J: 0.039\n",
      "iter 170 | J: 0.039\n",
      "iter 171 | J: 0.039\n",
      "iter 172 | J: 0.039\n",
      "iter 173 | J: 0.039\n",
      "iter 174 | J: 0.039\n",
      "iter 175 | J: 0.039\n",
      "iter 176 | J: 0.039\n",
      "iter 177 | J: 0.039\n",
      "iter 178 | J: 0.039\n",
      "iter 179 | J: 0.039\n",
      "iter 180 | J: 0.039\n",
      "iter 181 | J: 0.039\n",
      "iter 182 | J: 0.039\n",
      "iter 183 | J: 0.039\n",
      "iter 184 | J: 0.039\n",
      "iter 185 | J: 0.039\n",
      "iter 186 | J: 0.039\n",
      "iter 187 | J: 0.039\n",
      "iter 188 | J: 0.039\n",
      "iter 189 | J: 0.039\n",
      "iter 190 | J: 0.039\n",
      "iter 191 | J: 0.039\n",
      "iter 192 | J: 0.039\n",
      "iter 193 | J: 0.039\n",
      "iter 194 | J: 0.039\n",
      "iter 195 | J: 0.039\n",
      "iter 196 | J: 0.039\n",
      "iter 197 | J: 0.039\n",
      "iter 198 | J: 0.039\n",
      "iter 199 | J: 0.039\n",
      "iter 200 | J: 0.039\n",
      "iter 201 | J: 0.039\n",
      "iter 202 | J: 0.039\n",
      "iter 203 | J: 0.039\n",
      "iter 204 | J: 0.039\n",
      "iter 205 | J: 0.039\n",
      "iter 206 | J: 0.039\n",
      "iter 207 | J: 0.039\n",
      "iter 208 | J: 0.039\n",
      "iter 209 | J: 0.039\n",
      "iter 210 | J: 0.039\n",
      "iter 211 | J: 0.039\n",
      "iter 212 | J: 0.039\n",
      "iter 213 | J: 0.039\n",
      "iter 214 | J: 0.039\n",
      "iter 215 | J: 0.039\n",
      "iter 216 | J: 0.039\n",
      "iter 217 | J: 0.039\n",
      "iter 218 | J: 0.039\n",
      "iter 219 | J: 0.039\n",
      "iter 220 | J: 0.039\n",
      "iter 221 | J: 0.039\n",
      "iter 222 | J: 0.039\n",
      "iter 223 | J: 0.039\n",
      "iter 224 | J: 0.039\n",
      "iter 225 | J: 0.039\n",
      "iter 226 | J: 0.039\n",
      "iter 227 | J: 0.039\n",
      "iter 228 | J: 0.039\n",
      "iter 229 | J: 0.039\n",
      "iter 230 | J: 0.039\n",
      "iter 231 | J: 0.039\n",
      "iter 232 | J: 0.039\n",
      "iter 233 | J: 0.039\n",
      "iter 234 | J: 0.039\n",
      "iter 235 | J: 0.039\n",
      "iter 236 | J: 0.039\n",
      "iter 237 | J: 0.039\n",
      "iter 238 | J: 0.039\n",
      "iter 239 | J: 0.039\n",
      "iter 240 | J: 0.039\n",
      "iter 241 | J: 0.039\n",
      "iter 242 | J: 0.039\n",
      "iter 243 | J: 0.039\n",
      "iter 244 | J: 0.039\n",
      "iter 245 | J: 0.039\n",
      "iter 246 | J: 0.039\n",
      "iter 247 | J: 0.039\n",
      "iter 248 | J: 0.039\n",
      "iter 249 | J: 0.039\n",
      "iter 250 | J: 0.039\n",
      "iter 251 | J: 0.039\n",
      "iter 252 | J: 0.039\n",
      "iter 253 | J: 0.039\n",
      "iter 254 | J: 0.039\n",
      "iter 255 | J: 0.039\n",
      "iter 256 | J: 0.039\n",
      "iter 257 | J: 0.039\n",
      "iter 258 | J: 0.039\n",
      "iter 259 | J: 0.039\n",
      "iter 260 | J: 0.039\n",
      "iter 261 | J: 0.039\n",
      "iter 262 | J: 0.039\n",
      "iter 263 | J: 0.039\n",
      "iter 264 | J: 0.039\n",
      "iter 265 | J: 0.039\n",
      "iter 266 | J: 0.039\n",
      "iter 267 | J: 0.039\n",
      "iter 268 | J: 0.039\n",
      "iter 269 | J: 0.039\n",
      "iter 270 | J: 0.039\n",
      "iter 271 | J: 0.039\n",
      "iter 272 | J: 0.039\n",
      "iter 273 | J: 0.039\n",
      "iter 274 | J: 0.039\n",
      "iter 275 | J: 0.039\n",
      "iter 276 | J: 0.039\n",
      "iter 277 | J: 0.039\n",
      "iter 278 | J: 0.039\n",
      "iter 279 | J: 0.039\n",
      "iter 280 | J: 0.039\n",
      "iter 281 | J: 0.039\n",
      "iter 282 | J: 0.039\n",
      "iter 283 | J: 0.039\n",
      "iter 284 | J: 0.039\n",
      "iter 285 | J: 0.039\n",
      "iter 286 | J: 0.039\n",
      "iter 287 | J: 0.039\n",
      "iter 288 | J: 0.039\n",
      "iter 289 | J: 0.039\n",
      "iter 290 | J: 0.039\n",
      "iter 291 | J: 0.039\n",
      "iter 292 | J: 0.039\n",
      "iter 293 | J: 0.039\n",
      "iter 294 | J: 0.039\n",
      "iter 295 | J: 0.039\n",
      "iter 296 | J: 0.039\n",
      "iter 297 | J: 0.039\n",
      "iter 298 | J: 0.039\n",
      "iter 299 | J: 0.039\n",
      "iter 300 | J: 0.039\n",
      "iter 301 | J: 0.039\n",
      "iter 302 | J: 0.039\n",
      "iter 303 | J: 0.039\n",
      "iter 304 | J: 0.039\n",
      "iter 305 | J: 0.039\n",
      "iter 306 | J: 0.039\n",
      "iter 307 | J: 0.039\n",
      "iter 308 | J: 0.039\n",
      "iter 309 | J: 0.039\n",
      "iter 310 | J: 0.039\n",
      "iter 311 | J: 0.039\n",
      "iter 312 | J: 0.039\n",
      "iter 313 | J: 0.039\n",
      "iter 314 | J: 0.039\n",
      "iter 315 | J: 0.039\n",
      "iter 316 | J: 0.039\n",
      "iter 317 | J: 0.039\n",
      "iter 318 | J: 0.039\n",
      "iter 319 | J: 0.039\n",
      "iter 320 | J: 0.039\n",
      "iter 321 | J: 0.039\n",
      "iter 322 | J: 0.039\n",
      "iter 323 | J: 0.039\n",
      "iter 324 | J: 0.039\n",
      "iter 325 | J: 0.039\n",
      "iter 326 | J: 0.039\n",
      "iter 327 | J: 0.039\n",
      "iter 328 | J: 0.039\n",
      "iter 329 | J: 0.039\n",
      "iter 330 | J: 0.039\n",
      "iter 331 | J: 0.039\n",
      "iter 332 | J: 0.039\n",
      "iter 333 | J: 0.039\n",
      "iter 334 | J: 0.039\n",
      "iter 335 | J: 0.039\n",
      "iter 336 | J: 0.039\n",
      "iter 337 | J: 0.039\n",
      "iter 338 | J: 0.039\n",
      "iter 339 | J: 0.039\n",
      "iter 340 | J: 0.039\n",
      "iter 341 | J: 0.039\n",
      "iter 342 | J: 0.039\n",
      "iter 343 | J: 0.039\n",
      "iter 344 | J: 0.039\n",
      "iter 345 | J: 0.039\n",
      "iter 346 | J: 0.039\n",
      "iter 347 | J: 0.039\n",
      "iter 348 | J: 0.039\n",
      "iter 349 | J: 0.039\n",
      "iter 350 | J: 0.039\n",
      "iter 351 | J: 0.039\n",
      "iter 352 | J: 0.039\n",
      "iter 353 | J: 0.039\n",
      "iter 354 | J: 0.039\n",
      "iter 355 | J: 0.039\n",
      "iter 356 | J: 0.039\n",
      "iter 357 | J: 0.039\n",
      "iter 358 | J: 0.039\n",
      "iter 359 | J: 0.039\n",
      "iter 360 | J: 0.039\n",
      "iter 361 | J: 0.039\n",
      "iter 362 | J: 0.039\n",
      "iter 363 | J: 0.039\n",
      "iter 364 | J: 0.039\n",
      "iter 365 | J: 0.039\n",
      "iter 366 | J: 0.039\n",
      "iter 367 | J: 0.039\n",
      "iter 368 | J: 0.039\n",
      "iter 369 | J: 0.039\n",
      "iter 370 | J: 0.039\n",
      "iter 371 | J: 0.039\n",
      "iter 372 | J: 0.039\n",
      "iter 373 | J: 0.039\n",
      "iter 374 | J: 0.039\n",
      "iter 375 | J: 0.039\n",
      "iter 376 | J: 0.039\n",
      "iter 377 | J: 0.039\n",
      "iter 378 | J: 0.039\n",
      "iter 379 | J: 0.039\n",
      "iter 380 | J: 0.039\n",
      "iter 381 | J: 0.039\n",
      "iter 382 | J: 0.039\n",
      "iter 383 | J: 0.039\n",
      "iter 384 | J: 0.039\n",
      "iter 385 | J: 0.039\n",
      "iter 386 | J: 0.039\n",
      "iter 387 | J: 0.039\n",
      "iter 388 | J: 0.039\n",
      "iter 389 | J: 0.039\n",
      "iter 390 | J: 0.039\n",
      "iter 391 | J: 0.039\n",
      "iter 392 | J: 0.039\n",
      "iter 393 | J: 0.039\n",
      "iter 394 | J: 0.039\n",
      "iter 395 | J: 0.039\n",
      "iter 396 | J: 0.039\n",
      "iter 397 | J: 0.039\n",
      "iter 398 | J: 0.039\n",
      "iter 399 | J: 0.039\n",
      "iter 400 | J: 0.039\n",
      "iter 401 | J: 0.039\n",
      "iter 402 | J: 0.039\n",
      "iter 403 | J: 0.039\n",
      "iter 404 | J: 0.039\n",
      "iter 405 | J: 0.039\n",
      "iter 406 | J: 0.039\n",
      "iter 407 | J: 0.039\n",
      "iter 408 | J: 0.039\n",
      "iter 409 | J: 0.039\n",
      "iter 410 | J: 0.039\n",
      "iter 411 | J: 0.039\n",
      "iter 412 | J: 0.039\n",
      "iter 413 | J: 0.039\n",
      "iter 414 | J: 0.039\n",
      "iter 415 | J: 0.039\n",
      "iter 416 | J: 0.039\n",
      "iter 417 | J: 0.039\n",
      "iter 418 | J: 0.039\n",
      "iter 419 | J: 0.039\n",
      "iter 420 | J: 0.039\n",
      "iter 421 | J: 0.039\n",
      "iter 422 | J: 0.039\n",
      "iter 423 | J: 0.039\n",
      "iter 424 | J: 0.039\n",
      "iter 425 | J: 0.039\n",
      "iter 426 | J: 0.039\n",
      "iter 427 | J: 0.039\n",
      "iter 428 | J: 0.039\n",
      "iter 429 | J: 0.039\n",
      "iter 430 | J: 0.039\n",
      "iter 431 | J: 0.039\n",
      "iter 432 | J: 0.039\n",
      "iter 433 | J: 0.039\n",
      "iter 434 | J: 0.039\n",
      "iter 435 | J: 0.039\n",
      "iter 436 | J: 0.039\n",
      "iter 437 | J: 0.039\n",
      "iter 438 | J: 0.039\n",
      "iter 439 | J: 0.039\n",
      "iter 440 | J: 0.039\n",
      "iter 441 | J: 0.039\n",
      "iter 442 | J: 0.039\n",
      "iter 443 | J: 0.039\n",
      "iter 444 | J: 0.039\n",
      "iter 445 | J: 0.039\n",
      "iter 446 | J: 0.039\n",
      "iter 447 | J: 0.039\n",
      "iter 448 | J: 0.039\n",
      "iter 449 | J: 0.039\n",
      "iter 450 | J: 0.039\n",
      "iter 451 | J: 0.039\n",
      "iter 452 | J: 0.039\n",
      "iter 453 | J: 0.039\n",
      "iter 454 | J: 0.039\n",
      "iter 455 | J: 0.039\n",
      "iter 456 | J: 0.039\n",
      "iter 457 | J: 0.039\n",
      "iter 458 | J: 0.039\n",
      "iter 459 | J: 0.039\n",
      "iter 460 | J: 0.039\n",
      "iter 461 | J: 0.039\n",
      "iter 462 | J: 0.039\n",
      "iter 463 | J: 0.039\n",
      "iter 464 | J: 0.039\n",
      "iter 465 | J: 0.039\n",
      "iter 466 | J: 0.039\n",
      "iter 467 | J: 0.039\n",
      "iter 468 | J: 0.039\n",
      "iter 469 | J: 0.039\n",
      "iter 470 | J: 0.039\n",
      "iter 471 | J: 0.039\n",
      "iter 472 | J: 0.039\n",
      "iter 473 | J: 0.039\n",
      "iter 474 | J: 0.039\n",
      "iter 475 | J: 0.039\n",
      "iter 476 | J: 0.039\n",
      "iter 477 | J: 0.039\n",
      "iter 478 | J: 0.039\n",
      "iter 479 | J: 0.039\n",
      "iter 480 | J: 0.039\n",
      "iter 481 | J: 0.039\n",
      "iter 482 | J: 0.039\n",
      "iter 483 | J: 0.039\n",
      "iter 484 | J: 0.039\n",
      "iter 485 | J: 0.039\n",
      "iter 486 | J: 0.039\n",
      "iter 487 | J: 0.039\n",
      "iter 488 | J: 0.039\n",
      "iter 489 | J: 0.039\n",
      "iter 490 | J: 0.039\n",
      "iter 491 | J: 0.039\n",
      "iter 492 | J: 0.039\n",
      "iter 493 | J: 0.039\n",
      "iter 494 | J: 0.039\n",
      "iter 495 | J: 0.039\n",
      "iter 496 | J: 0.039\n",
      "iter 497 | J: 0.039\n",
      "iter 498 | J: 0.039\n",
      "iter 499 | J: 0.039\n",
      "iter 500 | J: 0.039\n",
      "iter 501 | J: 0.039\n",
      "iter 502 | J: 0.039\n",
      "iter 503 | J: 0.039\n",
      "iter 504 | J: 0.039\n",
      "iter 505 | J: 0.039\n",
      "iter 506 | J: 0.039\n",
      "iter 507 | J: 0.039\n",
      "iter 508 | J: 0.039\n",
      "iter 509 | J: 0.039\n",
      "iter 510 | J: 0.039\n",
      "iter 511 | J: 0.039\n",
      "iter 512 | J: 0.039\n",
      "iter 513 | J: 0.039\n",
      "iter 514 | J: 0.039\n",
      "iter 515 | J: 0.039\n",
      "iter 516 | J: 0.039\n",
      "iter 517 | J: 0.039\n",
      "iter 518 | J: 0.039\n",
      "iter 519 | J: 0.039\n",
      "iter 520 | J: 0.039\n",
      "iter 521 | J: 0.039\n",
      "iter 522 | J: 0.039\n",
      "iter 523 | J: 0.039\n",
      "iter 524 | J: 0.039\n",
      "iter 525 | J: 0.039\n",
      "iter 526 | J: 0.039\n",
      "iter 527 | J: 0.039\n",
      "iter 528 | J: 0.039\n",
      "iter 529 | J: 0.039\n",
      "iter 530 | J: 0.039\n",
      "iter 531 | J: 0.039\n",
      "iter 532 | J: 0.039\n",
      "iter 533 | J: 0.039\n",
      "iter 534 | J: 0.039\n",
      "iter 535 | J: 0.039\n",
      "iter 536 | J: 0.039\n",
      "iter 537 | J: 0.039\n",
      "iter 538 | J: 0.039\n",
      "iter 539 | J: 0.039\n",
      "iter 540 | J: 0.039\n",
      "iter 541 | J: 0.039\n",
      "iter 542 | J: 0.039\n",
      "iter 543 | J: 0.039\n",
      "iter 544 | J: 0.039\n",
      "iter 545 | J: 0.039\n",
      "iter 546 | J: 0.039\n",
      "iter 547 | J: 0.039\n",
      "iter 548 | J: 0.039\n",
      "iter 549 | J: 0.039\n",
      "iter 550 | J: 0.039\n",
      "iter 551 | J: 0.039\n",
      "iter 552 | J: 0.039\n",
      "iter 553 | J: 0.039\n",
      "iter 554 | J: 0.039\n",
      "iter 555 | J: 0.039\n",
      "iter 556 | J: 0.039\n",
      "iter 557 | J: 0.039\n",
      "iter 558 | J: 0.039\n",
      "iter 559 | J: 0.039\n",
      "iter 560 | J: 0.039\n",
      "iter 561 | J: 0.039\n",
      "iter 562 | J: 0.039\n",
      "iter 563 | J: 0.039\n",
      "iter 564 | J: 0.039\n",
      "iter 565 | J: 0.039\n",
      "iter 566 | J: 0.039\n",
      "iter 567 | J: 0.039\n",
      "iter 568 | J: 0.039\n",
      "iter 569 | J: 0.039\n",
      "iter 570 | J: 0.039\n",
      "iter 571 | J: 0.039\n",
      "iter 572 | J: 0.039\n",
      "iter 573 | J: 0.039\n",
      "iter 574 | J: 0.039\n",
      "iter 575 | J: 0.039\n",
      "iter 576 | J: 0.039\n",
      "iter 577 | J: 0.039\n",
      "iter 578 | J: 0.039\n",
      "iter 579 | J: 0.039\n",
      "iter 580 | J: 0.039\n",
      "iter 581 | J: 0.039\n",
      "iter 582 | J: 0.039\n",
      "iter 583 | J: 0.039\n",
      "iter 584 | J: 0.039\n",
      "iter 585 | J: 0.039\n",
      "iter 586 | J: 0.039\n",
      "iter 587 | J: 0.039\n",
      "iter 588 | J: 0.039\n",
      "iter 589 | J: 0.039\n",
      "iter 590 | J: 0.039\n"
     ]
    },
    {
     "name": "stdout",
     "output_type": "stream",
     "text": [
      "iter 591 | J: 0.039\n",
      "iter 592 | J: 0.039\n",
      "iter 593 | J: 0.039\n",
      "iter 594 | J: 0.039\n",
      "iter 595 | J: 0.039\n",
      "iter 596 | J: 0.039\n",
      "iter 597 | J: 0.039\n",
      "iter 598 | J: 0.039\n",
      "iter 599 | J: 0.039\n",
      "iter 600 | J: 0.039\n",
      "iter 601 | J: 0.039\n",
      "iter 602 | J: 0.039\n",
      "iter 603 | J: 0.039\n",
      "iter 604 | J: 0.039\n",
      "iter 605 | J: 0.039\n",
      "iter 606 | J: 0.039\n",
      "iter 607 | J: 0.039\n",
      "iter 608 | J: 0.039\n",
      "iter 609 | J: 0.039\n",
      "iter 610 | J: 0.039\n",
      "iter 611 | J: 0.039\n",
      "iter 612 | J: 0.039\n",
      "iter 613 | J: 0.039\n",
      "iter 614 | J: 0.039\n",
      "iter 615 | J: 0.039\n",
      "iter 616 | J: 0.039\n",
      "iter 617 | J: 0.039\n",
      "iter 618 | J: 0.039\n",
      "iter 619 | J: 0.039\n",
      "iter 620 | J: 0.039\n",
      "iter 621 | J: 0.039\n",
      "iter 622 | J: 0.039\n",
      "iter 623 | J: 0.039\n",
      "iter 624 | J: 0.039\n",
      "iter 625 | J: 0.039\n",
      "iter 626 | J: 0.039\n",
      "iter 627 | J: 0.039\n",
      "iter 628 | J: 0.039\n",
      "iter 629 | J: 0.039\n",
      "iter 630 | J: 0.039\n",
      "iter 631 | J: 0.039\n",
      "iter 632 | J: 0.039\n",
      "iter 633 | J: 0.039\n",
      "iter 634 | J: 0.039\n",
      "iter 635 | J: 0.039\n",
      "iter 636 | J: 0.039\n",
      "iter 637 | J: 0.039\n",
      "iter 638 | J: 0.039\n",
      "iter 639 | J: 0.039\n",
      "iter 640 | J: 0.039\n",
      "iter 641 | J: 0.039\n",
      "iter 642 | J: 0.039\n",
      "iter 643 | J: 0.039\n",
      "iter 644 | J: 0.039\n",
      "iter 645 | J: 0.039\n",
      "iter 646 | J: 0.039\n",
      "iter 647 | J: 0.039\n",
      "iter 648 | J: 0.039\n",
      "iter 649 | J: 0.039\n",
      "iter 650 | J: 0.039\n",
      "iter 651 | J: 0.039\n",
      "iter 652 | J: 0.039\n",
      "iter 653 | J: 0.039\n",
      "iter 654 | J: 0.039\n",
      "iter 655 | J: 0.039\n",
      "iter 656 | J: 0.039\n",
      "iter 657 | J: 0.039\n",
      "iter 658 | J: 0.039\n",
      "iter 659 | J: 0.039\n",
      "iter 660 | J: 0.039\n",
      "iter 661 | J: 0.039\n",
      "iter 662 | J: 0.039\n",
      "iter 663 | J: 0.039\n",
      "iter 664 | J: 0.039\n",
      "iter 665 | J: 0.039\n",
      "iter 666 | J: 0.039\n",
      "iter 667 | J: 0.039\n",
      "iter 668 | J: 0.039\n",
      "iter 669 | J: 0.039\n",
      "iter 670 | J: 0.039\n",
      "iter 671 | J: 0.039\n",
      "iter 672 | J: 0.039\n",
      "iter 673 | J: 0.039\n",
      "iter 674 | J: 0.039\n",
      "iter 675 | J: 0.039\n",
      "iter 676 | J: 0.039\n",
      "iter 677 | J: 0.039\n",
      "iter 678 | J: 0.039\n",
      "iter 679 | J: 0.039\n",
      "iter 680 | J: 0.039\n",
      "iter 681 | J: 0.039\n",
      "iter 682 | J: 0.039\n",
      "iter 683 | J: 0.039\n",
      "iter 684 | J: 0.039\n",
      "iter 685 | J: 0.039\n",
      "iter 686 | J: 0.039\n",
      "iter 687 | J: 0.039\n",
      "iter 688 | J: 0.039\n",
      "iter 689 | J: 0.039\n",
      "iter 690 | J: 0.039\n",
      "iter 691 | J: 0.039\n",
      "iter 692 | J: 0.039\n",
      "iter 693 | J: 0.039\n",
      "iter 694 | J: 0.039\n",
      "iter 695 | J: 0.039\n",
      "iter 696 | J: 0.039\n",
      "iter 697 | J: 0.039\n",
      "iter 698 | J: 0.039\n",
      "iter 699 | J: 0.039\n",
      "iter 700 | J: 0.039\n",
      "iter 701 | J: 0.039\n",
      "iter 702 | J: 0.039\n",
      "iter 703 | J: 0.039\n",
      "iter 704 | J: 0.039\n",
      "iter 705 | J: 0.039\n",
      "iter 706 | J: 0.039\n",
      "iter 707 | J: 0.039\n",
      "iter 708 | J: 0.039\n",
      "iter 709 | J: 0.039\n",
      "iter 710 | J: 0.039\n",
      "iter 711 | J: 0.039\n",
      "iter 712 | J: 0.039\n",
      "iter 713 | J: 0.039\n",
      "iter 714 | J: 0.039\n",
      "iter 715 | J: 0.039\n",
      "iter 716 | J: 0.039\n",
      "iter 717 | J: 0.039\n",
      "iter 718 | J: 0.039\n",
      "iter 719 | J: 0.039\n",
      "iter 720 | J: 0.039\n",
      "iter 721 | J: 0.039\n",
      "iter 722 | J: 0.039\n",
      "iter 723 | J: 0.039\n",
      "iter 724 | J: 0.039\n",
      "iter 725 | J: 0.039\n",
      "iter 726 | J: 0.039\n",
      "iter 727 | J: 0.039\n",
      "iter 728 | J: 0.039\n",
      "iter 729 | J: 0.039\n",
      "iter 730 | J: 0.039\n",
      "iter 731 | J: 0.039\n",
      "iter 732 | J: 0.039\n",
      "iter 733 | J: 0.039\n",
      "iter 734 | J: 0.039\n",
      "iter 735 | J: 0.039\n",
      "iter 736 | J: 0.039\n",
      "iter 737 | J: 0.039\n",
      "iter 738 | J: 0.039\n",
      "iter 739 | J: 0.039\n",
      "iter 740 | J: 0.039\n",
      "iter 741 | J: 0.039\n",
      "iter 742 | J: 0.039\n",
      "iter 743 | J: 0.039\n",
      "iter 744 | J: 0.039\n",
      "iter 745 | J: 0.039\n",
      "iter 746 | J: 0.039\n",
      "iter 747 | J: 0.039\n",
      "iter 748 | J: 0.039\n",
      "iter 749 | J: 0.039\n",
      "iter 750 | J: 0.039\n",
      "iter 751 | J: 0.039\n",
      "iter 752 | J: 0.039\n",
      "iter 753 | J: 0.039\n",
      "iter 754 | J: 0.039\n",
      "iter 755 | J: 0.039\n",
      "iter 756 | J: 0.039\n",
      "iter 757 | J: 0.039\n",
      "iter 758 | J: 0.039\n",
      "iter 759 | J: 0.039\n",
      "iter 760 | J: 0.039\n",
      "iter 761 | J: 0.039\n",
      "iter 762 | J: 0.039\n",
      "iter 763 | J: 0.039\n",
      "iter 764 | J: 0.039\n",
      "iter 765 | J: 0.039\n",
      "iter 766 | J: 0.039\n",
      "iter 767 | J: 0.039\n",
      "iter 768 | J: 0.039\n",
      "iter 769 | J: 0.039\n",
      "iter 770 | J: 0.039\n",
      "iter 771 | J: 0.039\n",
      "iter 772 | J: 0.039\n",
      "iter 773 | J: 0.039\n",
      "iter 774 | J: 0.039\n",
      "iter 775 | J: 0.039\n",
      "iter 776 | J: 0.039\n",
      "iter 777 | J: 0.039\n",
      "iter 778 | J: 0.039\n",
      "iter 779 | J: 0.039\n",
      "iter 780 | J: 0.039\n",
      "iter 781 | J: 0.039\n",
      "iter 782 | J: 0.039\n",
      "iter 783 | J: 0.039\n",
      "iter 784 | J: 0.039\n",
      "iter 785 | J: 0.039\n",
      "iter 786 | J: 0.039\n",
      "iter 787 | J: 0.039\n",
      "iter 788 | J: 0.039\n",
      "iter 789 | J: 0.039\n",
      "iter 790 | J: 0.039\n",
      "iter 791 | J: 0.039\n",
      "iter 792 | J: 0.039\n",
      "iter 793 | J: 0.039\n",
      "iter 794 | J: 0.039\n",
      "iter 795 | J: 0.039\n",
      "iter 796 | J: 0.039\n",
      "iter 797 | J: 0.039\n",
      "iter 798 | J: 0.039\n",
      "iter 799 | J: 0.039\n",
      "iter 800 | J: 0.039\n",
      "iter 801 | J: 0.039\n",
      "iter 802 | J: 0.039\n",
      "iter 803 | J: 0.039\n",
      "iter 804 | J: 0.039\n",
      "iter 805 | J: 0.039\n",
      "iter 806 | J: 0.039\n",
      "iter 807 | J: 0.039\n",
      "iter 808 | J: 0.039\n",
      "iter 809 | J: 0.039\n",
      "iter 810 | J: 0.039\n",
      "iter 811 | J: 0.039\n",
      "iter 812 | J: 0.039\n",
      "iter 813 | J: 0.039\n",
      "iter 814 | J: 0.039\n",
      "iter 815 | J: 0.039\n",
      "iter 816 | J: 0.039\n",
      "iter 817 | J: 0.039\n",
      "iter 818 | J: 0.039\n",
      "iter 819 | J: 0.039\n",
      "iter 820 | J: 0.039\n",
      "iter 821 | J: 0.039\n",
      "iter 822 | J: 0.039\n",
      "iter 823 | J: 0.039\n",
      "iter 824 | J: 0.039\n",
      "iter 825 | J: 0.039\n",
      "iter 826 | J: 0.039\n",
      "iter 827 | J: 0.039\n",
      "iter 828 | J: 0.039\n",
      "iter 829 | J: 0.039\n",
      "iter 830 | J: 0.039\n",
      "iter 831 | J: 0.039\n",
      "iter 832 | J: 0.039\n",
      "iter 833 | J: 0.039\n",
      "iter 834 | J: 0.039\n",
      "iter 835 | J: 0.039\n",
      "iter 836 | J: 0.039\n",
      "iter 837 | J: 0.039\n",
      "iter 838 | J: 0.039\n",
      "iter 839 | J: 0.039\n",
      "iter 840 | J: 0.039\n",
      "iter 841 | J: 0.039\n",
      "iter 842 | J: 0.039\n",
      "iter 843 | J: 0.039\n",
      "iter 844 | J: 0.039\n",
      "iter 845 | J: 0.039\n",
      "iter 846 | J: 0.039\n",
      "iter 847 | J: 0.039\n",
      "iter 848 | J: 0.039\n",
      "iter 849 | J: 0.039\n",
      "iter 850 | J: 0.039\n",
      "iter 851 | J: 0.039\n",
      "iter 852 | J: 0.039\n",
      "iter 853 | J: 0.039\n",
      "iter 854 | J: 0.039\n",
      "iter 855 | J: 0.039\n",
      "iter 856 | J: 0.039\n",
      "iter 857 | J: 0.039\n",
      "iter 858 | J: 0.039\n",
      "iter 859 | J: 0.039\n",
      "iter 860 | J: 0.039\n",
      "iter 861 | J: 0.039\n",
      "iter 862 | J: 0.039\n",
      "iter 863 | J: 0.039\n",
      "iter 864 | J: 0.039\n",
      "iter 865 | J: 0.039\n",
      "iter 866 | J: 0.039\n",
      "iter 867 | J: 0.039\n",
      "iter 868 | J: 0.039\n",
      "iter 869 | J: 0.039\n",
      "iter 870 | J: 0.039\n",
      "iter 871 | J: 0.039\n",
      "iter 872 | J: 0.039\n",
      "iter 873 | J: 0.039\n",
      "iter 874 | J: 0.039\n",
      "iter 875 | J: 0.039\n",
      "iter 876 | J: 0.039\n",
      "iter 877 | J: 0.039\n",
      "iter 878 | J: 0.039\n",
      "iter 879 | J: 0.039\n",
      "iter 880 | J: 0.039\n",
      "iter 881 | J: 0.039\n",
      "iter 882 | J: 0.039\n",
      "iter 883 | J: 0.039\n",
      "iter 884 | J: 0.039\n",
      "iter 885 | J: 0.039\n",
      "iter 886 | J: 0.039\n",
      "iter 887 | J: 0.039\n",
      "iter 888 | J: 0.039\n",
      "iter 889 | J: 0.039\n",
      "iter 890 | J: 0.039\n",
      "iter 891 | J: 0.039\n",
      "iter 892 | J: 0.039\n",
      "iter 893 | J: 0.039\n",
      "iter 894 | J: 0.039\n",
      "iter 895 | J: 0.039\n",
      "iter 896 | J: 0.039\n",
      "iter 897 | J: 0.039\n",
      "iter 898 | J: 0.039\n",
      "iter 899 | J: 0.039\n",
      "iter 900 | J: 0.039\n",
      "iter 901 | J: 0.039\n",
      "iter 902 | J: 0.039\n",
      "iter 903 | J: 0.039\n",
      "iter 904 | J: 0.039\n",
      "iter 905 | J: 0.039\n",
      "iter 906 | J: 0.039\n",
      "iter 907 | J: 0.039\n",
      "iter 908 | J: 0.039\n",
      "iter 909 | J: 0.039\n",
      "iter 910 | J: 0.039\n",
      "iter 911 | J: 0.039\n",
      "iter 912 | J: 0.039\n",
      "iter 913 | J: 0.039\n",
      "iter 914 | J: 0.039\n",
      "iter 915 | J: 0.039\n",
      "iter 916 | J: 0.039\n",
      "iter 917 | J: 0.039\n",
      "iter 918 | J: 0.039\n",
      "iter 919 | J: 0.039\n",
      "iter 920 | J: 0.039\n",
      "iter 921 | J: 0.039\n",
      "iter 922 | J: 0.039\n",
      "iter 923 | J: 0.039\n",
      "iter 924 | J: 0.039\n",
      "iter 925 | J: 0.039\n",
      "iter 926 | J: 0.039\n",
      "iter 927 | J: 0.039\n",
      "iter 928 | J: 0.039\n",
      "iter 929 | J: 0.039\n",
      "iter 930 | J: 0.039\n",
      "iter 931 | J: 0.039\n",
      "iter 932 | J: 0.039\n",
      "iter 933 | J: 0.039\n",
      "iter 934 | J: 0.039\n",
      "iter 935 | J: 0.039\n",
      "iter 936 | J: 0.039\n",
      "iter 937 | J: 0.039\n",
      "iter 938 | J: 0.039\n",
      "iter 939 | J: 0.039\n",
      "iter 940 | J: 0.039\n",
      "iter 941 | J: 0.039\n",
      "iter 942 | J: 0.039\n",
      "iter 943 | J: 0.039\n",
      "iter 944 | J: 0.039\n",
      "iter 945 | J: 0.039\n",
      "iter 946 | J: 0.039\n",
      "iter 947 | J: 0.039\n",
      "iter 948 | J: 0.039\n",
      "iter 949 | J: 0.039\n",
      "iter 950 | J: 0.039\n",
      "iter 951 | J: 0.039\n",
      "iter 952 | J: 0.039\n",
      "iter 953 | J: 0.039\n",
      "iter 954 | J: 0.039\n",
      "iter 955 | J: 0.039\n",
      "iter 956 | J: 0.039\n",
      "iter 957 | J: 0.039\n",
      "iter 958 | J: 0.039\n",
      "iter 959 | J: 0.039\n",
      "iter 960 | J: 0.039\n",
      "iter 961 | J: 0.039\n",
      "iter 962 | J: 0.039\n",
      "iter 963 | J: 0.039\n",
      "iter 964 | J: 0.039\n",
      "iter 965 | J: 0.039\n",
      "iter 966 | J: 0.039\n",
      "iter 967 | J: 0.039\n",
      "iter 968 | J: 0.039\n",
      "iter 969 | J: 0.039\n",
      "iter 970 | J: 0.039\n",
      "iter 971 | J: 0.039\n",
      "iter 972 | J: 0.039\n",
      "iter 973 | J: 0.039\n",
      "iter 974 | J: 0.039\n",
      "iter 975 | J: 0.039\n",
      "iter 976 | J: 0.039\n",
      "iter 977 | J: 0.039\n",
      "iter 978 | J: 0.039\n",
      "iter 979 | J: 0.039\n",
      "iter 980 | J: 0.039\n",
      "iter 981 | J: 0.039\n",
      "iter 982 | J: 0.039\n",
      "iter 983 | J: 0.039\n",
      "iter 984 | J: 0.039\n",
      "iter 985 | J: 0.039\n",
      "iter 986 | J: 0.039\n",
      "iter 987 | J: 0.039\n",
      "iter 988 | J: 0.039\n",
      "iter 989 | J: 0.039\n",
      "iter 990 | J: 0.039\n",
      "iter 991 | J: 0.039\n",
      "iter 992 | J: 0.039\n",
      "iter 993 | J: 0.039\n",
      "iter 994 | J: 0.039\n",
      "iter 995 | J: 0.039\n",
      "iter 996 | J: 0.039\n",
      "iter 997 | J: 0.039\n",
      "iter 998 | J: 0.039\n",
      "iter 999 | J: 0.039\n"
     ]
    }
   ],
   "source": [
    "high_GPA = data['high_GPA']\n",
    "univ_GPA = data['univ_GPA']\n",
    "\n",
    "# univ_GPA = m*high_GPA + b\n",
    "m = high_GPA.size\n",
    "X = np.c_[np.ones(m), high_GPA]\n",
    "y = univ_GPA\n",
    "alpha = 0.01\n",
    "theta = gradient_descent_2(alpha, X, y, 1000)"
   ]
  },
  {
   "cell_type": "code",
   "execution_count": 117,
   "metadata": {
    "ExecuteTime": {
     "end_time": "2019-10-31T02:16:28.626966Z",
     "start_time": "2019-10-31T02:16:28.613543Z"
    }
   },
   "outputs": [
    {
     "data": {
      "text/plain": [
       "array([0.95492332, 0.71981644])"
      ]
     },
     "execution_count": 117,
     "metadata": {},
     "output_type": "execute_result"
    }
   ],
   "source": [
    "theta"
   ]
  },
  {
   "cell_type": "code",
   "execution_count": 119,
   "metadata": {
    "ExecuteTime": {
     "end_time": "2019-10-31T02:17:35.339277Z",
     "start_time": "2019-10-31T02:17:35.334236Z"
    }
   },
   "outputs": [],
   "source": [
    "for i in range(X.shape[1]):\n",
    "    univ_GPA_predict = theta[1]*high_GPA + theta[0]"
   ]
  },
  {
   "cell_type": "code",
   "execution_count": 122,
   "metadata": {
    "ExecuteTime": {
     "end_time": "2019-10-31T02:19:36.830518Z",
     "start_time": "2019-10-31T02:19:36.424368Z"
    }
   },
   "outputs": [
    {
     "data": {
      "image/png": "[encoded data removed]",
      "text/plain": [
       "<Figure size 864x576 with 1 Axes>"
      ]
     },
     "metadata": {},
     "output_type": "display_data"
    }
   ],
   "source": [
    "plt.figure(figsize=(12,8))\n",
    "plt.xlim(2,4)\n",
    "plt.ylim(2,4)\n",
    "plt.scatter(X[:,1], univ_GPA, color='green')\n",
    "plt.plot(X, univ_GPA_predict)\n",
    "plt.xlabel('high_GPA')\n",
    "plt.ylabel('univ_GPA')\n",
    "plt.show()"
   ]
  }
 ],
 "metadata": {
  "kernelspec": {
   "display_name": "Python 3",
   "language": "python",
   "name": "python3"
  },
  "language_info": {
   "codemirror_mode": {
    "name": "ipython",
    "version": 3
   },
   "file_extension": ".py",
   "mimetype": "text/x-python",
   "name": "python",
   "nbconvert_exporter": "python",
   "pygments_lexer": "ipython3",
   "version": "3.6.4"
  },
  "toc": {
   "base_numbering": 1,
   "nav_menu": {},
   "number_sections": true,
   "sideBar": true,
   "skip_h1_title": false,
   "title_cell": "Table of Contents",
   "title_sidebar": "Contents",
   "toc_cell": false,
   "toc_position": {},
   "toc_section_display": true,
   "toc_window_display": false
  }
 },
 "nbformat": 4,
 "nbformat_minor": 2
}
