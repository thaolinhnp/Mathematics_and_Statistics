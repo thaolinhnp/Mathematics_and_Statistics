{
 "cells": [
  {
   "cell_type": "markdown",
   "metadata": {},
   "source": [
    "__Câu 3. Kiểm định giả thuyết (2 điểm)__\n",
    "<br> Hai mẫu dữ liệu độc lập được thu thập từ các quần thể, không biết trước phương sai, và lưu trữ trong các tập tin Mau_1.txt và Mau_2.txt."
   ]
  },
  {
   "cell_type": "markdown",
   "metadata": {},
   "source": [
    "__3.1) Đọc và xem thông tin của dữ liệu.__ "
   ]
  },
  {
   "cell_type": "code",
   "execution_count": 4,
   "metadata": {
    "ExecuteTime": {
     "end_time": "2019-11-03T08:50:26.516904Z",
     "start_time": "2019-11-03T08:50:26.512889Z"
    }
   },
   "outputs": [],
   "source": [
    "import pandas as pd\n",
    "import numpy as np"
   ]
  },
  {
   "cell_type": "code",
   "execution_count": 8,
   "metadata": {
    "ExecuteTime": {
     "end_time": "2019-11-03T08:52:26.109170Z",
     "start_time": "2019-11-03T08:52:26.095013Z"
    }
   },
   "outputs": [
    {
     "data": {
      "text/plain": [
       "array([134, 130, 140, 151, 143, 134, 136, 144, 150, 135, 160, 141, 143,\n",
       "       140, 138, 141, 148, 146, 140, 146, 151, 138, 151, 139, 151, 128,\n",
       "       146, 147, 152, 142, 144, 134, 142, 146, 142, 136, 122, 134, 145,\n",
       "       147])"
      ]
     },
     "execution_count": 8,
     "metadata": {},
     "output_type": "execute_result"
    }
   ],
   "source": [
    "f = open('Mau_1.txt')\n",
    "content = f.read()\n",
    "mau = content.split()\n",
    "f.close()\n",
    "mau = list(map(int, mau))\n",
    "mau_1 = np.array(mau)\n",
    "mau_1"
   ]
  },
  {
   "cell_type": "code",
   "execution_count": 9,
   "metadata": {
    "ExecuteTime": {
     "end_time": "2019-11-03T08:52:31.868415Z",
     "start_time": "2019-11-03T08:52:31.856218Z"
    }
   },
   "outputs": [
    {
     "data": {
      "text/plain": [
       "array([130, 145, 126, 146, 164, 130, 132, 152, 145, 129, 133, 155, 140,\n",
       "       127, 139, 137, 131, 126, 145, 148, 125, 132, 126, 126, 126, 135,\n",
       "       131, 129, 147, 136, 129, 136, 156, 146, 130, 146, 132, 142, 132,\n",
       "       132])"
      ]
     },
     "execution_count": 9,
     "metadata": {},
     "output_type": "execute_result"
    }
   ],
   "source": [
    "f = open('Mau_2.txt')\n",
    "content = f.read()\n",
    "mau = content.split()\n",
    "f.close\n",
    "mau = list(map(int, mau))\n",
    "mau_2 = np.array(mau)\n",
    "mau_2"
   ]
  },
  {
   "cell_type": "markdown",
   "metadata": {},
   "source": [
    "__3.2) Với  (alpha) = 0.05, hãy cho kết luận về giả thuyết vô hiệu H0: “Hai mẫu có cùng giá trị trung bình” bằng 2 phương pháp:__"
   ]
  },
  {
   "cell_type": "markdown",
   "metadata": {
    "ExecuteTime": {
     "end_time": "2019-11-03T08:59:53.882288Z",
     "start_time": "2019-11-03T08:59:53.874678Z"
    }
   },
   "source": [
    "a) Tính toán truyền thống "
   ]
  },
  {
   "cell_type": "code",
   "execution_count": 27,
   "metadata": {
    "ExecuteTime": {
     "end_time": "2019-11-03T09:16:35.114967Z",
     "start_time": "2019-11-03T09:16:35.022076Z"
    }
   },
   "outputs": [],
   "source": [
    "import scipy\n",
    "def depercent_ttest(data1, data2, alpha):\n",
    "    #calculate means\n",
    "    mean1, mean2 = np.mean(data1), np.mean(data2)\n",
    "    #number of paired samples\n",
    "    n = len(data1)\n",
    "    #sum squared difference between observations\n",
    "    d1 = sum([data1[i]-data2[i]**2 for i in range(n)])\n",
    "    #sum difference between observations\n",
    "    d2 = sum([data1[i]-data2[i] for i in range(n)])\n",
    "    #standard error of the difference between two means\n",
    "    sd = np.sqrt((d1 - (d2**2/n))/(n-1))\n",
    "    #standard deviation of the difference between two means\n",
    "    sed = sd / np.sqrt(n)\n",
    "    #calculate the t statistic\n",
    "    t_stat = (mean1 - mean2)/sed\n",
    "    #degrees of freedom\n",
    "    df = n -1\n",
    "    #calculate the critical value\n",
    "    cv = scipy.stats.t.ppf(1.0 - alpha, df)\n",
    "    #calculate the p-value\n",
    "    p = (1 - scipy.stats.t.cdf(abs(t_stat), df))*2\n",
    "    return t_stat, df, cv, p"
   ]
  },
  {
   "cell_type": "code",
   "execution_count": 28,
   "metadata": {
    "ExecuteTime": {
     "end_time": "2019-11-03T09:16:37.882438Z",
     "start_time": "2019-11-03T09:16:37.854121Z"
    }
   },
   "outputs": [
    {
     "name": "stderr",
     "output_type": "stream",
     "text": [
      "C:\\Users\\thao.nguyenpl\\AppData\\Local\\Continuum\\anaconda3\\lib\\site-packages\\ipykernel_launcher.py:12: RuntimeWarning: invalid value encountered in sqrt\n",
      "  if sys.path[0] == '':\n",
      "C:\\Users\\thao.nguyenpl\\AppData\\Local\\Continuum\\anaconda3\\lib\\site-packages\\scipy\\stats\\_distn_infrastructure.py:877: RuntimeWarning: invalid value encountered in greater\n",
      "  return (self.a < x) & (x < self.b)\n",
      "C:\\Users\\thao.nguyenpl\\AppData\\Local\\Continuum\\anaconda3\\lib\\site-packages\\scipy\\stats\\_distn_infrastructure.py:877: RuntimeWarning: invalid value encountered in less\n",
      "  return (self.a < x) & (x < self.b)\n",
      "C:\\Users\\thao.nguyenpl\\AppData\\Local\\Continuum\\anaconda3\\lib\\site-packages\\scipy\\stats\\_distn_infrastructure.py:1748: RuntimeWarning: invalid value encountered in greater_equal\n",
      "  cond2 = (x >= self.b) & cond0\n"
     ]
    }
   ],
   "source": [
    "alpha = 0.05\n",
    "t_stat, df, cv, p = depercent_ttest(mau_1, mau_2, alpha)"
   ]
  },
  {
   "cell_type": "code",
   "execution_count": 30,
   "metadata": {
    "ExecuteTime": {
     "end_time": "2019-11-03T09:18:14.272032Z",
     "start_time": "2019-11-03T09:18:14.263535Z"
    }
   },
   "outputs": [
    {
     "name": "stdout",
     "output_type": "stream",
     "text": [
      "Bác bỏ H0: Hai mẫu không cùng giá trị trung bình\n"
     ]
    }
   ],
   "source": [
    "#interpret via critical value\n",
    "if abs(t_stat) <= cv:\n",
    "    print('Chấp nhận giả thuyết H0: Hai mẫu có cùng giá trị trung bình')\n",
    "else:\n",
    "    print('Bác bỏ H0: Hai mẫu không cùng giá trị trung bình')"
   ]
  },
  {
   "cell_type": "code",
   "execution_count": 29,
   "metadata": {
    "ExecuteTime": {
     "end_time": "2019-11-03T09:17:29.278224Z",
     "start_time": "2019-11-03T09:17:29.266668Z"
    }
   },
   "outputs": [
    {
     "name": "stdout",
     "output_type": "stream",
     "text": [
      "Bác bỏ H0: Hai mẫu không cùng giá trị trung bình\n"
     ]
    }
   ],
   "source": [
    "#interpret via p-value\n",
    "if p > alpha:\n",
    "    print('Chấp nhận giả thuyết H0: Hai mẫu có cùng giá trị trung bình')\n",
    "else:\n",
    "    print('Bác bỏ H0: Hai mẫu không cùng giá trị trung bình')"
   ]
  },
  {
   "cell_type": "markdown",
   "metadata": {
    "ExecuteTime": {
     "end_time": "2019-11-03T09:00:12.762064Z",
     "start_time": "2019-11-03T09:00:12.753868Z"
    }
   },
   "source": [
    "b) Dùng các hàm thống kê có sẵn."
   ]
  },
  {
   "cell_type": "code",
   "execution_count": 10,
   "metadata": {
    "ExecuteTime": {
     "end_time": "2019-11-03T08:55:26.171648Z",
     "start_time": "2019-11-03T08:55:25.468263Z"
    }
   },
   "outputs": [],
   "source": [
    "from scipy.stats import ttest_ind, ttest_rel"
   ]
  },
  {
   "cell_type": "code",
   "execution_count": 11,
   "metadata": {
    "ExecuteTime": {
     "end_time": "2019-11-03T08:56:41.658048Z",
     "start_time": "2019-11-03T08:56:41.631886Z"
    }
   },
   "outputs": [
    {
     "name": "stdout",
     "output_type": "stream",
     "text": [
      "t=2.61, p=0.01\n"
     ]
    }
   ],
   "source": [
    "t, p = ttest_ind(mau_1,mau_2)\n",
    "print('t=%.2f, p=%.2f' % (t,p))"
   ]
  },
  {
   "cell_type": "code",
   "execution_count": 12,
   "metadata": {
    "ExecuteTime": {
     "end_time": "2019-11-03T08:59:21.704217Z",
     "start_time": "2019-11-03T08:59:21.697418Z"
    }
   },
   "outputs": [
    {
     "name": "stdout",
     "output_type": "stream",
     "text": [
      "Bác bỏ H0: Hai mẫu không cùng giá trị trung bình\n"
     ]
    }
   ],
   "source": [
    "#interpret via p-value\n",
    "alpha = 0.05\n",
    "if p > alpha:\n",
    "    print('Chấp nhận giả thuyết H0: Hai mẫu có cùng giá trị trung bình')\n",
    "else:\n",
    "    print('Bác bỏ H0: Hai mẫu không cùng giá trị trung bình')"
   ]
  }
 ],
 "metadata": {
  "kernelspec": {
   "display_name": "Python 3",
   "language": "python",
   "name": "python3"
  },
  "language_info": {
   "codemirror_mode": {
    "name": "ipython",
    "version": 3
   },
   "file_extension": ".py",
   "mimetype": "text/x-python",
   "name": "python",
   "nbconvert_exporter": "python",
   "pygments_lexer": "ipython3",
   "version": "3.6.4"
  },
  "toc": {
   "base_numbering": 1,
   "nav_menu": {},
   "number_sections": true,
   "sideBar": true,
   "skip_h1_title": false,
   "title_cell": "Table of Contents",
   "title_sidebar": "Contents",
   "toc_cell": false,
   "toc_position": {},
   "toc_section_display": true,
   "toc_window_display": false
  }
 },
 "nbformat": 4,
 "nbformat_minor": 2
}
