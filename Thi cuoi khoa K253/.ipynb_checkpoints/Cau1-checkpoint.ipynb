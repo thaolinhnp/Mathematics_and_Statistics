{
 "cells": [
  {
   "cell_type": "markdown",
   "metadata": {},
   "source": [
    "__Câu 1. Giảm chiều dữ liệu (2 điểm)__\n",
    "<br> Tập tin Phan_lop.csv chứa những mẫu dữ liệu phân lớp các đối tượng thuộc về một trong 6 loại (class): 0..5, dựa trên 12 thuộc tính f1..f12 của đối tượng. \n",
    "<br> 1.1) Áp dụng phương pháp giảm chiều của dữ liệu để số chiều thấp hơn so với dữ liệu gốc. \n",
    "<br> 1.2) Số chiều được giảm còn lại bao nhiêu ? Giải thích nguyên nhân/cơ sở về số chiều được giảm? "
   ]
  },
  {
   "cell_type": "code",
   "execution_count": 9,
   "metadata": {
    "ExecuteTime": {
     "end_time": "2019-11-03T07:06:44.843342Z",
     "start_time": "2019-11-03T07:06:44.835725Z"
    }
   },
   "outputs": [],
   "source": [
    "import pandas as pd\n",
    "import numpy as np"
   ]
  },
  {
   "cell_type": "code",
   "execution_count": 3,
   "metadata": {
    "ExecuteTime": {
     "end_time": "2019-11-03T07:00:37.102218Z",
     "start_time": "2019-11-03T07:00:37.061051Z"
    }
   },
   "outputs": [
    {
     "data": {
      "text/html": [
       "<div>\n",
       "<style scoped>\n",
       "    .dataframe tbody tr th:only-of-type {\n",
       "        vertical-align: middle;\n",
       "    }\n",
       "\n",
       "    .dataframe tbody tr th {\n",
       "        vertical-align: top;\n",
       "    }\n",
       "\n",
       "    .dataframe thead th {\n",
       "        text-align: right;\n",
       "    }\n",
       "</style>\n",
       "<table border=\"1\" class=\"dataframe\">\n",
       "  <thead>\n",
       "    <tr style=\"text-align: right;\">\n",
       "      <th></th>\n",
       "      <th>f1</th>\n",
       "      <th>f2</th>\n",
       "      <th>f3</th>\n",
       "      <th>f4</th>\n",
       "      <th>f5</th>\n",
       "      <th>f6</th>\n",
       "      <th>f7</th>\n",
       "      <th>f8</th>\n",
       "      <th>f9</th>\n",
       "      <th>f10</th>\n",
       "      <th>f11</th>\n",
       "      <th>f12</th>\n",
       "      <th>Class</th>\n",
       "    </tr>\n",
       "  </thead>\n",
       "  <tbody>\n",
       "    <tr>\n",
       "      <th>0</th>\n",
       "      <td>-2.403589</td>\n",
       "      <td>-0.218339</td>\n",
       "      <td>-3.015506</td>\n",
       "      <td>2.187585</td>\n",
       "      <td>-1.415101</td>\n",
       "      <td>-0.000049</td>\n",
       "      <td>2.920957</td>\n",
       "      <td>-4.165317</td>\n",
       "      <td>-2.237563</td>\n",
       "      <td>1.567810</td>\n",
       "      <td>4.056278</td>\n",
       "      <td>-5.816942</td>\n",
       "      <td>3</td>\n",
       "    </tr>\n",
       "    <tr>\n",
       "      <th>1</th>\n",
       "      <td>-0.922966</td>\n",
       "      <td>6.564721</td>\n",
       "      <td>8.542600</td>\n",
       "      <td>-3.676891</td>\n",
       "      <td>1.526910</td>\n",
       "      <td>-6.132242</td>\n",
       "      <td>-1.284702</td>\n",
       "      <td>-7.841047</td>\n",
       "      <td>10.161966</td>\n",
       "      <td>-1.933277</td>\n",
       "      <td>8.959247</td>\n",
       "      <td>-2.492584</td>\n",
       "      <td>4</td>\n",
       "    </tr>\n",
       "    <tr>\n",
       "      <th>2</th>\n",
       "      <td>9.381326</td>\n",
       "      <td>-0.157043</td>\n",
       "      <td>9.674137</td>\n",
       "      <td>4.059390</td>\n",
       "      <td>9.150245</td>\n",
       "      <td>-8.320246</td>\n",
       "      <td>10.076978</td>\n",
       "      <td>-11.596349</td>\n",
       "      <td>-2.900057</td>\n",
       "      <td>-1.890156</td>\n",
       "      <td>0.390029</td>\n",
       "      <td>-5.383296</td>\n",
       "      <td>0</td>\n",
       "    </tr>\n",
       "    <tr>\n",
       "      <th>3</th>\n",
       "      <td>-7.610665</td>\n",
       "      <td>-10.375051</td>\n",
       "      <td>0.398027</td>\n",
       "      <td>-6.178855</td>\n",
       "      <td>5.848558</td>\n",
       "      <td>2.276540</td>\n",
       "      <td>-1.726164</td>\n",
       "      <td>9.378226</td>\n",
       "      <td>1.146725</td>\n",
       "      <td>-9.630693</td>\n",
       "      <td>-8.620247</td>\n",
       "      <td>-0.552103</td>\n",
       "      <td>2</td>\n",
       "    </tr>\n",
       "    <tr>\n",
       "      <th>4</th>\n",
       "      <td>8.586239</td>\n",
       "      <td>-4.265564</td>\n",
       "      <td>4.788978</td>\n",
       "      <td>4.309953</td>\n",
       "      <td>2.938052</td>\n",
       "      <td>-4.294121</td>\n",
       "      <td>6.980088</td>\n",
       "      <td>-9.878268</td>\n",
       "      <td>-5.017204</td>\n",
       "      <td>0.154492</td>\n",
       "      <td>7.647917</td>\n",
       "      <td>-1.004416</td>\n",
       "      <td>0</td>\n",
       "    </tr>\n",
       "  </tbody>\n",
       "</table>\n",
       "</div>"
      ],
      "text/plain": [
       "         f1         f2        f3        f4        f5        f6         f7  \\\n",
       "0 -2.403589  -0.218339 -3.015506  2.187585 -1.415101 -0.000049   2.920957   \n",
       "1 -0.922966   6.564721  8.542600 -3.676891  1.526910 -6.132242  -1.284702   \n",
       "2  9.381326  -0.157043  9.674137  4.059390  9.150245 -8.320246  10.076978   \n",
       "3 -7.610665 -10.375051  0.398027 -6.178855  5.848558  2.276540  -1.726164   \n",
       "4  8.586239  -4.265564  4.788978  4.309953  2.938052 -4.294121   6.980088   \n",
       "\n",
       "          f8         f9       f10       f11       f12  Class  \n",
       "0  -4.165317  -2.237563  1.567810  4.056278 -5.816942      3  \n",
       "1  -7.841047  10.161966 -1.933277  8.959247 -2.492584      4  \n",
       "2 -11.596349  -2.900057 -1.890156  0.390029 -5.383296      0  \n",
       "3   9.378226   1.146725 -9.630693 -8.620247 -0.552103      2  \n",
       "4  -9.878268  -5.017204  0.154492  7.647917 -1.004416      0  "
      ]
     },
     "execution_count": 3,
     "metadata": {},
     "output_type": "execute_result"
    }
   ],
   "source": [
    "data = pd.read_csv('Phan_lop.csv')\n",
    "data.head()"
   ]
  },
  {
   "cell_type": "code",
   "execution_count": 5,
   "metadata": {
    "ExecuteTime": {
     "end_time": "2019-11-03T07:00:46.712753Z",
     "start_time": "2019-11-03T07:00:46.700945Z"
    }
   },
   "outputs": [
    {
     "data": {
      "text/plain": [
       "(1000, 13)"
      ]
     },
     "execution_count": 5,
     "metadata": {},
     "output_type": "execute_result"
    }
   ],
   "source": [
    "data.shape"
   ]
  },
  {
   "cell_type": "code",
   "execution_count": 8,
   "metadata": {
    "ExecuteTime": {
     "end_time": "2019-11-03T07:05:45.704220Z",
     "start_time": "2019-11-03T07:05:45.668189Z"
    }
   },
   "outputs": [
    {
     "data": {
      "text/html": [
       "<div>\n",
       "<style scoped>\n",
       "    .dataframe tbody tr th:only-of-type {\n",
       "        vertical-align: middle;\n",
       "    }\n",
       "\n",
       "    .dataframe tbody tr th {\n",
       "        vertical-align: top;\n",
       "    }\n",
       "\n",
       "    .dataframe thead th {\n",
       "        text-align: right;\n",
       "    }\n",
       "</style>\n",
       "<table border=\"1\" class=\"dataframe\">\n",
       "  <thead>\n",
       "    <tr style=\"text-align: right;\">\n",
       "      <th></th>\n",
       "      <th>f1</th>\n",
       "      <th>f2</th>\n",
       "      <th>f3</th>\n",
       "      <th>f4</th>\n",
       "      <th>f5</th>\n",
       "      <th>f6</th>\n",
       "      <th>f7</th>\n",
       "      <th>f8</th>\n",
       "      <th>f9</th>\n",
       "      <th>f10</th>\n",
       "      <th>f11</th>\n",
       "      <th>f12</th>\n",
       "    </tr>\n",
       "  </thead>\n",
       "  <tbody>\n",
       "    <tr>\n",
       "      <th>0</th>\n",
       "      <td>-2.403589</td>\n",
       "      <td>-0.218339</td>\n",
       "      <td>-3.015506</td>\n",
       "      <td>2.187585</td>\n",
       "      <td>-1.415101</td>\n",
       "      <td>-0.000049</td>\n",
       "      <td>2.920957</td>\n",
       "      <td>-4.165317</td>\n",
       "      <td>-2.237563</td>\n",
       "      <td>1.567810</td>\n",
       "      <td>4.056278</td>\n",
       "      <td>-5.816942</td>\n",
       "    </tr>\n",
       "    <tr>\n",
       "      <th>1</th>\n",
       "      <td>-0.922966</td>\n",
       "      <td>6.564721</td>\n",
       "      <td>8.542600</td>\n",
       "      <td>-3.676891</td>\n",
       "      <td>1.526910</td>\n",
       "      <td>-6.132242</td>\n",
       "      <td>-1.284702</td>\n",
       "      <td>-7.841047</td>\n",
       "      <td>10.161966</td>\n",
       "      <td>-1.933277</td>\n",
       "      <td>8.959247</td>\n",
       "      <td>-2.492584</td>\n",
       "    </tr>\n",
       "    <tr>\n",
       "      <th>2</th>\n",
       "      <td>9.381326</td>\n",
       "      <td>-0.157043</td>\n",
       "      <td>9.674137</td>\n",
       "      <td>4.059390</td>\n",
       "      <td>9.150245</td>\n",
       "      <td>-8.320246</td>\n",
       "      <td>10.076978</td>\n",
       "      <td>-11.596349</td>\n",
       "      <td>-2.900057</td>\n",
       "      <td>-1.890156</td>\n",
       "      <td>0.390029</td>\n",
       "      <td>-5.383296</td>\n",
       "    </tr>\n",
       "    <tr>\n",
       "      <th>3</th>\n",
       "      <td>-7.610665</td>\n",
       "      <td>-10.375051</td>\n",
       "      <td>0.398027</td>\n",
       "      <td>-6.178855</td>\n",
       "      <td>5.848558</td>\n",
       "      <td>2.276540</td>\n",
       "      <td>-1.726164</td>\n",
       "      <td>9.378226</td>\n",
       "      <td>1.146725</td>\n",
       "      <td>-9.630693</td>\n",
       "      <td>-8.620247</td>\n",
       "      <td>-0.552103</td>\n",
       "    </tr>\n",
       "    <tr>\n",
       "      <th>4</th>\n",
       "      <td>8.586239</td>\n",
       "      <td>-4.265564</td>\n",
       "      <td>4.788978</td>\n",
       "      <td>4.309953</td>\n",
       "      <td>2.938052</td>\n",
       "      <td>-4.294121</td>\n",
       "      <td>6.980088</td>\n",
       "      <td>-9.878268</td>\n",
       "      <td>-5.017204</td>\n",
       "      <td>0.154492</td>\n",
       "      <td>7.647917</td>\n",
       "      <td>-1.004416</td>\n",
       "    </tr>\n",
       "  </tbody>\n",
       "</table>\n",
       "</div>"
      ],
      "text/plain": [
       "         f1         f2        f3        f4        f5        f6         f7  \\\n",
       "0 -2.403589  -0.218339 -3.015506  2.187585 -1.415101 -0.000049   2.920957   \n",
       "1 -0.922966   6.564721  8.542600 -3.676891  1.526910 -6.132242  -1.284702   \n",
       "2  9.381326  -0.157043  9.674137  4.059390  9.150245 -8.320246  10.076978   \n",
       "3 -7.610665 -10.375051  0.398027 -6.178855  5.848558  2.276540  -1.726164   \n",
       "4  8.586239  -4.265564  4.788978  4.309953  2.938052 -4.294121   6.980088   \n",
       "\n",
       "          f8         f9       f10       f11       f12  \n",
       "0  -4.165317  -2.237563  1.567810  4.056278 -5.816942  \n",
       "1  -7.841047  10.161966 -1.933277  8.959247 -2.492584  \n",
       "2 -11.596349  -2.900057 -1.890156  0.390029 -5.383296  \n",
       "3   9.378226   1.146725 -9.630693 -8.620247 -0.552103  \n",
       "4  -9.878268  -5.017204  0.154492  7.647917 -1.004416  "
      ]
     },
     "execution_count": 8,
     "metadata": {},
     "output_type": "execute_result"
    }
   ],
   "source": [
    "X = data[['f1','f2','f3','f4','f5','f6','f7','f8','f9','f10','f11','f12']]\n",
    "X.head()"
   ]
  },
  {
   "cell_type": "markdown",
   "metadata": {},
   "source": [
    "__Using Decomposition SVD = U,s,VT__"
   ]
  },
  {
   "cell_type": "code",
   "execution_count": 10,
   "metadata": {
    "ExecuteTime": {
     "end_time": "2019-11-03T07:07:01.522737Z",
     "start_time": "2019-11-03T07:07:01.468785Z"
    }
   },
   "outputs": [],
   "source": [
    "U, s, VT = np.linalg.svd(X)"
   ]
  },
  {
   "cell_type": "code",
   "execution_count": 17,
   "metadata": {
    "ExecuteTime": {
     "end_time": "2019-11-03T07:09:36.326713Z",
     "start_time": "2019-11-03T07:09:36.316065Z"
    }
   },
   "outputs": [
    {
     "data": {
      "text/plain": [
       "array([[ 0.0081356 , -0.00882084, -0.00914671, ...,  0.01199833,\n",
       "         0.0321645 , -0.03305347],\n",
       "       [ 0.02260871, -0.01633934, -0.03260737, ..., -0.00791646,\n",
       "         0.0440831 ,  0.01340946],\n",
       "       [ 0.05442033, -0.0176625 , -0.0210221 , ...,  0.00476702,\n",
       "         0.01797315, -0.01214796],\n",
       "       [-0.00243459,  0.05958895,  0.01566827, ...,  0.03684704,\n",
       "         0.00191968, -0.02905699],\n",
       "       [ 0.03655345, -0.02705951, -0.00197082, ...,  0.01093627,\n",
       "         0.02196915, -0.00180254]])"
      ]
     },
     "execution_count": 17,
     "metadata": {},
     "output_type": "execute_result"
    }
   ],
   "source": [
    "U[:5]"
   ]
  },
  {
   "cell_type": "code",
   "execution_count": 12,
   "metadata": {
    "ExecuteTime": {
     "end_time": "2019-11-03T07:08:11.729137Z",
     "start_time": "2019-11-03T07:08:11.718688Z"
    }
   },
   "outputs": [
    {
     "data": {
      "text/plain": [
       "array([393.98522644, 360.47791006, 244.61171415, 204.75879654,\n",
       "       146.57940798,  83.75887418,  67.18145391,  64.24942167,\n",
       "        63.22026205,  62.35396961,  59.96919522,  57.86974355])"
      ]
     },
     "execution_count": 12,
     "metadata": {},
     "output_type": "execute_result"
    }
   ],
   "source": [
    "s"
   ]
  },
  {
   "cell_type": "code",
   "execution_count": 15,
   "metadata": {
    "ExecuteTime": {
     "end_time": "2019-11-03T07:08:48.058418Z",
     "start_time": "2019-11-03T07:08:48.048343Z"
    },
    "scrolled": true
   },
   "outputs": [
    {
     "data": {
      "text/plain": [
       "array([[ 0.10748425, -0.17774397,  0.36613003,  0.04229405,  0.38211945,\n",
       "        -0.04277679,  0.4322055 , -0.57324393,  0.03350547, -0.29034071,\n",
       "         0.09948995, -0.2498806 ],\n",
       "       [-0.50668937, -0.4324574 ,  0.07658845, -0.28957046,  0.2020109 ,\n",
       "         0.02039637,  0.0168541 ,  0.32409424,  0.05168404, -0.30799405,\n",
       "        -0.46539518, -0.0765496 ],\n",
       "       [ 0.20639278, -0.18791069, -0.43915012,  0.03557623,  0.26599237,\n",
       "         0.57199276, -0.02485931, -0.15352737,  0.01321706, -0.25385539,\n",
       "        -0.02302028,  0.49062167],\n",
       "       [-0.13014557, -0.03793983, -0.26592812,  0.3179543 , -0.20388403,\n",
       "         0.28258634,  0.34414128, -0.04260743, -0.59648339,  0.13071938,\n",
       "        -0.25088985, -0.36374706],\n",
       "       [ 0.55837462, -0.1686288 ,  0.18490923,  0.04140706,  0.18054471,\n",
       "        -0.31313319,  0.12985393,  0.43784175, -0.46314499, -0.1134188 ,\n",
       "        -0.08545533,  0.22358486]])"
      ]
     },
     "execution_count": 15,
     "metadata": {},
     "output_type": "execute_result"
    }
   ],
   "source": [
    "VT[:5]"
   ]
  },
  {
   "cell_type": "markdown",
   "metadata": {},
   "source": [
    "__NHẬN XÉT__\n",
    "<br> Từ ma trận s, ta thấy rằng hệ số từ lambda1 đến lambda5 có giá trị lớn hơn rất nhiều so với các giá trị từ lambda6 trở đi\n",
    "<br> => Choose n_componts = 5"
   ]
  },
  {
   "cell_type": "code",
   "execution_count": 21,
   "metadata": {
    "ExecuteTime": {
     "end_time": "2019-11-03T07:15:45.280701Z",
     "start_time": "2019-11-03T07:15:45.264967Z"
    }
   },
   "outputs": [
    {
     "data": {
      "text/plain": [
       "array([[393.98522644,   0.        ,   0.        ,   0.        ,\n",
       "          0.        ,   0.        ,   0.        ,   0.        ,\n",
       "          0.        ,   0.        ,   0.        ,   0.        ],\n",
       "       [  0.        , 360.47791006,   0.        ,   0.        ,\n",
       "          0.        ,   0.        ,   0.        ,   0.        ,\n",
       "          0.        ,   0.        ,   0.        ,   0.        ],\n",
       "       [  0.        ,   0.        , 244.61171415,   0.        ,\n",
       "          0.        ,   0.        ,   0.        ,   0.        ,\n",
       "          0.        ,   0.        ,   0.        ,   0.        ],\n",
       "       [  0.        ,   0.        ,   0.        , 204.75879654,\n",
       "          0.        ,   0.        ,   0.        ,   0.        ,\n",
       "          0.        ,   0.        ,   0.        ,   0.        ],\n",
       "       [  0.        ,   0.        ,   0.        ,   0.        ,\n",
       "        146.57940798,   0.        ,   0.        ,   0.        ,\n",
       "          0.        ,   0.        ,   0.        ,   0.        ]])"
      ]
     },
     "execution_count": 21,
     "metadata": {},
     "output_type": "execute_result"
    }
   ],
   "source": [
    "Sigma = np.zeros(X.shape)\n",
    "Sigma[:X.shape[1],:X.shape[1]] = np.diag(s)\n",
    "Sigma[:5]"
   ]
  },
  {
   "cell_type": "code",
   "execution_count": 18,
   "metadata": {
    "ExecuteTime": {
     "end_time": "2019-11-03T07:15:25.500571Z",
     "start_time": "2019-11-03T07:15:25.495821Z"
    }
   },
   "outputs": [],
   "source": [
    "n_components = 5"
   ]
  },
  {
   "cell_type": "code",
   "execution_count": 23,
   "metadata": {
    "ExecuteTime": {
     "end_time": "2019-11-03T07:16:58.123259Z",
     "start_time": "2019-11-03T07:16:58.115547Z"
    }
   },
   "outputs": [],
   "source": [
    "Sigma = Sigma[:,:n_components]\n",
    "VT = VT[:n_components,:]"
   ]
  },
  {
   "cell_type": "code",
   "execution_count": 24,
   "metadata": {
    "ExecuteTime": {
     "end_time": "2019-11-03T07:17:08.157448Z",
     "start_time": "2019-11-03T07:17:08.148175Z"
    }
   },
   "outputs": [
    {
     "data": {
      "text/plain": [
       "array([[393.98522644,   0.        ,   0.        ,   0.        ,\n",
       "          0.        ],\n",
       "       [  0.        , 360.47791006,   0.        ,   0.        ,\n",
       "          0.        ],\n",
       "       [  0.        ,   0.        , 244.61171415,   0.        ,\n",
       "          0.        ],\n",
       "       ...,\n",
       "       [  0.        ,   0.        ,   0.        ,   0.        ,\n",
       "          0.        ],\n",
       "       [  0.        ,   0.        ,   0.        ,   0.        ,\n",
       "          0.        ],\n",
       "       [  0.        ,   0.        ,   0.        ,   0.        ,\n",
       "          0.        ]])"
      ]
     },
     "execution_count": 24,
     "metadata": {},
     "output_type": "execute_result"
    }
   ],
   "source": [
    "Sigma"
   ]
  },
  {
   "cell_type": "code",
   "execution_count": 25,
   "metadata": {
    "ExecuteTime": {
     "end_time": "2019-11-03T07:17:20.413267Z",
     "start_time": "2019-11-03T07:17:20.404853Z"
    }
   },
   "outputs": [
    {
     "data": {
      "text/plain": [
       "array([[ 0.10748425, -0.17774397,  0.36613003,  0.04229405,  0.38211945,\n",
       "        -0.04277679,  0.4322055 , -0.57324393,  0.03350547, -0.29034071,\n",
       "         0.09948995, -0.2498806 ],\n",
       "       [-0.50668937, -0.4324574 ,  0.07658845, -0.28957046,  0.2020109 ,\n",
       "         0.02039637,  0.0168541 ,  0.32409424,  0.05168404, -0.30799405,\n",
       "        -0.46539518, -0.0765496 ],\n",
       "       [ 0.20639278, -0.18791069, -0.43915012,  0.03557623,  0.26599237,\n",
       "         0.57199276, -0.02485931, -0.15352737,  0.01321706, -0.25385539,\n",
       "        -0.02302028,  0.49062167],\n",
       "       [-0.13014557, -0.03793983, -0.26592812,  0.3179543 , -0.20388403,\n",
       "         0.28258634,  0.34414128, -0.04260743, -0.59648339,  0.13071938,\n",
       "        -0.25088985, -0.36374706],\n",
       "       [ 0.55837462, -0.1686288 ,  0.18490923,  0.04140706,  0.18054471,\n",
       "        -0.31313319,  0.12985393,  0.43784175, -0.46314499, -0.1134188 ,\n",
       "        -0.08545533,  0.22358486]])"
      ]
     },
     "execution_count": 25,
     "metadata": {},
     "output_type": "execute_result"
    }
   ],
   "source": [
    "VT"
   ]
  },
  {
   "cell_type": "code",
   "execution_count": 26,
   "metadata": {
    "ExecuteTime": {
     "end_time": "2019-11-03T07:19:27.741697Z",
     "start_time": "2019-11-03T07:19:27.721399Z"
    }
   },
   "outputs": [
    {
     "data": {
      "text/plain": [
       "array([[  3.20530596,  -3.17971957,  -2.23739179,   5.92758746,\n",
       "         -4.26093755],\n",
       "       [  8.90749875,  -5.88997044,  -7.97614417, -13.37725242,\n",
       "         -7.40919568],\n",
       "       [ 21.44080721,  -6.36693971,  -5.14225184,   0.59137322,\n",
       "          8.03081602],\n",
       "       [ -0.95919135,  21.48049851,   3.83264189,  -1.80841538,\n",
       "          2.71718236],\n",
       "       [ 14.40151868,  -9.75435666,  -0.48208519,   1.61120289,\n",
       "          6.46202209]])"
      ]
     },
     "execution_count": 26,
     "metadata": {},
     "output_type": "execute_result"
    }
   ],
   "source": [
    "## Option 1\n",
    "T_s1 = U.dot(Sigma)\n",
    "T_s1[:5]"
   ]
  },
  {
   "cell_type": "code",
   "execution_count": 29,
   "metadata": {
    "ExecuteTime": {
     "end_time": "2019-11-03T07:21:09.011993Z",
     "start_time": "2019-11-03T07:21:08.981696Z"
    }
   },
   "outputs": [
    {
     "data": {
      "text/html": [
       "<div>\n",
       "<style scoped>\n",
       "    .dataframe tbody tr th:only-of-type {\n",
       "        vertical-align: middle;\n",
       "    }\n",
       "\n",
       "    .dataframe tbody tr th {\n",
       "        vertical-align: top;\n",
       "    }\n",
       "\n",
       "    .dataframe thead th {\n",
       "        text-align: right;\n",
       "    }\n",
       "</style>\n",
       "<table border=\"1\" class=\"dataframe\">\n",
       "  <thead>\n",
       "    <tr style=\"text-align: right;\">\n",
       "      <th></th>\n",
       "      <th>comp1</th>\n",
       "      <th>comp2</th>\n",
       "      <th>comp3</th>\n",
       "      <th>comp4</th>\n",
       "      <th>comp5</th>\n",
       "      <th>Class</th>\n",
       "    </tr>\n",
       "  </thead>\n",
       "  <tbody>\n",
       "    <tr>\n",
       "      <th>0</th>\n",
       "      <td>3.205306</td>\n",
       "      <td>-3.179720</td>\n",
       "      <td>-2.237392</td>\n",
       "      <td>5.927587</td>\n",
       "      <td>-4.260938</td>\n",
       "      <td>3</td>\n",
       "    </tr>\n",
       "    <tr>\n",
       "      <th>1</th>\n",
       "      <td>8.907499</td>\n",
       "      <td>-5.889970</td>\n",
       "      <td>-7.976144</td>\n",
       "      <td>-13.377252</td>\n",
       "      <td>-7.409196</td>\n",
       "      <td>4</td>\n",
       "    </tr>\n",
       "    <tr>\n",
       "      <th>2</th>\n",
       "      <td>21.440807</td>\n",
       "      <td>-6.366940</td>\n",
       "      <td>-5.142252</td>\n",
       "      <td>0.591373</td>\n",
       "      <td>8.030816</td>\n",
       "      <td>0</td>\n",
       "    </tr>\n",
       "    <tr>\n",
       "      <th>3</th>\n",
       "      <td>-0.959191</td>\n",
       "      <td>21.480499</td>\n",
       "      <td>3.832642</td>\n",
       "      <td>-1.808415</td>\n",
       "      <td>2.717182</td>\n",
       "      <td>2</td>\n",
       "    </tr>\n",
       "    <tr>\n",
       "      <th>4</th>\n",
       "      <td>14.401519</td>\n",
       "      <td>-9.754357</td>\n",
       "      <td>-0.482085</td>\n",
       "      <td>1.611203</td>\n",
       "      <td>6.462022</td>\n",
       "      <td>0</td>\n",
       "    </tr>\n",
       "  </tbody>\n",
       "</table>\n",
       "</div>"
      ],
      "text/plain": [
       "       comp1      comp2     comp3      comp4     comp5  Class\n",
       "0   3.205306  -3.179720 -2.237392   5.927587 -4.260938      3\n",
       "1   8.907499  -5.889970 -7.976144 -13.377252 -7.409196      4\n",
       "2  21.440807  -6.366940 -5.142252   0.591373  8.030816      0\n",
       "3  -0.959191  21.480499  3.832642  -1.808415  2.717182      2\n",
       "4  14.401519  -9.754357 -0.482085   1.611203  6.462022      0"
      ]
     },
     "execution_count": 29,
     "metadata": {},
     "output_type": "execute_result"
    }
   ],
   "source": [
    "## Option 2\n",
    "T_s2 = X.dot(VT.T)\n",
    "T_s2.columns=['comp1','comp2','comp3','comp4','comp5']\n",
    "T_s2['Class']=data['Class']\n",
    "T_s2[:5]"
   ]
  },
  {
   "cell_type": "markdown",
   "metadata": {},
   "source": [
    "__NHẬN XÉT__\n",
    "<br> Sau khi giảm thì dữ liệu còn lại 5 chiều (so với dữ liệu gốc là 12 chiều)"
   ]
  },
  {
   "cell_type": "code",
   "execution_count": 32,
   "metadata": {
    "ExecuteTime": {
     "end_time": "2019-11-03T07:29:06.683452Z",
     "start_time": "2019-11-03T07:29:06.660488Z"
    }
   },
   "outputs": [
    {
     "data": {
      "text/plain": [
       "PCA(copy=True, iterated_power='auto', n_components=5, random_state=None,\n",
       "  svd_solver='auto', tol=0.0, whiten=False)"
      ]
     },
     "execution_count": 32,
     "metadata": {},
     "output_type": "execute_result"
    }
   ],
   "source": [
    "from sklearn.decomposition import PCA\n",
    "pca = PCA(5)\n",
    "pca.fit(data)"
   ]
  },
  {
   "cell_type": "code",
   "execution_count": 33,
   "metadata": {
    "ExecuteTime": {
     "end_time": "2019-11-03T07:29:09.205441Z",
     "start_time": "2019-11-03T07:29:09.192919Z"
    }
   },
   "outputs": [
    {
     "data": {
      "text/plain": [
       "array([[ 6.65018582e-02,  2.97551242e-01, -3.67779107e-01,\n",
       "         3.26867355e-02, -4.14005389e-01,  2.26503909e-02,\n",
       "        -4.20279922e-01,  4.60787392e-01, -3.66049402e-02,\n",
       "         3.52461999e-01,  6.16431684e-02,  2.81850230e-01,\n",
       "        -3.20673680e-02],\n",
       "       [-4.57918765e-01, -3.65000866e-01, -2.73992902e-02,\n",
       "        -3.33113833e-01,  1.18200362e-01,  2.66203434e-03,\n",
       "        -1.28006866e-01,  5.09218334e-01,  8.19868306e-02,\n",
       "        -2.62091904e-01, -4.17484373e-01,  7.69592358e-02,\n",
       "         8.47418805e-03],\n",
       "       [ 1.96406770e-01, -1.69762269e-01, -4.48234185e-01,\n",
       "         6.58685918e-02,  2.45789078e-01,  5.92752327e-01,\n",
       "        -1.18015810e-02, -1.95461379e-01, -5.41953755e-04,\n",
       "        -2.24850738e-01, -2.36124595e-02,  4.56953773e-01,\n",
       "         1.31598366e-01],\n",
       "       [ 4.86389012e-02,  9.23820842e-02,  2.40838415e-01,\n",
       "        -2.56472048e-01,  1.71657223e-01, -1.76269701e-01,\n",
       "        -3.74679157e-01, -1.53977504e-01,  6.83468619e-01,\n",
       "        -4.19596682e-02,  2.47758907e-01,  2.98096327e-01,\n",
       "         1.46806469e-01],\n",
       "       [-6.25849056e-01,  1.65645771e-01, -2.89176490e-01,\n",
       "        -4.66946666e-02, -2.80930296e-01,  3.03064762e-01,\n",
       "         2.82463393e-02, -2.96267586e-01,  2.73116867e-01,\n",
       "         4.60232075e-02,  1.16513492e-01, -3.36891293e-01,\n",
       "         1.78735806e-01]])"
      ]
     },
     "execution_count": 33,
     "metadata": {},
     "output_type": "execute_result"
    }
   ],
   "source": [
    "pca.components_"
   ]
  },
  {
   "cell_type": "code",
   "execution_count": 34,
   "metadata": {
    "ExecuteTime": {
     "end_time": "2019-11-03T07:29:22.687444Z",
     "start_time": "2019-11-03T07:29:22.677014Z"
    }
   },
   "outputs": [
    {
     "data": {
      "text/plain": [
       "(5, 13)"
      ]
     },
     "execution_count": 34,
     "metadata": {},
     "output_type": "execute_result"
    }
   ],
   "source": [
    "pca.components_.shape"
   ]
  },
  {
   "cell_type": "code",
   "execution_count": 35,
   "metadata": {
    "ExecuteTime": {
     "end_time": "2019-11-03T07:29:31.892749Z",
     "start_time": "2019-11-03T07:29:31.881127Z"
    }
   },
   "outputs": [
    {
     "data": {
      "text/plain": [
       "array([150.14738749, 115.78706074,  60.48001203,  37.14189827,\n",
       "        19.21975368])"
      ]
     },
     "execution_count": 35,
     "metadata": {},
     "output_type": "execute_result"
    }
   ],
   "source": [
    "pca.explained_variance_"
   ]
  },
  {
   "cell_type": "code",
   "execution_count": 36,
   "metadata": {
    "ExecuteTime": {
     "end_time": "2019-11-03T07:29:35.949177Z",
     "start_time": "2019-11-03T07:29:35.939902Z"
    }
   },
   "outputs": [
    {
     "data": {
      "text/plain": [
       "(5,)"
      ]
     },
     "execution_count": 36,
     "metadata": {},
     "output_type": "execute_result"
    }
   ],
   "source": [
    "pca.explained_variance_.shape"
   ]
  },
  {
   "cell_type": "code",
   "execution_count": 37,
   "metadata": {
    "ExecuteTime": {
     "end_time": "2019-11-03T07:29:38.717326Z",
     "start_time": "2019-11-03T07:29:38.704607Z"
    }
   },
   "outputs": [
    {
     "data": {
      "text/plain": [
       "array([[ -0.69221135,  -1.07000504,  -2.19177319,  -6.57038468,\n",
       "          7.95112534],\n",
       "       [ -4.78178657,  -3.43734637,  -8.4477533 ,  13.11779736,\n",
       "          6.22026452],\n",
       "       [-16.69240508,  -8.5429408 ,  -5.75130709,  -3.19940755,\n",
       "         -7.70677881],\n",
       "       ...,\n",
       "       [ -2.89915665,  -7.05538976,   3.33613763,  -5.88241572,\n",
       "          6.34403495],\n",
       "       [ -4.65170029,  -4.68454531,  15.531988  ,   7.0605433 ,\n",
       "         -0.7358818 ],\n",
       "       [ -4.63014062,  22.0272588 ,  -2.3228671 ,  -2.04138719,\n",
       "          0.48595074]])"
      ]
     },
     "execution_count": 37,
     "metadata": {},
     "output_type": "execute_result"
    }
   ],
   "source": [
    "#transform data\n",
    "B = pca.transform(data)\n",
    "B"
   ]
  },
  {
   "cell_type": "code",
   "execution_count": 38,
   "metadata": {
    "ExecuteTime": {
     "end_time": "2019-11-03T07:29:41.844644Z",
     "start_time": "2019-11-03T07:29:41.837176Z"
    }
   },
   "outputs": [
    {
     "data": {
      "text/plain": [
       "array([0.36588393, 0.28215359, 0.14737962, 0.09050856, 0.04683531])"
      ]
     },
     "execution_count": 38,
     "metadata": {},
     "output_type": "execute_result"
    }
   ],
   "source": [
    "pca.explained_variance_ratio_"
   ]
  },
  {
   "cell_type": "code",
   "execution_count": 39,
   "metadata": {
    "ExecuteTime": {
     "end_time": "2019-11-03T07:30:06.791064Z",
     "start_time": "2019-11-03T07:30:06.768616Z"
    }
   },
   "outputs": [
    {
     "data": {
      "text/html": [
       "<div>\n",
       "<style scoped>\n",
       "    .dataframe tbody tr th:only-of-type {\n",
       "        vertical-align: middle;\n",
       "    }\n",
       "\n",
       "    .dataframe tbody tr th {\n",
       "        vertical-align: top;\n",
       "    }\n",
       "\n",
       "    .dataframe thead th {\n",
       "        text-align: right;\n",
       "    }\n",
       "</style>\n",
       "<table border=\"1\" class=\"dataframe\">\n",
       "  <thead>\n",
       "    <tr style=\"text-align: right;\">\n",
       "      <th></th>\n",
       "      <th>comp1</th>\n",
       "      <th>comp2</th>\n",
       "      <th>comp3</th>\n",
       "      <th>comp4</th>\n",
       "      <th>comp5</th>\n",
       "    </tr>\n",
       "  </thead>\n",
       "  <tbody>\n",
       "    <tr>\n",
       "      <th>0</th>\n",
       "      <td>-0.692211</td>\n",
       "      <td>-1.070005</td>\n",
       "      <td>-2.191773</td>\n",
       "      <td>-6.570385</td>\n",
       "      <td>7.951125</td>\n",
       "    </tr>\n",
       "    <tr>\n",
       "      <th>1</th>\n",
       "      <td>-4.781787</td>\n",
       "      <td>-3.437346</td>\n",
       "      <td>-8.447753</td>\n",
       "      <td>13.117797</td>\n",
       "      <td>6.220265</td>\n",
       "    </tr>\n",
       "    <tr>\n",
       "      <th>2</th>\n",
       "      <td>-16.692405</td>\n",
       "      <td>-8.542941</td>\n",
       "      <td>-5.751307</td>\n",
       "      <td>-3.199408</td>\n",
       "      <td>-7.706779</td>\n",
       "    </tr>\n",
       "    <tr>\n",
       "      <th>3</th>\n",
       "      <td>-3.687761</td>\n",
       "      <td>24.972640</td>\n",
       "      <td>2.060657</td>\n",
       "      <td>-3.227896</td>\n",
       "      <td>0.416217</td>\n",
       "    </tr>\n",
       "    <tr>\n",
       "      <th>4</th>\n",
       "      <td>-8.926874</td>\n",
       "      <td>-9.483645</td>\n",
       "      <td>-1.072485</td>\n",
       "      <td>-4.167949</td>\n",
       "      <td>-5.233570</td>\n",
       "    </tr>\n",
       "  </tbody>\n",
       "</table>\n",
       "</div>"
      ],
      "text/plain": [
       "       comp1      comp2     comp3      comp4     comp5\n",
       "0  -0.692211  -1.070005 -2.191773  -6.570385  7.951125\n",
       "1  -4.781787  -3.437346 -8.447753  13.117797  6.220265\n",
       "2 -16.692405  -8.542941 -5.751307  -3.199408 -7.706779\n",
       "3  -3.687761  24.972640  2.060657  -3.227896  0.416217\n",
       "4  -8.926874  -9.483645 -1.072485  -4.167949 -5.233570"
      ]
     },
     "execution_count": 39,
     "metadata": {},
     "output_type": "execute_result"
    }
   ],
   "source": [
    "principalDf = pd.DataFrame(data = B, columns = ['comp1','comp2','comp3','comp4','comp5'])\n",
    "principalDf.head()"
   ]
  },
  {
   "cell_type": "code",
   "execution_count": 40,
   "metadata": {
    "ExecuteTime": {
     "end_time": "2019-11-03T07:30:45.049603Z",
     "start_time": "2019-11-03T07:30:45.006309Z"
    },
    "scrolled": true
   },
   "outputs": [
    {
     "data": {
      "text/html": [
       "<div>\n",
       "<style scoped>\n",
       "    .dataframe tbody tr th:only-of-type {\n",
       "        vertical-align: middle;\n",
       "    }\n",
       "\n",
       "    .dataframe tbody tr th {\n",
       "        vertical-align: top;\n",
       "    }\n",
       "\n",
       "    .dataframe thead th {\n",
       "        text-align: right;\n",
       "    }\n",
       "</style>\n",
       "<table border=\"1\" class=\"dataframe\">\n",
       "  <thead>\n",
       "    <tr style=\"text-align: right;\">\n",
       "      <th></th>\n",
       "      <th>comp1</th>\n",
       "      <th>comp2</th>\n",
       "      <th>comp3</th>\n",
       "      <th>comp4</th>\n",
       "      <th>comp5</th>\n",
       "      <th>Class</th>\n",
       "    </tr>\n",
       "  </thead>\n",
       "  <tbody>\n",
       "    <tr>\n",
       "      <th>0</th>\n",
       "      <td>3.205306</td>\n",
       "      <td>-3.179720</td>\n",
       "      <td>-2.237392</td>\n",
       "      <td>5.927587</td>\n",
       "      <td>-4.260938</td>\n",
       "      <td>3</td>\n",
       "    </tr>\n",
       "    <tr>\n",
       "      <th>1</th>\n",
       "      <td>8.907499</td>\n",
       "      <td>-5.889970</td>\n",
       "      <td>-7.976144</td>\n",
       "      <td>-13.377252</td>\n",
       "      <td>-7.409196</td>\n",
       "      <td>4</td>\n",
       "    </tr>\n",
       "    <tr>\n",
       "      <th>2</th>\n",
       "      <td>21.440807</td>\n",
       "      <td>-6.366940</td>\n",
       "      <td>-5.142252</td>\n",
       "      <td>0.591373</td>\n",
       "      <td>8.030816</td>\n",
       "      <td>0</td>\n",
       "    </tr>\n",
       "    <tr>\n",
       "      <th>3</th>\n",
       "      <td>-0.959191</td>\n",
       "      <td>21.480499</td>\n",
       "      <td>3.832642</td>\n",
       "      <td>-1.808415</td>\n",
       "      <td>2.717182</td>\n",
       "      <td>2</td>\n",
       "    </tr>\n",
       "    <tr>\n",
       "      <th>4</th>\n",
       "      <td>14.401519</td>\n",
       "      <td>-9.754357</td>\n",
       "      <td>-0.482085</td>\n",
       "      <td>1.611203</td>\n",
       "      <td>6.462022</td>\n",
       "      <td>0</td>\n",
       "    </tr>\n",
       "    <tr>\n",
       "      <th>5</th>\n",
       "      <td>6.571545</td>\n",
       "      <td>-7.258012</td>\n",
       "      <td>16.148735</td>\n",
       "      <td>-5.902067</td>\n",
       "      <td>0.333435</td>\n",
       "      <td>5</td>\n",
       "    </tr>\n",
       "    <tr>\n",
       "      <th>6</th>\n",
       "      <td>9.882369</td>\n",
       "      <td>-3.265388</td>\n",
       "      <td>-11.008753</td>\n",
       "      <td>-12.335477</td>\n",
       "      <td>-0.094997</td>\n",
       "      <td>4</td>\n",
       "    </tr>\n",
       "    <tr>\n",
       "      <th>7</th>\n",
       "      <td>6.136374</td>\n",
       "      <td>-3.956829</td>\n",
       "      <td>0.700267</td>\n",
       "      <td>7.851271</td>\n",
       "      <td>-2.645695</td>\n",
       "      <td>3</td>\n",
       "    </tr>\n",
       "    <tr>\n",
       "      <th>8</th>\n",
       "      <td>3.321929</td>\n",
       "      <td>17.001892</td>\n",
       "      <td>0.666948</td>\n",
       "      <td>1.015207</td>\n",
       "      <td>4.323445</td>\n",
       "      <td>2</td>\n",
       "    </tr>\n",
       "    <tr>\n",
       "      <th>9</th>\n",
       "      <td>6.229348</td>\n",
       "      <td>-8.641288</td>\n",
       "      <td>21.925908</td>\n",
       "      <td>-4.590605</td>\n",
       "      <td>0.930717</td>\n",
       "      <td>5</td>\n",
       "    </tr>\n",
       "    <tr>\n",
       "      <th>10</th>\n",
       "      <td>-2.522725</td>\n",
       "      <td>20.533129</td>\n",
       "      <td>3.563205</td>\n",
       "      <td>-2.380262</td>\n",
       "      <td>6.935187</td>\n",
       "      <td>2</td>\n",
       "    </tr>\n",
       "    <tr>\n",
       "      <th>11</th>\n",
       "      <td>0.952316</td>\n",
       "      <td>21.420601</td>\n",
       "      <td>1.041191</td>\n",
       "      <td>-2.067556</td>\n",
       "      <td>3.537851</td>\n",
       "      <td>2</td>\n",
       "    </tr>\n",
       "    <tr>\n",
       "      <th>12</th>\n",
       "      <td>4.141084</td>\n",
       "      <td>-7.344655</td>\n",
       "      <td>17.063612</td>\n",
       "      <td>-1.842546</td>\n",
       "      <td>0.493929</td>\n",
       "      <td>5</td>\n",
       "    </tr>\n",
       "    <tr>\n",
       "      <th>13</th>\n",
       "      <td>6.202828</td>\n",
       "      <td>-6.143770</td>\n",
       "      <td>-5.153226</td>\n",
       "      <td>-13.197021</td>\n",
       "      <td>-3.191578</td>\n",
       "      <td>4</td>\n",
       "    </tr>\n",
       "    <tr>\n",
       "      <th>14</th>\n",
       "      <td>-16.995469</td>\n",
       "      <td>-15.295234</td>\n",
       "      <td>1.033345</td>\n",
       "      <td>-4.460797</td>\n",
       "      <td>3.812218</td>\n",
       "      <td>1</td>\n",
       "    </tr>\n",
       "    <tr>\n",
       "      <th>15</th>\n",
       "      <td>6.373318</td>\n",
       "      <td>-2.854362</td>\n",
       "      <td>0.509922</td>\n",
       "      <td>8.408561</td>\n",
       "      <td>-4.353325</td>\n",
       "      <td>3</td>\n",
       "    </tr>\n",
       "    <tr>\n",
       "      <th>16</th>\n",
       "      <td>7.890407</td>\n",
       "      <td>-4.497240</td>\n",
       "      <td>-7.319873</td>\n",
       "      <td>-11.764082</td>\n",
       "      <td>-2.812317</td>\n",
       "      <td>4</td>\n",
       "    </tr>\n",
       "    <tr>\n",
       "      <th>17</th>\n",
       "      <td>-2.097512</td>\n",
       "      <td>16.832341</td>\n",
       "      <td>0.312886</td>\n",
       "      <td>-4.608882</td>\n",
       "      <td>2.613696</td>\n",
       "      <td>2</td>\n",
       "    </tr>\n",
       "    <tr>\n",
       "      <th>18</th>\n",
       "      <td>2.706379</td>\n",
       "      <td>19.391411</td>\n",
       "      <td>-0.107018</td>\n",
       "      <td>-5.464492</td>\n",
       "      <td>6.489176</td>\n",
       "      <td>2</td>\n",
       "    </tr>\n",
       "    <tr>\n",
       "      <th>19</th>\n",
       "      <td>10.429795</td>\n",
       "      <td>-9.185112</td>\n",
       "      <td>14.853872</td>\n",
       "      <td>-1.376287</td>\n",
       "      <td>-0.464942</td>\n",
       "      <td>5</td>\n",
       "    </tr>\n",
       "    <tr>\n",
       "      <th>20</th>\n",
       "      <td>9.913533</td>\n",
       "      <td>-10.773509</td>\n",
       "      <td>16.025550</td>\n",
       "      <td>-3.335054</td>\n",
       "      <td>-1.997601</td>\n",
       "      <td>5</td>\n",
       "    </tr>\n",
       "    <tr>\n",
       "      <th>21</th>\n",
       "      <td>20.340122</td>\n",
       "      <td>-8.818139</td>\n",
       "      <td>-5.197232</td>\n",
       "      <td>2.786637</td>\n",
       "      <td>7.857878</td>\n",
       "      <td>0</td>\n",
       "    </tr>\n",
       "    <tr>\n",
       "      <th>22</th>\n",
       "      <td>20.412415</td>\n",
       "      <td>-13.034137</td>\n",
       "      <td>-7.701675</td>\n",
       "      <td>-1.242263</td>\n",
       "      <td>7.723437</td>\n",
       "      <td>0</td>\n",
       "    </tr>\n",
       "    <tr>\n",
       "      <th>23</th>\n",
       "      <td>-23.565658</td>\n",
       "      <td>-14.742786</td>\n",
       "      <td>-1.851934</td>\n",
       "      <td>-1.397726</td>\n",
       "      <td>2.724763</td>\n",
       "      <td>1</td>\n",
       "    </tr>\n",
       "    <tr>\n",
       "      <th>24</th>\n",
       "      <td>4.502399</td>\n",
       "      <td>-5.758940</td>\n",
       "      <td>-1.361726</td>\n",
       "      <td>4.456511</td>\n",
       "      <td>-0.886484</td>\n",
       "      <td>3</td>\n",
       "    </tr>\n",
       "    <tr>\n",
       "      <th>25</th>\n",
       "      <td>-0.594772</td>\n",
       "      <td>21.959793</td>\n",
       "      <td>1.821249</td>\n",
       "      <td>-3.220666</td>\n",
       "      <td>1.590805</td>\n",
       "      <td>2</td>\n",
       "    </tr>\n",
       "    <tr>\n",
       "      <th>26</th>\n",
       "      <td>10.855116</td>\n",
       "      <td>-2.858417</td>\n",
       "      <td>-6.758361</td>\n",
       "      <td>-11.148464</td>\n",
       "      <td>-3.408666</td>\n",
       "      <td>4</td>\n",
       "    </tr>\n",
       "    <tr>\n",
       "      <th>27</th>\n",
       "      <td>7.990417</td>\n",
       "      <td>-8.939067</td>\n",
       "      <td>19.770065</td>\n",
       "      <td>-2.594501</td>\n",
       "      <td>0.592748</td>\n",
       "      <td>5</td>\n",
       "    </tr>\n",
       "    <tr>\n",
       "      <th>28</th>\n",
       "      <td>-0.054189</td>\n",
       "      <td>18.459187</td>\n",
       "      <td>1.736072</td>\n",
       "      <td>-8.489394</td>\n",
       "      <td>4.593821</td>\n",
       "      <td>2</td>\n",
       "    </tr>\n",
       "    <tr>\n",
       "      <th>29</th>\n",
       "      <td>10.740762</td>\n",
       "      <td>-5.109359</td>\n",
       "      <td>-5.266161</td>\n",
       "      <td>-14.208023</td>\n",
       "      <td>-4.074005</td>\n",
       "      <td>4</td>\n",
       "    </tr>\n",
       "    <tr>\n",
       "      <th>...</th>\n",
       "      <td>...</td>\n",
       "      <td>...</td>\n",
       "      <td>...</td>\n",
       "      <td>...</td>\n",
       "      <td>...</td>\n",
       "      <td>...</td>\n",
       "    </tr>\n",
       "    <tr>\n",
       "      <th>970</th>\n",
       "      <td>11.452481</td>\n",
       "      <td>-1.005221</td>\n",
       "      <td>-4.285394</td>\n",
       "      <td>-14.682793</td>\n",
       "      <td>-6.696219</td>\n",
       "      <td>4</td>\n",
       "    </tr>\n",
       "    <tr>\n",
       "      <th>971</th>\n",
       "      <td>4.263386</td>\n",
       "      <td>-8.607909</td>\n",
       "      <td>0.801075</td>\n",
       "      <td>9.633910</td>\n",
       "      <td>-4.687010</td>\n",
       "      <td>3</td>\n",
       "    </tr>\n",
       "    <tr>\n",
       "      <th>972</th>\n",
       "      <td>6.322886</td>\n",
       "      <td>-4.908349</td>\n",
       "      <td>17.057739</td>\n",
       "      <td>-4.868275</td>\n",
       "      <td>-0.710508</td>\n",
       "      <td>5</td>\n",
       "    </tr>\n",
       "    <tr>\n",
       "      <th>973</th>\n",
       "      <td>5.665012</td>\n",
       "      <td>-5.180460</td>\n",
       "      <td>17.241359</td>\n",
       "      <td>-2.466736</td>\n",
       "      <td>3.450670</td>\n",
       "      <td>5</td>\n",
       "    </tr>\n",
       "    <tr>\n",
       "      <th>974</th>\n",
       "      <td>0.979071</td>\n",
       "      <td>17.055583</td>\n",
       "      <td>0.562144</td>\n",
       "      <td>-4.368149</td>\n",
       "      <td>3.569193</td>\n",
       "      <td>2</td>\n",
       "    </tr>\n",
       "    <tr>\n",
       "      <th>975</th>\n",
       "      <td>-25.021680</td>\n",
       "      <td>-14.220668</td>\n",
       "      <td>-3.990075</td>\n",
       "      <td>-2.313569</td>\n",
       "      <td>4.322136</td>\n",
       "      <td>1</td>\n",
       "    </tr>\n",
       "    <tr>\n",
       "      <th>976</th>\n",
       "      <td>18.884460</td>\n",
       "      <td>-14.965942</td>\n",
       "      <td>-2.765708</td>\n",
       "      <td>6.142845</td>\n",
       "      <td>9.889501</td>\n",
       "      <td>0</td>\n",
       "    </tr>\n",
       "    <tr>\n",
       "      <th>977</th>\n",
       "      <td>-1.989185</td>\n",
       "      <td>15.154426</td>\n",
       "      <td>2.313806</td>\n",
       "      <td>-3.052824</td>\n",
       "      <td>5.130134</td>\n",
       "      <td>2</td>\n",
       "    </tr>\n",
       "    <tr>\n",
       "      <th>978</th>\n",
       "      <td>2.073250</td>\n",
       "      <td>18.265939</td>\n",
       "      <td>-4.036988</td>\n",
       "      <td>-2.855147</td>\n",
       "      <td>1.998059</td>\n",
       "      <td>2</td>\n",
       "    </tr>\n",
       "    <tr>\n",
       "      <th>979</th>\n",
       "      <td>7.470371</td>\n",
       "      <td>-6.720949</td>\n",
       "      <td>-5.414866</td>\n",
       "      <td>-13.643477</td>\n",
       "      <td>-2.085254</td>\n",
       "      <td>4</td>\n",
       "    </tr>\n",
       "    <tr>\n",
       "      <th>980</th>\n",
       "      <td>10.770425</td>\n",
       "      <td>-6.897061</td>\n",
       "      <td>-5.965392</td>\n",
       "      <td>-12.222346</td>\n",
       "      <td>-4.408192</td>\n",
       "      <td>4</td>\n",
       "    </tr>\n",
       "    <tr>\n",
       "      <th>981</th>\n",
       "      <td>0.281037</td>\n",
       "      <td>18.809524</td>\n",
       "      <td>1.904176</td>\n",
       "      <td>-3.469420</td>\n",
       "      <td>5.395006</td>\n",
       "      <td>2</td>\n",
       "    </tr>\n",
       "    <tr>\n",
       "      <th>982</th>\n",
       "      <td>7.115301</td>\n",
       "      <td>-2.489354</td>\n",
       "      <td>-4.545403</td>\n",
       "      <td>-9.760230</td>\n",
       "      <td>-3.689350</td>\n",
       "      <td>4</td>\n",
       "    </tr>\n",
       "    <tr>\n",
       "      <th>983</th>\n",
       "      <td>9.062392</td>\n",
       "      <td>-7.625187</td>\n",
       "      <td>16.364805</td>\n",
       "      <td>-1.552954</td>\n",
       "      <td>2.902800</td>\n",
       "      <td>5</td>\n",
       "    </tr>\n",
       "    <tr>\n",
       "      <th>984</th>\n",
       "      <td>8.025467</td>\n",
       "      <td>-7.959004</td>\n",
       "      <td>-5.094919</td>\n",
       "      <td>-12.845773</td>\n",
       "      <td>-2.538535</td>\n",
       "      <td>4</td>\n",
       "    </tr>\n",
       "    <tr>\n",
       "      <th>985</th>\n",
       "      <td>1.463458</td>\n",
       "      <td>15.229714</td>\n",
       "      <td>3.583005</td>\n",
       "      <td>-3.486563</td>\n",
       "      <td>2.657354</td>\n",
       "      <td>2</td>\n",
       "    </tr>\n",
       "    <tr>\n",
       "      <th>986</th>\n",
       "      <td>9.286663</td>\n",
       "      <td>-4.195192</td>\n",
       "      <td>18.052678</td>\n",
       "      <td>-4.088303</td>\n",
       "      <td>-1.129823</td>\n",
       "      <td>5</td>\n",
       "    </tr>\n",
       "    <tr>\n",
       "      <th>987</th>\n",
       "      <td>5.000254</td>\n",
       "      <td>-5.702251</td>\n",
       "      <td>0.070996</td>\n",
       "      <td>5.497838</td>\n",
       "      <td>-4.407119</td>\n",
       "      <td>3</td>\n",
       "    </tr>\n",
       "    <tr>\n",
       "      <th>988</th>\n",
       "      <td>-19.527338</td>\n",
       "      <td>-15.362295</td>\n",
       "      <td>4.322845</td>\n",
       "      <td>-4.761410</td>\n",
       "      <td>3.727846</td>\n",
       "      <td>1</td>\n",
       "    </tr>\n",
       "    <tr>\n",
       "      <th>989</th>\n",
       "      <td>11.032505</td>\n",
       "      <td>-7.099305</td>\n",
       "      <td>16.386601</td>\n",
       "      <td>-5.536734</td>\n",
       "      <td>3.339987</td>\n",
       "      <td>5</td>\n",
       "    </tr>\n",
       "    <tr>\n",
       "      <th>990</th>\n",
       "      <td>16.961706</td>\n",
       "      <td>-11.765930</td>\n",
       "      <td>-10.785392</td>\n",
       "      <td>2.231770</td>\n",
       "      <td>6.096440</td>\n",
       "      <td>0</td>\n",
       "    </tr>\n",
       "    <tr>\n",
       "      <th>991</th>\n",
       "      <td>15.963847</td>\n",
       "      <td>-10.767930</td>\n",
       "      <td>-5.695844</td>\n",
       "      <td>2.286844</td>\n",
       "      <td>7.710197</td>\n",
       "      <td>0</td>\n",
       "    </tr>\n",
       "    <tr>\n",
       "      <th>992</th>\n",
       "      <td>18.676157</td>\n",
       "      <td>-7.920115</td>\n",
       "      <td>-4.912731</td>\n",
       "      <td>3.665315</td>\n",
       "      <td>9.882121</td>\n",
       "      <td>0</td>\n",
       "    </tr>\n",
       "    <tr>\n",
       "      <th>993</th>\n",
       "      <td>-17.845802</td>\n",
       "      <td>-13.335218</td>\n",
       "      <td>-5.769680</td>\n",
       "      <td>-2.345968</td>\n",
       "      <td>6.194140</td>\n",
       "      <td>1</td>\n",
       "    </tr>\n",
       "    <tr>\n",
       "      <th>994</th>\n",
       "      <td>5.799553</td>\n",
       "      <td>-5.587695</td>\n",
       "      <td>0.225919</td>\n",
       "      <td>9.407524</td>\n",
       "      <td>-1.572039</td>\n",
       "      <td>3</td>\n",
       "    </tr>\n",
       "    <tr>\n",
       "      <th>995</th>\n",
       "      <td>6.621316</td>\n",
       "      <td>-4.038036</td>\n",
       "      <td>-7.128144</td>\n",
       "      <td>-10.267855</td>\n",
       "      <td>-3.526737</td>\n",
       "      <td>4</td>\n",
       "    </tr>\n",
       "    <tr>\n",
       "      <th>996</th>\n",
       "      <td>2.456810</td>\n",
       "      <td>17.440938</td>\n",
       "      <td>0.485116</td>\n",
       "      <td>-0.615886</td>\n",
       "      <td>1.685514</td>\n",
       "      <td>2</td>\n",
       "    </tr>\n",
       "    <tr>\n",
       "      <th>997</th>\n",
       "      <td>7.247628</td>\n",
       "      <td>-8.487553</td>\n",
       "      <td>3.099554</td>\n",
       "      <td>6.003105</td>\n",
       "      <td>-3.793704</td>\n",
       "      <td>3</td>\n",
       "    </tr>\n",
       "    <tr>\n",
       "      <th>998</th>\n",
       "      <td>9.397251</td>\n",
       "      <td>-7.681111</td>\n",
       "      <td>15.952583</td>\n",
       "      <td>-7.455595</td>\n",
       "      <td>-1.084527</td>\n",
       "      <td>5</td>\n",
       "    </tr>\n",
       "    <tr>\n",
       "      <th>999</th>\n",
       "      <td>0.990669</td>\n",
       "      <td>18.745230</td>\n",
       "      <td>-0.557641</td>\n",
       "      <td>-3.358055</td>\n",
       "      <td>3.279568</td>\n",
       "      <td>2</td>\n",
       "    </tr>\n",
       "  </tbody>\n",
       "</table>\n",
       "<p>1000 rows × 6 columns</p>\n",
       "</div>"
      ],
      "text/plain": [
       "         comp1      comp2      comp3      comp4     comp5  Class\n",
       "0     3.205306  -3.179720  -2.237392   5.927587 -4.260938      3\n",
       "1     8.907499  -5.889970  -7.976144 -13.377252 -7.409196      4\n",
       "2    21.440807  -6.366940  -5.142252   0.591373  8.030816      0\n",
       "3    -0.959191  21.480499   3.832642  -1.808415  2.717182      2\n",
       "4    14.401519  -9.754357  -0.482085   1.611203  6.462022      0\n",
       "5     6.571545  -7.258012  16.148735  -5.902067  0.333435      5\n",
       "6     9.882369  -3.265388 -11.008753 -12.335477 -0.094997      4\n",
       "7     6.136374  -3.956829   0.700267   7.851271 -2.645695      3\n",
       "8     3.321929  17.001892   0.666948   1.015207  4.323445      2\n",
       "9     6.229348  -8.641288  21.925908  -4.590605  0.930717      5\n",
       "10   -2.522725  20.533129   3.563205  -2.380262  6.935187      2\n",
       "11    0.952316  21.420601   1.041191  -2.067556  3.537851      2\n",
       "12    4.141084  -7.344655  17.063612  -1.842546  0.493929      5\n",
       "13    6.202828  -6.143770  -5.153226 -13.197021 -3.191578      4\n",
       "14  -16.995469 -15.295234   1.033345  -4.460797  3.812218      1\n",
       "15    6.373318  -2.854362   0.509922   8.408561 -4.353325      3\n",
       "16    7.890407  -4.497240  -7.319873 -11.764082 -2.812317      4\n",
       "17   -2.097512  16.832341   0.312886  -4.608882  2.613696      2\n",
       "18    2.706379  19.391411  -0.107018  -5.464492  6.489176      2\n",
       "19   10.429795  -9.185112  14.853872  -1.376287 -0.464942      5\n",
       "20    9.913533 -10.773509  16.025550  -3.335054 -1.997601      5\n",
       "21   20.340122  -8.818139  -5.197232   2.786637  7.857878      0\n",
       "22   20.412415 -13.034137  -7.701675  -1.242263  7.723437      0\n",
       "23  -23.565658 -14.742786  -1.851934  -1.397726  2.724763      1\n",
       "24    4.502399  -5.758940  -1.361726   4.456511 -0.886484      3\n",
       "25   -0.594772  21.959793   1.821249  -3.220666  1.590805      2\n",
       "26   10.855116  -2.858417  -6.758361 -11.148464 -3.408666      4\n",
       "27    7.990417  -8.939067  19.770065  -2.594501  0.592748      5\n",
       "28   -0.054189  18.459187   1.736072  -8.489394  4.593821      2\n",
       "29   10.740762  -5.109359  -5.266161 -14.208023 -4.074005      4\n",
       "..         ...        ...        ...        ...       ...    ...\n",
       "970  11.452481  -1.005221  -4.285394 -14.682793 -6.696219      4\n",
       "971   4.263386  -8.607909   0.801075   9.633910 -4.687010      3\n",
       "972   6.322886  -4.908349  17.057739  -4.868275 -0.710508      5\n",
       "973   5.665012  -5.180460  17.241359  -2.466736  3.450670      5\n",
       "974   0.979071  17.055583   0.562144  -4.368149  3.569193      2\n",
       "975 -25.021680 -14.220668  -3.990075  -2.313569  4.322136      1\n",
       "976  18.884460 -14.965942  -2.765708   6.142845  9.889501      0\n",
       "977  -1.989185  15.154426   2.313806  -3.052824  5.130134      2\n",
       "978   2.073250  18.265939  -4.036988  -2.855147  1.998059      2\n",
       "979   7.470371  -6.720949  -5.414866 -13.643477 -2.085254      4\n",
       "980  10.770425  -6.897061  -5.965392 -12.222346 -4.408192      4\n",
       "981   0.281037  18.809524   1.904176  -3.469420  5.395006      2\n",
       "982   7.115301  -2.489354  -4.545403  -9.760230 -3.689350      4\n",
       "983   9.062392  -7.625187  16.364805  -1.552954  2.902800      5\n",
       "984   8.025467  -7.959004  -5.094919 -12.845773 -2.538535      4\n",
       "985   1.463458  15.229714   3.583005  -3.486563  2.657354      2\n",
       "986   9.286663  -4.195192  18.052678  -4.088303 -1.129823      5\n",
       "987   5.000254  -5.702251   0.070996   5.497838 -4.407119      3\n",
       "988 -19.527338 -15.362295   4.322845  -4.761410  3.727846      1\n",
       "989  11.032505  -7.099305  16.386601  -5.536734  3.339987      5\n",
       "990  16.961706 -11.765930 -10.785392   2.231770  6.096440      0\n",
       "991  15.963847 -10.767930  -5.695844   2.286844  7.710197      0\n",
       "992  18.676157  -7.920115  -4.912731   3.665315  9.882121      0\n",
       "993 -17.845802 -13.335218  -5.769680  -2.345968  6.194140      1\n",
       "994   5.799553  -5.587695   0.225919   9.407524 -1.572039      3\n",
       "995   6.621316  -4.038036  -7.128144 -10.267855 -3.526737      4\n",
       "996   2.456810  17.440938   0.485116  -0.615886  1.685514      2\n",
       "997   7.247628  -8.487553   3.099554   6.003105 -3.793704      3\n",
       "998   9.397251  -7.681111  15.952583  -7.455595 -1.084527      5\n",
       "999   0.990669  18.745230  -0.557641  -3.358055  3.279568      2\n",
       "\n",
       "[1000 rows x 6 columns]"
      ]
     },
     "execution_count": 40,
     "metadata": {},
     "output_type": "execute_result"
    }
   ],
   "source": [
    "T_s2"
   ]
  }
 ],
 "metadata": {
  "kernelspec": {
   "display_name": "Python 3",
   "language": "python",
   "name": "python3"
  },
  "language_info": {
   "codemirror_mode": {
    "name": "ipython",
    "version": 3
   },
   "file_extension": ".py",
   "mimetype": "text/x-python",
   "name": "python",
   "nbconvert_exporter": "python",
   "pygments_lexer": "ipython3",
   "version": "3.6.4"
  },
  "toc": {
   "base_numbering": 1,
   "nav_menu": {},
   "number_sections": true,
   "sideBar": true,
   "skip_h1_title": false,
   "title_cell": "Table of Contents",
   "title_sidebar": "Contents",
   "toc_cell": false,
   "toc_position": {},
   "toc_section_display": true,
   "toc_window_display": false
  }
 },
 "nbformat": 4,
 "nbformat_minor": 2
}
