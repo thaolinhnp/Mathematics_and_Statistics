{
 "cells": [
  {
   "cell_type": "markdown",
   "metadata": {},
   "source": [
    "__Câu 2. Thống kê – Xác suất (6 điểm)__ \n",
    "<br> Tập tin IQ.xls chứa những mẫu dữ liệu được thu thập về mối quan hệ giữa chỉ số IQ và điểm thi môn Toán (diemToan) của sinh viên. Người ta muốn biết liệu rằng điểm thi môn Toán có thể được sử dụng để dự đoán chỉ số IQ của sinh viên hay không. "
   ]
  },
  {
   "cell_type": "markdown",
   "metadata": {},
   "source": [
    "__2.1) Đọc và xem thông tin của dữ liệu.__"
   ]
  },
  {
   "cell_type": "code",
   "execution_count": 1,
   "metadata": {
    "ExecuteTime": {
     "end_time": "2019-11-03T07:34:13.806278Z",
     "start_time": "2019-11-03T07:34:12.895808Z"
    }
   },
   "outputs": [],
   "source": [
    "import pandas as pd"
   ]
  },
  {
   "cell_type": "code",
   "execution_count": 8,
   "metadata": {
    "ExecuteTime": {
     "end_time": "2019-11-03T07:38:00.520418Z",
     "start_time": "2019-11-03T07:38:00.488421Z"
    }
   },
   "outputs": [
    {
     "data": {
      "text/html": [
       "<div>\n",
       "<style scoped>\n",
       "    .dataframe tbody tr th:only-of-type {\n",
       "        vertical-align: middle;\n",
       "    }\n",
       "\n",
       "    .dataframe tbody tr th {\n",
       "        vertical-align: top;\n",
       "    }\n",
       "\n",
       "    .dataframe thead th {\n",
       "        text-align: right;\n",
       "    }\n",
       "</style>\n",
       "<table border=\"1\" class=\"dataframe\">\n",
       "  <thead>\n",
       "    <tr style=\"text-align: right;\">\n",
       "      <th></th>\n",
       "      <th>diemToan</th>\n",
       "      <th>IQ</th>\n",
       "    </tr>\n",
       "    <tr>\n",
       "      <th>stt</th>\n",
       "      <th></th>\n",
       "      <th></th>\n",
       "    </tr>\n",
       "  </thead>\n",
       "  <tbody>\n",
       "    <tr>\n",
       "      <th>1</th>\n",
       "      <td>2.0</td>\n",
       "      <td>68</td>\n",
       "    </tr>\n",
       "    <tr>\n",
       "      <th>2</th>\n",
       "      <td>8.4</td>\n",
       "      <td>137</td>\n",
       "    </tr>\n",
       "    <tr>\n",
       "      <th>3</th>\n",
       "      <td>7.6</td>\n",
       "      <td>135</td>\n",
       "    </tr>\n",
       "    <tr>\n",
       "      <th>4</th>\n",
       "      <td>3.0</td>\n",
       "      <td>79</td>\n",
       "    </tr>\n",
       "    <tr>\n",
       "      <th>5</th>\n",
       "      <td>4.4</td>\n",
       "      <td>107</td>\n",
       "    </tr>\n",
       "  </tbody>\n",
       "</table>\n",
       "</div>"
      ],
      "text/plain": [
       "     diemToan   IQ\n",
       "stt               \n",
       "1         2.0   68\n",
       "2         8.4  137\n",
       "3         7.6  135\n",
       "4         3.0   79\n",
       "5         4.4  107"
      ]
     },
     "execution_count": 8,
     "metadata": {},
     "output_type": "execute_result"
    }
   ],
   "source": [
    "data = pd.read_excel('IQ.xls',index_col = 0)\n",
    "data.head()"
   ]
  },
  {
   "cell_type": "code",
   "execution_count": 3,
   "metadata": {
    "ExecuteTime": {
     "end_time": "2019-11-03T07:34:48.579620Z",
     "start_time": "2019-11-03T07:34:48.571593Z"
    }
   },
   "outputs": [
    {
     "data": {
      "text/plain": [
       "(20, 3)"
      ]
     },
     "execution_count": 3,
     "metadata": {},
     "output_type": "execute_result"
    }
   ],
   "source": [
    "data.shape"
   ]
  },
  {
   "cell_type": "markdown",
   "metadata": {},
   "source": [
    "__2.2) Vẽ biểu đồ phân phối tần suất của diemToan. Nhận xét kết quả.__"
   ]
  },
  {
   "cell_type": "code",
   "execution_count": 4,
   "metadata": {
    "ExecuteTime": {
     "end_time": "2019-11-03T07:35:59.455536Z",
     "start_time": "2019-11-03T07:35:58.165066Z"
    }
   },
   "outputs": [],
   "source": [
    "import matplotlib.pyplot as plt\n",
    "import seaborn as sns"
   ]
  },
  {
   "cell_type": "code",
   "execution_count": 25,
   "metadata": {
    "ExecuteTime": {
     "end_time": "2019-11-03T07:47:52.292311Z",
     "start_time": "2019-11-03T07:47:52.287939Z"
    }
   },
   "outputs": [],
   "source": [
    "diemToan = data['diemToan']"
   ]
  },
  {
   "cell_type": "code",
   "execution_count": 27,
   "metadata": {
    "ExecuteTime": {
     "end_time": "2019-11-03T07:48:23.339256Z",
     "start_time": "2019-11-03T07:48:22.807512Z"
    }
   },
   "outputs": [
    {
     "data": {
      "image/png": "[encoded data removed]",
      "text/plain": [
       "<Figure size 576x288 with 2 Axes>"
      ]
     },
     "metadata": {},
     "output_type": "display_data"
    }
   ],
   "source": [
    "plt.figure(figsize=(8,4))\n",
    "plt.subplot(1,2,1)\n",
    "plt.hist(diemToan)\n",
    "plt.subplot(1,2,2)\n",
    "sns.distplot(diemToan)\n",
    "plt.show()"
   ]
  },
  {
   "cell_type": "markdown",
   "metadata": {},
   "source": [
    "__NHẬN XÉT__\n",
    "<br> diemToan có phân phối chuẩn"
   ]
  },
  {
   "cell_type": "markdown",
   "metadata": {},
   "source": [
    "__2.3) Thực hiện các thống kê cơ bản cho diemToan và IQ (mean, median, mode, max, min, range).__"
   ]
  },
  {
   "cell_type": "code",
   "execution_count": 38,
   "metadata": {
    "ExecuteTime": {
     "end_time": "2019-11-03T07:52:58.533364Z",
     "start_time": "2019-11-03T07:52:58.525402Z"
    }
   },
   "outputs": [],
   "source": [
    "import numpy as np\n",
    "from scipy import stats"
   ]
  },
  {
   "cell_type": "code",
   "execution_count": 39,
   "metadata": {
    "ExecuteTime": {
     "end_time": "2019-11-03T07:53:02.482739Z",
     "start_time": "2019-11-03T07:53:02.457291Z"
    }
   },
   "outputs": [
    {
     "name": "stdout",
     "output_type": "stream",
     "text": [
      "Thong ke diemToan:\n",
      " - Mean:  5.919999999999999\n",
      " - Median:  5.8\n",
      " - Mode: 4.4\n",
      " - Max:  9.6\n",
      " - Min:  2.0\n",
      " - Range:  7.6\n"
     ]
    },
    {
     "name": "stderr",
     "output_type": "stream",
     "text": [
      "C:\\Users\\thao.nguyenpl\\AppData\\Local\\Continuum\\anaconda3\\lib\\site-packages\\numpy\\core\\fromnumeric.py:2495: FutureWarning: Method .ptp is deprecated and will be removed in a future version. Use numpy.ptp instead.\n",
      "  return ptp(axis=axis, out=out, **kwargs)\n"
     ]
    }
   ],
   "source": [
    "## Thống kê cho diemToan:\n",
    "print('Thong ke diemToan:')\n",
    "print(' - Mean: ', diemToan.mean())\n",
    "print(' - Median: ', diemToan.median())\n",
    "print(' - Mode:', stats.mode(diemToan)[0][0])\n",
    "print(' - Max: ', diemToan.max())\n",
    "print(' - Min: ', diemToan.min())\n",
    "print(' - Range: ', np.ptp(diemToan))"
   ]
  },
  {
   "cell_type": "code",
   "execution_count": 41,
   "metadata": {
    "ExecuteTime": {
     "end_time": "2019-11-03T07:54:23.540084Z",
     "start_time": "2019-11-03T07:54:23.519358Z"
    }
   },
   "outputs": [
    {
     "name": "stdout",
     "output_type": "stream",
     "text": [
      "Thong ke IQ:\n",
      " - Mean:  115.2\n",
      " - Median:  120.0\n",
      " - Mode: 110\n",
      " - Max:  140\n",
      " - Min:  68\n",
      " - Range:  72\n"
     ]
    },
    {
     "name": "stderr",
     "output_type": "stream",
     "text": [
      "C:\\Users\\thao.nguyenpl\\AppData\\Local\\Continuum\\anaconda3\\lib\\site-packages\\numpy\\core\\fromnumeric.py:2495: FutureWarning: Method .ptp is deprecated and will be removed in a future version. Use numpy.ptp instead.\n",
      "  return ptp(axis=axis, out=out, **kwargs)\n"
     ]
    }
   ],
   "source": [
    "## Thống kê cho IQ:\n",
    "IQ = data['IQ']\n",
    "print('Thong ke IQ:')\n",
    "print(' - Mean: ', IQ.mean())\n",
    "print(' - Median: ', IQ.median())\n",
    "print(' - Mode:', stats.mode(IQ)[0][0])\n",
    "print(' - Max: ', IQ.max())\n",
    "print(' - Min: ', IQ.min())\n",
    "print(' - Range: ', np.ptp(IQ))"
   ]
  },
  {
   "cell_type": "markdown",
   "metadata": {},
   "source": [
    "__2.4) Cho biết các giá trị ở phân vị thứ 20, 35, 65 và 90 của IQ. Biểu diễn phân vị và giá trị tương ứng trên biểu đồ.__"
   ]
  },
  {
   "cell_type": "code",
   "execution_count": 43,
   "metadata": {
    "ExecuteTime": {
     "end_time": "2019-11-03T07:56:00.726132Z",
     "start_time": "2019-11-03T07:56:00.712885Z"
    }
   },
   "outputs": [
    {
     "data": {
      "text/plain": [
       "array([103.2 , 111.95, 128.  , 138.1 ])"
      ]
     },
     "execution_count": 43,
     "metadata": {},
     "output_type": "execute_result"
    }
   ],
   "source": [
    "percentiles = np.array([20,35,65,90])\n",
    "x = np.percentile(IQ,percentiles)\n",
    "x"
   ]
  },
  {
   "cell_type": "code",
   "execution_count": 44,
   "metadata": {
    "ExecuteTime": {
     "end_time": "2019-11-03T07:56:41.135502Z",
     "start_time": "2019-11-03T07:56:40.842874Z"
    }
   },
   "outputs": [
    {
     "data": {
      "image/png": "[encoded data removed]",
      "text/plain": [
       "<Figure size 432x288 with 1 Axes>"
      ]
     },
     "metadata": {},
     "output_type": "display_data"
    }
   ],
   "source": [
    "plt.plot(x, percentiles/100, marker='D', color='red',linestyle='none')\n",
    "plt.show()"
   ]
  },
  {
   "cell_type": "markdown",
   "metadata": {},
   "source": [
    "__2.5) Vẽ boxplot cho diemToan và cho IQ.__"
   ]
  },
  {
   "cell_type": "code",
   "execution_count": 45,
   "metadata": {
    "ExecuteTime": {
     "end_time": "2019-11-03T07:58:45.805632Z",
     "start_time": "2019-11-03T07:58:45.474043Z"
    }
   },
   "outputs": [
    {
     "data": {
      "text/plain": [
       "<matplotlib.axes._subplots.AxesSubplot at 0x21735972278>"
      ]
     },
     "execution_count": 45,
     "metadata": {},
     "output_type": "execute_result"
    },
    {
     "data": {
      "image/png": "[encoded data removed]",
      "text/plain": [
       "<Figure size 432x288 with 1 Axes>"
      ]
     },
     "metadata": {},
     "output_type": "display_data"
    }
   ],
   "source": [
    "# boxplot of diemToan\n",
    "sns.boxplot(diemToan)"
   ]
  },
  {
   "cell_type": "code",
   "execution_count": 46,
   "metadata": {
    "ExecuteTime": {
     "end_time": "2019-11-03T07:59:06.089460Z",
     "start_time": "2019-11-03T07:59:05.844807Z"
    }
   },
   "outputs": [
    {
     "data": {
      "text/plain": [
       "<matplotlib.axes._subplots.AxesSubplot at 0x21735bb0b00>"
      ]
     },
     "execution_count": 46,
     "metadata": {},
     "output_type": "execute_result"
    },
    {
     "data": {
      "image/png": "[encoded data removed]",
      "text/plain": [
       "<Figure size 432x288 with 1 Axes>"
      ]
     },
     "metadata": {},
     "output_type": "display_data"
    }
   ],
   "source": [
    "# boxplot of IQ\n",
    "sns.boxplot(IQ)"
   ]
  },
  {
   "cell_type": "markdown",
   "metadata": {},
   "source": [
    "__2.6) diemToan có outlier(s) hay không ? IQ có outlier(s) hay không ?__"
   ]
  },
  {
   "cell_type": "markdown",
   "metadata": {},
   "source": [
    "__NHẬN XÉT__\n",
    "<br> Theo boxplot ở trên thì diemToan dường như không có ouliers và IQ thì có 1.\n",
    "<br> Dùng z-score để kiểm tra lại (5% giá trị nhỏ nhất và lớn nhất)"
   ]
  },
  {
   "cell_type": "code",
   "execution_count": 47,
   "metadata": {
    "ExecuteTime": {
     "end_time": "2019-11-03T08:01:13.151436Z",
     "start_time": "2019-11-03T08:01:13.126801Z"
    }
   },
   "outputs": [
    {
     "name": "stdout",
     "output_type": "stream",
     "text": [
      "Indexs of outliers: []\n",
      "Outliers value: Series([], Name: diemToan, dtype: float64)\n"
     ]
    }
   ],
   "source": [
    "#Using z-score to define outliers diemToan\n",
    "diemToan_z_score = stats.zscore(diemToan)\n",
    "outliers = diemToan_z_score[[(n <= -2.5)|(n >= 2.5) for n in diemToan_z_score]]\n",
    "indexes = [diemToan_z_score.tolist().index(i) for i in outliers]\n",
    "\n",
    "print('Indexs of outliers:', indexes)\n",
    "print('Outliers value:', diemToan[indexes])"
   ]
  },
  {
   "cell_type": "code",
   "execution_count": 48,
   "metadata": {
    "ExecuteTime": {
     "end_time": "2019-11-03T08:04:28.173976Z",
     "start_time": "2019-11-03T08:04:28.157762Z"
    }
   },
   "outputs": [
    {
     "name": "stdout",
     "output_type": "stream",
     "text": [
      "Indexs of outliers: []\n",
      "Outliers value: Series([], Name: IQ, dtype: int64)\n"
     ]
    }
   ],
   "source": [
    "#Using z-score to define outliers IQ\n",
    "IQ_z_score = stats.zscore(IQ)\n",
    "outliers = IQ_z_score[[(n <= -2.5)|(n >= 2.5) for n in IQ_z_score]]\n",
    "indexes = [IQ_z_score.tolist().index(i) for i in outliers]\n",
    "\n",
    "print('Indexs of outliers:', indexes)\n",
    "print('Outliers value:', IQ[indexes])"
   ]
  },
  {
   "cell_type": "markdown",
   "metadata": {},
   "source": [
    "__NHẬN XÉT__\n",
    "<br> Theo kiểm tra z-score thì diemToan va IQ không có ouliers"
   ]
  },
  {
   "cell_type": "markdown",
   "metadata": {},
   "source": [
    "__2.7) Tìm phương sai (variance) của diemToan.__"
   ]
  },
  {
   "cell_type": "code",
   "execution_count": 49,
   "metadata": {
    "ExecuteTime": {
     "end_time": "2019-11-03T08:06:20.120935Z",
     "start_time": "2019-11-03T08:06:20.108804Z"
    }
   },
   "outputs": [
    {
     "data": {
      "text/plain": [
       "4.6576"
      ]
     },
     "execution_count": 49,
     "metadata": {},
     "output_type": "execute_result"
    }
   ],
   "source": [
    "var_diemToan = np.var(diemToan)\n",
    "var_diemToan"
   ]
  },
  {
   "cell_type": "markdown",
   "metadata": {},
   "source": [
    "__2.8) Tìm độ lệch chuẩn (standard deviation) của IQ.__"
   ]
  },
  {
   "cell_type": "code",
   "execution_count": 50,
   "metadata": {
    "ExecuteTime": {
     "end_time": "2019-11-03T08:07:10.294277Z",
     "start_time": "2019-11-03T08:07:10.284173Z"
    }
   },
   "outputs": [
    {
     "data": {
      "text/plain": [
       "21.715432300555292"
      ]
     },
     "execution_count": 50,
     "metadata": {},
     "output_type": "execute_result"
    }
   ],
   "source": [
    "std_IQ = np.std(IQ)\n",
    "std_IQ"
   ]
  },
  {
   "cell_type": "markdown",
   "metadata": {},
   "source": [
    "__2.9) Tìm độ xiên (skewness) của diemToan. Nhận xét kết quả.__"
   ]
  },
  {
   "cell_type": "code",
   "execution_count": 51,
   "metadata": {
    "ExecuteTime": {
     "end_time": "2019-11-03T08:08:14.976439Z",
     "start_time": "2019-11-03T08:08:14.965723Z"
    }
   },
   "outputs": [
    {
     "data": {
      "text/plain": [
       "-0.026588704770725533"
      ]
     },
     "execution_count": 51,
     "metadata": {},
     "output_type": "execute_result"
    }
   ],
   "source": [
    "## Skewness\n",
    "skew_diemToan = stats.skew(diemToan)\n",
    "skew_diemToan\n",
    "#skew > 0 => lech phai"
   ]
  },
  {
   "cell_type": "markdown",
   "metadata": {},
   "source": [
    "__NHẬN XÉT__\n",
    "<br> skew < 0 => phân phối của diemToan lệch trái"
   ]
  },
  {
   "cell_type": "markdown",
   "metadata": {},
   "source": [
    "__2.10) Tìm độ nhọn (kurtosis) của diemToan. Nhận xét kết quả.__"
   ]
  },
  {
   "cell_type": "code",
   "execution_count": 52,
   "metadata": {
    "ExecuteTime": {
     "end_time": "2019-11-03T08:10:19.577178Z",
     "start_time": "2019-11-03T08:10:19.571000Z"
    }
   },
   "outputs": [
    {
     "data": {
      "text/plain": [
       "-1.0561729334035566"
      ]
     },
     "execution_count": 52,
     "metadata": {},
     "output_type": "execute_result"
    }
   ],
   "source": [
    "## Kurtosis\n",
    "kur_diemToan = stats.kurtosis(diemToan)\n",
    "kur_diemToan"
   ]
  },
  {
   "cell_type": "code",
   "execution_count": 53,
   "metadata": {
    "ExecuteTime": {
     "end_time": "2019-11-03T08:10:33.601164Z",
     "start_time": "2019-11-03T08:10:33.588741Z"
    }
   },
   "outputs": [
    {
     "data": {
      "text/plain": [
       "1.9438270665964434"
      ]
     },
     "execution_count": 53,
     "metadata": {},
     "output_type": "execute_result"
    }
   ],
   "source": [
    "kur_diemToan = stats.kurtosis(diemToan, fisher = False)\n",
    "kur_diemToan"
   ]
  },
  {
   "cell_type": "markdown",
   "metadata": {},
   "source": [
    "__NHẬN XÉT__\n",
    "<br> Với độ nhọn Kurtosis càng nhỏ hơn 0 (hay độ nhọn Pearson càng nhỏ hơn 3) thì phân bố này ít nhọn hơn phân phối chuẩn"
   ]
  },
  {
   "cell_type": "markdown",
   "metadata": {},
   "source": [
    "__2.11) Cho biết số lượng mẫu có giá trị IQ > 130. Xác suất các mẫu có IQ lớn hơn 130 là bao nhiêu ?__"
   ]
  },
  {
   "cell_type": "code",
   "execution_count": 56,
   "metadata": {
    "ExecuteTime": {
     "end_time": "2019-11-03T08:16:42.721989Z",
     "start_time": "2019-11-03T08:16:42.711545Z"
    }
   },
   "outputs": [
    {
     "data": {
      "text/plain": [
       "0.3"
      ]
     },
     "execution_count": 56,
     "metadata": {},
     "output_type": "execute_result"
    }
   ],
   "source": [
    "p_x_130 = np.extract(IQ>130,IQ).size/IQ.size\n",
    "p_x_130"
   ]
  },
  {
   "cell_type": "markdown",
   "metadata": {},
   "source": [
    "Điều này có nghĩa là dự trên dữ liệu chúng ta có 30% mẫu có IQ trên 130"
   ]
  },
  {
   "cell_type": "markdown",
   "metadata": {
    "ExecuteTime": {
     "end_time": "2019-11-03T08:18:16.088910Z",
     "start_time": "2019-11-03T08:18:16.080528Z"
    }
   },
   "source": [
    "__2.12) Tìm xác suất của P(85 ≤ IQ ≤ 130).__"
   ]
  },
  {
   "cell_type": "code",
   "execution_count": 59,
   "metadata": {
    "ExecuteTime": {
     "end_time": "2019-11-03T08:19:41.776804Z",
     "start_time": "2019-11-03T08:19:41.759765Z"
    }
   },
   "outputs": [
    {
     "data": {
      "text/plain": [
       "0.15000000000000002"
      ]
     },
     "execution_count": 59,
     "metadata": {},
     "output_type": "execute_result"
    }
   ],
   "source": [
    "p_x_85 = np.extract(IQ>=85,IQ).size/IQ.size\n",
    "p_x_130 = np.extract(IQ<130,IQ).size/IQ.size\n",
    "p_x_85_130 = p_x_85 - p_x_130\n",
    "p_x_85_130"
   ]
  },
  {
   "cell_type": "markdown",
   "metadata": {},
   "source": [
    "__2.13) Vẽ biểu đồ thể hiện mối quan hệ giữa diemToan và IQ. Nhận xét kết quả.__"
   ]
  },
  {
   "cell_type": "code",
   "execution_count": 61,
   "metadata": {
    "ExecuteTime": {
     "end_time": "2019-11-03T08:21:23.826780Z",
     "start_time": "2019-11-03T08:21:22.880955Z"
    }
   },
   "outputs": [
    {
     "data": {
      "text/plain": [
       "<Figure size 432x432 with 0 Axes>"
      ]
     },
     "metadata": {},
     "output_type": "display_data"
    },
    {
     "data": {
      "image/png": "[encoded data removed]",
      "text/plain": [
       "<Figure size 432x432 with 3 Axes>"
      ]
     },
     "metadata": {},
     "output_type": "display_data"
    }
   ],
   "source": [
    "plt.figure(figsize=(6,6))\n",
    "sns.jointplot(x='diemToan', y='IQ', data = data)\n",
    "plt.show()"
   ]
  },
  {
   "cell_type": "markdown",
   "metadata": {},
   "source": [
    "__NHẬN XÉT__\n",
    "<br> diemToan va IQ dường như có mối tương quan dương"
   ]
  },
  {
   "cell_type": "markdown",
   "metadata": {},
   "source": [
    "__2.14) Tính giá trị tương quan giữa diemToan và IQ.__"
   ]
  },
  {
   "cell_type": "code",
   "execution_count": 76,
   "metadata": {
    "ExecuteTime": {
     "end_time": "2019-11-03T08:39:27.666346Z",
     "start_time": "2019-11-03T08:39:27.656089Z"
    }
   },
   "outputs": [
    {
     "data": {
      "text/plain": [
       "array([[  4.90273684,  43.03789474],\n",
       "       [ 43.03789474, 496.37894737]])"
      ]
     },
     "execution_count": 76,
     "metadata": {},
     "output_type": "execute_result"
    }
   ],
   "source": [
    "from numpy import array, cov, corrcoef\n",
    " \n",
    "cov = cov(diemToan,IQ)\n",
    "cov"
   ]
  },
  {
   "cell_type": "code",
   "execution_count": 78,
   "metadata": {
    "ExecuteTime": {
     "end_time": "2019-11-03T08:40:13.197541Z",
     "start_time": "2019-11-03T08:40:13.186413Z"
    }
   },
   "outputs": [
    {
     "data": {
      "text/plain": [
       "array([[1.        , 0.87241887],\n",
       "       [0.87241887, 1.        ]])"
      ]
     },
     "execution_count": 78,
     "metadata": {},
     "output_type": "execute_result"
    }
   ],
   "source": [
    "corr = corrcoef(diemToan,IQ)\n",
    "corr"
   ]
  },
  {
   "cell_type": "markdown",
   "metadata": {},
   "source": [
    "__2.15) Dựa vào thể hiện dữ liệu trực quan và giá trị tương quan ở trên, hãy cho biết có thể dựa trên diemToan để dự đoán giá trị của IQ hay không ? Giải thích nguyên nhân. __"
   ]
  },
  {
   "cell_type": "markdown",
   "metadata": {},
   "source": [
    "__NHẬN XÉT__\n",
    "<br> Covariance và corrcoef dương phản ánh diemToan và IQ có mối quan hệ thuận. Có thể dùng diemToan dể dự đoán IQ"
   ]
  },
  {
   "cell_type": "markdown",
   "metadata": {},
   "source": [
    "__2.16) Giả sử có thể dựa trên diemToan để dự đoán giá trị của chỉ số IQ. Xây dựng hệ phương trình y = mx + b (với y là IQ và x là diemToan).__"
   ]
  },
  {
   "cell_type": "code",
   "execution_count": 63,
   "metadata": {
    "ExecuteTime": {
     "end_time": "2019-11-03T08:25:59.005594Z",
     "start_time": "2019-11-03T08:25:58.982867Z"
    }
   },
   "outputs": [],
   "source": [
    "# Hàm tính m (slope), b (theta/bias):    y = mx + b\n",
    "def gradient_descent_2(alpha, x, y, numIterations):\n",
    "    M     = x.shape[0] # number of samples\n",
    "    theta = np.ones(2)\n",
    "    x_T   = x.transpose()\n",
    "    for iter in range(0, numIterations):\n",
    "        hypothesis = np.dot(x, theta)\n",
    "        loss       = hypothesis - y\n",
    "        J          = np.sum(loss ** 2) / (2 * M)  # cost\n",
    "#         print(\"iter %s | J: %.3f\" % (iter, J))      \n",
    "        gradient   = np.dot(x_T, loss) / M      \n",
    "        \n",
    "        theta    = theta - (alpha * gradient)  # update\n",
    "    return theta"
   ]
  },
  {
   "cell_type": "code",
   "execution_count": 65,
   "metadata": {
    "ExecuteTime": {
     "end_time": "2019-11-03T08:26:11.038632Z",
     "start_time": "2019-11-03T08:26:09.906313Z"
    }
   },
   "outputs": [],
   "source": [
    "# y = mx + b (với x là diemToan, y là IQ)\n",
    "m = diemToan.size\n",
    "X = np.c_[np.ones(m), diemToan] #insert column\n",
    "y = IQ\n",
    "alpha = 0.01 # Learning rate\n",
    "theta = gradient_descent_2(alpha, X, y, 1000)"
   ]
  },
  {
   "cell_type": "markdown",
   "metadata": {},
   "source": [
    "__2.17) Tìm m và b.__"
   ]
  },
  {
   "cell_type": "code",
   "execution_count": 68,
   "metadata": {
    "ExecuteTime": {
     "end_time": "2019-11-03T08:28:39.096315Z",
     "start_time": "2019-11-03T08:28:39.088159Z"
    }
   },
   "outputs": [
    {
     "name": "stdout",
     "output_type": "stream",
     "text": [
      "Hàm tuyến tính giữa diemToan và IQ là: y = 11.611848x + 44.283502\n"
     ]
    }
   ],
   "source": [
    "print('Hàm tuyến tính giữa diemToan và IQ là: y = %fx + %f' % (theta[1], theta[0]))"
   ]
  },
  {
   "cell_type": "markdown",
   "metadata": {},
   "source": [
    "__2.18) Từ m và b, hãy tính toán lại các chỉ số IQ trong mẫu dữ liệu. Trực quan hóa dữ liệu.__"
   ]
  },
  {
   "cell_type": "code",
   "execution_count": 69,
   "metadata": {
    "ExecuteTime": {
     "end_time": "2019-11-03T08:33:09.310348Z",
     "start_time": "2019-11-03T08:33:09.302313Z"
    }
   },
   "outputs": [],
   "source": [
    "for i in range(X.shape[1]):\n",
    "    IQ_predict = theta[1]* X + theta[0]"
   ]
  },
  {
   "cell_type": "code",
   "execution_count": 71,
   "metadata": {
    "ExecuteTime": {
     "end_time": "2019-11-03T08:34:04.836324Z",
     "start_time": "2019-11-03T08:34:04.531709Z"
    }
   },
   "outputs": [
    {
     "data": {
      "image/png": "[encoded data removed]",
      "text/plain": [
       "<Figure size 576x432 with 1 Axes>"
      ]
     },
     "metadata": {},
     "output_type": "display_data"
    }
   ],
   "source": [
    "plt.figure(figsize=(8,6))\n",
    "# plt.xlim(1.6,2.2)\n",
    "# plt.ylim(60,150)\n",
    "plt.scatter(X[:,1], IQ, color='green')\n",
    "plt.plot(X, IQ_predict)\n",
    "plt.xlabel('diemToan')\n",
    "plt.ylabel('IQ')\n",
    "plt.show()"
   ]
  },
  {
   "cell_type": "markdown",
   "metadata": {},
   "source": [
    "__2.19) Tính các giá trị IQ tương ứng với diemToan lần lượt là 2.0, 5.0, 8.0, 9.5. __"
   ]
  },
  {
   "cell_type": "code",
   "execution_count": 72,
   "metadata": {
    "ExecuteTime": {
     "end_time": "2019-11-03T08:35:18.294838Z",
     "start_time": "2019-11-03T08:35:18.279310Z"
    }
   },
   "outputs": [
    {
     "data": {
      "text/plain": [
       "array([ 67.5071982 , 102.34274196, 137.17828572, 154.5960576 ])"
      ]
     },
     "execution_count": 72,
     "metadata": {},
     "output_type": "execute_result"
    }
   ],
   "source": [
    "diemToan_new = np.array([2,5,8,9.5])\n",
    "IQ_new = theta[1]*diemToan_new + theta[0]\n",
    "IQ_new"
   ]
  }
 ],
 "metadata": {
  "kernelspec": {
   "display_name": "Python 3",
   "language": "python",
   "name": "python3"
  },
  "language_info": {
   "codemirror_mode": {
    "name": "ipython",
    "version": 3
   },
   "file_extension": ".py",
   "mimetype": "text/x-python",
   "name": "python",
   "nbconvert_exporter": "python",
   "pygments_lexer": "ipython3",
   "version": "3.6.4"
  },
  "toc": {
   "base_numbering": 1,
   "nav_menu": {},
   "number_sections": true,
   "sideBar": true,
   "skip_h1_title": false,
   "title_cell": "Table of Contents",
   "title_sidebar": "Contents",
   "toc_cell": false,
   "toc_position": {},
   "toc_section_display": true,
   "toc_window_display": false
  }
 },
 "nbformat": 4,
 "nbformat_minor": 2
}
