{
 "cells": [
  {
   "cell_type": "markdown",
   "metadata": {},
   "source": [
    "# DECOMPOSITION"
   ]
  },
  {
   "cell_type": "markdown",
   "metadata": {},
   "source": [
    "__1. LU Decomposition__\n",
    "<br> Create matix A(4x5) random from 1 to 10\n",
    "<br> Decomposition A=P,L,U\n",
    "<br> Create matrix B from P,L,U"
   ]
  },
  {
   "cell_type": "code",
   "execution_count": 1,
   "metadata": {
    "ExecuteTime": {
     "end_time": "2019-10-20T07:23:53.286551Z",
     "start_time": "2019-10-20T07:23:52.598479Z"
    }
   },
   "outputs": [],
   "source": [
    "import numpy as np\n",
    "import scipy\n",
    "from scipy.linalg import lu"
   ]
  },
  {
   "cell_type": "code",
   "execution_count": 8,
   "metadata": {
    "ExecuteTime": {
     "end_time": "2019-10-20T07:24:28.899320Z",
     "start_time": "2019-10-20T07:24:28.887560Z"
    }
   },
   "outputs": [
    {
     "data": {
      "text/plain": [
       "array([[6, 2, 2, 3, 7],\n",
       "       [3, 1, 1, 5, 6],\n",
       "       [4, 2, 9, 5, 8],\n",
       "       [5, 1, 5, 6, 3]])"
      ]
     },
     "execution_count": 8,
     "metadata": {},
     "output_type": "execute_result"
    }
   ],
   "source": [
    "A = np.random.randint(1,10,(4,5))\n",
    "A"
   ]
  },
  {
   "cell_type": "code",
   "execution_count": 9,
   "metadata": {
    "ExecuteTime": {
     "end_time": "2019-10-20T07:24:31.788921Z",
     "start_time": "2019-10-20T07:24:31.780856Z"
    }
   },
   "outputs": [],
   "source": [
    "P, L, U = lu(A)"
   ]
  },
  {
   "cell_type": "code",
   "execution_count": 10,
   "metadata": {
    "ExecuteTime": {
     "end_time": "2019-10-20T07:24:34.706372Z",
     "start_time": "2019-10-20T07:24:34.698234Z"
    }
   },
   "outputs": [
    {
     "data": {
      "text/plain": [
       "array([[1., 0., 0., 0.],\n",
       "       [0., 0., 0., 1.],\n",
       "       [0., 1., 0., 0.],\n",
       "       [0., 0., 1., 0.]])"
      ]
     },
     "execution_count": 10,
     "metadata": {},
     "output_type": "execute_result"
    }
   ],
   "source": [
    "P"
   ]
  },
  {
   "cell_type": "code",
   "execution_count": 11,
   "metadata": {
    "ExecuteTime": {
     "end_time": "2019-10-20T07:24:38.772703Z",
     "start_time": "2019-10-20T07:24:38.766754Z"
    }
   },
   "outputs": [
    {
     "data": {
      "text/plain": [
       "array([[ 1.        ,  0.        ,  0.        ,  0.        ],\n",
       "       [ 0.66666667,  1.        ,  0.        ,  0.        ],\n",
       "       [ 0.83333333, -1.        ,  1.        ,  0.        ],\n",
       "       [ 0.5       ,  0.        ,  0.        ,  1.        ]])"
      ]
     },
     "execution_count": 11,
     "metadata": {},
     "output_type": "execute_result"
    }
   ],
   "source": [
    "L"
   ]
  },
  {
   "cell_type": "code",
   "execution_count": 12,
   "metadata": {
    "ExecuteTime": {
     "end_time": "2019-10-20T07:24:39.605471Z",
     "start_time": "2019-10-20T07:24:39.596695Z"
    }
   },
   "outputs": [
    {
     "data": {
      "text/plain": [
       "array([[ 6.        ,  2.        ,  2.        ,  3.        ,  7.        ],\n",
       "       [ 0.        ,  0.66666667,  7.66666667,  3.        ,  3.33333333],\n",
       "       [ 0.        ,  0.        , 11.        ,  6.5       ,  0.5       ],\n",
       "       [ 0.        ,  0.        ,  0.        ,  3.5       ,  2.5       ]])"
      ]
     },
     "execution_count": 12,
     "metadata": {},
     "output_type": "execute_result"
    }
   ],
   "source": [
    "U"
   ]
  },
  {
   "cell_type": "code",
   "execution_count": 13,
   "metadata": {
    "ExecuteTime": {
     "end_time": "2019-10-20T07:24:42.322836Z",
     "start_time": "2019-10-20T07:24:42.313431Z"
    }
   },
   "outputs": [
    {
     "data": {
      "text/plain": [
       "array([[6., 2., 2., 3., 7.],\n",
       "       [3., 1., 1., 5., 6.],\n",
       "       [4., 2., 9., 5., 8.],\n",
       "       [5., 1., 5., 6., 3.]])"
      ]
     },
     "execution_count": 13,
     "metadata": {},
     "output_type": "execute_result"
    }
   ],
   "source": [
    "B = P.dot(L).dot(U)\n",
    "B"
   ]
  },
  {
   "cell_type": "markdown",
   "metadata": {},
   "source": [
    "__2. LU Decomposition__\n",
    "<br> Solve by LU\n",
    "<br> 2a + b + c = 4\n",
    "<br> a + 3b + 2c = 5\n",
    "<br> a = 6\n",
    "<br> Create A_new from P, L, U"
   ]
  },
  {
   "cell_type": "code",
   "execution_count": 23,
   "metadata": {
    "ExecuteTime": {
     "end_time": "2019-10-20T07:30:44.185836Z",
     "start_time": "2019-10-20T07:30:44.179513Z"
    }
   },
   "outputs": [],
   "source": [
    "import scipy.linalg as linalg"
   ]
  },
  {
   "cell_type": "code",
   "execution_count": 21,
   "metadata": {
    "ExecuteTime": {
     "end_time": "2019-10-20T07:30:36.410400Z",
     "start_time": "2019-10-20T07:30:36.401931Z"
    }
   },
   "outputs": [],
   "source": [
    "# define matrix A\n",
    "A = np.array([[2,1,1],[1,3,2],[0,0,6]])\n",
    "# define matrix B\n",
    "B = np.array([4,5,6])"
   ]
  },
  {
   "cell_type": "code",
   "execution_count": 24,
   "metadata": {
    "ExecuteTime": {
     "end_time": "2019-10-20T07:30:46.362482Z",
     "start_time": "2019-10-20T07:30:46.346334Z"
    }
   },
   "outputs": [
    {
     "data": {
      "text/plain": [
       "(array([[2. , 1. , 1. ],\n",
       "        [0.5, 2.5, 1.5],\n",
       "        [0. , 0. , 6. ]]), array([0, 1, 2], dtype=int32))"
      ]
     },
     "execution_count": 24,
     "metadata": {},
     "output_type": "execute_result"
    }
   ],
   "source": [
    "# with LU = A\n",
    "LU = linalg.lu_factor(A)\n",
    "LU"
   ]
  },
  {
   "cell_type": "code",
   "execution_count": 25,
   "metadata": {
    "ExecuteTime": {
     "end_time": "2019-10-20T07:30:49.654317Z",
     "start_time": "2019-10-20T07:30:49.642141Z"
    }
   },
   "outputs": [
    {
     "data": {
      "text/plain": [
       "array([1.2, 0.6, 1. ])"
      ]
     },
     "execution_count": 25,
     "metadata": {},
     "output_type": "execute_result"
    }
   ],
   "source": [
    "# solve given LU and B\n",
    "x = linalg.lu_solve(LU, B)\n",
    "x"
   ]
  },
  {
   "cell_type": "code",
   "execution_count": 26,
   "metadata": {
    "ExecuteTime": {
     "end_time": "2019-10-20T07:30:53.650245Z",
     "start_time": "2019-10-20T07:30:53.644015Z"
    }
   },
   "outputs": [],
   "source": [
    "P, L, U = scipy.linalg.lu(A)"
   ]
  },
  {
   "cell_type": "code",
   "execution_count": 27,
   "metadata": {
    "ExecuteTime": {
     "end_time": "2019-10-20T07:30:55.765722Z",
     "start_time": "2019-10-20T07:30:55.759482Z"
    }
   },
   "outputs": [
    {
     "data": {
      "text/plain": [
       "array([[1., 0., 0.],\n",
       "       [0., 1., 0.],\n",
       "       [0., 0., 1.]])"
      ]
     },
     "execution_count": 27,
     "metadata": {},
     "output_type": "execute_result"
    }
   ],
   "source": [
    "P"
   ]
  },
  {
   "cell_type": "code",
   "execution_count": 32,
   "metadata": {
    "ExecuteTime": {
     "end_time": "2019-10-20T07:32:47.132754Z",
     "start_time": "2019-10-20T07:32:47.124250Z"
    }
   },
   "outputs": [
    {
     "data": {
      "text/plain": [
       "array([[1. , 0. , 0. ],\n",
       "       [0.5, 1. , 0. ],\n",
       "       [0. , 0. , 1. ]])"
      ]
     },
     "execution_count": 32,
     "metadata": {},
     "output_type": "execute_result"
    }
   ],
   "source": [
    "L"
   ]
  },
  {
   "cell_type": "code",
   "execution_count": 29,
   "metadata": {
    "ExecuteTime": {
     "end_time": "2019-10-20T07:30:57.682035Z",
     "start_time": "2019-10-20T07:30:57.670714Z"
    }
   },
   "outputs": [
    {
     "data": {
      "text/plain": [
       "array([[2. , 1. , 1. ],\n",
       "       [0. , 2.5, 1.5],\n",
       "       [0. , 0. , 6. ]])"
      ]
     },
     "execution_count": 29,
     "metadata": {},
     "output_type": "execute_result"
    }
   ],
   "source": [
    "U"
   ]
  },
  {
   "cell_type": "code",
   "execution_count": 30,
   "metadata": {
    "ExecuteTime": {
     "end_time": "2019-10-20T07:30:58.548001Z",
     "start_time": "2019-10-20T07:30:58.537141Z"
    }
   },
   "outputs": [
    {
     "data": {
      "text/plain": [
       "array([[2., 1., 1.],\n",
       "       [1., 3., 2.],\n",
       "       [0., 0., 6.]])"
      ]
     },
     "execution_count": 30,
     "metadata": {},
     "output_type": "execute_result"
    }
   ],
   "source": [
    "A_new = P.dot(L).dot(U)\n",
    "A_new"
   ]
  },
  {
   "cell_type": "code",
   "execution_count": 36,
   "metadata": {
    "ExecuteTime": {
     "end_time": "2019-10-20T07:37:30.370987Z",
     "start_time": "2019-10-20T07:37:30.358955Z"
    }
   },
   "outputs": [
    {
     "data": {
      "text/plain": [
       "array([0.75, 1.7 , 0.45])"
      ]
     },
     "execution_count": 36,
     "metadata": {},
     "output_type": "execute_result"
    }
   ],
   "source": [
    "L_1 = np.linalg.inv(L)\n",
    "U_1 = np.linalg.inv(U)\n",
    "Y = B.dot(L_1)\n",
    "X = Y.dot(U_1)\n",
    "X"
   ]
  },
  {
   "cell_type": "code",
   "execution_count": 37,
   "metadata": {
    "ExecuteTime": {
     "end_time": "2019-10-20T07:38:27.520264Z",
     "start_time": "2019-10-20T07:38:27.507826Z"
    }
   },
   "outputs": [
    {
     "data": {
      "text/plain": [
       "array([1.2, 0.6, 1. ])"
      ]
     },
     "execution_count": 37,
     "metadata": {},
     "output_type": "execute_result"
    }
   ],
   "source": [
    "L_1 = np.linalg.inv(L)\n",
    "U_1 = np.linalg.inv(U)\n",
    "Y = L_1.dot(B)\n",
    "X = U_1.dot(Y)\n",
    "X"
   ]
  },
  {
   "cell_type": "markdown",
   "metadata": {},
   "source": [
    "__3. QR Decoposition__\n",
    "<br> Create C(4,4) with random from 5-10\n",
    "<br> Decoposition QR\n",
    "<br> Create D from Q,R"
   ]
  },
  {
   "cell_type": "code",
   "execution_count": 38,
   "metadata": {
    "ExecuteTime": {
     "end_time": "2019-10-20T07:40:58.645255Z",
     "start_time": "2019-10-20T07:40:58.640475Z"
    }
   },
   "outputs": [],
   "source": [
    "from numpy.linalg import qr"
   ]
  },
  {
   "cell_type": "code",
   "execution_count": 40,
   "metadata": {
    "ExecuteTime": {
     "end_time": "2019-10-20T07:41:32.269686Z",
     "start_time": "2019-10-20T07:41:32.259589Z"
    }
   },
   "outputs": [
    {
     "data": {
      "text/plain": [
       "array([[9, 6, 5, 6],\n",
       "       [5, 7, 9, 5],\n",
       "       [9, 5, 6, 9],\n",
       "       [8, 5, 7, 6]])"
      ]
     },
     "execution_count": 40,
     "metadata": {},
     "output_type": "execute_result"
    }
   ],
   "source": [
    "C = np.random.randint(5,10,(4,4))\n",
    "C"
   ]
  },
  {
   "cell_type": "code",
   "execution_count": 42,
   "metadata": {
    "ExecuteTime": {
     "end_time": "2019-10-20T07:42:17.730518Z",
     "start_time": "2019-10-20T07:42:17.717935Z"
    }
   },
   "outputs": [],
   "source": [
    "Q, R = qr(C, 'complete')"
   ]
  },
  {
   "cell_type": "code",
   "execution_count": 43,
   "metadata": {
    "ExecuteTime": {
     "end_time": "2019-10-20T07:42:22.643798Z",
     "start_time": "2019-10-20T07:42:22.634935Z"
    }
   },
   "outputs": [
    {
     "data": {
      "text/plain": [
       "array([[-0.56807496,  0.06304069,  0.78264791,  0.2465339 ],\n",
       "       [-0.3155972 , -0.93195151, -0.10962933, -0.14087651],\n",
       "       [-0.56807496,  0.3267609 , -0.21011312, -0.72551404],\n",
       "       [-0.50495552,  0.14394291, -0.57558331,  0.62690048]])"
      ]
     },
     "execution_count": 43,
     "metadata": {},
     "output_type": "execute_result"
    }
   ],
   "source": [
    "Q"
   ]
  },
  {
   "cell_type": "code",
   "execution_count": 44,
   "metadata": {
    "ExecuteTime": {
     "end_time": "2019-10-20T07:42:28.914124Z",
     "start_time": "2019-10-20T07:42:28.905153Z"
    }
   },
   "outputs": [
    {
     "data": {
      "text/plain": [
       "array([[-15.84297952, -10.98278261, -12.62388806, -13.12884358],\n",
       "       [  0.        ,  -3.79189742,  -5.10419442,  -0.47700788],\n",
       "       [  0.        ,   0.        ,  -2.3631863 ,  -1.19677711],\n",
       "       [  0.        ,   0.        ,   0.        ,  -1.99340266]])"
      ]
     },
     "execution_count": 44,
     "metadata": {},
     "output_type": "execute_result"
    }
   ],
   "source": [
    "R"
   ]
  },
  {
   "cell_type": "code",
   "execution_count": 45,
   "metadata": {
    "ExecuteTime": {
     "end_time": "2019-10-20T07:42:53.214222Z",
     "start_time": "2019-10-20T07:42:53.205266Z"
    }
   },
   "outputs": [
    {
     "data": {
      "text/plain": [
       "array([[9., 6., 5., 6.],\n",
       "       [5., 7., 9., 5.],\n",
       "       [9., 5., 6., 9.],\n",
       "       [8., 5., 7., 6.]])"
      ]
     },
     "execution_count": 45,
     "metadata": {},
     "output_type": "execute_result"
    }
   ],
   "source": [
    "D = Q.dot(R)\n",
    "D"
   ]
  },
  {
   "cell_type": "markdown",
   "metadata": {},
   "source": [
    "__4. Cholesky Decomposition__\n",
    "<br> Create E(3,3) with random from 3-9\n",
    "<br> Transform E to square matrix which is symmetric thought low triangular matrix\n",
    "<br> If E(i,j) > 0 then E = L.L_T"
   ]
  },
  {
   "cell_type": "code",
   "execution_count": 46,
   "metadata": {
    "ExecuteTime": {
     "end_time": "2019-10-20T11:09:55.242297Z",
     "start_time": "2019-10-20T11:09:55.233322Z"
    }
   },
   "outputs": [
    {
     "data": {
      "text/plain": [
       "array([[7, 5, 6],\n",
       "       [7, 4, 3],\n",
       "       [8, 6, 6]])"
      ]
     },
     "execution_count": 46,
     "metadata": {},
     "output_type": "execute_result"
    }
   ],
   "source": [
    "E = np.random.randint(3,9,(3,3))\n",
    "E"
   ]
  },
  {
   "cell_type": "code",
   "execution_count": 52,
   "metadata": {
    "ExecuteTime": {
     "end_time": "2019-10-20T11:18:35.780226Z",
     "start_time": "2019-10-20T11:18:35.775206Z"
    }
   },
   "outputs": [
    {
     "data": {
      "text/plain": [
       "3"
      ]
     },
     "execution_count": 52,
     "metadata": {},
     "output_type": "execute_result"
    }
   ],
   "source": [
    "E.shape[0]"
   ]
  },
  {
   "cell_type": "code",
   "execution_count": 48,
   "metadata": {
    "ExecuteTime": {
     "end_time": "2019-10-20T11:11:54.088645Z",
     "start_time": "2019-10-20T11:11:54.083637Z"
    }
   },
   "outputs": [
    {
     "data": {
      "text/plain": [
       "array([[7, 7, 8],\n",
       "       [7, 4, 6],\n",
       "       [8, 6, 6]])"
      ]
     },
     "execution_count": 48,
     "metadata": {},
     "output_type": "execute_result"
    }
   ],
   "source": [
    "for i in range(E.shape[0]):\n",
    "    for j in range(i):\n",
    "        E[j][i] = E[i][j]\n",
    "E"
   ]
  },
  {
   "cell_type": "code",
   "execution_count": 49,
   "metadata": {
    "ExecuteTime": {
     "end_time": "2019-10-20T11:13:05.032730Z",
     "start_time": "2019-10-20T11:13:05.015811Z"
    }
   },
   "outputs": [
    {
     "data": {
      "text/plain": [
       "array([-1.80548529, -1.059501  , 19.86498629])"
      ]
     },
     "execution_count": 49,
     "metadata": {},
     "output_type": "execute_result"
    }
   ],
   "source": [
    "test = np.linalg.eigvalsh(E)\n",
    "test"
   ]
  },
  {
   "cell_type": "code",
   "execution_count": 50,
   "metadata": {
    "ExecuteTime": {
     "end_time": "2019-10-20T11:14:29.505581Z",
     "start_time": "2019-10-20T11:14:29.498607Z"
    }
   },
   "outputs": [
    {
     "data": {
      "text/plain": [
       "False"
      ]
     },
     "execution_count": 50,
     "metadata": {},
     "output_type": "execute_result"
    }
   ],
   "source": [
    "flag = np.all(test>0)\n",
    "flag"
   ]
  },
  {
   "cell_type": "code",
   "execution_count": 51,
   "metadata": {
    "ExecuteTime": {
     "end_time": "2019-10-20T11:15:55.077943Z",
     "start_time": "2019-10-20T11:15:55.058995Z"
    }
   },
   "outputs": [
    {
     "name": "stdout",
     "output_type": "stream",
     "text": [
      "E not possitive definite\n"
     ]
    }
   ],
   "source": [
    "from numpy.linalg import cholesky\n",
    "if flag ==True:\n",
    "    L = cholesky(E)\n",
    "    print(L)\n",
    "    F = L.dot(L.T)\n",
    "else:\n",
    "    print('E not possitive definite')"
   ]
  },
  {
   "cell_type": "code",
   "execution_count": 54,
   "metadata": {
    "ExecuteTime": {
     "end_time": "2019-10-20T11:20:46.264308Z",
     "start_time": "2019-10-20T11:20:46.253341Z"
    }
   },
   "outputs": [],
   "source": [
    "def create_matrix_positive_definite(n,start,end):\n",
    "    E = None\n",
    "    flag = False\n",
    "    while flag == False:\n",
    "        E = np.random.randint(start, end, (n,n))\n",
    "        for i in range(E.shape[0]):\n",
    "            for j in range(i):\n",
    "                E[j][i]=E[i][j]\n",
    "        test = np.linalg.eigvalsh(E)\n",
    "        flag = np.all(test>0)\n",
    "    return E"
   ]
  },
  {
   "cell_type": "code",
   "execution_count": 55,
   "metadata": {
    "ExecuteTime": {
     "end_time": "2019-10-20T11:20:56.508213Z",
     "start_time": "2019-10-20T11:20:56.492387Z"
    }
   },
   "outputs": [
    {
     "data": {
      "text/plain": [
       "array([[9, 6, 4, 5],\n",
       "       [6, 6, 5, 4],\n",
       "       [4, 5, 9, 5],\n",
       "       [5, 4, 5, 8]])"
      ]
     },
     "execution_count": 55,
     "metadata": {},
     "output_type": "execute_result"
    }
   ],
   "source": [
    "E = create_matrix_positive_definite(4,4,10)\n",
    "E"
   ]
  },
  {
   "cell_type": "code",
   "execution_count": 57,
   "metadata": {
    "ExecuteTime": {
     "end_time": "2019-10-20T11:21:56.528675Z",
     "start_time": "2019-10-20T11:21:56.516748Z"
    }
   },
   "outputs": [
    {
     "data": {
      "text/plain": [
       "array([[3.        , 0.        , 0.        , 0.        ],\n",
       "       [2.        , 1.41421356, 0.        , 0.        ],\n",
       "       [1.33333333, 1.64991582, 2.12132034, 0.        ],\n",
       "       [1.66666667, 0.47140452, 0.94280904, 2.02758751]])"
      ]
     },
     "execution_count": 57,
     "metadata": {},
     "output_type": "execute_result"
    }
   ],
   "source": [
    "from numpy.linalg import cholesky\n",
    "L = cholesky(E)\n",
    "L"
   ]
  },
  {
   "cell_type": "code",
   "execution_count": 59,
   "metadata": {
    "ExecuteTime": {
     "end_time": "2019-10-20T11:22:18.106333Z",
     "start_time": "2019-10-20T11:22:18.099381Z"
    }
   },
   "outputs": [
    {
     "data": {
      "text/plain": [
       "array([[9., 6., 4., 5.],\n",
       "       [6., 6., 5., 4.],\n",
       "       [4., 5., 9., 5.],\n",
       "       [5., 4., 5., 8.]])"
      ]
     },
     "execution_count": 59,
     "metadata": {},
     "output_type": "execute_result"
    }
   ],
   "source": [
    "F = L.dot(L.T)\n",
    "F"
   ]
  },
  {
   "cell_type": "markdown",
   "metadata": {},
   "source": [
    "# Ex2: Eigendecoposition"
   ]
  },
  {
   "cell_type": "markdown",
   "metadata": {
    "ExecuteTime": {
     "end_time": "2019-10-20T11:32:54.412297Z",
     "start_time": "2019-10-20T11:32:54.399375Z"
    }
   },
   "source": [
    "__1.__\n",
    "<br> Create stochastic matrix A(5x5) from 1-10\n",
    "<br> Find eiganvalues and eiganvectors\n",
    "<br> Reconstruct matrix A"
   ]
  },
  {
   "cell_type": "code",
   "execution_count": 61,
   "metadata": {
    "ExecuteTime": {
     "end_time": "2019-10-20T11:36:08.440345Z",
     "start_time": "2019-10-20T11:36:08.434361Z"
    }
   },
   "outputs": [
    {
     "data": {
      "text/plain": [
       "array([[4, 8, 2, 3, 5],\n",
       "       [4, 5, 1, 5, 4],\n",
       "       [4, 2, 7, 7, 8],\n",
       "       [4, 3, 8, 6, 9],\n",
       "       [7, 3, 3, 9, 5]])"
      ]
     },
     "execution_count": 61,
     "metadata": {},
     "output_type": "execute_result"
    }
   ],
   "source": [
    "A = np.random.randint(1,10,(5,5))\n",
    "A"
   ]
  },
  {
   "cell_type": "code",
   "execution_count": 62,
   "metadata": {
    "ExecuteTime": {
     "end_time": "2019-10-20T11:36:58.981539Z",
     "start_time": "2019-10-20T11:36:58.971603Z"
    }
   },
   "outputs": [],
   "source": [
    "from numpy.linalg import eig, inv\n",
    "values, vectors = eig(A)"
   ]
  },
  {
   "cell_type": "code",
   "execution_count": 63,
   "metadata": {
    "ExecuteTime": {
     "end_time": "2019-10-20T11:37:04.200557Z",
     "start_time": "2019-10-20T11:37:04.193572Z"
    }
   },
   "outputs": [
    {
     "data": {
      "text/plain": [
       "array([25.70671879+0.j        ,  5.41949891+0.j        ,\n",
       "       -3.8980191 +0.j        , -0.1140993 +0.46203318j,\n",
       "       -0.1140993 -0.46203318j])"
      ]
     },
     "execution_count": 63,
     "metadata": {},
     "output_type": "execute_result"
    }
   ],
   "source": [
    "values"
   ]
  },
  {
   "cell_type": "code",
   "execution_count": 64,
   "metadata": {
    "ExecuteTime": {
     "end_time": "2019-10-20T11:37:13.329609Z",
     "start_time": "2019-10-20T11:37:13.321667Z"
    },
    "scrolled": true
   },
   "outputs": [
    {
     "data": {
      "text/plain": [
       "array([[-0.34692107+0.j        , -0.63948581+0.j        ,\n",
       "        -0.37516743+0.j        ,  0.19261328+0.36675251j,\n",
       "         0.19261328-0.36675251j],\n",
       "       [-0.31411579+0.j        , -0.35773692+0.j        ,\n",
       "         0.09332162+0.j        , -0.29619693-0.09574809j,\n",
       "        -0.29619693+0.09574809j],\n",
       "       [-0.51296677+0.j        ,  0.51073718+0.j        ,\n",
       "        -0.15832264+0.j        , -0.48612619+0.0104577j ,\n",
       "        -0.48612619-0.0104577j ],\n",
       "       [-0.54243451+0.j        ,  0.44269174+0.j        ,\n",
       "        -0.46073334+0.j        , -0.24202473-0.22493106j,\n",
       "        -0.24202473+0.22493106j],\n",
       "       [-0.47287095+0.j        , -0.07908072+0.j        ,\n",
       "         0.78307037+0.j        ,  0.62120401+0.j        ,\n",
       "         0.62120401-0.j        ]])"
      ]
     },
     "execution_count": 64,
     "metadata": {},
     "output_type": "execute_result"
    }
   ],
   "source": [
    "vectors"
   ]
  },
  {
   "cell_type": "code",
   "execution_count": 81,
   "metadata": {
    "ExecuteTime": {
     "end_time": "2019-10-20T11:44:37.456865Z",
     "start_time": "2019-10-20T11:44:37.451877Z"
    }
   },
   "outputs": [
    {
     "data": {
      "text/plain": [
       "array([-0.34692107+0.j, -0.31411579+0.j, -0.51296677+0.j, -0.54243451+0.j,\n",
       "       -0.47287095+0.j])"
      ]
     },
     "execution_count": 81,
     "metadata": {},
     "output_type": "execute_result"
    }
   ],
   "source": [
    "vectors[:,0]"
   ]
  },
  {
   "cell_type": "code",
   "execution_count": 82,
   "metadata": {
    "ExecuteTime": {
     "end_time": "2019-10-20T11:44:44.551310Z",
     "start_time": "2019-10-20T11:44:44.547323Z"
    }
   },
   "outputs": [
    {
     "data": {
      "text/plain": [
       "array([-0.34692107+0.j        , -0.63948581+0.j        ,\n",
       "       -0.37516743+0.j        ,  0.19261328+0.36675251j,\n",
       "        0.19261328-0.36675251j])"
      ]
     },
     "execution_count": 82,
     "metadata": {},
     "output_type": "execute_result"
    }
   ],
   "source": [
    "vectors[0]"
   ]
  },
  {
   "cell_type": "code",
   "execution_count": 79,
   "metadata": {
    "ExecuteTime": {
     "end_time": "2019-10-20T11:44:19.851482Z",
     "start_time": "2019-10-20T11:44:19.844470Z"
    }
   },
   "outputs": [
    {
     "data": {
      "text/plain": [
       "array([ -8.91820246+0.j,  -8.07488638+0.j, -13.18669242+0.j,\n",
       "       -13.94421142+0.j, -12.15596054+0.j])"
      ]
     },
     "execution_count": 79,
     "metadata": {},
     "output_type": "execute_result"
    }
   ],
   "source": [
    "# Confirm 1st eigenvalue and vector\n",
    "B = A.dot(vectors[:,0])\n",
    "B"
   ]
  },
  {
   "cell_type": "code",
   "execution_count": 80,
   "metadata": {
    "ExecuteTime": {
     "end_time": "2019-10-20T11:44:29.538030Z",
     "start_time": "2019-10-20T11:44:29.534009Z"
    }
   },
   "outputs": [
    {
     "data": {
      "text/plain": [
       "array([ -8.91820246+0.j,  -8.07488638+0.j, -13.18669242+0.j,\n",
       "       -13.94421142+0.j, -12.15596054+0.j])"
      ]
     },
     "execution_count": 80,
     "metadata": {},
     "output_type": "execute_result"
    }
   ],
   "source": [
    "C = vectors[:,0]*values[0]\n",
    "C"
   ]
  },
  {
   "cell_type": "code",
   "execution_count": 84,
   "metadata": {
    "ExecuteTime": {
     "end_time": "2019-10-20T11:47:23.293379Z",
     "start_time": "2019-10-20T11:47:23.289386Z"
    }
   },
   "outputs": [],
   "source": [
    "from numpy import diag\n",
    "Q = vectors\n",
    "R = inv(Q)\n",
    "L = diag(values)"
   ]
  },
  {
   "cell_type": "code",
   "execution_count": 85,
   "metadata": {
    "ExecuteTime": {
     "end_time": "2019-10-20T11:47:30.372723Z",
     "start_time": "2019-10-20T11:47:30.367728Z"
    }
   },
   "outputs": [
    {
     "data": {
      "text/plain": [
       "array([[-0.41120433-2.06487736e-18j, -0.35303543-1.30252178e-17j,\n",
       "        -0.38081895+1.62697437e-16j, -0.53789921-8.34135960e-17j,\n",
       "        -0.54841175-1.33042731e-17j],\n",
       "       [-0.3141964 +6.01671835e-17j, -1.15590598-9.42036551e-17j,\n",
       "         0.76501459+1.36145886e-16j,  0.01531033-7.90575957e-18j,\n",
       "         0.15090326-3.14423942e-17j],\n",
       "       [-0.51415146+0.00000000e+00j,  0.4858804 +4.53045126e-17j,\n",
       "         0.6547707 -1.81218050e-16j, -1.01471564+9.06090251e-17j,\n",
       "         0.50814803+1.55734262e-17j],\n",
       "       [ 0.14755484-5.54441319e-01j, -0.51418585+6.56159593e-01j,\n",
       "        -0.50894058-1.08902858e+00j,  0.43580497+9.88936319e-01j,\n",
       "         0.28548583+1.78475067e-02j],\n",
       "       [ 0.14755484+5.54441319e-01j, -0.51418585-6.56159593e-01j,\n",
       "        -0.50894058+1.08902858e+00j,  0.43580497-9.88936319e-01j,\n",
       "         0.28548583-1.78475067e-02j]])"
      ]
     },
     "execution_count": 85,
     "metadata": {},
     "output_type": "execute_result"
    }
   ],
   "source": [
    "R"
   ]
  },
  {
   "cell_type": "code",
   "execution_count": 86,
   "metadata": {
    "ExecuteTime": {
     "end_time": "2019-10-20T11:47:37.466443Z",
     "start_time": "2019-10-20T11:47:37.458494Z"
    }
   },
   "outputs": [
    {
     "data": {
      "text/plain": [
       "array([[25.70671879+0.j        ,  0.        +0.j        ,\n",
       "         0.        +0.j        ,  0.        +0.j        ,\n",
       "         0.        +0.j        ],\n",
       "       [ 0.        +0.j        ,  5.41949891+0.j        ,\n",
       "         0.        +0.j        ,  0.        +0.j        ,\n",
       "         0.        +0.j        ],\n",
       "       [ 0.        +0.j        ,  0.        +0.j        ,\n",
       "        -3.8980191 +0.j        ,  0.        +0.j        ,\n",
       "         0.        +0.j        ],\n",
       "       [ 0.        +0.j        ,  0.        +0.j        ,\n",
       "         0.        +0.j        , -0.1140993 +0.46203318j,\n",
       "         0.        +0.j        ],\n",
       "       [ 0.        +0.j        ,  0.        +0.j        ,\n",
       "         0.        +0.j        ,  0.        +0.j        ,\n",
       "        -0.1140993 -0.46203318j]])"
      ]
     },
     "execution_count": 86,
     "metadata": {},
     "output_type": "execute_result"
    }
   ],
   "source": [
    "L"
   ]
  },
  {
   "cell_type": "code",
   "execution_count": 87,
   "metadata": {
    "ExecuteTime": {
     "end_time": "2019-10-20T11:47:59.368797Z",
     "start_time": "2019-10-20T11:47:59.356857Z"
    }
   },
   "outputs": [
    {
     "data": {
      "text/plain": [
       "array([[4.-1.91367093e-16j, 8.+5.11117254e-16j, 2.-2.23322476e-15j,\n",
       "        3.+9.36167037e-16j, 5.+2.56477259e-16j],\n",
       "       [4.-1.15513469e-16j, 5.+2.68561171e-16j, 1.-1.50218073e-15j,\n",
       "        5.+6.47940268e-16j, 4.+1.59465965e-16j],\n",
       "       [4.+1.64735359e-16j, 2.-3.42610363e-17j, 7.-1.89185924e-15j,\n",
       "        7.+1.13841917e-15j, 8.+9.62491626e-17j],\n",
       "       [4.+1.64809740e-16j, 3.+2.96783610e-17j, 8.-2.25700120e-15j,\n",
       "        6.+1.30251227e-15j, 9.+1.32916163e-16j],\n",
       "       [7.+2.87971172e-17j, 3.+3.85039680e-17j, 3.-1.46102025e-15j,\n",
       "        9.+7.20682907e-16j, 5.+1.29323805e-16j]])"
      ]
     },
     "execution_count": 87,
     "metadata": {},
     "output_type": "execute_result"
    }
   ],
   "source": [
    "A_new = Q.dot(L).dot(R)\n",
    "A_new"
   ]
  },
  {
   "cell_type": "code",
   "execution_count": 88,
   "metadata": {
    "ExecuteTime": {
     "end_time": "2019-10-20T11:48:15.214487Z",
     "start_time": "2019-10-20T11:48:15.208500Z"
    }
   },
   "outputs": [
    {
     "data": {
      "text/plain": [
       "array([[4, 8, 2, 3, 5],\n",
       "       [4, 5, 1, 5, 4],\n",
       "       [4, 2, 7, 7, 8],\n",
       "       [4, 3, 8, 6, 9],\n",
       "       [7, 3, 3, 9, 5]])"
      ]
     },
     "execution_count": 88,
     "metadata": {},
     "output_type": "execute_result"
    }
   ],
   "source": [
    "A"
   ]
  },
  {
   "cell_type": "markdown",
   "metadata": {},
   "source": [
    "__2.__\n",
    "<br> Create stochatic matrix P(4x4) from 1-9\n",
    "<br> Create S = P.P_T\n",
    "<br> Find Eigenvalues and Eigenvectors of S"
   ]
  },
  {
   "cell_type": "code",
   "execution_count": 89,
   "metadata": {
    "ExecuteTime": {
     "end_time": "2019-10-20T11:51:21.422739Z",
     "start_time": "2019-10-20T11:51:21.416752Z"
    }
   },
   "outputs": [
    {
     "data": {
      "text/plain": [
       "array([[5, 3, 7, 7],\n",
       "       [5, 4, 3, 3],\n",
       "       [2, 3, 5, 7],\n",
       "       [6, 1, 3, 4]])"
      ]
     },
     "execution_count": 89,
     "metadata": {},
     "output_type": "execute_result"
    }
   ],
   "source": [
    "P = np.random.randint(1,9,(4,4))\n",
    "P"
   ]
  },
  {
   "cell_type": "code",
   "execution_count": 90,
   "metadata": {
    "ExecuteTime": {
     "end_time": "2019-10-20T11:51:37.407966Z",
     "start_time": "2019-10-20T11:51:37.401020Z"
    }
   },
   "outputs": [
    {
     "data": {
      "text/plain": [
       "array([[132,  79, 103,  82],\n",
       "       [ 79,  59,  58,  55],\n",
       "       [103,  58,  87,  58],\n",
       "       [ 82,  55,  58,  62]])"
      ]
     },
     "execution_count": 90,
     "metadata": {},
     "output_type": "execute_result"
    }
   ],
   "source": [
    "S = P @ P.T\n",
    "S"
   ]
  },
  {
   "cell_type": "code",
   "execution_count": 91,
   "metadata": {
    "ExecuteTime": {
     "end_time": "2019-10-20T11:52:21.110170Z",
     "start_time": "2019-10-20T11:52:21.106221Z"
    }
   },
   "outputs": [],
   "source": [
    "from numpy.linalg import eig\n",
    "eigvalues, eigvectors = eig(S)"
   ]
  },
  {
   "cell_type": "code",
   "execution_count": 92,
   "metadata": {
    "ExecuteTime": {
     "end_time": "2019-10-20T11:52:27.046254Z",
     "start_time": "2019-10-20T11:52:27.040270Z"
    }
   },
   "outputs": [
    {
     "data": {
      "text/plain": [
       "array([313.96425756,  19.08187759,   1.22428895,   5.7295759 ])"
      ]
     },
     "execution_count": 92,
     "metadata": {},
     "output_type": "execute_result"
    }
   ],
   "source": [
    "eigvalues"
   ]
  },
  {
   "cell_type": "code",
   "execution_count": 93,
   "metadata": {
    "ExecuteTime": {
     "end_time": "2019-10-20T11:52:38.674851Z",
     "start_time": "2019-10-20T11:52:38.667868Z"
    }
   },
   "outputs": [
    {
     "data": {
      "text/plain": [
       "array([[ 0.6448043 ,  0.18025729, -0.71743965,  0.19239299],\n",
       "       [ 0.40292542, -0.49209802,  0.03172872, -0.77102784],\n",
       "       [ 0.50117181,  0.63323184,  0.57776164, -0.11847255],\n",
       "       [ 0.41316501, -0.56952988,  0.38789834,  0.59536986]])"
      ]
     },
     "execution_count": 93,
     "metadata": {},
     "output_type": "execute_result"
    }
   ],
   "source": [
    "eigvectors"
   ]
  },
  {
   "cell_type": "markdown",
   "metadata": {},
   "source": [
    "# Ex3: SVD"
   ]
  },
  {
   "cell_type": "markdown",
   "metadata": {},
   "source": [
    "__1.__\n",
    "<br> File: ex3.csv. Create dataframe\n",
    "<br> Using SVD = U,s,VT\n",
    "<br> Create new dataframe with comment and components\n",
    "<br> Find error (if any)"
   ]
  },
  {
   "cell_type": "code",
   "execution_count": 95,
   "metadata": {
    "ExecuteTime": {
     "end_time": "2019-10-20T15:48:56.560538Z",
     "start_time": "2019-10-20T15:48:55.742825Z"
    }
   },
   "outputs": [],
   "source": [
    "import pandas as pd\n",
    "import numpy as np"
   ]
  },
  {
   "cell_type": "code",
   "execution_count": 96,
   "metadata": {
    "ExecuteTime": {
     "end_time": "2019-10-20T15:48:59.700624Z",
     "start_time": "2019-10-20T15:48:59.661604Z"
    }
   },
   "outputs": [
    {
     "data": {
      "text/html": [
       "<div>\n",
       "<style scoped>\n",
       "    .dataframe tbody tr th:only-of-type {\n",
       "        vertical-align: middle;\n",
       "    }\n",
       "\n",
       "    .dataframe tbody tr th {\n",
       "        vertical-align: top;\n",
       "    }\n",
       "\n",
       "    .dataframe thead th {\n",
       "        text-align: right;\n",
       "    }\n",
       "</style>\n",
       "<table border=\"1\" class=\"dataframe\">\n",
       "  <thead>\n",
       "    <tr style=\"text-align: right;\">\n",
       "      <th></th>\n",
       "      <th>post1</th>\n",
       "      <th>post2</th>\n",
       "      <th>post3</th>\n",
       "      <th>post4</th>\n",
       "    </tr>\n",
       "    <tr>\n",
       "      <th>word</th>\n",
       "      <th></th>\n",
       "      <th></th>\n",
       "      <th></th>\n",
       "      <th></th>\n",
       "    </tr>\n",
       "  </thead>\n",
       "  <tbody>\n",
       "    <tr>\n",
       "      <th>ice</th>\n",
       "      <td>4</td>\n",
       "      <td>4</td>\n",
       "      <td>6</td>\n",
       "      <td>2</td>\n",
       "    </tr>\n",
       "    <tr>\n",
       "      <th>snow</th>\n",
       "      <td>6</td>\n",
       "      <td>1</td>\n",
       "      <td>0</td>\n",
       "      <td>5</td>\n",
       "    </tr>\n",
       "    <tr>\n",
       "      <th>tahoe</th>\n",
       "      <td>3</td>\n",
       "      <td>0</td>\n",
       "      <td>0</td>\n",
       "      <td>5</td>\n",
       "    </tr>\n",
       "    <tr>\n",
       "      <th>goal</th>\n",
       "      <td>0</td>\n",
       "      <td>6</td>\n",
       "      <td>5</td>\n",
       "      <td>1</td>\n",
       "    </tr>\n",
       "    <tr>\n",
       "      <th>puck</th>\n",
       "      <td>0</td>\n",
       "      <td>4</td>\n",
       "      <td>5</td>\n",
       "      <td>0</td>\n",
       "    </tr>\n",
       "  </tbody>\n",
       "</table>\n",
       "</div>"
      ],
      "text/plain": [
       "       post1  post2  post3  post4\n",
       "word                             \n",
       "ice        4      4      6      2\n",
       "snow       6      1      0      5\n",
       "tahoe      3      0      0      5\n",
       "goal       0      6      5      1\n",
       "puck       0      4      5      0"
      ]
     },
     "execution_count": 96,
     "metadata": {},
     "output_type": "execute_result"
    }
   ],
   "source": [
    "df = pd.read_csv('ex3.csv', index_col = 0)\n",
    "df"
   ]
  },
  {
   "cell_type": "code",
   "execution_count": 97,
   "metadata": {
    "ExecuteTime": {
     "end_time": "2019-10-20T15:49:03.252077Z",
     "start_time": "2019-10-20T15:49:03.246094Z"
    }
   },
   "outputs": [],
   "source": [
    "#Decoposition\n",
    "U, s, VT = np.linalg.svd(df)"
   ]
  },
  {
   "cell_type": "code",
   "execution_count": 98,
   "metadata": {
    "ExecuteTime": {
     "end_time": "2019-10-20T15:49:05.618120Z",
     "start_time": "2019-10-20T15:49:05.613132Z"
    }
   },
   "outputs": [
    {
     "data": {
      "text/plain": [
       "array([[-0.62610079,  0.01852561,  0.6259093 ,  0.23487748, -0.40090488],\n",
       "       [-0.35134826, -0.67829097,  0.0779915 , -0.56006159,  0.311005  ],\n",
       "       [-0.21940528, -0.51980146, -0.50346468,  0.6484906 , -0.08747016],\n",
       "       [-0.51965373,  0.37026259, -0.59046979, -0.38005352, -0.31586445],\n",
       "       [-0.40788911,  0.36371724, -0.00485878,  0.25726028,  0.79695031]])"
      ]
     },
     "execution_count": 98,
     "metadata": {},
     "output_type": "execute_result"
    }
   ],
   "source": [
    "U"
   ]
  },
  {
   "cell_type": "code",
   "execution_count": 99,
   "metadata": {
    "ExecuteTime": {
     "end_time": "2019-10-20T15:49:06.332549Z",
     "start_time": "2019-10-20T15:49:06.327564Z"
    }
   },
   "outputs": [
    {
     "data": {
      "text/plain": [
       "array([13.3221948 ,  9.2609512 ,  2.41918664,  1.37892883])"
      ]
     },
     "execution_count": 99,
     "metadata": {},
     "output_type": "execute_result"
    }
   ],
   "source": [
    "s"
   ]
  },
  {
   "cell_type": "code",
   "execution_count": 100,
   "metadata": {
    "ExecuteTime": {
     "end_time": "2019-10-20T15:49:07.387716Z",
     "start_time": "2019-10-20T15:49:07.383726Z"
    }
   },
   "outputs": [
    {
     "data": {
      "text/plain": [
       "array([[-0.39563365, -0.57086917, -0.6301003 , -0.34721178],\n",
       "       [-0.59983555,  0.33174302,  0.4082791 , -0.60286986],\n",
       "       [ 0.60400142, -0.40535325,  0.32193174, -0.60599586],\n",
       "       [-0.34475152, -0.63225288,  0.57675103,  0.38569539]])"
      ]
     },
     "execution_count": 100,
     "metadata": {},
     "output_type": "execute_result"
    }
   ],
   "source": [
    "VT"
   ]
  },
  {
   "cell_type": "code",
   "execution_count": 101,
   "metadata": {
    "ExecuteTime": {
     "end_time": "2019-10-20T15:49:08.207914Z",
     "start_time": "2019-10-20T15:49:08.202927Z"
    }
   },
   "outputs": [
    {
     "data": {
      "text/plain": [
       "array([13.3221948,  9.2609512])"
      ]
     },
     "execution_count": 101,
     "metadata": {},
     "output_type": "execute_result"
    }
   ],
   "source": [
    "## Choose n=2\n",
    "s[:2]"
   ]
  },
  {
   "cell_type": "code",
   "execution_count": 102,
   "metadata": {
    "ExecuteTime": {
     "end_time": "2019-10-20T15:49:45.961583Z",
     "start_time": "2019-10-20T15:49:45.956592Z"
    }
   },
   "outputs": [
    {
     "data": {
      "text/plain": [
       "matrix([[-0.62610079,  0.01852561],\n",
       "        [-0.35134826, -0.67829097],\n",
       "        [-0.21940528, -0.51980146],\n",
       "        [-0.51965373,  0.37026259],\n",
       "        [-0.40788911,  0.36371724]])"
      ]
     },
     "execution_count": 102,
     "metadata": {},
     "output_type": "execute_result"
    }
   ],
   "source": [
    "np.matrix(U[:,:2])"
   ]
  },
  {
   "cell_type": "code",
   "execution_count": 103,
   "metadata": {
    "ExecuteTime": {
     "end_time": "2019-10-20T15:50:29.847687Z",
     "start_time": "2019-10-20T15:50:29.841706Z"
    }
   },
   "outputs": [
    {
     "data": {
      "text/plain": [
       "matrix([[-0.39563365, -0.57086917, -0.6301003 , -0.34721178],\n",
       "        [-0.59983555,  0.33174302,  0.4082791 , -0.60286986]])"
      ]
     },
     "execution_count": 103,
     "metadata": {},
     "output_type": "execute_result"
    }
   ],
   "source": [
    "np.matrix(VT[:2,:])"
   ]
  },
  {
   "cell_type": "code",
   "execution_count": 104,
   "metadata": {
    "ExecuteTime": {
     "end_time": "2019-10-20T15:52:15.685238Z",
     "start_time": "2019-10-20T15:52:15.678256Z"
    }
   },
   "outputs": [
    {
     "data": {
      "text/plain": [
       "matrix([[ 3.19708412,  4.81855605,  5.32573599,  2.79267497],\n",
       "        [ 5.61979298,  0.58820097,  0.38467542,  5.41220366],\n",
       "        [ 4.04394318,  0.07166455, -0.12363886,  3.91701473],\n",
       "        [ 0.68211703,  5.08962774,  5.76212157,  0.33649133],\n",
       "        [ 0.12939801,  4.21952303,  4.79918534, -0.14394602]])"
      ]
     },
     "execution_count": 104,
     "metadata": {},
     "output_type": "execute_result"
    }
   ],
   "source": [
    "A_approx = np.matrix(U[:,:2])*np.diag(s[:2])*np.matrix(VT[:2,:])\n",
    "A_approx"
   ]
  },
  {
   "cell_type": "code",
   "execution_count": 106,
   "metadata": {
    "ExecuteTime": {
     "end_time": "2019-10-20T15:52:45.923597Z",
     "start_time": "2019-10-20T15:52:45.914660Z"
    }
   },
   "outputs": [
    {
     "data": {
      "text/html": [
       "<div>\n",
       "<style scoped>\n",
       "    .dataframe tbody tr th:only-of-type {\n",
       "        vertical-align: middle;\n",
       "    }\n",
       "\n",
       "    .dataframe tbody tr th {\n",
       "        vertical-align: top;\n",
       "    }\n",
       "\n",
       "    .dataframe thead th {\n",
       "        text-align: right;\n",
       "    }\n",
       "</style>\n",
       "<table border=\"1\" class=\"dataframe\">\n",
       "  <thead>\n",
       "    <tr style=\"text-align: right;\">\n",
       "      <th></th>\n",
       "      <th>post1</th>\n",
       "      <th>post2</th>\n",
       "      <th>post3</th>\n",
       "      <th>post4</th>\n",
       "    </tr>\n",
       "    <tr>\n",
       "      <th>word</th>\n",
       "      <th></th>\n",
       "      <th></th>\n",
       "      <th></th>\n",
       "      <th></th>\n",
       "    </tr>\n",
       "  </thead>\n",
       "  <tbody>\n",
       "    <tr>\n",
       "      <th>ice</th>\n",
       "      <td>4</td>\n",
       "      <td>4</td>\n",
       "      <td>6</td>\n",
       "      <td>2</td>\n",
       "    </tr>\n",
       "    <tr>\n",
       "      <th>snow</th>\n",
       "      <td>6</td>\n",
       "      <td>1</td>\n",
       "      <td>0</td>\n",
       "      <td>5</td>\n",
       "    </tr>\n",
       "    <tr>\n",
       "      <th>tahoe</th>\n",
       "      <td>3</td>\n",
       "      <td>0</td>\n",
       "      <td>0</td>\n",
       "      <td>5</td>\n",
       "    </tr>\n",
       "    <tr>\n",
       "      <th>goal</th>\n",
       "      <td>0</td>\n",
       "      <td>6</td>\n",
       "      <td>5</td>\n",
       "      <td>1</td>\n",
       "    </tr>\n",
       "    <tr>\n",
       "      <th>puck</th>\n",
       "      <td>0</td>\n",
       "      <td>4</td>\n",
       "      <td>5</td>\n",
       "      <td>0</td>\n",
       "    </tr>\n",
       "  </tbody>\n",
       "</table>\n",
       "</div>"
      ],
      "text/plain": [
       "       post1  post2  post3  post4\n",
       "word                             \n",
       "ice        4      4      6      2\n",
       "snow       6      1      0      5\n",
       "tahoe      3      0      0      5\n",
       "goal       0      6      5      1\n",
       "puck       0      4      5      0"
      ]
     },
     "execution_count": 106,
     "metadata": {},
     "output_type": "execute_result"
    }
   ],
   "source": [
    "df"
   ]
  },
  {
   "cell_type": "code",
   "execution_count": 108,
   "metadata": {
    "ExecuteTime": {
     "end_time": "2019-10-20T15:58:46.771210Z",
     "start_time": "2019-10-20T15:58:46.324965Z"
    },
    "scrolled": true
   },
   "outputs": [
    {
     "data": {
      "text/plain": [
       "<matplotlib.colorbar.Colorbar at 0x1caa9d26518>"
      ]
     },
     "execution_count": 108,
     "metadata": {},
     "output_type": "execute_result"
    },
    {
     "data": {
      "image/png": "[encoded data removed]",
      "text/plain": [
       "<Figure size 432x288 with 2 Axes>"
      ]
     },
     "metadata": {},
     "output_type": "display_data"
    }
   ],
   "source": [
    "import matplotlib.pyplot as plt\n",
    "\n",
    "c_names = ['post1','post2','post3','post4']\n",
    "words = ['ice','snow','tahoe','goat','puck']\n",
    "\n",
    "plt.imshow(VT, interpolation='none')\n",
    "plt.xticks(range(len(c_names)))\n",
    "plt.yticks(range(len(words)))\n",
    "plt.ylim([len(words) - 1.5, -.5])\n",
    "\n",
    "ax = plt.gca()\n",
    "ax.set_xticklabels(c_names)\n",
    "ax.set_yticklabels(range(1, len(words) + 1))\n",
    "\n",
    "plt.title('$V$')\n",
    "plt.colorbar()\n",
    "# plt.show()\n"
   ]
  },
  {
   "cell_type": "markdown",
   "metadata": {},
   "source": [
    "__Example: Recontruct matrix__"
   ]
  },
  {
   "cell_type": "code",
   "execution_count": 118,
   "metadata": {
    "ExecuteTime": {
     "end_time": "2019-10-24T13:29:05.999640Z",
     "start_time": "2019-10-24T13:29:05.975569Z"
    }
   },
   "outputs": [
    {
     "data": {
      "text/plain": [
       "array([[1, 2],\n",
       "       [3, 4],\n",
       "       [5, 6]])"
      ]
     },
     "execution_count": 118,
     "metadata": {},
     "output_type": "execute_result"
    }
   ],
   "source": [
    "A = np.array([[1,2],[3,4],[5,6]])\n",
    "A"
   ]
  },
  {
   "cell_type": "code",
   "execution_count": 120,
   "metadata": {
    "ExecuteTime": {
     "end_time": "2019-10-24T13:30:08.735032Z",
     "start_time": "2019-10-24T13:30:08.719752Z"
    }
   },
   "outputs": [],
   "source": [
    "U, s, VT = np.linalg.svd(A)"
   ]
  },
  {
   "cell_type": "code",
   "execution_count": 121,
   "metadata": {
    "ExecuteTime": {
     "end_time": "2019-10-24T13:30:14.139219Z",
     "start_time": "2019-10-24T13:30:14.129724Z"
    }
   },
   "outputs": [
    {
     "data": {
      "text/plain": [
       "array([[-0.2298477 ,  0.88346102,  0.40824829],\n",
       "       [-0.52474482,  0.24078249, -0.81649658],\n",
       "       [-0.81964194, -0.40189603,  0.40824829]])"
      ]
     },
     "execution_count": 121,
     "metadata": {},
     "output_type": "execute_result"
    }
   ],
   "source": [
    "U"
   ]
  },
  {
   "cell_type": "code",
   "execution_count": 122,
   "metadata": {
    "ExecuteTime": {
     "end_time": "2019-10-24T13:30:22.596969Z",
     "start_time": "2019-10-24T13:30:22.588504Z"
    }
   },
   "outputs": [
    {
     "data": {
      "text/plain": [
       "array([9.52551809, 0.51430058])"
      ]
     },
     "execution_count": 122,
     "metadata": {},
     "output_type": "execute_result"
    }
   ],
   "source": [
    "s"
   ]
  },
  {
   "cell_type": "code",
   "execution_count": 123,
   "metadata": {
    "ExecuteTime": {
     "end_time": "2019-10-24T13:30:34.019775Z",
     "start_time": "2019-10-24T13:30:34.011688Z"
    }
   },
   "outputs": [
    {
     "data": {
      "text/plain": [
       "array([[-0.61962948, -0.78489445],\n",
       "       [-0.78489445,  0.61962948]])"
      ]
     },
     "execution_count": 123,
     "metadata": {},
     "output_type": "execute_result"
    }
   ],
   "source": [
    "VT"
   ]
  },
  {
   "cell_type": "code",
   "execution_count": 125,
   "metadata": {
    "ExecuteTime": {
     "end_time": "2019-10-24T13:33:23.818263Z",
     "start_time": "2019-10-24T13:33:23.806265Z"
    }
   },
   "outputs": [
    {
     "data": {
      "text/plain": [
       "array([[0., 0.],\n",
       "       [0., 0.],\n",
       "       [0., 0.]])"
      ]
     },
     "execution_count": 125,
     "metadata": {},
     "output_type": "execute_result"
    }
   ],
   "source": [
    "#Create matrix Sigma (mxn)\n",
    "Sigma = np.zeros((A.shape[0],A.shape[1]))\n",
    "Sigma"
   ]
  },
  {
   "cell_type": "code",
   "execution_count": 126,
   "metadata": {
    "ExecuteTime": {
     "end_time": "2019-10-24T13:35:29.811027Z",
     "start_time": "2019-10-24T13:35:29.800128Z"
    }
   },
   "outputs": [
    {
     "data": {
      "text/plain": [
       "array([[9.52551809, 0.        ],\n",
       "       [0.        , 0.51430058],\n",
       "       [0.        , 0.        ]])"
      ]
     },
     "execution_count": 126,
     "metadata": {},
     "output_type": "execute_result"
    }
   ],
   "source": [
    "# popula Sigma with nxn diagonal matrix\n",
    "Sigma[:A.shape[1],:A.shape[1]] = diag(s)\n",
    "Sigma"
   ]
  },
  {
   "cell_type": "code",
   "execution_count": 127,
   "metadata": {
    "ExecuteTime": {
     "end_time": "2019-10-24T13:36:14.111013Z",
     "start_time": "2019-10-24T13:36:14.098708Z"
    }
   },
   "outputs": [
    {
     "data": {
      "text/plain": [
       "array([[1., 2.],\n",
       "       [3., 4.],\n",
       "       [5., 6.]])"
      ]
     },
     "execution_count": 127,
     "metadata": {},
     "output_type": "execute_result"
    }
   ],
   "source": [
    "# Reconstruct A\n",
    "B = U.dot(Sigma.dot(VT))\n",
    "B"
   ]
  },
  {
   "cell_type": "markdown",
   "metadata": {},
   "source": [
    "__2.__\n",
    "<br> Read 4 columns of iris.csv\n",
    "<br> Decomposition SVD = U,s,VT\n",
    "<br> Create new dataframe with comment and components\n",
    "<br> Find error (if any)\n",
    "<br> Reconstruct DataFrame"
   ]
  },
  {
   "cell_type": "code",
   "execution_count": 109,
   "metadata": {
    "ExecuteTime": {
     "end_time": "2019-10-21T08:53:57.801215Z",
     "start_time": "2019-10-21T08:53:57.725400Z"
    },
    "collapsed": true
   },
   "outputs": [
    {
     "data": {
      "text/html": [
       "<div>\n",
       "<style scoped>\n",
       "    .dataframe tbody tr th:only-of-type {\n",
       "        vertical-align: middle;\n",
       "    }\n",
       "\n",
       "    .dataframe tbody tr th {\n",
       "        vertical-align: top;\n",
       "    }\n",
       "\n",
       "    .dataframe thead th {\n",
       "        text-align: right;\n",
       "    }\n",
       "</style>\n",
       "<table border=\"1\" class=\"dataframe\">\n",
       "  <thead>\n",
       "    <tr style=\"text-align: right;\">\n",
       "      <th></th>\n",
       "      <th>sepal_length</th>\n",
       "      <th>sepal_width</th>\n",
       "      <th>petal_length</th>\n",
       "      <th>petal_width</th>\n",
       "      <th>species</th>\n",
       "    </tr>\n",
       "  </thead>\n",
       "  <tbody>\n",
       "    <tr>\n",
       "      <th>0</th>\n",
       "      <td>5.1</td>\n",
       "      <td>3.5</td>\n",
       "      <td>1.4</td>\n",
       "      <td>0.2</td>\n",
       "      <td>setosa</td>\n",
       "    </tr>\n",
       "    <tr>\n",
       "      <th>1</th>\n",
       "      <td>4.9</td>\n",
       "      <td>3.0</td>\n",
       "      <td>1.4</td>\n",
       "      <td>0.2</td>\n",
       "      <td>setosa</td>\n",
       "    </tr>\n",
       "    <tr>\n",
       "      <th>2</th>\n",
       "      <td>4.7</td>\n",
       "      <td>3.2</td>\n",
       "      <td>1.3</td>\n",
       "      <td>0.2</td>\n",
       "      <td>setosa</td>\n",
       "    </tr>\n",
       "    <tr>\n",
       "      <th>3</th>\n",
       "      <td>4.6</td>\n",
       "      <td>3.1</td>\n",
       "      <td>1.5</td>\n",
       "      <td>0.2</td>\n",
       "      <td>setosa</td>\n",
       "    </tr>\n",
       "    <tr>\n",
       "      <th>4</th>\n",
       "      <td>5.0</td>\n",
       "      <td>3.6</td>\n",
       "      <td>1.4</td>\n",
       "      <td>0.2</td>\n",
       "      <td>setosa</td>\n",
       "    </tr>\n",
       "    <tr>\n",
       "      <th>5</th>\n",
       "      <td>5.4</td>\n",
       "      <td>3.9</td>\n",
       "      <td>1.7</td>\n",
       "      <td>0.4</td>\n",
       "      <td>setosa</td>\n",
       "    </tr>\n",
       "    <tr>\n",
       "      <th>6</th>\n",
       "      <td>4.6</td>\n",
       "      <td>3.4</td>\n",
       "      <td>1.4</td>\n",
       "      <td>0.3</td>\n",
       "      <td>setosa</td>\n",
       "    </tr>\n",
       "    <tr>\n",
       "      <th>7</th>\n",
       "      <td>5.0</td>\n",
       "      <td>3.4</td>\n",
       "      <td>1.5</td>\n",
       "      <td>0.2</td>\n",
       "      <td>setosa</td>\n",
       "    </tr>\n",
       "    <tr>\n",
       "      <th>8</th>\n",
       "      <td>4.4</td>\n",
       "      <td>2.9</td>\n",
       "      <td>1.4</td>\n",
       "      <td>0.2</td>\n",
       "      <td>setosa</td>\n",
       "    </tr>\n",
       "    <tr>\n",
       "      <th>9</th>\n",
       "      <td>4.9</td>\n",
       "      <td>3.1</td>\n",
       "      <td>1.5</td>\n",
       "      <td>0.1</td>\n",
       "      <td>setosa</td>\n",
       "    </tr>\n",
       "    <tr>\n",
       "      <th>10</th>\n",
       "      <td>5.4</td>\n",
       "      <td>3.7</td>\n",
       "      <td>1.5</td>\n",
       "      <td>0.2</td>\n",
       "      <td>setosa</td>\n",
       "    </tr>\n",
       "    <tr>\n",
       "      <th>11</th>\n",
       "      <td>4.8</td>\n",
       "      <td>3.4</td>\n",
       "      <td>1.6</td>\n",
       "      <td>0.2</td>\n",
       "      <td>setosa</td>\n",
       "    </tr>\n",
       "    <tr>\n",
       "      <th>12</th>\n",
       "      <td>4.8</td>\n",
       "      <td>3.0</td>\n",
       "      <td>1.4</td>\n",
       "      <td>0.1</td>\n",
       "      <td>setosa</td>\n",
       "    </tr>\n",
       "    <tr>\n",
       "      <th>13</th>\n",
       "      <td>4.3</td>\n",
       "      <td>3.0</td>\n",
       "      <td>1.1</td>\n",
       "      <td>0.1</td>\n",
       "      <td>setosa</td>\n",
       "    </tr>\n",
       "    <tr>\n",
       "      <th>14</th>\n",
       "      <td>5.8</td>\n",
       "      <td>4.0</td>\n",
       "      <td>1.2</td>\n",
       "      <td>0.2</td>\n",
       "      <td>setosa</td>\n",
       "    </tr>\n",
       "    <tr>\n",
       "      <th>15</th>\n",
       "      <td>5.7</td>\n",
       "      <td>4.4</td>\n",
       "      <td>1.5</td>\n",
       "      <td>0.4</td>\n",
       "      <td>setosa</td>\n",
       "    </tr>\n",
       "    <tr>\n",
       "      <th>16</th>\n",
       "      <td>5.4</td>\n",
       "      <td>3.9</td>\n",
       "      <td>1.3</td>\n",
       "      <td>0.4</td>\n",
       "      <td>setosa</td>\n",
       "    </tr>\n",
       "    <tr>\n",
       "      <th>17</th>\n",
       "      <td>5.1</td>\n",
       "      <td>3.5</td>\n",
       "      <td>1.4</td>\n",
       "      <td>0.3</td>\n",
       "      <td>setosa</td>\n",
       "    </tr>\n",
       "    <tr>\n",
       "      <th>18</th>\n",
       "      <td>5.7</td>\n",
       "      <td>3.8</td>\n",
       "      <td>1.7</td>\n",
       "      <td>0.3</td>\n",
       "      <td>setosa</td>\n",
       "    </tr>\n",
       "    <tr>\n",
       "      <th>19</th>\n",
       "      <td>5.1</td>\n",
       "      <td>3.8</td>\n",
       "      <td>1.5</td>\n",
       "      <td>0.3</td>\n",
       "      <td>setosa</td>\n",
       "    </tr>\n",
       "    <tr>\n",
       "      <th>20</th>\n",
       "      <td>5.4</td>\n",
       "      <td>3.4</td>\n",
       "      <td>1.7</td>\n",
       "      <td>0.2</td>\n",
       "      <td>setosa</td>\n",
       "    </tr>\n",
       "    <tr>\n",
       "      <th>21</th>\n",
       "      <td>5.1</td>\n",
       "      <td>3.7</td>\n",
       "      <td>1.5</td>\n",
       "      <td>0.4</td>\n",
       "      <td>setosa</td>\n",
       "    </tr>\n",
       "    <tr>\n",
       "      <th>22</th>\n",
       "      <td>4.6</td>\n",
       "      <td>3.6</td>\n",
       "      <td>1.0</td>\n",
       "      <td>0.2</td>\n",
       "      <td>setosa</td>\n",
       "    </tr>\n",
       "    <tr>\n",
       "      <th>23</th>\n",
       "      <td>5.1</td>\n",
       "      <td>3.3</td>\n",
       "      <td>1.7</td>\n",
       "      <td>0.5</td>\n",
       "      <td>setosa</td>\n",
       "    </tr>\n",
       "    <tr>\n",
       "      <th>24</th>\n",
       "      <td>4.8</td>\n",
       "      <td>3.4</td>\n",
       "      <td>1.9</td>\n",
       "      <td>0.2</td>\n",
       "      <td>setosa</td>\n",
       "    </tr>\n",
       "    <tr>\n",
       "      <th>25</th>\n",
       "      <td>5.0</td>\n",
       "      <td>3.0</td>\n",
       "      <td>1.6</td>\n",
       "      <td>0.2</td>\n",
       "      <td>setosa</td>\n",
       "    </tr>\n",
       "    <tr>\n",
       "      <th>26</th>\n",
       "      <td>5.0</td>\n",
       "      <td>3.4</td>\n",
       "      <td>1.6</td>\n",
       "      <td>0.4</td>\n",
       "      <td>setosa</td>\n",
       "    </tr>\n",
       "    <tr>\n",
       "      <th>27</th>\n",
       "      <td>5.2</td>\n",
       "      <td>3.5</td>\n",
       "      <td>1.5</td>\n",
       "      <td>0.2</td>\n",
       "      <td>setosa</td>\n",
       "    </tr>\n",
       "    <tr>\n",
       "      <th>28</th>\n",
       "      <td>5.2</td>\n",
       "      <td>3.4</td>\n",
       "      <td>1.4</td>\n",
       "      <td>0.2</td>\n",
       "      <td>setosa</td>\n",
       "    </tr>\n",
       "    <tr>\n",
       "      <th>29</th>\n",
       "      <td>4.7</td>\n",
       "      <td>3.2</td>\n",
       "      <td>1.6</td>\n",
       "      <td>0.2</td>\n",
       "      <td>setosa</td>\n",
       "    </tr>\n",
       "    <tr>\n",
       "      <th>...</th>\n",
       "      <td>...</td>\n",
       "      <td>...</td>\n",
       "      <td>...</td>\n",
       "      <td>...</td>\n",
       "      <td>...</td>\n",
       "    </tr>\n",
       "    <tr>\n",
       "      <th>120</th>\n",
       "      <td>6.9</td>\n",
       "      <td>3.2</td>\n",
       "      <td>5.7</td>\n",
       "      <td>2.3</td>\n",
       "      <td>virginica</td>\n",
       "    </tr>\n",
       "    <tr>\n",
       "      <th>121</th>\n",
       "      <td>5.6</td>\n",
       "      <td>2.8</td>\n",
       "      <td>4.9</td>\n",
       "      <td>2.0</td>\n",
       "      <td>virginica</td>\n",
       "    </tr>\n",
       "    <tr>\n",
       "      <th>122</th>\n",
       "      <td>7.7</td>\n",
       "      <td>2.8</td>\n",
       "      <td>6.7</td>\n",
       "      <td>2.0</td>\n",
       "      <td>virginica</td>\n",
       "    </tr>\n",
       "    <tr>\n",
       "      <th>123</th>\n",
       "      <td>6.3</td>\n",
       "      <td>2.7</td>\n",
       "      <td>4.9</td>\n",
       "      <td>1.8</td>\n",
       "      <td>virginica</td>\n",
       "    </tr>\n",
       "    <tr>\n",
       "      <th>124</th>\n",
       "      <td>6.7</td>\n",
       "      <td>3.3</td>\n",
       "      <td>5.7</td>\n",
       "      <td>2.1</td>\n",
       "      <td>virginica</td>\n",
       "    </tr>\n",
       "    <tr>\n",
       "      <th>125</th>\n",
       "      <td>7.2</td>\n",
       "      <td>3.2</td>\n",
       "      <td>6.0</td>\n",
       "      <td>1.8</td>\n",
       "      <td>virginica</td>\n",
       "    </tr>\n",
       "    <tr>\n",
       "      <th>126</th>\n",
       "      <td>6.2</td>\n",
       "      <td>2.8</td>\n",
       "      <td>4.8</td>\n",
       "      <td>1.8</td>\n",
       "      <td>virginica</td>\n",
       "    </tr>\n",
       "    <tr>\n",
       "      <th>127</th>\n",
       "      <td>6.1</td>\n",
       "      <td>3.0</td>\n",
       "      <td>4.9</td>\n",
       "      <td>1.8</td>\n",
       "      <td>virginica</td>\n",
       "    </tr>\n",
       "    <tr>\n",
       "      <th>128</th>\n",
       "      <td>6.4</td>\n",
       "      <td>2.8</td>\n",
       "      <td>5.6</td>\n",
       "      <td>2.1</td>\n",
       "      <td>virginica</td>\n",
       "    </tr>\n",
       "    <tr>\n",
       "      <th>129</th>\n",
       "      <td>7.2</td>\n",
       "      <td>3.0</td>\n",
       "      <td>5.8</td>\n",
       "      <td>1.6</td>\n",
       "      <td>virginica</td>\n",
       "    </tr>\n",
       "    <tr>\n",
       "      <th>130</th>\n",
       "      <td>7.4</td>\n",
       "      <td>2.8</td>\n",
       "      <td>6.1</td>\n",
       "      <td>1.9</td>\n",
       "      <td>virginica</td>\n",
       "    </tr>\n",
       "    <tr>\n",
       "      <th>131</th>\n",
       "      <td>7.9</td>\n",
       "      <td>3.8</td>\n",
       "      <td>6.4</td>\n",
       "      <td>2.0</td>\n",
       "      <td>virginica</td>\n",
       "    </tr>\n",
       "    <tr>\n",
       "      <th>132</th>\n",
       "      <td>6.4</td>\n",
       "      <td>2.8</td>\n",
       "      <td>5.6</td>\n",
       "      <td>2.2</td>\n",
       "      <td>virginica</td>\n",
       "    </tr>\n",
       "    <tr>\n",
       "      <th>133</th>\n",
       "      <td>6.3</td>\n",
       "      <td>2.8</td>\n",
       "      <td>5.1</td>\n",
       "      <td>1.5</td>\n",
       "      <td>virginica</td>\n",
       "    </tr>\n",
       "    <tr>\n",
       "      <th>134</th>\n",
       "      <td>6.1</td>\n",
       "      <td>2.6</td>\n",
       "      <td>5.6</td>\n",
       "      <td>1.4</td>\n",
       "      <td>virginica</td>\n",
       "    </tr>\n",
       "    <tr>\n",
       "      <th>135</th>\n",
       "      <td>7.7</td>\n",
       "      <td>3.0</td>\n",
       "      <td>6.1</td>\n",
       "      <td>2.3</td>\n",
       "      <td>virginica</td>\n",
       "    </tr>\n",
       "    <tr>\n",
       "      <th>136</th>\n",
       "      <td>6.3</td>\n",
       "      <td>3.4</td>\n",
       "      <td>5.6</td>\n",
       "      <td>2.4</td>\n",
       "      <td>virginica</td>\n",
       "    </tr>\n",
       "    <tr>\n",
       "      <th>137</th>\n",
       "      <td>6.4</td>\n",
       "      <td>3.1</td>\n",
       "      <td>5.5</td>\n",
       "      <td>1.8</td>\n",
       "      <td>virginica</td>\n",
       "    </tr>\n",
       "    <tr>\n",
       "      <th>138</th>\n",
       "      <td>6.0</td>\n",
       "      <td>3.0</td>\n",
       "      <td>4.8</td>\n",
       "      <td>1.8</td>\n",
       "      <td>virginica</td>\n",
       "    </tr>\n",
       "    <tr>\n",
       "      <th>139</th>\n",
       "      <td>6.9</td>\n",
       "      <td>3.1</td>\n",
       "      <td>5.4</td>\n",
       "      <td>2.1</td>\n",
       "      <td>virginica</td>\n",
       "    </tr>\n",
       "    <tr>\n",
       "      <th>140</th>\n",
       "      <td>6.7</td>\n",
       "      <td>3.1</td>\n",
       "      <td>5.6</td>\n",
       "      <td>2.4</td>\n",
       "      <td>virginica</td>\n",
       "    </tr>\n",
       "    <tr>\n",
       "      <th>141</th>\n",
       "      <td>6.9</td>\n",
       "      <td>3.1</td>\n",
       "      <td>5.1</td>\n",
       "      <td>2.3</td>\n",
       "      <td>virginica</td>\n",
       "    </tr>\n",
       "    <tr>\n",
       "      <th>142</th>\n",
       "      <td>5.8</td>\n",
       "      <td>2.7</td>\n",
       "      <td>5.1</td>\n",
       "      <td>1.9</td>\n",
       "      <td>virginica</td>\n",
       "    </tr>\n",
       "    <tr>\n",
       "      <th>143</th>\n",
       "      <td>6.8</td>\n",
       "      <td>3.2</td>\n",
       "      <td>5.9</td>\n",
       "      <td>2.3</td>\n",
       "      <td>virginica</td>\n",
       "    </tr>\n",
       "    <tr>\n",
       "      <th>144</th>\n",
       "      <td>6.7</td>\n",
       "      <td>3.3</td>\n",
       "      <td>5.7</td>\n",
       "      <td>2.5</td>\n",
       "      <td>virginica</td>\n",
       "    </tr>\n",
       "    <tr>\n",
       "      <th>145</th>\n",
       "      <td>6.7</td>\n",
       "      <td>3.0</td>\n",
       "      <td>5.2</td>\n",
       "      <td>2.3</td>\n",
       "      <td>virginica</td>\n",
       "    </tr>\n",
       "    <tr>\n",
       "      <th>146</th>\n",
       "      <td>6.3</td>\n",
       "      <td>2.5</td>\n",
       "      <td>5.0</td>\n",
       "      <td>1.9</td>\n",
       "      <td>virginica</td>\n",
       "    </tr>\n",
       "    <tr>\n",
       "      <th>147</th>\n",
       "      <td>6.5</td>\n",
       "      <td>3.0</td>\n",
       "      <td>5.2</td>\n",
       "      <td>2.0</td>\n",
       "      <td>virginica</td>\n",
       "    </tr>\n",
       "    <tr>\n",
       "      <th>148</th>\n",
       "      <td>6.2</td>\n",
       "      <td>3.4</td>\n",
       "      <td>5.4</td>\n",
       "      <td>2.3</td>\n",
       "      <td>virginica</td>\n",
       "    </tr>\n",
       "    <tr>\n",
       "      <th>149</th>\n",
       "      <td>5.9</td>\n",
       "      <td>3.0</td>\n",
       "      <td>5.1</td>\n",
       "      <td>1.8</td>\n",
       "      <td>virginica</td>\n",
       "    </tr>\n",
       "  </tbody>\n",
       "</table>\n",
       "<p>150 rows × 5 columns</p>\n",
       "</div>"
      ],
      "text/plain": [
       "     sepal_length  sepal_width  petal_length  petal_width    species\n",
       "0             5.1          3.5           1.4          0.2     setosa\n",
       "1             4.9          3.0           1.4          0.2     setosa\n",
       "2             4.7          3.2           1.3          0.2     setosa\n",
       "3             4.6          3.1           1.5          0.2     setosa\n",
       "4             5.0          3.6           1.4          0.2     setosa\n",
       "5             5.4          3.9           1.7          0.4     setosa\n",
       "6             4.6          3.4           1.4          0.3     setosa\n",
       "7             5.0          3.4           1.5          0.2     setosa\n",
       "8             4.4          2.9           1.4          0.2     setosa\n",
       "9             4.9          3.1           1.5          0.1     setosa\n",
       "10            5.4          3.7           1.5          0.2     setosa\n",
       "11            4.8          3.4           1.6          0.2     setosa\n",
       "12            4.8          3.0           1.4          0.1     setosa\n",
       "13            4.3          3.0           1.1          0.1     setosa\n",
       "14            5.8          4.0           1.2          0.2     setosa\n",
       "15            5.7          4.4           1.5          0.4     setosa\n",
       "16            5.4          3.9           1.3          0.4     setosa\n",
       "17            5.1          3.5           1.4          0.3     setosa\n",
       "18            5.7          3.8           1.7          0.3     setosa\n",
       "19            5.1          3.8           1.5          0.3     setosa\n",
       "20            5.4          3.4           1.7          0.2     setosa\n",
       "21            5.1          3.7           1.5          0.4     setosa\n",
       "22            4.6          3.6           1.0          0.2     setosa\n",
       "23            5.1          3.3           1.7          0.5     setosa\n",
       "24            4.8          3.4           1.9          0.2     setosa\n",
       "25            5.0          3.0           1.6          0.2     setosa\n",
       "26            5.0          3.4           1.6          0.4     setosa\n",
       "27            5.2          3.5           1.5          0.2     setosa\n",
       "28            5.2          3.4           1.4          0.2     setosa\n",
       "29            4.7          3.2           1.6          0.2     setosa\n",
       "..            ...          ...           ...          ...        ...\n",
       "120           6.9          3.2           5.7          2.3  virginica\n",
       "121           5.6          2.8           4.9          2.0  virginica\n",
       "122           7.7          2.8           6.7          2.0  virginica\n",
       "123           6.3          2.7           4.9          1.8  virginica\n",
       "124           6.7          3.3           5.7          2.1  virginica\n",
       "125           7.2          3.2           6.0          1.8  virginica\n",
       "126           6.2          2.8           4.8          1.8  virginica\n",
       "127           6.1          3.0           4.9          1.8  virginica\n",
       "128           6.4          2.8           5.6          2.1  virginica\n",
       "129           7.2          3.0           5.8          1.6  virginica\n",
       "130           7.4          2.8           6.1          1.9  virginica\n",
       "131           7.9          3.8           6.4          2.0  virginica\n",
       "132           6.4          2.8           5.6          2.2  virginica\n",
       "133           6.3          2.8           5.1          1.5  virginica\n",
       "134           6.1          2.6           5.6          1.4  virginica\n",
       "135           7.7          3.0           6.1          2.3  virginica\n",
       "136           6.3          3.4           5.6          2.4  virginica\n",
       "137           6.4          3.1           5.5          1.8  virginica\n",
       "138           6.0          3.0           4.8          1.8  virginica\n",
       "139           6.9          3.1           5.4          2.1  virginica\n",
       "140           6.7          3.1           5.6          2.4  virginica\n",
       "141           6.9          3.1           5.1          2.3  virginica\n",
       "142           5.8          2.7           5.1          1.9  virginica\n",
       "143           6.8          3.2           5.9          2.3  virginica\n",
       "144           6.7          3.3           5.7          2.5  virginica\n",
       "145           6.7          3.0           5.2          2.3  virginica\n",
       "146           6.3          2.5           5.0          1.9  virginica\n",
       "147           6.5          3.0           5.2          2.0  virginica\n",
       "148           6.2          3.4           5.4          2.3  virginica\n",
       "149           5.9          3.0           5.1          1.8  virginica\n",
       "\n",
       "[150 rows x 5 columns]"
      ]
     },
     "execution_count": 109,
     "metadata": {},
     "output_type": "execute_result"
    }
   ],
   "source": [
    "iris = pd.read_csv('iris.csv')\n",
    "iris"
   ]
  },
  {
   "cell_type": "code",
   "execution_count": 133,
   "metadata": {
    "ExecuteTime": {
     "end_time": "2019-10-24T13:41:37.341632Z",
     "start_time": "2019-10-24T13:41:37.304622Z"
    },
    "collapsed": true
   },
   "outputs": [
    {
     "data": {
      "text/html": [
       "<div>\n",
       "<style scoped>\n",
       "    .dataframe tbody tr th:only-of-type {\n",
       "        vertical-align: middle;\n",
       "    }\n",
       "\n",
       "    .dataframe tbody tr th {\n",
       "        vertical-align: top;\n",
       "    }\n",
       "\n",
       "    .dataframe thead th {\n",
       "        text-align: right;\n",
       "    }\n",
       "</style>\n",
       "<table border=\"1\" class=\"dataframe\">\n",
       "  <thead>\n",
       "    <tr style=\"text-align: right;\">\n",
       "      <th></th>\n",
       "      <th>sepal_length</th>\n",
       "      <th>sepal_width</th>\n",
       "      <th>petal_length</th>\n",
       "      <th>petal_width</th>\n",
       "    </tr>\n",
       "  </thead>\n",
       "  <tbody>\n",
       "    <tr>\n",
       "      <th>0</th>\n",
       "      <td>5.1</td>\n",
       "      <td>3.5</td>\n",
       "      <td>1.4</td>\n",
       "      <td>0.2</td>\n",
       "    </tr>\n",
       "    <tr>\n",
       "      <th>1</th>\n",
       "      <td>4.9</td>\n",
       "      <td>3.0</td>\n",
       "      <td>1.4</td>\n",
       "      <td>0.2</td>\n",
       "    </tr>\n",
       "    <tr>\n",
       "      <th>2</th>\n",
       "      <td>4.7</td>\n",
       "      <td>3.2</td>\n",
       "      <td>1.3</td>\n",
       "      <td>0.2</td>\n",
       "    </tr>\n",
       "    <tr>\n",
       "      <th>3</th>\n",
       "      <td>4.6</td>\n",
       "      <td>3.1</td>\n",
       "      <td>1.5</td>\n",
       "      <td>0.2</td>\n",
       "    </tr>\n",
       "    <tr>\n",
       "      <th>4</th>\n",
       "      <td>5.0</td>\n",
       "      <td>3.6</td>\n",
       "      <td>1.4</td>\n",
       "      <td>0.2</td>\n",
       "    </tr>\n",
       "    <tr>\n",
       "      <th>5</th>\n",
       "      <td>5.4</td>\n",
       "      <td>3.9</td>\n",
       "      <td>1.7</td>\n",
       "      <td>0.4</td>\n",
       "    </tr>\n",
       "    <tr>\n",
       "      <th>6</th>\n",
       "      <td>4.6</td>\n",
       "      <td>3.4</td>\n",
       "      <td>1.4</td>\n",
       "      <td>0.3</td>\n",
       "    </tr>\n",
       "    <tr>\n",
       "      <th>7</th>\n",
       "      <td>5.0</td>\n",
       "      <td>3.4</td>\n",
       "      <td>1.5</td>\n",
       "      <td>0.2</td>\n",
       "    </tr>\n",
       "    <tr>\n",
       "      <th>8</th>\n",
       "      <td>4.4</td>\n",
       "      <td>2.9</td>\n",
       "      <td>1.4</td>\n",
       "      <td>0.2</td>\n",
       "    </tr>\n",
       "    <tr>\n",
       "      <th>9</th>\n",
       "      <td>4.9</td>\n",
       "      <td>3.1</td>\n",
       "      <td>1.5</td>\n",
       "      <td>0.1</td>\n",
       "    </tr>\n",
       "    <tr>\n",
       "      <th>10</th>\n",
       "      <td>5.4</td>\n",
       "      <td>3.7</td>\n",
       "      <td>1.5</td>\n",
       "      <td>0.2</td>\n",
       "    </tr>\n",
       "    <tr>\n",
       "      <th>11</th>\n",
       "      <td>4.8</td>\n",
       "      <td>3.4</td>\n",
       "      <td>1.6</td>\n",
       "      <td>0.2</td>\n",
       "    </tr>\n",
       "    <tr>\n",
       "      <th>12</th>\n",
       "      <td>4.8</td>\n",
       "      <td>3.0</td>\n",
       "      <td>1.4</td>\n",
       "      <td>0.1</td>\n",
       "    </tr>\n",
       "    <tr>\n",
       "      <th>13</th>\n",
       "      <td>4.3</td>\n",
       "      <td>3.0</td>\n",
       "      <td>1.1</td>\n",
       "      <td>0.1</td>\n",
       "    </tr>\n",
       "    <tr>\n",
       "      <th>14</th>\n",
       "      <td>5.8</td>\n",
       "      <td>4.0</td>\n",
       "      <td>1.2</td>\n",
       "      <td>0.2</td>\n",
       "    </tr>\n",
       "    <tr>\n",
       "      <th>15</th>\n",
       "      <td>5.7</td>\n",
       "      <td>4.4</td>\n",
       "      <td>1.5</td>\n",
       "      <td>0.4</td>\n",
       "    </tr>\n",
       "    <tr>\n",
       "      <th>16</th>\n",
       "      <td>5.4</td>\n",
       "      <td>3.9</td>\n",
       "      <td>1.3</td>\n",
       "      <td>0.4</td>\n",
       "    </tr>\n",
       "    <tr>\n",
       "      <th>17</th>\n",
       "      <td>5.1</td>\n",
       "      <td>3.5</td>\n",
       "      <td>1.4</td>\n",
       "      <td>0.3</td>\n",
       "    </tr>\n",
       "    <tr>\n",
       "      <th>18</th>\n",
       "      <td>5.7</td>\n",
       "      <td>3.8</td>\n",
       "      <td>1.7</td>\n",
       "      <td>0.3</td>\n",
       "    </tr>\n",
       "    <tr>\n",
       "      <th>19</th>\n",
       "      <td>5.1</td>\n",
       "      <td>3.8</td>\n",
       "      <td>1.5</td>\n",
       "      <td>0.3</td>\n",
       "    </tr>\n",
       "    <tr>\n",
       "      <th>20</th>\n",
       "      <td>5.4</td>\n",
       "      <td>3.4</td>\n",
       "      <td>1.7</td>\n",
       "      <td>0.2</td>\n",
       "    </tr>\n",
       "    <tr>\n",
       "      <th>21</th>\n",
       "      <td>5.1</td>\n",
       "      <td>3.7</td>\n",
       "      <td>1.5</td>\n",
       "      <td>0.4</td>\n",
       "    </tr>\n",
       "    <tr>\n",
       "      <th>22</th>\n",
       "      <td>4.6</td>\n",
       "      <td>3.6</td>\n",
       "      <td>1.0</td>\n",
       "      <td>0.2</td>\n",
       "    </tr>\n",
       "    <tr>\n",
       "      <th>23</th>\n",
       "      <td>5.1</td>\n",
       "      <td>3.3</td>\n",
       "      <td>1.7</td>\n",
       "      <td>0.5</td>\n",
       "    </tr>\n",
       "    <tr>\n",
       "      <th>24</th>\n",
       "      <td>4.8</td>\n",
       "      <td>3.4</td>\n",
       "      <td>1.9</td>\n",
       "      <td>0.2</td>\n",
       "    </tr>\n",
       "    <tr>\n",
       "      <th>25</th>\n",
       "      <td>5.0</td>\n",
       "      <td>3.0</td>\n",
       "      <td>1.6</td>\n",
       "      <td>0.2</td>\n",
       "    </tr>\n",
       "    <tr>\n",
       "      <th>26</th>\n",
       "      <td>5.0</td>\n",
       "      <td>3.4</td>\n",
       "      <td>1.6</td>\n",
       "      <td>0.4</td>\n",
       "    </tr>\n",
       "    <tr>\n",
       "      <th>27</th>\n",
       "      <td>5.2</td>\n",
       "      <td>3.5</td>\n",
       "      <td>1.5</td>\n",
       "      <td>0.2</td>\n",
       "    </tr>\n",
       "    <tr>\n",
       "      <th>28</th>\n",
       "      <td>5.2</td>\n",
       "      <td>3.4</td>\n",
       "      <td>1.4</td>\n",
       "      <td>0.2</td>\n",
       "    </tr>\n",
       "    <tr>\n",
       "      <th>29</th>\n",
       "      <td>4.7</td>\n",
       "      <td>3.2</td>\n",
       "      <td>1.6</td>\n",
       "      <td>0.2</td>\n",
       "    </tr>\n",
       "    <tr>\n",
       "      <th>...</th>\n",
       "      <td>...</td>\n",
       "      <td>...</td>\n",
       "      <td>...</td>\n",
       "      <td>...</td>\n",
       "    </tr>\n",
       "    <tr>\n",
       "      <th>120</th>\n",
       "      <td>6.9</td>\n",
       "      <td>3.2</td>\n",
       "      <td>5.7</td>\n",
       "      <td>2.3</td>\n",
       "    </tr>\n",
       "    <tr>\n",
       "      <th>121</th>\n",
       "      <td>5.6</td>\n",
       "      <td>2.8</td>\n",
       "      <td>4.9</td>\n",
       "      <td>2.0</td>\n",
       "    </tr>\n",
       "    <tr>\n",
       "      <th>122</th>\n",
       "      <td>7.7</td>\n",
       "      <td>2.8</td>\n",
       "      <td>6.7</td>\n",
       "      <td>2.0</td>\n",
       "    </tr>\n",
       "    <tr>\n",
       "      <th>123</th>\n",
       "      <td>6.3</td>\n",
       "      <td>2.7</td>\n",
       "      <td>4.9</td>\n",
       "      <td>1.8</td>\n",
       "    </tr>\n",
       "    <tr>\n",
       "      <th>124</th>\n",
       "      <td>6.7</td>\n",
       "      <td>3.3</td>\n",
       "      <td>5.7</td>\n",
       "      <td>2.1</td>\n",
       "    </tr>\n",
       "    <tr>\n",
       "      <th>125</th>\n",
       "      <td>7.2</td>\n",
       "      <td>3.2</td>\n",
       "      <td>6.0</td>\n",
       "      <td>1.8</td>\n",
       "    </tr>\n",
       "    <tr>\n",
       "      <th>126</th>\n",
       "      <td>6.2</td>\n",
       "      <td>2.8</td>\n",
       "      <td>4.8</td>\n",
       "      <td>1.8</td>\n",
       "    </tr>\n",
       "    <tr>\n",
       "      <th>127</th>\n",
       "      <td>6.1</td>\n",
       "      <td>3.0</td>\n",
       "      <td>4.9</td>\n",
       "      <td>1.8</td>\n",
       "    </tr>\n",
       "    <tr>\n",
       "      <th>128</th>\n",
       "      <td>6.4</td>\n",
       "      <td>2.8</td>\n",
       "      <td>5.6</td>\n",
       "      <td>2.1</td>\n",
       "    </tr>\n",
       "    <tr>\n",
       "      <th>129</th>\n",
       "      <td>7.2</td>\n",
       "      <td>3.0</td>\n",
       "      <td>5.8</td>\n",
       "      <td>1.6</td>\n",
       "    </tr>\n",
       "    <tr>\n",
       "      <th>130</th>\n",
       "      <td>7.4</td>\n",
       "      <td>2.8</td>\n",
       "      <td>6.1</td>\n",
       "      <td>1.9</td>\n",
       "    </tr>\n",
       "    <tr>\n",
       "      <th>131</th>\n",
       "      <td>7.9</td>\n",
       "      <td>3.8</td>\n",
       "      <td>6.4</td>\n",
       "      <td>2.0</td>\n",
       "    </tr>\n",
       "    <tr>\n",
       "      <th>132</th>\n",
       "      <td>6.4</td>\n",
       "      <td>2.8</td>\n",
       "      <td>5.6</td>\n",
       "      <td>2.2</td>\n",
       "    </tr>\n",
       "    <tr>\n",
       "      <th>133</th>\n",
       "      <td>6.3</td>\n",
       "      <td>2.8</td>\n",
       "      <td>5.1</td>\n",
       "      <td>1.5</td>\n",
       "    </tr>\n",
       "    <tr>\n",
       "      <th>134</th>\n",
       "      <td>6.1</td>\n",
       "      <td>2.6</td>\n",
       "      <td>5.6</td>\n",
       "      <td>1.4</td>\n",
       "    </tr>\n",
       "    <tr>\n",
       "      <th>135</th>\n",
       "      <td>7.7</td>\n",
       "      <td>3.0</td>\n",
       "      <td>6.1</td>\n",
       "      <td>2.3</td>\n",
       "    </tr>\n",
       "    <tr>\n",
       "      <th>136</th>\n",
       "      <td>6.3</td>\n",
       "      <td>3.4</td>\n",
       "      <td>5.6</td>\n",
       "      <td>2.4</td>\n",
       "    </tr>\n",
       "    <tr>\n",
       "      <th>137</th>\n",
       "      <td>6.4</td>\n",
       "      <td>3.1</td>\n",
       "      <td>5.5</td>\n",
       "      <td>1.8</td>\n",
       "    </tr>\n",
       "    <tr>\n",
       "      <th>138</th>\n",
       "      <td>6.0</td>\n",
       "      <td>3.0</td>\n",
       "      <td>4.8</td>\n",
       "      <td>1.8</td>\n",
       "    </tr>\n",
       "    <tr>\n",
       "      <th>139</th>\n",
       "      <td>6.9</td>\n",
       "      <td>3.1</td>\n",
       "      <td>5.4</td>\n",
       "      <td>2.1</td>\n",
       "    </tr>\n",
       "    <tr>\n",
       "      <th>140</th>\n",
       "      <td>6.7</td>\n",
       "      <td>3.1</td>\n",
       "      <td>5.6</td>\n",
       "      <td>2.4</td>\n",
       "    </tr>\n",
       "    <tr>\n",
       "      <th>141</th>\n",
       "      <td>6.9</td>\n",
       "      <td>3.1</td>\n",
       "      <td>5.1</td>\n",
       "      <td>2.3</td>\n",
       "    </tr>\n",
       "    <tr>\n",
       "      <th>142</th>\n",
       "      <td>5.8</td>\n",
       "      <td>2.7</td>\n",
       "      <td>5.1</td>\n",
       "      <td>1.9</td>\n",
       "    </tr>\n",
       "    <tr>\n",
       "      <th>143</th>\n",
       "      <td>6.8</td>\n",
       "      <td>3.2</td>\n",
       "      <td>5.9</td>\n",
       "      <td>2.3</td>\n",
       "    </tr>\n",
       "    <tr>\n",
       "      <th>144</th>\n",
       "      <td>6.7</td>\n",
       "      <td>3.3</td>\n",
       "      <td>5.7</td>\n",
       "      <td>2.5</td>\n",
       "    </tr>\n",
       "    <tr>\n",
       "      <th>145</th>\n",
       "      <td>6.7</td>\n",
       "      <td>3.0</td>\n",
       "      <td>5.2</td>\n",
       "      <td>2.3</td>\n",
       "    </tr>\n",
       "    <tr>\n",
       "      <th>146</th>\n",
       "      <td>6.3</td>\n",
       "      <td>2.5</td>\n",
       "      <td>5.0</td>\n",
       "      <td>1.9</td>\n",
       "    </tr>\n",
       "    <tr>\n",
       "      <th>147</th>\n",
       "      <td>6.5</td>\n",
       "      <td>3.0</td>\n",
       "      <td>5.2</td>\n",
       "      <td>2.0</td>\n",
       "    </tr>\n",
       "    <tr>\n",
       "      <th>148</th>\n",
       "      <td>6.2</td>\n",
       "      <td>3.4</td>\n",
       "      <td>5.4</td>\n",
       "      <td>2.3</td>\n",
       "    </tr>\n",
       "    <tr>\n",
       "      <th>149</th>\n",
       "      <td>5.9</td>\n",
       "      <td>3.0</td>\n",
       "      <td>5.1</td>\n",
       "      <td>1.8</td>\n",
       "    </tr>\n",
       "  </tbody>\n",
       "</table>\n",
       "<p>150 rows × 4 columns</p>\n",
       "</div>"
      ],
      "text/plain": [
       "     sepal_length  sepal_width  petal_length  petal_width\n",
       "0             5.1          3.5           1.4          0.2\n",
       "1             4.9          3.0           1.4          0.2\n",
       "2             4.7          3.2           1.3          0.2\n",
       "3             4.6          3.1           1.5          0.2\n",
       "4             5.0          3.6           1.4          0.2\n",
       "5             5.4          3.9           1.7          0.4\n",
       "6             4.6          3.4           1.4          0.3\n",
       "7             5.0          3.4           1.5          0.2\n",
       "8             4.4          2.9           1.4          0.2\n",
       "9             4.9          3.1           1.5          0.1\n",
       "10            5.4          3.7           1.5          0.2\n",
       "11            4.8          3.4           1.6          0.2\n",
       "12            4.8          3.0           1.4          0.1\n",
       "13            4.3          3.0           1.1          0.1\n",
       "14            5.8          4.0           1.2          0.2\n",
       "15            5.7          4.4           1.5          0.4\n",
       "16            5.4          3.9           1.3          0.4\n",
       "17            5.1          3.5           1.4          0.3\n",
       "18            5.7          3.8           1.7          0.3\n",
       "19            5.1          3.8           1.5          0.3\n",
       "20            5.4          3.4           1.7          0.2\n",
       "21            5.1          3.7           1.5          0.4\n",
       "22            4.6          3.6           1.0          0.2\n",
       "23            5.1          3.3           1.7          0.5\n",
       "24            4.8          3.4           1.9          0.2\n",
       "25            5.0          3.0           1.6          0.2\n",
       "26            5.0          3.4           1.6          0.4\n",
       "27            5.2          3.5           1.5          0.2\n",
       "28            5.2          3.4           1.4          0.2\n",
       "29            4.7          3.2           1.6          0.2\n",
       "..            ...          ...           ...          ...\n",
       "120           6.9          3.2           5.7          2.3\n",
       "121           5.6          2.8           4.9          2.0\n",
       "122           7.7          2.8           6.7          2.0\n",
       "123           6.3          2.7           4.9          1.8\n",
       "124           6.7          3.3           5.7          2.1\n",
       "125           7.2          3.2           6.0          1.8\n",
       "126           6.2          2.8           4.8          1.8\n",
       "127           6.1          3.0           4.9          1.8\n",
       "128           6.4          2.8           5.6          2.1\n",
       "129           7.2          3.0           5.8          1.6\n",
       "130           7.4          2.8           6.1          1.9\n",
       "131           7.9          3.8           6.4          2.0\n",
       "132           6.4          2.8           5.6          2.2\n",
       "133           6.3          2.8           5.1          1.5\n",
       "134           6.1          2.6           5.6          1.4\n",
       "135           7.7          3.0           6.1          2.3\n",
       "136           6.3          3.4           5.6          2.4\n",
       "137           6.4          3.1           5.5          1.8\n",
       "138           6.0          3.0           4.8          1.8\n",
       "139           6.9          3.1           5.4          2.1\n",
       "140           6.7          3.1           5.6          2.4\n",
       "141           6.9          3.1           5.1          2.3\n",
       "142           5.8          2.7           5.1          1.9\n",
       "143           6.8          3.2           5.9          2.3\n",
       "144           6.7          3.3           5.7          2.5\n",
       "145           6.7          3.0           5.2          2.3\n",
       "146           6.3          2.5           5.0          1.9\n",
       "147           6.5          3.0           5.2          2.0\n",
       "148           6.2          3.4           5.4          2.3\n",
       "149           5.9          3.0           5.1          1.8\n",
       "\n",
       "[150 rows x 4 columns]"
      ]
     },
     "execution_count": 133,
     "metadata": {},
     "output_type": "execute_result"
    }
   ],
   "source": [
    "X = iris[['sepal_length','sepal_width','petal_length','petal_width']]\n",
    "X"
   ]
  },
  {
   "cell_type": "code",
   "execution_count": 134,
   "metadata": {
    "ExecuteTime": {
     "end_time": "2019-10-24T13:41:44.526073Z",
     "start_time": "2019-10-24T13:41:44.514042Z"
    }
   },
   "outputs": [],
   "source": [
    "U, s, VT = np.linalg.svd(X)"
   ]
  },
  {
   "cell_type": "code",
   "execution_count": 135,
   "metadata": {
    "ExecuteTime": {
     "end_time": "2019-10-24T13:41:45.363113Z",
     "start_time": "2019-10-24T13:41:45.355066Z"
    }
   },
   "outputs": [
    {
     "data": {
      "text/plain": [
       "array([[-6.16171172e-02,  1.29969428e-01, -5.58364155e-05, ...,\n",
       "        -9.34637342e-02, -9.60224157e-02, -8.09922905e-02],\n",
       "       [-5.80722977e-02,  1.11371452e-01,  6.84386629e-02, ...,\n",
       "         3.66755322e-02, -3.24463474e-02,  1.27273399e-02],\n",
       "       [-5.67633852e-02,  1.18294769e-01,  2.31062793e-03, ...,\n",
       "         3.08252776e-02,  1.95234663e-01,  1.35567696e-01],\n",
       "       ...,\n",
       "       [-9.40702260e-02, -4.98348018e-02, -4.14958083e-02, ...,\n",
       "         9.81822841e-01, -2.17978813e-02, -8.85972146e-03],\n",
       "       [-9.48993908e-02, -5.62107520e-02, -2.12386574e-01, ...,\n",
       "        -2.14264126e-02,  9.42038920e-01, -2.96933496e-02],\n",
       "       [-8.84882764e-02, -5.16210172e-02, -9.51442925e-02, ...,\n",
       "        -8.52768485e-03, -3.02139863e-02,  9.73577349e-01]])"
      ]
     },
     "execution_count": 135,
     "metadata": {},
     "output_type": "execute_result"
    }
   ],
   "source": [
    "U"
   ]
  },
  {
   "cell_type": "code",
   "execution_count": 136,
   "metadata": {
    "ExecuteTime": {
     "end_time": "2019-10-24T13:41:46.714073Z",
     "start_time": "2019-10-24T13:41:46.705422Z"
    }
   },
   "outputs": [
    {
     "data": {
      "text/plain": [
       "array([95.95066751, 17.72295328,  3.46929666,  1.87891236])"
      ]
     },
     "execution_count": 136,
     "metadata": {},
     "output_type": "execute_result"
    }
   ],
   "source": [
    "s"
   ]
  },
  {
   "cell_type": "code",
   "execution_count": 137,
   "metadata": {
    "ExecuteTime": {
     "end_time": "2019-10-24T13:41:49.133158Z",
     "start_time": "2019-10-24T13:41:49.120663Z"
    }
   },
   "outputs": [
    {
     "data": {
      "text/plain": [
       "array([[-0.75116805, -0.37978837, -0.51315094, -0.16787934],\n",
       "       [ 0.28583096,  0.54488976, -0.70889874, -0.34475845],\n",
       "       [ 0.49942378, -0.67502499, -0.05471983, -0.54029889],\n",
       "       [ 0.32345496, -0.32124324, -0.48077482,  0.74902286]])"
      ]
     },
     "execution_count": 137,
     "metadata": {},
     "output_type": "execute_result"
    }
   ],
   "source": [
    "VT"
   ]
  },
  {
   "cell_type": "code",
   "execution_count": 138,
   "metadata": {
    "ExecuteTime": {
     "end_time": "2019-10-24T13:41:49.666423Z",
     "start_time": "2019-10-24T13:41:49.658982Z"
    }
   },
   "outputs": [
    {
     "data": {
      "text/plain": [
       "array([95.95066751, 17.72295328])"
      ]
     },
     "execution_count": 138,
     "metadata": {},
     "output_type": "execute_result"
    }
   ],
   "source": [
    "# Choose n=2\n",
    "s[:2]"
   ]
  },
  {
   "cell_type": "code",
   "execution_count": 139,
   "metadata": {
    "ExecuteTime": {
     "end_time": "2019-10-24T13:41:51.000044Z",
     "start_time": "2019-10-24T13:41:50.969869Z"
    },
    "collapsed": true
   },
   "outputs": [
    {
     "data": {
      "text/plain": [
       "matrix([[5.09945346, 3.50050812, 1.40094556, 0.19840569],\n",
       "        [4.74974728, 3.19172985, 1.46006954, 0.25494146],\n",
       "        [4.69047924, 3.2108907 , 1.30863935, 0.1915549 ],\n",
       "        [4.61834831, 3.08439659, 1.46266616, 0.26731753],\n",
       "        [5.07896131, 3.5005194 , 1.36352353, 0.18323972],\n",
       "        [5.5300156 , 3.7270409 , 1.67511126, 0.28560814],\n",
       "        [4.73513024, 3.22346842, 1.36171979, 0.21173807],\n",
       "        [5.0090388 , 3.3931523 , 1.47838624, 0.24111369],\n",
       "        [4.38266777, 2.92709982, 1.38778914, 0.25356965],\n",
       "        [4.80937785, 3.22911564, 1.48446275, 0.26088223],\n",
       "        [5.39972928, 3.70190802, 1.49410632, 0.21490986],\n",
       "        [4.89813198, 3.28580776, 1.5184049 , 0.26865573],\n",
       "        [4.68239571, 3.1600364 , 1.40873117, 0.23748098],\n",
       "        [4.3045681 , 2.99693565, 1.08755409, 0.12453562],\n",
       "        [5.73556855, 4.0680786 , 1.28006801, 0.08954214],\n",
       "        [5.90774958, 4.11819888, 1.48109876, 0.16571941],\n",
       "        [5.45688065, 3.80359406, 1.36876673, 0.15338963],\n",
       "        [5.10220976, 3.48809845, 1.43400019, 0.21310987],\n",
       "        [5.67694201, 3.82764554, 1.71604614, 0.29158251],\n",
       "        [5.25280287, 3.60130338, 1.45317145, 0.20893548],\n",
       "        [5.30398738, 3.53128822, 1.70469346, 0.31824813],\n",
       "        [5.21145604, 3.5447793 , 1.50536436, 0.23604934],\n",
       "        [4.74744524, 3.40066007, 0.98404405, 0.03999603],\n",
       "        [5.07436731, 3.31763542, 1.76814442, 0.36650147],\n",
       "        [4.95298319, 3.22839289, 1.74816329, 0.36781961],\n",
       "        [4.85091003, 3.19755639, 1.63152554, 0.32380701],\n",
       "        [5.03283513, 3.34919467, 1.62108163, 0.30357669],\n",
       "        [5.18233248, 3.52547296, 1.49581543, 0.23421661],\n",
       "        [5.11994561, 3.50049684, 1.43836759, 0.21357166],\n",
       "        [4.74533045, 3.15347583, 1.53839774, 0.29071878],\n",
       "        [4.7658226 , 3.15346455, 1.57581977, 0.30588474],\n",
       "        [5.2729325 , 3.54474546, 1.61763045, 0.28154725],\n",
       "        [5.44419493, 3.80256906, 1.34793106, 0.14505439],\n",
       "        [5.66655645, 3.98572146, 1.34011248, 0.12256316],\n",
       "        [4.80937785, 3.22911564, 1.48446275, 0.26088223],\n",
       "        [4.86598133, 3.36233837, 1.28690443, 0.16676916],\n",
       "        [5.33955083, 3.69605891, 1.39749438, 0.17637624],\n",
       "        [4.80937785, 3.22911564, 1.48446275, 0.26088223],\n",
       "        [4.40848715, 2.99035252, 1.29206472, 0.20810535],\n",
       "        [5.07363407, 3.43725543, 1.49666998, 0.24386999],\n",
       "        [5.01933074, 3.46313362, 1.33913032, 0.17729895],\n",
       "        [4.16711685, 2.71324513, 1.47737112, 0.31243354],\n",
       "        [4.4966934 , 3.07858133, 1.25378813, 0.18328601],\n",
       "        [5.08245084, 3.36848973, 1.66805259, 0.32057539],\n",
       "        [5.32869412, 3.51234054, 1.7925706 , 0.35585818],\n",
       "        [4.6879083 , 3.13521705, 1.47484043, 0.26688935],\n",
       "        [5.26833031, 3.59457476, 1.49670295, 0.22728592],\n",
       "        [4.6441677 , 3.14764929, 1.36694174, 0.22185323],\n",
       "        [5.335134  , 3.65780489, 1.47582259, 0.21215356],\n",
       "        [4.94665193, 3.36817619, 1.4209384 , 0.22046874],\n",
       "        [6.83089327, 3.42564462, 4.72974932, 1.55525724],\n",
       "        [6.40951042, 3.18689278, 4.49992925, 1.4873144 ],\n",
       "        [6.76151864, 3.28674083, 4.91683076, 1.64572406],\n",
       "        [5.33429352, 2.51344581, 4.05858032, 1.37951329],\n",
       "        [6.31597694, 3.03539999, 4.67135229, 1.57276401],\n",
       "        [5.77541839, 2.72653263, 4.382387  , 1.48825065],\n",
       "        [6.42834204, 3.1362178 , 4.64873411, 1.55296187],\n",
       "        [4.85456992, 2.46413852, 3.2944728 , 1.07507089],\n",
       "        [6.41916275, 3.14843687, 4.60438848, 1.53370227],\n",
       "        [5.30139274, 2.56432267, 3.88364443, 1.30325527],\n",
       "        [4.77932018, 2.29350744, 3.54248196, 1.19357513],\n",
       "        [5.94347657, 2.93556321, 4.21702875, 1.39918839],\n",
       "        [5.60489789, 2.72707604, 4.06997342, 1.36159188],\n",
       "        [6.11722639, 2.89637328, 4.62261055, 1.5676796 ],\n",
       "        [5.59037259, 2.89878852, 3.65568978, 1.17559304],\n",
       "        [6.5381531 , 3.30663571, 4.464278  , 1.46023415],\n",
       "        [5.80454195, 2.74583897, 4.39193593, 1.49008338],\n",
       "        [5.7145067 , 2.84030353, 4.01430062, 1.32708555],\n",
       "        [5.83928862, 2.65754248, 4.65474469, 1.60589854],\n",
       "        [5.46329871, 2.68973538, 3.89589209, 1.29498724],\n",
       "        [6.14965413, 2.87173326, 4.73743284, 1.61680936],\n",
       "        [5.94238081, 2.99863658, 4.07259129, 1.3340027 ],\n",
       "        [6.10932822, 2.75743565, 4.92195808, 1.70364432],\n",
       "        [6.06761068, 2.87707822, 4.57563958, 1.5506809 ],\n",
       "        [6.23512098, 3.11764549, 4.33806261, 1.42902579],\n",
       "        [6.42945469, 3.21841818, 4.46513255, 1.46988752],\n",
       "        [6.54357395, 3.14184246, 4.84632114, 1.63243797],\n",
       "        [6.61202129, 3.11046254, 5.04209696, 1.71508414],\n",
       "        [6.01881994, 2.87813706, 4.48420917, 1.51351824],\n",
       "        [5.49610587, 2.86691574, 3.55563838, 1.13841117],\n",
       "        [5.33631657, 2.62065614, 3.82016051, 1.27158599],\n",
       "        [5.31527654, 2.6522041 , 3.71051975, 1.22382718],\n",
       "        [5.68345182, 2.85376076, 3.92723761, 1.29038467],\n",
       "        [6.04307241, 2.66266883, 5.01505717, 1.75136953],\n",
       "        [5.67535139, 2.65763272, 4.35536845, 1.48457079],\n",
       "        [6.24209186, 3.08629941, 4.42157235, 1.46617406],\n",
       "        [6.59576061, 3.23681116, 4.72709102, 1.57410221],\n",
       "        [5.92419069, 2.78971764, 4.51119475, 1.53378216],\n",
       "        [5.72589441, 2.84721148, 4.01948215, 1.3284565 ],\n",
       "        [5.42249977, 2.60167462, 4.02030373, 1.35469394],\n",
       "        [5.53698155, 2.58164553, 4.27445534, 1.45979859],\n",
       "        [6.14304578, 2.95962597, 4.52688613, 1.5222153 ],\n",
       "        [5.65763243, 2.79050807, 4.02296203, 1.33584897],\n",
       "        [4.87506207, 2.46412724, 3.33189482, 1.09023686],\n",
       "        [5.61186877, 2.69572997, 4.15348315, 1.39874015],\n",
       "        [5.80601713, 2.88458598, 4.08129739, 1.34956324],\n",
       "        [5.7646703 , 2.8280619 , 4.13349031, 1.3766771 ],\n",
       "        [6.10593042, 3.02943924, 4.30149513, 1.4235132 ],\n",
       "        [4.97576868, 2.64146437, 3.11519821, 0.98371412],\n",
       "        [5.70228343, 2.80308579, 4.07604247, 1.35603214],\n",
       "        [6.6908373 , 2.77573297, 5.94184547, 2.1150097 ],\n",
       "        [5.92215074, 2.53723357, 5.07765358, 1.7899695 ],\n",
       "        [7.04598122, 3.06499173, 5.9367256 , 2.08241771],\n",
       "        [6.42199578, 2.76269622, 5.48067171, 1.92950058],\n",
       "        [6.64288211, 2.8071016 , 5.78349167, 2.04752949],\n",
       "        [7.49694378, 3.15153932, 6.56424721, 2.32758158],\n",
       "        [5.13737197, 2.19172572, 4.42575047, 1.56224605],\n",
       "        [7.19593472, 3.06975943, 6.19961202, 2.18844592],\n",
       "        [6.54053186, 2.72437452, 5.78353209, 2.0562737 ],\n",
       "        [7.42278791, 3.28586602, 6.12557037, 2.13564197],\n",
       "        [6.59758961, 3.05411779, 5.14300292, 1.76191939],\n",
       "        [6.34628988, 2.76357573, 5.34052827, 1.87261652],\n",
       "        [6.77906044, 3.00923552, 5.57552986, 1.94193031],\n",
       "        [5.75382177, 2.41163025, 5.05411491, 1.7936821 ],\n",
       "        [5.98003535, 2.51929961, 5.22378842, 1.85108075],\n",
       "        [6.57783069, 2.93450907, 5.37705532, 1.8693849 ],\n",
       "        [6.57700572, 2.91415517, 5.42151477, 1.88954887],\n",
       "        [7.93540409, 3.51700972, 6.53906539, 2.2788193 ],\n",
       "        [7.44549036, 2.93695061, 6.95495176, 2.50854881],\n",
       "        [5.80151675, 2.47364477, 5.00110787, 1.76565908],\n",
       "        [6.97394203, 3.07847153, 5.77481854, 2.01538489],\n",
       "        [5.80325213, 2.51900863, 4.90183017, 1.72064216],\n",
       "        [7.48886025, 3.10068502, 6.66433904, 2.37350766],\n",
       "        [6.20580336, 2.80843545, 4.98284538, 1.72293753],\n",
       "        [6.88334201, 3.05919903, 5.65300352, 1.96805425],\n",
       "        [7.2087976 , 3.2154144 , 5.89415501, 2.04929673],\n",
       "        [6.16702747, 2.82758502, 4.86883722, 1.67471694],\n",
       "        [6.20892218, 2.85257241, 4.88886303, 1.68019592],\n",
       "        [6.45075682, 2.72545592, 5.61725762, 1.9887791 ],\n",
       "        [7.07851128, 3.19028151, 5.71315008, 1.97859845],\n",
       "        [7.18261569, 3.09561506, 6.11691641, 2.15220682],\n",
       "        [8.00423084, 3.68745019, 6.27976521, 2.15575964],\n",
       "        [6.45351311, 2.71304625, 5.65031225, 2.00348329],\n",
       "        [6.27820507, 2.85150229, 5.01771547, 1.73252456],\n",
       "        [6.14947066, 2.59178545, 5.3693006 , 1.90240026],\n",
       "        [7.47563296, 3.26651456, 6.26570955, 2.19447311],\n",
       "        [6.65904917, 2.90881021, 5.58330802, 1.95567733],\n",
       "        [6.55651356, 2.91416645, 5.38409274, 1.8743829 ],\n",
       "        [6.12604316, 2.82760758, 4.79399316, 1.644385  ],\n",
       "        [6.8694751 , 3.11659134, 5.49808918, 1.89922231],\n",
       "        [6.78512091, 2.95287949, 5.71385785, 2.00393153],\n",
       "        [6.82013648, 3.14918687, 5.33444004, 1.8294668 ],\n",
       "        [5.92215074, 2.53723357, 5.07765358, 1.7899695 ],\n",
       "        [6.94591423, 2.99609182, 5.90970706, 2.07873785],\n",
       "        [6.89436719, 3.00956034, 5.78522202, 2.026871  ],\n",
       "        [6.66512654, 2.99772792, 5.39359699, 1.86941851],\n",
       "        [6.13863714, 2.68865867, 5.13076272, 1.79551569],\n",
       "        [6.52766709, 2.94675069, 5.25786563, 1.81979336],\n",
       "        [6.55513012, 2.91539334, 5.3787974 , 1.87210759],\n",
       "        [6.1162991 , 2.72608958, 5.00546781, 1.74079259]])"
      ]
     },
     "execution_count": 139,
     "metadata": {},
     "output_type": "execute_result"
    }
   ],
   "source": [
    "X_approx = np.matrix(U[:,:2])*np.diag(s[:2])*np.matrix(VT[:2,:])\n",
    "X_approx"
   ]
  },
  {
   "cell_type": "code",
   "execution_count": 141,
   "metadata": {
    "ExecuteTime": {
     "end_time": "2019-10-24T13:42:52.299712Z",
     "start_time": "2019-10-24T13:42:52.251934Z"
    },
    "scrolled": true
   },
   "outputs": [
    {
     "data": {
      "text/html": [
       "<div>\n",
       "<style scoped>\n",
       "    .dataframe tbody tr th:only-of-type {\n",
       "        vertical-align: middle;\n",
       "    }\n",
       "\n",
       "    .dataframe tbody tr th {\n",
       "        vertical-align: top;\n",
       "    }\n",
       "\n",
       "    .dataframe thead th {\n",
       "        text-align: right;\n",
       "    }\n",
       "</style>\n",
       "<table border=\"1\" class=\"dataframe\">\n",
       "  <thead>\n",
       "    <tr style=\"text-align: right;\">\n",
       "      <th></th>\n",
       "      <th>sepal_length</th>\n",
       "      <th>sepal_width</th>\n",
       "      <th>petal_length</th>\n",
       "      <th>petal_width</th>\n",
       "    </tr>\n",
       "  </thead>\n",
       "  <tbody>\n",
       "    <tr>\n",
       "      <th>0</th>\n",
       "      <td>5.1</td>\n",
       "      <td>3.5</td>\n",
       "      <td>1.4</td>\n",
       "      <td>0.2</td>\n",
       "    </tr>\n",
       "    <tr>\n",
       "      <th>1</th>\n",
       "      <td>4.9</td>\n",
       "      <td>3.0</td>\n",
       "      <td>1.4</td>\n",
       "      <td>0.2</td>\n",
       "    </tr>\n",
       "    <tr>\n",
       "      <th>2</th>\n",
       "      <td>4.7</td>\n",
       "      <td>3.2</td>\n",
       "      <td>1.3</td>\n",
       "      <td>0.2</td>\n",
       "    </tr>\n",
       "    <tr>\n",
       "      <th>3</th>\n",
       "      <td>4.6</td>\n",
       "      <td>3.1</td>\n",
       "      <td>1.5</td>\n",
       "      <td>0.2</td>\n",
       "    </tr>\n",
       "    <tr>\n",
       "      <th>4</th>\n",
       "      <td>5.0</td>\n",
       "      <td>3.6</td>\n",
       "      <td>1.4</td>\n",
       "      <td>0.2</td>\n",
       "    </tr>\n",
       "    <tr>\n",
       "      <th>5</th>\n",
       "      <td>5.4</td>\n",
       "      <td>3.9</td>\n",
       "      <td>1.7</td>\n",
       "      <td>0.4</td>\n",
       "    </tr>\n",
       "    <tr>\n",
       "      <th>6</th>\n",
       "      <td>4.6</td>\n",
       "      <td>3.4</td>\n",
       "      <td>1.4</td>\n",
       "      <td>0.3</td>\n",
       "    </tr>\n",
       "    <tr>\n",
       "      <th>7</th>\n",
       "      <td>5.0</td>\n",
       "      <td>3.4</td>\n",
       "      <td>1.5</td>\n",
       "      <td>0.2</td>\n",
       "    </tr>\n",
       "    <tr>\n",
       "      <th>8</th>\n",
       "      <td>4.4</td>\n",
       "      <td>2.9</td>\n",
       "      <td>1.4</td>\n",
       "      <td>0.2</td>\n",
       "    </tr>\n",
       "    <tr>\n",
       "      <th>9</th>\n",
       "      <td>4.9</td>\n",
       "      <td>3.1</td>\n",
       "      <td>1.5</td>\n",
       "      <td>0.1</td>\n",
       "    </tr>\n",
       "    <tr>\n",
       "      <th>10</th>\n",
       "      <td>5.4</td>\n",
       "      <td>3.7</td>\n",
       "      <td>1.5</td>\n",
       "      <td>0.2</td>\n",
       "    </tr>\n",
       "    <tr>\n",
       "      <th>11</th>\n",
       "      <td>4.8</td>\n",
       "      <td>3.4</td>\n",
       "      <td>1.6</td>\n",
       "      <td>0.2</td>\n",
       "    </tr>\n",
       "    <tr>\n",
       "      <th>12</th>\n",
       "      <td>4.8</td>\n",
       "      <td>3.0</td>\n",
       "      <td>1.4</td>\n",
       "      <td>0.1</td>\n",
       "    </tr>\n",
       "    <tr>\n",
       "      <th>13</th>\n",
       "      <td>4.3</td>\n",
       "      <td>3.0</td>\n",
       "      <td>1.1</td>\n",
       "      <td>0.1</td>\n",
       "    </tr>\n",
       "    <tr>\n",
       "      <th>14</th>\n",
       "      <td>5.8</td>\n",
       "      <td>4.0</td>\n",
       "      <td>1.2</td>\n",
       "      <td>0.2</td>\n",
       "    </tr>\n",
       "    <tr>\n",
       "      <th>15</th>\n",
       "      <td>5.7</td>\n",
       "      <td>4.4</td>\n",
       "      <td>1.5</td>\n",
       "      <td>0.4</td>\n",
       "    </tr>\n",
       "    <tr>\n",
       "      <th>16</th>\n",
       "      <td>5.4</td>\n",
       "      <td>3.9</td>\n",
       "      <td>1.3</td>\n",
       "      <td>0.4</td>\n",
       "    </tr>\n",
       "    <tr>\n",
       "      <th>17</th>\n",
       "      <td>5.1</td>\n",
       "      <td>3.5</td>\n",
       "      <td>1.4</td>\n",
       "      <td>0.3</td>\n",
       "    </tr>\n",
       "    <tr>\n",
       "      <th>18</th>\n",
       "      <td>5.7</td>\n",
       "      <td>3.8</td>\n",
       "      <td>1.7</td>\n",
       "      <td>0.3</td>\n",
       "    </tr>\n",
       "    <tr>\n",
       "      <th>19</th>\n",
       "      <td>5.1</td>\n",
       "      <td>3.8</td>\n",
       "      <td>1.5</td>\n",
       "      <td>0.3</td>\n",
       "    </tr>\n",
       "    <tr>\n",
       "      <th>20</th>\n",
       "      <td>5.4</td>\n",
       "      <td>3.4</td>\n",
       "      <td>1.7</td>\n",
       "      <td>0.2</td>\n",
       "    </tr>\n",
       "    <tr>\n",
       "      <th>21</th>\n",
       "      <td>5.1</td>\n",
       "      <td>3.7</td>\n",
       "      <td>1.5</td>\n",
       "      <td>0.4</td>\n",
       "    </tr>\n",
       "    <tr>\n",
       "      <th>22</th>\n",
       "      <td>4.6</td>\n",
       "      <td>3.6</td>\n",
       "      <td>1.0</td>\n",
       "      <td>0.2</td>\n",
       "    </tr>\n",
       "    <tr>\n",
       "      <th>23</th>\n",
       "      <td>5.1</td>\n",
       "      <td>3.3</td>\n",
       "      <td>1.7</td>\n",
       "      <td>0.5</td>\n",
       "    </tr>\n",
       "    <tr>\n",
       "      <th>24</th>\n",
       "      <td>4.8</td>\n",
       "      <td>3.4</td>\n",
       "      <td>1.9</td>\n",
       "      <td>0.2</td>\n",
       "    </tr>\n",
       "    <tr>\n",
       "      <th>25</th>\n",
       "      <td>5.0</td>\n",
       "      <td>3.0</td>\n",
       "      <td>1.6</td>\n",
       "      <td>0.2</td>\n",
       "    </tr>\n",
       "    <tr>\n",
       "      <th>26</th>\n",
       "      <td>5.0</td>\n",
       "      <td>3.4</td>\n",
       "      <td>1.6</td>\n",
       "      <td>0.4</td>\n",
       "    </tr>\n",
       "    <tr>\n",
       "      <th>27</th>\n",
       "      <td>5.2</td>\n",
       "      <td>3.5</td>\n",
       "      <td>1.5</td>\n",
       "      <td>0.2</td>\n",
       "    </tr>\n",
       "    <tr>\n",
       "      <th>28</th>\n",
       "      <td>5.2</td>\n",
       "      <td>3.4</td>\n",
       "      <td>1.4</td>\n",
       "      <td>0.2</td>\n",
       "    </tr>\n",
       "    <tr>\n",
       "      <th>29</th>\n",
       "      <td>4.7</td>\n",
       "      <td>3.2</td>\n",
       "      <td>1.6</td>\n",
       "      <td>0.2</td>\n",
       "    </tr>\n",
       "    <tr>\n",
       "      <th>...</th>\n",
       "      <td>...</td>\n",
       "      <td>...</td>\n",
       "      <td>...</td>\n",
       "      <td>...</td>\n",
       "    </tr>\n",
       "    <tr>\n",
       "      <th>120</th>\n",
       "      <td>6.9</td>\n",
       "      <td>3.2</td>\n",
       "      <td>5.7</td>\n",
       "      <td>2.3</td>\n",
       "    </tr>\n",
       "    <tr>\n",
       "      <th>121</th>\n",
       "      <td>5.6</td>\n",
       "      <td>2.8</td>\n",
       "      <td>4.9</td>\n",
       "      <td>2.0</td>\n",
       "    </tr>\n",
       "    <tr>\n",
       "      <th>122</th>\n",
       "      <td>7.7</td>\n",
       "      <td>2.8</td>\n",
       "      <td>6.7</td>\n",
       "      <td>2.0</td>\n",
       "    </tr>\n",
       "    <tr>\n",
       "      <th>123</th>\n",
       "      <td>6.3</td>\n",
       "      <td>2.7</td>\n",
       "      <td>4.9</td>\n",
       "      <td>1.8</td>\n",
       "    </tr>\n",
       "    <tr>\n",
       "      <th>124</th>\n",
       "      <td>6.7</td>\n",
       "      <td>3.3</td>\n",
       "      <td>5.7</td>\n",
       "      <td>2.1</td>\n",
       "    </tr>\n",
       "    <tr>\n",
       "      <th>125</th>\n",
       "      <td>7.2</td>\n",
       "      <td>3.2</td>\n",
       "      <td>6.0</td>\n",
       "      <td>1.8</td>\n",
       "    </tr>\n",
       "    <tr>\n",
       "      <th>126</th>\n",
       "      <td>6.2</td>\n",
       "      <td>2.8</td>\n",
       "      <td>4.8</td>\n",
       "      <td>1.8</td>\n",
       "    </tr>\n",
       "    <tr>\n",
       "      <th>127</th>\n",
       "      <td>6.1</td>\n",
       "      <td>3.0</td>\n",
       "      <td>4.9</td>\n",
       "      <td>1.8</td>\n",
       "    </tr>\n",
       "    <tr>\n",
       "      <th>128</th>\n",
       "      <td>6.4</td>\n",
       "      <td>2.8</td>\n",
       "      <td>5.6</td>\n",
       "      <td>2.1</td>\n",
       "    </tr>\n",
       "    <tr>\n",
       "      <th>129</th>\n",
       "      <td>7.2</td>\n",
       "      <td>3.0</td>\n",
       "      <td>5.8</td>\n",
       "      <td>1.6</td>\n",
       "    </tr>\n",
       "    <tr>\n",
       "      <th>130</th>\n",
       "      <td>7.4</td>\n",
       "      <td>2.8</td>\n",
       "      <td>6.1</td>\n",
       "      <td>1.9</td>\n",
       "    </tr>\n",
       "    <tr>\n",
       "      <th>131</th>\n",
       "      <td>7.9</td>\n",
       "      <td>3.8</td>\n",
       "      <td>6.4</td>\n",
       "      <td>2.0</td>\n",
       "    </tr>\n",
       "    <tr>\n",
       "      <th>132</th>\n",
       "      <td>6.4</td>\n",
       "      <td>2.8</td>\n",
       "      <td>5.6</td>\n",
       "      <td>2.2</td>\n",
       "    </tr>\n",
       "    <tr>\n",
       "      <th>133</th>\n",
       "      <td>6.3</td>\n",
       "      <td>2.8</td>\n",
       "      <td>5.1</td>\n",
       "      <td>1.5</td>\n",
       "    </tr>\n",
       "    <tr>\n",
       "      <th>134</th>\n",
       "      <td>6.1</td>\n",
       "      <td>2.6</td>\n",
       "      <td>5.6</td>\n",
       "      <td>1.4</td>\n",
       "    </tr>\n",
       "    <tr>\n",
       "      <th>135</th>\n",
       "      <td>7.7</td>\n",
       "      <td>3.0</td>\n",
       "      <td>6.1</td>\n",
       "      <td>2.3</td>\n",
       "    </tr>\n",
       "    <tr>\n",
       "      <th>136</th>\n",
       "      <td>6.3</td>\n",
       "      <td>3.4</td>\n",
       "      <td>5.6</td>\n",
       "      <td>2.4</td>\n",
       "    </tr>\n",
       "    <tr>\n",
       "      <th>137</th>\n",
       "      <td>6.4</td>\n",
       "      <td>3.1</td>\n",
       "      <td>5.5</td>\n",
       "      <td>1.8</td>\n",
       "    </tr>\n",
       "    <tr>\n",
       "      <th>138</th>\n",
       "      <td>6.0</td>\n",
       "      <td>3.0</td>\n",
       "      <td>4.8</td>\n",
       "      <td>1.8</td>\n",
       "    </tr>\n",
       "    <tr>\n",
       "      <th>139</th>\n",
       "      <td>6.9</td>\n",
       "      <td>3.1</td>\n",
       "      <td>5.4</td>\n",
       "      <td>2.1</td>\n",
       "    </tr>\n",
       "    <tr>\n",
       "      <th>140</th>\n",
       "      <td>6.7</td>\n",
       "      <td>3.1</td>\n",
       "      <td>5.6</td>\n",
       "      <td>2.4</td>\n",
       "    </tr>\n",
       "    <tr>\n",
       "      <th>141</th>\n",
       "      <td>6.9</td>\n",
       "      <td>3.1</td>\n",
       "      <td>5.1</td>\n",
       "      <td>2.3</td>\n",
       "    </tr>\n",
       "    <tr>\n",
       "      <th>142</th>\n",
       "      <td>5.8</td>\n",
       "      <td>2.7</td>\n",
       "      <td>5.1</td>\n",
       "      <td>1.9</td>\n",
       "    </tr>\n",
       "    <tr>\n",
       "      <th>143</th>\n",
       "      <td>6.8</td>\n",
       "      <td>3.2</td>\n",
       "      <td>5.9</td>\n",
       "      <td>2.3</td>\n",
       "    </tr>\n",
       "    <tr>\n",
       "      <th>144</th>\n",
       "      <td>6.7</td>\n",
       "      <td>3.3</td>\n",
       "      <td>5.7</td>\n",
       "      <td>2.5</td>\n",
       "    </tr>\n",
       "    <tr>\n",
       "      <th>145</th>\n",
       "      <td>6.7</td>\n",
       "      <td>3.0</td>\n",
       "      <td>5.2</td>\n",
       "      <td>2.3</td>\n",
       "    </tr>\n",
       "    <tr>\n",
       "      <th>146</th>\n",
       "      <td>6.3</td>\n",
       "      <td>2.5</td>\n",
       "      <td>5.0</td>\n",
       "      <td>1.9</td>\n",
       "    </tr>\n",
       "    <tr>\n",
       "      <th>147</th>\n",
       "      <td>6.5</td>\n",
       "      <td>3.0</td>\n",
       "      <td>5.2</td>\n",
       "      <td>2.0</td>\n",
       "    </tr>\n",
       "    <tr>\n",
       "      <th>148</th>\n",
       "      <td>6.2</td>\n",
       "      <td>3.4</td>\n",
       "      <td>5.4</td>\n",
       "      <td>2.3</td>\n",
       "    </tr>\n",
       "    <tr>\n",
       "      <th>149</th>\n",
       "      <td>5.9</td>\n",
       "      <td>3.0</td>\n",
       "      <td>5.1</td>\n",
       "      <td>1.8</td>\n",
       "    </tr>\n",
       "  </tbody>\n",
       "</table>\n",
       "<p>150 rows × 4 columns</p>\n",
       "</div>"
      ],
      "text/plain": [
       "     sepal_length  sepal_width  petal_length  petal_width\n",
       "0             5.1          3.5           1.4          0.2\n",
       "1             4.9          3.0           1.4          0.2\n",
       "2             4.7          3.2           1.3          0.2\n",
       "3             4.6          3.1           1.5          0.2\n",
       "4             5.0          3.6           1.4          0.2\n",
       "5             5.4          3.9           1.7          0.4\n",
       "6             4.6          3.4           1.4          0.3\n",
       "7             5.0          3.4           1.5          0.2\n",
       "8             4.4          2.9           1.4          0.2\n",
       "9             4.9          3.1           1.5          0.1\n",
       "10            5.4          3.7           1.5          0.2\n",
       "11            4.8          3.4           1.6          0.2\n",
       "12            4.8          3.0           1.4          0.1\n",
       "13            4.3          3.0           1.1          0.1\n",
       "14            5.8          4.0           1.2          0.2\n",
       "15            5.7          4.4           1.5          0.4\n",
       "16            5.4          3.9           1.3          0.4\n",
       "17            5.1          3.5           1.4          0.3\n",
       "18            5.7          3.8           1.7          0.3\n",
       "19            5.1          3.8           1.5          0.3\n",
       "20            5.4          3.4           1.7          0.2\n",
       "21            5.1          3.7           1.5          0.4\n",
       "22            4.6          3.6           1.0          0.2\n",
       "23            5.1          3.3           1.7          0.5\n",
       "24            4.8          3.4           1.9          0.2\n",
       "25            5.0          3.0           1.6          0.2\n",
       "26            5.0          3.4           1.6          0.4\n",
       "27            5.2          3.5           1.5          0.2\n",
       "28            5.2          3.4           1.4          0.2\n",
       "29            4.7          3.2           1.6          0.2\n",
       "..            ...          ...           ...          ...\n",
       "120           6.9          3.2           5.7          2.3\n",
       "121           5.6          2.8           4.9          2.0\n",
       "122           7.7          2.8           6.7          2.0\n",
       "123           6.3          2.7           4.9          1.8\n",
       "124           6.7          3.3           5.7          2.1\n",
       "125           7.2          3.2           6.0          1.8\n",
       "126           6.2          2.8           4.8          1.8\n",
       "127           6.1          3.0           4.9          1.8\n",
       "128           6.4          2.8           5.6          2.1\n",
       "129           7.2          3.0           5.8          1.6\n",
       "130           7.4          2.8           6.1          1.9\n",
       "131           7.9          3.8           6.4          2.0\n",
       "132           6.4          2.8           5.6          2.2\n",
       "133           6.3          2.8           5.1          1.5\n",
       "134           6.1          2.6           5.6          1.4\n",
       "135           7.7          3.0           6.1          2.3\n",
       "136           6.3          3.4           5.6          2.4\n",
       "137           6.4          3.1           5.5          1.8\n",
       "138           6.0          3.0           4.8          1.8\n",
       "139           6.9          3.1           5.4          2.1\n",
       "140           6.7          3.1           5.6          2.4\n",
       "141           6.9          3.1           5.1          2.3\n",
       "142           5.8          2.7           5.1          1.9\n",
       "143           6.8          3.2           5.9          2.3\n",
       "144           6.7          3.3           5.7          2.5\n",
       "145           6.7          3.0           5.2          2.3\n",
       "146           6.3          2.5           5.0          1.9\n",
       "147           6.5          3.0           5.2          2.0\n",
       "148           6.2          3.4           5.4          2.3\n",
       "149           5.9          3.0           5.1          1.8\n",
       "\n",
       "[150 rows x 4 columns]"
      ]
     },
     "execution_count": 141,
     "metadata": {},
     "output_type": "execute_result"
    }
   ],
   "source": [
    "#Reconstruct DataFrame\n",
    "Sigma = np.zeros((X.shape[0], X.shape[1]))\n",
    "Sigma[:X.shape[1],:X.shape[1]] = diag(s)\n",
    "\n",
    "X_new = U.dot(Sigma.dot(VT))\n",
    "iris_new = pd.DataFrame(X_new, columns = ['sepal_length','sepal_width','petal_length','petal_width'])\n",
    "iris_new"
   ]
  },
  {
   "cell_type": "markdown",
   "metadata": {
    "ExecuteTime": {
     "end_time": "2019-10-24T13:41:24.049462Z",
     "start_time": "2019-10-24T13:41:24.041932Z"
    }
   },
   "source": [
    "__3. Pseudoinverse__\n",
    "<br> Create stochatic matrix A (4x6) from 1-10\n",
    "<br> Find B is Pseudoinverse of A"
   ]
  },
  {
   "cell_type": "code",
   "execution_count": 142,
   "metadata": {
    "ExecuteTime": {
     "end_time": "2019-10-24T13:49:24.205698Z",
     "start_time": "2019-10-24T13:49:24.193327Z"
    }
   },
   "outputs": [
    {
     "data": {
      "text/plain": [
       "array([[9, 1, 2, 4, 3, 9],\n",
       "       [5, 5, 8, 9, 2, 1],\n",
       "       [2, 1, 9, 6, 6, 4],\n",
       "       [7, 3, 7, 1, 1, 4]])"
      ]
     },
     "execution_count": 142,
     "metadata": {},
     "output_type": "execute_result"
    }
   ],
   "source": [
    "A = np.random.randint(1,10,(4,6))\n",
    "A"
   ]
  },
  {
   "cell_type": "code",
   "execution_count": 144,
   "metadata": {
    "ExecuteTime": {
     "end_time": "2019-10-24T13:55:12.058636Z",
     "start_time": "2019-10-24T13:55:12.037843Z"
    }
   },
   "outputs": [
    {
     "data": {
      "text/plain": [
       "array([[ 0.03903757,  0.02373843, -0.0698238 ,  0.054936  ],\n",
       "       [-0.0186495 ,  0.06123987, -0.0575256 ,  0.03277303],\n",
       "       [-0.07729521, -0.02651727,  0.06218549,  0.10399895],\n",
       "       [ 0.04658794,  0.1036202 , -0.00875125, -0.13058581],\n",
       "       [ 0.01590792, -0.04477892,  0.09104301, -0.04296856],\n",
       "       [ 0.06531403, -0.05577724,  0.03593831, -0.00932733]])"
      ]
     },
     "execution_count": 144,
     "metadata": {},
     "output_type": "execute_result"
    }
   ],
   "source": [
    "# 1. Using np.pinv\n",
    "B = np.linalg.pinv(A)\n",
    "B"
   ]
  },
  {
   "cell_type": "code",
   "execution_count": 148,
   "metadata": {
    "ExecuteTime": {
     "end_time": "2019-10-24T14:20:35.380360Z",
     "start_time": "2019-10-24T14:20:35.373214Z"
    }
   },
   "outputs": [],
   "source": [
    "# Using svd\n",
    "U, s, VT = np.linalg.svd(A)"
   ]
  },
  {
   "cell_type": "code",
   "execution_count": 151,
   "metadata": {
    "ExecuteTime": {
     "end_time": "2019-10-24T14:29:25.728688Z",
     "start_time": "2019-10-24T14:29:25.716292Z"
    }
   },
   "outputs": [
    {
     "data": {
      "text/plain": [
       "array([23.38410247,  9.5403252 ,  5.6349056 ,  4.6275032 ])"
      ]
     },
     "execution_count": 151,
     "metadata": {},
     "output_type": "execute_result"
    }
   ],
   "source": [
    "s"
   ]
  },
  {
   "cell_type": "code",
   "execution_count": 150,
   "metadata": {
    "ExecuteTime": {
     "end_time": "2019-10-24T14:29:18.451984Z",
     "start_time": "2019-10-24T14:29:18.441848Z"
    }
   },
   "outputs": [
    {
     "data": {
      "text/plain": [
       "array([0.0427641 , 0.10481823, 0.17746526, 0.21609926])"
      ]
     },
     "execution_count": 150,
     "metadata": {},
     "output_type": "execute_result"
    }
   ],
   "source": [
    "d = 1/s\n",
    "d"
   ]
  },
  {
   "cell_type": "code",
   "execution_count": 152,
   "metadata": {
    "ExecuteTime": {
     "end_time": "2019-10-24T14:30:02.947485Z",
     "start_time": "2019-10-24T14:30:02.938170Z"
    }
   },
   "outputs": [
    {
     "data": {
      "text/plain": [
       "array([[0., 0., 0., 0., 0., 0.],\n",
       "       [0., 0., 0., 0., 0., 0.],\n",
       "       [0., 0., 0., 0., 0., 0.],\n",
       "       [0., 0., 0., 0., 0., 0.]])"
      ]
     },
     "execution_count": 152,
     "metadata": {},
     "output_type": "execute_result"
    }
   ],
   "source": [
    "D = np.zeros(A.shape)\n",
    "D"
   ]
  },
  {
   "cell_type": "code",
   "execution_count": 153,
   "metadata": {
    "ExecuteTime": {
     "end_time": "2019-10-24T14:30:53.274987Z",
     "start_time": "2019-10-24T14:30:53.267182Z"
    }
   },
   "outputs": [
    {
     "data": {
      "text/plain": [
       "array([[0.0427641 , 0.        , 0.        , 0.        ],\n",
       "       [0.        , 0.10481823, 0.        , 0.        ],\n",
       "       [0.        , 0.        , 0.17746526, 0.        ],\n",
       "       [0.        , 0.        , 0.        , 0.21609926]])"
      ]
     },
     "execution_count": 153,
     "metadata": {},
     "output_type": "execute_result"
    }
   ],
   "source": [
    "np.diag(d)"
   ]
  },
  {
   "cell_type": "code",
   "execution_count": 156,
   "metadata": {
    "ExecuteTime": {
     "end_time": "2019-10-24T14:32:17.445786Z",
     "start_time": "2019-10-24T14:32:17.437848Z"
    },
    "scrolled": true
   },
   "outputs": [
    {
     "data": {
      "text/plain": [
       "array([[0.0427641 , 0.        , 0.        , 0.        , 0.        ,\n",
       "        0.        ],\n",
       "       [0.        , 0.10481823, 0.        , 0.        , 0.        ,\n",
       "        0.        ],\n",
       "       [0.        , 0.        , 0.17746526, 0.        , 0.        ,\n",
       "        0.        ],\n",
       "       [0.        , 0.        , 0.        , 0.21609926, 0.        ,\n",
       "        0.        ]])"
      ]
     },
     "execution_count": 156,
     "metadata": {},
     "output_type": "execute_result"
    }
   ],
   "source": [
    "D[:A.shape[0],:A.shape[0]]=diag(d)\n",
    "D"
   ]
  },
  {
   "cell_type": "code",
   "execution_count": 160,
   "metadata": {
    "ExecuteTime": {
     "end_time": "2019-10-24T14:38:16.402911Z",
     "start_time": "2019-10-24T14:38:16.390972Z"
    }
   },
   "outputs": [
    {
     "data": {
      "text/plain": [
       "array([[ 0.03903757,  0.02373843, -0.0698238 ,  0.054936  ],\n",
       "       [-0.0186495 ,  0.06123987, -0.0575256 ,  0.03277303],\n",
       "       [-0.07729521, -0.02651727,  0.06218549,  0.10399895],\n",
       "       [ 0.04658794,  0.1036202 , -0.00875125, -0.13058581],\n",
       "       [ 0.01590792, -0.04477892,  0.09104301, -0.04296856],\n",
       "       [ 0.06531403, -0.05577724,  0.03593831, -0.00932733]])"
      ]
     },
     "execution_count": 160,
     "metadata": {},
     "output_type": "execute_result"
    }
   ],
   "source": [
    "# construct pseudoinverse C\n",
    "C = VT.T.dot(D.T).dot(U.T)\n",
    "C"
   ]
  },
  {
   "cell_type": "code",
   "execution_count": 158,
   "metadata": {
    "ExecuteTime": {
     "end_time": "2019-10-24T14:37:50.009434Z",
     "start_time": "2019-10-24T14:37:49.997565Z"
    },
    "scrolled": true
   },
   "outputs": [
    {
     "data": {
      "text/plain": [
       "array([[ 0.03903757,  0.02373843, -0.0698238 ,  0.054936  ],\n",
       "       [-0.0186495 ,  0.06123987, -0.0575256 ,  0.03277303],\n",
       "       [-0.07729521, -0.02651727,  0.06218549,  0.10399895],\n",
       "       [ 0.04658794,  0.1036202 , -0.00875125, -0.13058581],\n",
       "       [ 0.01590792, -0.04477892,  0.09104301, -0.04296856],\n",
       "       [ 0.06531403, -0.05577724,  0.03593831, -0.00932733]])"
      ]
     },
     "execution_count": 158,
     "metadata": {},
     "output_type": "execute_result"
    }
   ],
   "source": [
    "B"
   ]
  },
  {
   "cell_type": "markdown",
   "metadata": {},
   "source": [
    "# Ex4: SVD Dimensionality Reduction"
   ]
  },
  {
   "cell_type": "markdown",
   "metadata": {},
   "source": [
    "__1.__\n",
    "<br> DataFrame iris.cvs\n",
    "<br> Dimensionality Reduction DataFrame to 2 components\n",
    "<br> Visualization"
   ]
  },
  {
   "cell_type": "code",
   "execution_count": 161,
   "metadata": {
    "ExecuteTime": {
     "end_time": "2019-10-24T14:43:01.309778Z",
     "start_time": "2019-10-24T14:43:01.278480Z"
    }
   },
   "outputs": [
    {
     "data": {
      "text/html": [
       "<div>\n",
       "<style scoped>\n",
       "    .dataframe tbody tr th:only-of-type {\n",
       "        vertical-align: middle;\n",
       "    }\n",
       "\n",
       "    .dataframe tbody tr th {\n",
       "        vertical-align: top;\n",
       "    }\n",
       "\n",
       "    .dataframe thead th {\n",
       "        text-align: right;\n",
       "    }\n",
       "</style>\n",
       "<table border=\"1\" class=\"dataframe\">\n",
       "  <thead>\n",
       "    <tr style=\"text-align: right;\">\n",
       "      <th></th>\n",
       "      <th>sepal_length</th>\n",
       "      <th>sepal_width</th>\n",
       "      <th>petal_length</th>\n",
       "      <th>petal_width</th>\n",
       "      <th>species</th>\n",
       "    </tr>\n",
       "  </thead>\n",
       "  <tbody>\n",
       "    <tr>\n",
       "      <th>0</th>\n",
       "      <td>5.1</td>\n",
       "      <td>3.5</td>\n",
       "      <td>1.4</td>\n",
       "      <td>0.2</td>\n",
       "      <td>setosa</td>\n",
       "    </tr>\n",
       "    <tr>\n",
       "      <th>1</th>\n",
       "      <td>4.9</td>\n",
       "      <td>3.0</td>\n",
       "      <td>1.4</td>\n",
       "      <td>0.2</td>\n",
       "      <td>setosa</td>\n",
       "    </tr>\n",
       "    <tr>\n",
       "      <th>2</th>\n",
       "      <td>4.7</td>\n",
       "      <td>3.2</td>\n",
       "      <td>1.3</td>\n",
       "      <td>0.2</td>\n",
       "      <td>setosa</td>\n",
       "    </tr>\n",
       "    <tr>\n",
       "      <th>3</th>\n",
       "      <td>4.6</td>\n",
       "      <td>3.1</td>\n",
       "      <td>1.5</td>\n",
       "      <td>0.2</td>\n",
       "      <td>setosa</td>\n",
       "    </tr>\n",
       "    <tr>\n",
       "      <th>4</th>\n",
       "      <td>5.0</td>\n",
       "      <td>3.6</td>\n",
       "      <td>1.4</td>\n",
       "      <td>0.2</td>\n",
       "      <td>setosa</td>\n",
       "    </tr>\n",
       "  </tbody>\n",
       "</table>\n",
       "</div>"
      ],
      "text/plain": [
       "   sepal_length  sepal_width  petal_length  petal_width species\n",
       "0           5.1          3.5           1.4          0.2  setosa\n",
       "1           4.9          3.0           1.4          0.2  setosa\n",
       "2           4.7          3.2           1.3          0.2  setosa\n",
       "3           4.6          3.1           1.5          0.2  setosa\n",
       "4           5.0          3.6           1.4          0.2  setosa"
      ]
     },
     "execution_count": 161,
     "metadata": {},
     "output_type": "execute_result"
    }
   ],
   "source": [
    "iris = pd.read_csv('iris.csv')\n",
    "iris.head()"
   ]
  },
  {
   "cell_type": "code",
   "execution_count": 162,
   "metadata": {
    "ExecuteTime": {
     "end_time": "2019-10-24T14:43:34.303622Z",
     "start_time": "2019-10-24T14:43:34.296412Z"
    }
   },
   "outputs": [],
   "source": [
    "X = iris[['sepal_length','sepal_width','petal_length','petal_width']]"
   ]
  },
  {
   "cell_type": "code",
   "execution_count": 163,
   "metadata": {
    "ExecuteTime": {
     "end_time": "2019-10-24T14:45:46.729873Z",
     "start_time": "2019-10-24T14:45:46.723138Z"
    }
   },
   "outputs": [],
   "source": [
    "U, s, VT = np.linalg.svd(X)"
   ]
  },
  {
   "cell_type": "code",
   "execution_count": 164,
   "metadata": {
    "ExecuteTime": {
     "end_time": "2019-10-24T14:45:59.543889Z",
     "start_time": "2019-10-24T14:45:59.536242Z"
    }
   },
   "outputs": [
    {
     "data": {
      "text/plain": [
       "array([95.95066751, 17.72295328,  3.46929666,  1.87891236])"
      ]
     },
     "execution_count": 164,
     "metadata": {},
     "output_type": "execute_result"
    }
   ],
   "source": [
    "s"
   ]
  },
  {
   "cell_type": "code",
   "execution_count": 165,
   "metadata": {
    "ExecuteTime": {
     "end_time": "2019-10-24T14:47:24.133924Z",
     "start_time": "2019-10-24T14:47:24.121376Z"
    }
   },
   "outputs": [
    {
     "data": {
      "text/plain": [
       "array([[95.95066751,  0.        ,  0.        ,  0.        ],\n",
       "       [ 0.        , 17.72295328,  0.        ,  0.        ],\n",
       "       [ 0.        ,  0.        ,  3.46929666,  0.        ],\n",
       "       [ 0.        ,  0.        ,  0.        ,  1.87891236],\n",
       "       [ 0.        ,  0.        ,  0.        ,  0.        ]])"
      ]
     },
     "execution_count": 165,
     "metadata": {},
     "output_type": "execute_result"
    }
   ],
   "source": [
    "Sigma = np.zeros(X.shape)\n",
    "Sigma[:X.shape[1],:X.shape[1]] = np.diag(s)\n",
    "Sigma[:5]"
   ]
  },
  {
   "cell_type": "code",
   "execution_count": 167,
   "metadata": {
    "ExecuteTime": {
     "end_time": "2019-10-24T14:51:16.545051Z",
     "start_time": "2019-10-24T14:51:16.539310Z"
    }
   },
   "outputs": [],
   "source": [
    "n_components = 2\n",
    "Sigma = Sigma[:,:n_components]\n",
    "VT = VT[:n_components,:]"
   ]
  },
  {
   "cell_type": "code",
   "execution_count": 169,
   "metadata": {
    "ExecuteTime": {
     "end_time": "2019-10-24T14:51:46.411031Z",
     "start_time": "2019-10-24T14:51:46.399545Z"
    }
   },
   "outputs": [
    {
     "data": {
      "text/plain": [
       "array([[-5.91220352,  2.30344211],\n",
       "       [-5.57207573,  1.97383104],\n",
       "       [-5.4464847 ,  2.09653267],\n",
       "       [-5.43601924,  1.87168085],\n",
       "       [-5.87506555,  2.32934799]])"
      ]
     },
     "execution_count": 169,
     "metadata": {},
     "output_type": "execute_result"
    }
   ],
   "source": [
    "T_s1 = U.dot(Sigma)\n",
    "T_s1[:5]"
   ]
  },
  {
   "cell_type": "code",
   "execution_count": 176,
   "metadata": {
    "ExecuteTime": {
     "end_time": "2019-10-24T14:55:13.386197Z",
     "start_time": "2019-10-24T14:55:13.357777Z"
    },
    "scrolled": true
   },
   "outputs": [
    {
     "data": {
      "text/html": [
       "<div>\n",
       "<style scoped>\n",
       "    .dataframe tbody tr th:only-of-type {\n",
       "        vertical-align: middle;\n",
       "    }\n",
       "\n",
       "    .dataframe tbody tr th {\n",
       "        vertical-align: top;\n",
       "    }\n",
       "\n",
       "    .dataframe thead th {\n",
       "        text-align: right;\n",
       "    }\n",
       "</style>\n",
       "<table border=\"1\" class=\"dataframe\">\n",
       "  <thead>\n",
       "    <tr style=\"text-align: right;\">\n",
       "      <th></th>\n",
       "      <th>comp1</th>\n",
       "      <th>comp2</th>\n",
       "      <th>species</th>\n",
       "    </tr>\n",
       "  </thead>\n",
       "  <tbody>\n",
       "    <tr>\n",
       "      <th>0</th>\n",
       "      <td>-5.912204</td>\n",
       "      <td>2.303442</td>\n",
       "      <td>setosa</td>\n",
       "    </tr>\n",
       "    <tr>\n",
       "      <th>1</th>\n",
       "      <td>-5.572076</td>\n",
       "      <td>1.973831</td>\n",
       "      <td>setosa</td>\n",
       "    </tr>\n",
       "    <tr>\n",
       "      <th>2</th>\n",
       "      <td>-5.446485</td>\n",
       "      <td>2.096533</td>\n",
       "      <td>setosa</td>\n",
       "    </tr>\n",
       "    <tr>\n",
       "      <th>3</th>\n",
       "      <td>-5.436019</td>\n",
       "      <td>1.871681</td>\n",
       "      <td>setosa</td>\n",
       "    </tr>\n",
       "    <tr>\n",
       "      <th>4</th>\n",
       "      <td>-5.875066</td>\n",
       "      <td>2.329348</td>\n",
       "      <td>setosa</td>\n",
       "    </tr>\n",
       "  </tbody>\n",
       "</table>\n",
       "</div>"
      ],
      "text/plain": [
       "      comp1     comp2 species\n",
       "0 -5.912204  2.303442  setosa\n",
       "1 -5.572076  1.973831  setosa\n",
       "2 -5.446485  2.096533  setosa\n",
       "3 -5.436019  1.871681  setosa\n",
       "4 -5.875066  2.329348  setosa"
      ]
     },
     "execution_count": 176,
     "metadata": {},
     "output_type": "execute_result"
    }
   ],
   "source": [
    "T_s2 = X.dot(VT.T)\n",
    "T_s2.columns=['comp1','comp2']\n",
    "T_s2['species']=iris['species']\n",
    "T_s2[:5]"
   ]
  },
  {
   "cell_type": "code",
   "execution_count": 178,
   "metadata": {
    "ExecuteTime": {
     "end_time": "2019-10-24T14:57:03.190135Z",
     "start_time": "2019-10-24T14:57:02.922574Z"
    },
    "scrolled": true
   },
   "outputs": [
    {
     "data": {
      "image/png": "[encoded data removed]",
      "text/plain": [
       "<Figure size 432x432 with 1 Axes>"
      ]
     },
     "metadata": {},
     "output_type": "display_data"
    }
   ],
   "source": [
    "import matplotlib.pyplot as plt\n",
    "plt.figure(figsize=(6,6))\n",
    "plt.scatter(T_s2['comp1'], T_s2['comp2'])\n",
    "plt.show()"
   ]
  },
  {
   "cell_type": "code",
   "execution_count": 179,
   "metadata": {
    "ExecuteTime": {
     "end_time": "2019-10-24T14:59:32.311495Z",
     "start_time": "2019-10-24T14:59:21.356671Z"
    },
    "scrolled": true
   },
   "outputs": [
    {
     "data": {
      "image/png": "[encoded data removed]",
      "text/plain": [
       "<Figure size 432x432 with 1 Axes>"
      ]
     },
     "metadata": {},
     "output_type": "display_data"
    }
   ],
   "source": [
    "import seaborn as sns\n",
    "plt.figure(figsize=(6,6))\n",
    "sns.scatterplot(x='comp1', y='comp2', data=T_s2, hue='species')\n",
    "plt.show()"
   ]
  },
  {
   "cell_type": "markdown",
   "metadata": {},
   "source": [
    "__2.__\n",
    "<br> Down digits from sklearn\n",
    "<br> Using TruncatedSVD to Dimensionality Reduction to 10 componts\n",
    "<br> visualization"
   ]
  },
  {
   "cell_type": "code",
   "execution_count": 180,
   "metadata": {
    "ExecuteTime": {
     "end_time": "2019-10-28T15:38:33.858710Z",
     "start_time": "2019-10-28T15:38:29.355175Z"
    }
   },
   "outputs": [],
   "source": [
    "from sklearn import datasets\n",
    "digits = datasets.load_digits()"
   ]
  },
  {
   "cell_type": "code",
   "execution_count": 182,
   "metadata": {
    "ExecuteTime": {
     "end_time": "2019-10-28T15:39:13.649526Z",
     "start_time": "2019-10-28T15:39:13.643540Z"
    }
   },
   "outputs": [
    {
     "data": {
      "text/plain": [
       "array([[ 0.,  0.,  5., ...,  0.,  0.,  0.],\n",
       "       [ 0.,  0.,  0., ..., 10.,  0.,  0.],\n",
       "       [ 0.,  0.,  0., ..., 16.,  9.,  0.],\n",
       "       ...,\n",
       "       [ 0.,  0.,  1., ...,  6.,  0.,  0.],\n",
       "       [ 0.,  0.,  2., ..., 12.,  0.,  0.],\n",
       "       [ 0.,  0., 10., ..., 12.,  1.,  0.]])"
      ]
     },
     "execution_count": 182,
     "metadata": {},
     "output_type": "execute_result"
    }
   ],
   "source": [
    "digits.data"
   ]
  },
  {
   "cell_type": "code",
   "execution_count": 183,
   "metadata": {
    "ExecuteTime": {
     "end_time": "2019-10-28T15:43:12.694727Z",
     "start_time": "2019-10-28T15:43:12.689771Z"
    }
   },
   "outputs": [
    {
     "data": {
      "text/plain": [
       "(1797, 64)"
      ]
     },
     "execution_count": 183,
     "metadata": {},
     "output_type": "execute_result"
    }
   ],
   "source": [
    "digits.data.shape"
   ]
  },
  {
   "cell_type": "code",
   "execution_count": 184,
   "metadata": {
    "ExecuteTime": {
     "end_time": "2019-10-28T15:43:31.389143Z",
     "start_time": "2019-10-28T15:43:31.385186Z"
    }
   },
   "outputs": [],
   "source": [
    "# Standardize the feature matrix\n",
    "X = digits.data"
   ]
  },
  {
   "cell_type": "code",
   "execution_count": 188,
   "metadata": {
    "ExecuteTime": {
     "end_time": "2019-10-28T15:50:27.056767Z",
     "start_time": "2019-10-28T15:50:27.044833Z"
    },
    "collapsed": true
   },
   "outputs": [
    {
     "name": "stdout",
     "output_type": "stream",
     "text": [
      "  (0, 2)\t5.0\n",
      "  (0, 3)\t13.0\n",
      "  (0, 4)\t9.0\n",
      "  (0, 5)\t1.0\n",
      "  (0, 10)\t13.0\n",
      "  (0, 11)\t15.0\n",
      "  (0, 12)\t10.0\n",
      "  (0, 13)\t15.0\n",
      "  (0, 14)\t5.0\n",
      "  (0, 17)\t3.0\n",
      "  (0, 18)\t15.0\n",
      "  (0, 19)\t2.0\n",
      "  (0, 21)\t11.0\n",
      "  (0, 22)\t8.0\n",
      "  (0, 25)\t4.0\n",
      "  (0, 26)\t12.0\n",
      "  (0, 29)\t8.0\n",
      "  (0, 30)\t8.0\n",
      "  (0, 33)\t5.0\n",
      "  (0, 34)\t8.0\n",
      "  (0, 37)\t9.0\n",
      "  (0, 38)\t8.0\n",
      "  (0, 41)\t4.0\n",
      "  (0, 42)\t11.0\n",
      "  (0, 44)\t1.0\n",
      "  :\t:\n",
      "  (1796, 27)\t16.0\n",
      "  (1796, 28)\t16.0\n",
      "  (1796, 29)\t10.0\n",
      "  (1796, 34)\t12.0\n",
      "  (1796, 35)\t15.0\n",
      "  (1796, 36)\t15.0\n",
      "  (1796, 37)\t12.0\n",
      "  (1796, 41)\t4.0\n",
      "  (1796, 42)\t16.0\n",
      "  (1796, 43)\t6.0\n",
      "  (1796, 44)\t4.0\n",
      "  (1796, 45)\t16.0\n",
      "  (1796, 46)\t6.0\n",
      "  (1796, 49)\t8.0\n",
      "  (1796, 50)\t16.0\n",
      "  (1796, 51)\t10.0\n",
      "  (1796, 52)\t8.0\n",
      "  (1796, 53)\t16.0\n",
      "  (1796, 54)\t8.0\n",
      "  (1796, 57)\t1.0\n",
      "  (1796, 58)\t8.0\n",
      "  (1796, 59)\t12.0\n",
      "  (1796, 60)\t14.0\n",
      "  (1796, 61)\t12.0\n",
      "  (1796, 62)\t1.0\n"
     ]
    }
   ],
   "source": [
    "# Make sparse matrix\n",
    "from scipy.sparse import csr_matrix\n",
    "X_sparse = csr_matrix(X)\n",
    "print(X_sparse)"
   ]
  },
  {
   "cell_type": "code",
   "execution_count": 190,
   "metadata": {
    "ExecuteTime": {
     "end_time": "2019-10-28T15:54:20.203776Z",
     "start_time": "2019-10-28T15:54:12.832897Z"
    }
   },
   "outputs": [
    {
     "data": {
      "text/plain": [
       "TruncatedSVD(algorithm='randomized', n_components=10, n_iter=5,\n",
       "       random_state=None, tol=0.0)"
      ]
     },
     "execution_count": 190,
     "metadata": {},
     "output_type": "execute_result"
    }
   ],
   "source": [
    "# Create a TSVD\n",
    "from sklearn.decomposition import TruncatedSVD\n",
    "tsvd = TruncatedSVD(n_components=10)\n",
    "tsvd"
   ]
  },
  {
   "cell_type": "code",
   "execution_count": 195,
   "metadata": {
    "ExecuteTime": {
     "end_time": "2019-10-28T15:57:42.899362Z",
     "start_time": "2019-10-28T15:57:42.874398Z"
    }
   },
   "outputs": [
    {
     "data": {
      "text/plain": [
       "(1797, 10)"
      ]
     },
     "execution_count": 195,
     "metadata": {},
     "output_type": "execute_result"
    }
   ],
   "source": [
    "# Conduct TSVD in sparse matrix\n",
    "X_sparse_tsvd = tsvd.fit(X_sparse).transform(X_sparse)\n",
    "X_sparse_tsvd.shape"
   ]
  },
  {
   "cell_type": "code",
   "execution_count": 196,
   "metadata": {
    "ExecuteTime": {
     "end_time": "2019-10-28T16:00:02.504647Z",
     "start_time": "2019-10-28T16:00:02.499660Z"
    }
   },
   "outputs": [
    {
     "data": {
      "text/plain": [
       "0.7324264967897947"
      ]
     },
     "execution_count": 196,
     "metadata": {},
     "output_type": "execute_result"
    }
   ],
   "source": [
    "# view Percent OF Variance Explained By New Features\n",
    "# Sum of 10 components explained variance ratios\n",
    "tsvd.explained_variance_ratio_[0:10].sum()"
   ]
  },
  {
   "cell_type": "code",
   "execution_count": 206,
   "metadata": {
    "ExecuteTime": {
     "end_time": "2019-10-28T16:09:09.046069Z",
     "start_time": "2019-10-28T16:09:08.904447Z"
    }
   },
   "outputs": [
    {
     "data": {
      "text/plain": [
       "<matplotlib.image.AxesImage at 0x1caad8c20b8>"
      ]
     },
     "execution_count": 206,
     "metadata": {},
     "output_type": "execute_result"
    },
    {
     "data": {
      "image/png": "[encoded data removed]",
      "text/plain": [
       "<Figure size 1440x360 with 1 Axes>"
      ]
     },
     "metadata": {},
     "output_type": "display_data"
    }
   ],
   "source": [
    "# Original data\n",
    "import matplotlib.pyplot as plt\n",
    "plt.figure(figsize=(20,5))\n",
    "plt.spy(X)"
   ]
  },
  {
   "cell_type": "code",
   "execution_count": 204,
   "metadata": {
    "ExecuteTime": {
     "end_time": "2019-10-28T16:05:33.184984Z",
     "start_time": "2019-10-28T16:05:33.047351Z"
    }
   },
   "outputs": [
    {
     "data": {
      "text/plain": [
       "<matplotlib.image.AxesImage at 0x1caad7963c8>"
      ]
     },
     "execution_count": 204,
     "metadata": {},
     "output_type": "execute_result"
    },
    {
     "data": {
      "image/png": "[encoded data removed]",
      "text/plain": [
       "<Figure size 1440x360 with 1 Axes>"
      ]
     },
     "metadata": {},
     "output_type": "display_data"
    }
   ],
   "source": [
    "plt.figure(figsize=(20,5))\n",
    "plt.spy(X_sparse_tsvd)"
   ]
  }
 ],
 "metadata": {
  "kernelspec": {
   "display_name": "Python 3",
   "language": "python",
   "name": "python3"
  },
  "language_info": {
   "codemirror_mode": {
    "name": "ipython",
    "version": 3
   },
   "file_extension": ".py",
   "mimetype": "text/x-python",
   "name": "python",
   "nbconvert_exporter": "python",
   "pygments_lexer": "ipython3",
   "version": "3.6.4"
  },
  "toc": {
   "base_numbering": 1,
   "nav_menu": {},
   "number_sections": true,
   "sideBar": true,
   "skip_h1_title": false,
   "title_cell": "Table of Contents",
   "title_sidebar": "Contents",
   "toc_cell": false,
   "toc_position": {},
   "toc_section_display": true,
   "toc_window_display": false
  }
 },
 "nbformat": 4,
 "nbformat_minor": 2
}
