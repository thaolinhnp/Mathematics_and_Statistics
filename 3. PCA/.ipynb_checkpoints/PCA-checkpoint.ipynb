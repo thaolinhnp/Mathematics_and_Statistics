{
 "cells": [
  {
   "cell_type": "markdown",
   "metadata": {},
   "source": [
    "__Ex1__\n",
    "<br> Create stochastic matrix A(3000,3) from 1 to 255\n",
    "<br> PCA and visualization"
   ]
  },
  {
   "cell_type": "code",
   "execution_count": 1,
   "metadata": {
    "ExecuteTime": {
     "end_time": "2019-10-29T13:19:51.672358Z",
     "start_time": "2019-10-29T13:19:51.357451Z"
    }
   },
   "outputs": [
    {
     "data": {
      "text/plain": [
       "array([[ 51, 236, 238],\n",
       "       [214, 241, 116],\n",
       "       [127, 167, 157],\n",
       "       ...,\n",
       "       [ 85,  62, 121],\n",
       "       [ 98,  73, 206],\n",
       "       [221, 101, 235]])"
      ]
     },
     "execution_count": 1,
     "metadata": {},
     "output_type": "execute_result"
    }
   ],
   "source": [
    "import numpy as np\n",
    "A = np.random.randint(1,255,(3000,3))\n",
    "A"
   ]
  },
  {
   "cell_type": "code",
   "execution_count": 2,
   "metadata": {
    "ExecuteTime": {
     "end_time": "2019-10-29T13:21:45.240280Z",
     "start_time": "2019-10-29T13:21:45.223175Z"
    }
   },
   "outputs": [
    {
     "data": {
      "text/plain": [
       "array([128.81866667, 130.14133333, 127.47      ])"
      ]
     },
     "execution_count": 2,
     "metadata": {},
     "output_type": "execute_result"
    }
   ],
   "source": [
    "# column's means\n",
    "M = np.mean(A.T, axis = 1)\n",
    "M"
   ]
  },
  {
   "cell_type": "code",
   "execution_count": 3,
   "metadata": {
    "ExecuteTime": {
     "end_time": "2019-10-29T13:22:30.384665Z",
     "start_time": "2019-10-29T13:22:30.374179Z"
    },
    "scrolled": true
   },
   "outputs": [
    {
     "data": {
      "text/plain": [
       "array([[-77.81866667, 105.85866667, 110.53      ],\n",
       "       [ 85.18133333, 110.85866667, -11.47      ],\n",
       "       [ -1.81866667,  36.85866667,  29.53      ],\n",
       "       ...,\n",
       "       [-43.81866667, -68.14133333,  -6.47      ],\n",
       "       [-30.81866667, -57.14133333,  78.53      ],\n",
       "       [ 92.18133333, -29.14133333, 107.53      ]])"
      ]
     },
     "execution_count": 3,
     "metadata": {},
     "output_type": "execute_result"
    }
   ],
   "source": [
    "# center columns by subtracting column means\n",
    "C = A - M\n",
    "C"
   ]
  },
  {
   "cell_type": "code",
   "execution_count": 4,
   "metadata": {
    "ExecuteTime": {
     "end_time": "2019-10-29T13:24:23.323615Z",
     "start_time": "2019-10-29T13:24:23.302066Z"
    }
   },
   "outputs": [
    {
     "data": {
      "text/plain": [
       "array([[5368.58397955,  -83.69727065, -167.46992998],\n",
       "       [ -83.69727065, 5424.80495988, -145.38588863],\n",
       "       [-167.46992998, -145.38588863, 5249.81437146]])"
      ]
     },
     "execution_count": 4,
     "metadata": {},
     "output_type": "execute_result"
    }
   ],
   "source": [
    "# calculate covariance matrix of centered matrix\n",
    "V = np.cov(C.T)\n",
    "V"
   ]
  },
  {
   "cell_type": "code",
   "execution_count": 5,
   "metadata": {
    "ExecuteTime": {
     "end_time": "2019-10-29T13:25:21.291554Z",
     "start_time": "2019-10-29T13:25:21.259614Z"
    }
   },
   "outputs": [
    {
     "data": {
      "text/plain": [
       "array([5055.78748741, 5478.05047778, 5509.36534569])"
      ]
     },
     "execution_count": 5,
     "metadata": {},
     "output_type": "execute_result"
    }
   ],
   "source": [
    "# factorize coveriance matrix\n",
    "values, vectors = np.linalg.eig(V)\n",
    "values"
   ]
  },
  {
   "cell_type": "code",
   "execution_count": 6,
   "metadata": {
    "ExecuteTime": {
     "end_time": "2019-10-29T13:25:30.824388Z",
     "start_time": "2019-10-29T13:25:30.817480Z"
    }
   },
   "outputs": [
    {
     "data": {
      "text/plain": [
       "array([[-0.51329365, -0.82429055, -0.23890315],\n",
       "       [-0.41284711,  0.48120892, -0.77330152],\n",
       "       [-0.75238746,  0.29830028,  0.58730746]])"
      ]
     },
     "execution_count": 6,
     "metadata": {},
     "output_type": "execute_result"
    }
   ],
   "source": [
    "vectors"
   ]
  },
  {
   "cell_type": "code",
   "execution_count": 7,
   "metadata": {
    "ExecuteTime": {
     "end_time": "2019-10-29T13:26:29.467446Z",
     "start_time": "2019-10-29T13:26:29.455444Z"
    }
   },
   "outputs": [
    {
     "data": {
      "text/plain": [
       "array([[ -86.9210038 ,  148.05645664,    1.64555056],\n",
       "       [ -80.86083325,  -20.28949287, -112.81368068],\n",
       "       [ -36.50148579,   28.0446363 ,  -10.72518843],\n",
       "       ...,\n",
       "       [  55.49174268,    1.39909249,   59.36233478],\n",
       "       [ -19.67532734,   21.33213717,   97.6714109 ],\n",
       "       [-116.18940145,  -57.93104287,   63.66579683]])"
      ]
     },
     "execution_count": 7,
     "metadata": {},
     "output_type": "execute_result"
    }
   ],
   "source": [
    "# project data\n",
    "P = vectors.T.dot(C.T)\n",
    "P.T"
   ]
  },
  {
   "cell_type": "code",
   "execution_count": 43,
   "metadata": {
    "ExecuteTime": {
     "end_time": "2019-10-29T14:21:59.822014Z",
     "start_time": "2019-10-29T14:21:59.814005Z"
    }
   },
   "outputs": [
    {
     "data": {
      "text/plain": [
       "array([[ 51, 236, 238],\n",
       "       [214, 241, 116],\n",
       "       [127, 167, 157],\n",
       "       ...,\n",
       "       [ 85,  62, 121],\n",
       "       [ 98,  73, 206],\n",
       "       [221, 101, 235]])"
      ]
     },
     "execution_count": 43,
     "metadata": {},
     "output_type": "execute_result"
    }
   ],
   "source": [
    "A"
   ]
  },
  {
   "cell_type": "code",
   "execution_count": 8,
   "metadata": {
    "ExecuteTime": {
     "end_time": "2019-10-29T13:27:37.576815Z",
     "start_time": "2019-10-29T13:27:37.565651Z"
    }
   },
   "outputs": [
    {
     "data": {
      "text/plain": [
       "(3, 3000)"
      ]
     },
     "execution_count": 8,
     "metadata": {},
     "output_type": "execute_result"
    }
   ],
   "source": [
    "P.shape"
   ]
  },
  {
   "cell_type": "markdown",
   "metadata": {},
   "source": [
    "__Ex2: PCA sklearn__\n",
    "<br> File student.xlxs\n",
    "<br> Read data to DataFrame\n",
    "<br> Demensional reduction with sklearn.PCA\n",
    "<br> visualization"
   ]
  },
  {
   "cell_type": "code",
   "execution_count": 9,
   "metadata": {
    "ExecuteTime": {
     "end_time": "2019-10-29T13:34:05.055467Z",
     "start_time": "2019-10-29T13:34:04.006055Z"
    }
   },
   "outputs": [
    {
     "data": {
      "text/html": [
       "<div>\n",
       "<style scoped>\n",
       "    .dataframe tbody tr th:only-of-type {\n",
       "        vertical-align: middle;\n",
       "    }\n",
       "\n",
       "    .dataframe tbody tr th {\n",
       "        vertical-align: top;\n",
       "    }\n",
       "\n",
       "    .dataframe thead th {\n",
       "        text-align: right;\n",
       "    }\n",
       "</style>\n",
       "<table border=\"1\" class=\"dataframe\">\n",
       "  <thead>\n",
       "    <tr style=\"text-align: right;\">\n",
       "      <th></th>\n",
       "      <th>Math</th>\n",
       "      <th>English</th>\n",
       "      <th>Art</th>\n",
       "    </tr>\n",
       "    <tr>\n",
       "      <th>Student</th>\n",
       "      <th></th>\n",
       "      <th></th>\n",
       "      <th></th>\n",
       "    </tr>\n",
       "  </thead>\n",
       "  <tbody>\n",
       "    <tr>\n",
       "      <th>1</th>\n",
       "      <td>90</td>\n",
       "      <td>60</td>\n",
       "      <td>90</td>\n",
       "    </tr>\n",
       "    <tr>\n",
       "      <th>2</th>\n",
       "      <td>90</td>\n",
       "      <td>90</td>\n",
       "      <td>30</td>\n",
       "    </tr>\n",
       "    <tr>\n",
       "      <th>3</th>\n",
       "      <td>60</td>\n",
       "      <td>60</td>\n",
       "      <td>60</td>\n",
       "    </tr>\n",
       "    <tr>\n",
       "      <th>4</th>\n",
       "      <td>60</td>\n",
       "      <td>60</td>\n",
       "      <td>90</td>\n",
       "    </tr>\n",
       "    <tr>\n",
       "      <th>5</th>\n",
       "      <td>30</td>\n",
       "      <td>30</td>\n",
       "      <td>30</td>\n",
       "    </tr>\n",
       "  </tbody>\n",
       "</table>\n",
       "</div>"
      ],
      "text/plain": [
       "         Math  English  Art\n",
       "Student                    \n",
       "1          90       60   90\n",
       "2          90       90   30\n",
       "3          60       60   60\n",
       "4          60       60   90\n",
       "5          30       30   30"
      ]
     },
     "execution_count": 9,
     "metadata": {},
     "output_type": "execute_result"
    }
   ],
   "source": [
    "import pandas as pd\n",
    "data = pd.read_excel('student.xlsx', index_col = 0)\n",
    "data.head()"
   ]
  },
  {
   "cell_type": "code",
   "execution_count": 11,
   "metadata": {
    "ExecuteTime": {
     "end_time": "2019-10-29T13:35:37.166226Z",
     "start_time": "2019-10-29T13:35:21.436154Z"
    }
   },
   "outputs": [
    {
     "data": {
      "text/plain": [
       "PCA(copy=True, iterated_power='auto', n_components=2, random_state=None,\n",
       "  svd_solver='auto', tol=0.0, whiten=False)"
      ]
     },
     "execution_count": 11,
     "metadata": {},
     "output_type": "execute_result"
    }
   ],
   "source": [
    "from sklearn.decomposition import PCA\n",
    "pca = PCA(2)\n",
    "pca.fit(data)"
   ]
  },
  {
   "cell_type": "code",
   "execution_count": 12,
   "metadata": {
    "ExecuteTime": {
     "end_time": "2019-10-29T13:36:17.470558Z",
     "start_time": "2019-10-29T13:36:17.462698Z"
    }
   },
   "outputs": [
    {
     "data": {
      "text/plain": [
       "array([[-0.59862919, -0.51336438, -0.61489845],\n",
       "       [ 0.47005554,  0.39643891, -0.78859621]])"
      ]
     },
     "execution_count": 12,
     "metadata": {},
     "output_type": "execute_result"
    }
   ],
   "source": [
    "pca.components_"
   ]
  },
  {
   "cell_type": "code",
   "execution_count": 13,
   "metadata": {
    "ExecuteTime": {
     "end_time": "2019-10-29T13:36:47.038003Z",
     "start_time": "2019-10-29T13:36:47.025321Z"
    }
   },
   "outputs": [
    {
     "data": {
      "text/plain": [
       "(2, 3)"
      ]
     },
     "execution_count": 13,
     "metadata": {},
     "output_type": "execute_result"
    }
   ],
   "source": [
    "pca.components_.shape"
   ]
  },
  {
   "cell_type": "code",
   "execution_count": 14,
   "metadata": {
    "ExecuteTime": {
     "end_time": "2019-10-29T13:37:04.422302Z",
     "start_time": "2019-10-29T13:37:04.412260Z"
    }
   },
   "outputs": [
    {
     "data": {
      "text/plain": [
       "array([605.64181179, 313.26463747])"
      ]
     },
     "execution_count": 14,
     "metadata": {},
     "output_type": "execute_result"
    }
   ],
   "source": [
    "pca.explained_variance_"
   ]
  },
  {
   "cell_type": "code",
   "execution_count": 15,
   "metadata": {
    "ExecuteTime": {
     "end_time": "2019-10-29T13:37:33.259373Z",
     "start_time": "2019-10-29T13:37:33.253950Z"
    }
   },
   "outputs": [
    {
     "data": {
      "text/plain": [
       "(2,)"
      ]
     },
     "execution_count": 15,
     "metadata": {},
     "output_type": "execute_result"
    }
   ],
   "source": [
    "pca.explained_variance_.shape"
   ]
  },
  {
   "cell_type": "code",
   "execution_count": 16,
   "metadata": {
    "ExecuteTime": {
     "end_time": "2019-10-29T13:39:36.881144Z",
     "start_time": "2019-10-29T13:39:36.868056Z"
    }
   },
   "outputs": [
    {
     "data": {
      "text/plain": [
       "array([[-28.71093503, -11.33365494],\n",
       "       [ -7.21795959,  47.87528492],\n",
       "       [  7.69489417,  -1.77743486],\n",
       "       [-10.75205928, -25.43532109],\n",
       "       [ 59.50165485,  -4.11438216],\n",
       "       [ 25.81646249,  -3.29258355],\n",
       "       [ 31.11279888,   5.32954479],\n",
       "       [ 17.96218182,  -9.70621311],\n",
       "       [  7.85758674,  10.80908261],\n",
       "       [-21.70930245,  -4.18385912],\n",
       "       [-20.53126922,  20.25300956],\n",
       "       [-19.84131369,   6.93032584],\n",
       "       [-15.033055  , -22.20709822],\n",
       "       [-15.72301053,  -8.8844145 ],\n",
       "       [-10.42667415,  -0.26228617]])"
      ]
     },
     "execution_count": 16,
     "metadata": {},
     "output_type": "execute_result"
    }
   ],
   "source": [
    "#transform data\n",
    "B = pca.transform(data)\n",
    "B"
   ]
  },
  {
   "cell_type": "code",
   "execution_count": 17,
   "metadata": {
    "ExecuteTime": {
     "end_time": "2019-10-29T13:41:20.762611Z",
     "start_time": "2019-10-29T13:41:20.753511Z"
    }
   },
   "outputs": [
    {
     "data": {
      "text/plain": [
       "array([0.57863867, 0.29929742])"
      ]
     },
     "execution_count": 17,
     "metadata": {},
     "output_type": "execute_result"
    }
   ],
   "source": [
    "pca.explained_variance_ratio_"
   ]
  },
  {
   "cell_type": "code",
   "execution_count": 19,
   "metadata": {
    "ExecuteTime": {
     "end_time": "2019-10-29T13:42:54.598997Z",
     "start_time": "2019-10-29T13:42:54.578589Z"
    }
   },
   "outputs": [
    {
     "data": {
      "text/html": [
       "<div>\n",
       "<style scoped>\n",
       "    .dataframe tbody tr th:only-of-type {\n",
       "        vertical-align: middle;\n",
       "    }\n",
       "\n",
       "    .dataframe tbody tr th {\n",
       "        vertical-align: top;\n",
       "    }\n",
       "\n",
       "    .dataframe thead th {\n",
       "        text-align: right;\n",
       "    }\n",
       "</style>\n",
       "<table border=\"1\" class=\"dataframe\">\n",
       "  <thead>\n",
       "    <tr style=\"text-align: right;\">\n",
       "      <th></th>\n",
       "      <th>principal component 1</th>\n",
       "      <th>principal component 2</th>\n",
       "    </tr>\n",
       "  </thead>\n",
       "  <tbody>\n",
       "    <tr>\n",
       "      <th>0</th>\n",
       "      <td>-28.710935</td>\n",
       "      <td>-11.333655</td>\n",
       "    </tr>\n",
       "    <tr>\n",
       "      <th>1</th>\n",
       "      <td>-7.217960</td>\n",
       "      <td>47.875285</td>\n",
       "    </tr>\n",
       "    <tr>\n",
       "      <th>2</th>\n",
       "      <td>7.694894</td>\n",
       "      <td>-1.777435</td>\n",
       "    </tr>\n",
       "    <tr>\n",
       "      <th>3</th>\n",
       "      <td>-10.752059</td>\n",
       "      <td>-25.435321</td>\n",
       "    </tr>\n",
       "    <tr>\n",
       "      <th>4</th>\n",
       "      <td>59.501655</td>\n",
       "      <td>-4.114382</td>\n",
       "    </tr>\n",
       "  </tbody>\n",
       "</table>\n",
       "</div>"
      ],
      "text/plain": [
       "   principal component 1  principal component 2\n",
       "0             -28.710935             -11.333655\n",
       "1              -7.217960              47.875285\n",
       "2               7.694894              -1.777435\n",
       "3             -10.752059             -25.435321\n",
       "4              59.501655              -4.114382"
      ]
     },
     "execution_count": 19,
     "metadata": {},
     "output_type": "execute_result"
    }
   ],
   "source": [
    "principalDf = pd.DataFrame(data = B, columns = ['principal component 1','principal component 2'])\n",
    "principalDf.head()"
   ]
  },
  {
   "cell_type": "code",
   "execution_count": 21,
   "metadata": {
    "ExecuteTime": {
     "end_time": "2019-10-29T13:46:41.840958Z",
     "start_time": "2019-10-29T13:46:39.747131Z"
    }
   },
   "outputs": [
    {
     "data": {
      "text/plain": [
       "<Figure size 576x432 with 0 Axes>"
      ]
     },
     "metadata": {},
     "output_type": "display_data"
    },
    {
     "data": {
      "image/png": "[encoded data removed]",
      "text/plain": [
       "<Figure size 432x432 with 3 Axes>"
      ]
     },
     "metadata": {},
     "output_type": "display_data"
    }
   ],
   "source": [
    "import matplotlib.pyplot as plt\n",
    "import seaborn as sns\n",
    "plt.figure(figsize=(8,6))\n",
    "sns.jointplot(x='principal component 1', y='principal component 2', data = principalDf)\n",
    "plt.show()"
   ]
  },
  {
   "cell_type": "markdown",
   "metadata": {},
   "source": [
    "__Ex3: PCA sklearn__\n",
    "<br> sklearn.datasets.fetch_lfw_people, min_faces_per_person = 60\n",
    "<br> Demensional Reduction = 150 components\n",
    "<br> Visualization"
   ]
  },
  {
   "cell_type": "code",
   "execution_count": 24,
   "metadata": {
    "ExecuteTime": {
     "end_time": "2019-10-29T13:59:00.822125Z",
     "start_time": "2019-10-29T13:51:05.082485Z"
    }
   },
   "outputs": [
    {
     "name": "stderr",
     "output_type": "stream",
     "text": [
      "Downloading LFW metadata: https://ndownloader.figshare.com/files/5976012\n",
      "Downloading LFW metadata: https://ndownloader.figshare.com/files/5976009\n",
      "Downloading LFW metadata: https://ndownloader.figshare.com/files/5976006\n",
      "Downloading LFW data (~200MB): https://ndownloader.figshare.com/files/5976015\n"
     ]
    },
    {
     "data": {
      "text/plain": [
       "{'DESCR': \".. _labeled_faces_in_the_wild_dataset:\\n\\nThe Labeled Faces in the Wild face recognition dataset\\n------------------------------------------------------\\n\\nThis dataset is a collection of JPEG pictures of famous people collected\\nover the internet, all details are available on the official website:\\n\\n    http://vis-www.cs.umass.edu/lfw/\\n\\nEach picture is centered on a single face. The typical task is called\\nFace Verification: given a pair of two pictures, a binary classifier\\nmust predict whether the two images are from the same person.\\n\\nAn alternative task, Face Recognition or Face Identification is:\\ngiven the picture of the face of an unknown person, identify the name\\nof the person by referring to a gallery of previously seen pictures of\\nidentified persons.\\n\\nBoth Face Verification and Face Recognition are tasks that are typically\\nperformed on the output of a model trained to perform Face Detection. The\\nmost popular model for Face Detection is called Viola-Jones and is\\nimplemented in the OpenCV library. The LFW faces were extracted by this\\nface detector from various online websites.\\n\\n**Data Set Characteristics:**\\n\\n    =================   =======================\\n    Classes                                5749\\n    Samples total                         13233\\n    Dimensionality                         5828\\n    Features            real, between 0 and 255\\n    =================   =======================\\n\\nUsage\\n~~~~~\\n\\n``scikit-learn`` provides two loaders that will automatically download,\\ncache, parse the metadata files, decode the jpeg and convert the\\ninteresting slices into memmapped numpy arrays. This dataset size is more\\nthan 200 MB. The first load typically takes more than a couple of minutes\\nto fully decode the relevant part of the JPEG files into numpy arrays. If\\nthe dataset has  been loaded once, the following times the loading times\\nless than 200ms by using a memmapped version memoized on the disk in the\\n``~/scikit_learn_data/lfw_home/`` folder using ``joblib``.\\n\\nThe first loader is used for the Face Identification task: a multi-class\\nclassification task (hence supervised learning)::\\n\\n  >>> from sklearn.datasets import fetch_lfw_people\\n  >>> lfw_people = fetch_lfw_people(min_faces_per_person=70, resize=0.4)\\n\\n  >>> for name in lfw_people.target_names:\\n  ...     print(name)\\n  ...\\n  Ariel Sharon\\n  Colin Powell\\n  Donald Rumsfeld\\n  George W Bush\\n  Gerhard Schroeder\\n  Hugo Chavez\\n  Tony Blair\\n\\nThe default slice is a rectangular shape around the face, removing\\nmost of the background::\\n\\n  >>> lfw_people.data.dtype\\n  dtype('float32')\\n\\n  >>> lfw_people.data.shape\\n  (1288, 1850)\\n\\n  >>> lfw_people.images.shape\\n  (1288, 50, 37)\\n\\nEach of the ``1140`` faces is assigned to a single person id in the ``target``\\narray::\\n\\n  >>> lfw_people.target.shape\\n  (1288,)\\n\\n  >>> list(lfw_people.target[:10])\\n  [5, 6, 3, 1, 0, 1, 3, 4, 3, 0]\\n\\nThe second loader is typically used for the face verification task: each sample\\nis a pair of two picture belonging or not to the same person::\\n\\n  >>> from sklearn.datasets import fetch_lfw_pairs\\n  >>> lfw_pairs_train = fetch_lfw_pairs(subset='train')\\n\\n  >>> list(lfw_pairs_train.target_names)\\n  ['Different persons', 'Same person']\\n\\n  >>> lfw_pairs_train.pairs.shape\\n  (2200, 2, 62, 47)\\n\\n  >>> lfw_pairs_train.data.shape\\n  (2200, 5828)\\n\\n  >>> lfw_pairs_train.target.shape\\n  (2200,)\\n\\nBoth for the :func:`sklearn.datasets.fetch_lfw_people` and\\n:func:`sklearn.datasets.fetch_lfw_pairs` function it is\\npossible to get an additional dimension with the RGB color channels by\\npassing ``color=True``, in that case the shape will be\\n``(2200, 2, 62, 47, 3)``.\\n\\nThe :func:`sklearn.datasets.fetch_lfw_pairs` datasets is subdivided into\\n3 subsets: the development ``train`` set, the development ``test`` set and\\nan evaluation ``10_folds`` set meant to compute performance metrics using a\\n10-folds cross validation scheme.\\n\\n.. topic:: References:\\n\\n * `Labeled Faces in the Wild: A Database for Studying Face Recognition\\n   in Unconstrained Environments.\\n   <http://vis-www.cs.umass.edu/lfw/lfw.pdf>`_\\n   Gary B. Huang, Manu Ramesh, Tamara Berg, and Erik Learned-Miller.\\n   University of Massachusetts, Amherst, Technical Report 07-49, October, 2007.\\n\\n\\nExamples\\n~~~~~~~~\\n\\n:ref:`sphx_glr_auto_examples_applications_plot_face_recognition.py`\\n\",\n",
       " 'data': array([[138.        , 135.66667   , 127.666664  , ...,   1.6666666 ,\n",
       "           1.6666666 ,   0.33333334],\n",
       "        [ 71.333336  ,  56.        ,  67.666664  , ..., 247.66667   ,\n",
       "         243.        , 238.33333   ],\n",
       "        [ 84.333336  ,  97.333336  ,  72.333336  , ..., 114.        ,\n",
       "         194.33333   , 241.        ],\n",
       "        ...,\n",
       "        [ 29.333334  ,  29.        ,  29.333334  , ..., 145.        ,\n",
       "         147.        , 141.66667   ],\n",
       "        [ 49.333332  ,  55.666668  ,  76.666664  , ..., 186.33333   ,\n",
       "         176.33333   , 161.        ],\n",
       "        [ 31.        ,  26.333334  ,  28.        , ...,  34.        ,\n",
       "          42.        ,  69.666664  ]], dtype=float32),\n",
       " 'images': array([[[138.        , 135.66667   , 127.666664  , ...,  69.        ,\n",
       "           68.333336  ,  67.333336  ],\n",
       "         [146.        , 139.33333   , 125.        , ...,  68.333336  ,\n",
       "           67.666664  ,  67.333336  ],\n",
       "         [150.        , 138.33333   , 124.333336  , ...,  68.333336  ,\n",
       "           67.666664  ,  66.666664  ],\n",
       "         ...,\n",
       "         [153.        , 174.        , 110.666664  , ...,   1.6666666 ,\n",
       "            0.6666667 ,   0.6666667 ],\n",
       "         [122.        , 193.        , 167.33333   , ...,   1.3333334 ,\n",
       "            1.6666666 ,   1.3333334 ],\n",
       "         [ 88.        , 177.33333   , 206.        , ...,   1.6666666 ,\n",
       "            1.6666666 ,   0.33333334]],\n",
       " \n",
       "        [[ 71.333336  ,  56.        ,  67.666664  , ...,  74.333336  ,\n",
       "           89.666664  ,  78.666664  ],\n",
       "         [ 64.333336  ,  61.666668  ,  84.333336  , ...,  72.        ,\n",
       "           87.        ,  78.666664  ],\n",
       "         [ 74.        ,  76.        ,  94.333336  , ...,  69.666664  ,\n",
       "           84.666664  ,  83.333336  ],\n",
       "         ...,\n",
       "         [ 28.333334  ,  26.666666  ,  20.666666  , ..., 242.        ,\n",
       "          236.33333   , 232.        ],\n",
       "         [ 24.        ,  20.666666  ,  18.666666  , ..., 247.        ,\n",
       "          242.33333   , 238.33333   ],\n",
       "         [ 19.666666  ,  14.666667  ,  16.666666  , ..., 247.66667   ,\n",
       "          243.        , 238.33333   ]],\n",
       " \n",
       "        [[ 84.333336  ,  97.333336  ,  72.333336  , ...,  82.666664  ,\n",
       "           51.        ,  71.333336  ],\n",
       "         [ 98.333336  , 101.        ,  75.        , ..., 100.        ,\n",
       "           54.666668  ,  60.666668  ],\n",
       "         [104.666664  , 100.        ,  76.        , ..., 110.666664  ,\n",
       "           67.        ,  62.666668  ],\n",
       "         ...,\n",
       "         [ 56.        ,  56.333332  ,  55.        , ...,  91.        ,\n",
       "          106.666664  , 204.66667   ],\n",
       "         [ 58.333332  ,  58.        ,  56.666668  , ...,  90.666664  ,\n",
       "          140.        , 226.        ],\n",
       "         [ 61.666668  ,  63.        ,  63.333332  , ..., 114.        ,\n",
       "          194.33333   , 241.        ]],\n",
       " \n",
       "        ...,\n",
       " \n",
       "        [[ 29.333334  ,  29.        ,  29.333334  , ...,  85.333336  ,\n",
       "           80.333336  ,  77.        ],\n",
       "         [ 30.        ,  31.666666  ,  43.333332  , ...,  82.        ,\n",
       "           85.        ,  82.333336  ],\n",
       "         [ 35.333332  ,  42.        ,  72.        , ...,  85.666664  ,\n",
       "           83.        ,  87.        ],\n",
       "         ...,\n",
       "         [ 59.333332  ,  57.333332  ,  56.666668  , ..., 145.        ,\n",
       "          143.33333   , 144.        ],\n",
       "         [ 59.333332  ,  58.        ,  58.        , ..., 146.33333   ,\n",
       "          143.66667   , 144.        ],\n",
       "         [ 61.666668  ,  60.333332  ,  59.666668  , ..., 145.        ,\n",
       "          147.        , 141.66667   ]],\n",
       " \n",
       "        [[ 49.333332  ,  55.666668  ,  76.666664  , ..., 160.        ,\n",
       "          158.33333   , 149.66667   ],\n",
       "         [ 55.666668  ,  68.        ,  93.333336  , ..., 156.        ,\n",
       "          153.        , 152.        ],\n",
       "         [ 61.333332  ,  76.        , 104.333336  , ..., 151.66667   ,\n",
       "          143.        , 146.33333   ],\n",
       "         ...,\n",
       "         [ 60.333332  ,  60.333332  ,  61.333332  , ..., 178.33333   ,\n",
       "          169.        , 165.        ],\n",
       "         [ 60.666668  ,  61.333332  ,  62.666668  , ..., 188.33333   ,\n",
       "          172.        , 168.33333   ],\n",
       "         [ 61.        ,  61.333332  ,  61.333332  , ..., 186.33333   ,\n",
       "          176.33333   , 161.        ]],\n",
       " \n",
       "        [[ 31.        ,  26.333334  ,  28.        , ...,  65.333336  ,\n",
       "           49.        ,  47.666668  ],\n",
       "         [ 31.333334  ,  29.333334  ,  34.        , ...,  71.        ,\n",
       "           45.666668  ,  42.333332  ],\n",
       "         [ 33.333332  ,  32.333332  ,  33.333332  , ...,  84.333336  ,\n",
       "           52.333332  ,  45.666668  ],\n",
       "         ...,\n",
       "         [ 44.666668  ,  42.666668  ,  44.666668  , ...,  22.333334  ,\n",
       "           25.333334  ,  46.333332  ],\n",
       "         [ 42.333332  ,  42.333332  ,  45.        , ...,  25.333334  ,\n",
       "           32.666668  ,  49.666668  ],\n",
       "         [ 46.        ,  49.333332  ,  51.666668  , ...,  34.        ,\n",
       "           42.        ,  69.666664  ]]], dtype=float32),\n",
       " 'target': array([1, 3, 3, ..., 7, 3, 5], dtype=int64),\n",
       " 'target_names': array(['Ariel Sharon', 'Colin Powell', 'Donald Rumsfeld', 'George W Bush',\n",
       "        'Gerhard Schroeder', 'Hugo Chavez', 'Junichiro Koizumi',\n",
       "        'Tony Blair'], dtype='<U17')}"
      ]
     },
     "execution_count": 24,
     "metadata": {},
     "output_type": "execute_result"
    }
   ],
   "source": [
    "from sklearn.datasets import fetch_lfw_people\n",
    "faces = fetch_lfw_people(min_faces_per_person = 60)\n",
    "faces"
   ]
  },
  {
   "cell_type": "code",
   "execution_count": 27,
   "metadata": {
    "ExecuteTime": {
     "end_time": "2019-10-29T14:04:00.722612Z",
     "start_time": "2019-10-29T14:04:00.713174Z"
    }
   },
   "outputs": [
    {
     "data": {
      "text/plain": [
       "(1348,)"
      ]
     },
     "execution_count": 27,
     "metadata": {},
     "output_type": "execute_result"
    }
   ],
   "source": [
    "faces.target.shape"
   ]
  },
  {
   "cell_type": "code",
   "execution_count": 40,
   "metadata": {
    "ExecuteTime": {
     "end_time": "2019-10-29T14:17:13.919558Z",
     "start_time": "2019-10-29T14:17:13.907794Z"
    }
   },
   "outputs": [
    {
     "data": {
      "text/plain": [
       "array([0, 1, 2, 3, 4, 5, 6, 7], dtype=int64)"
      ]
     },
     "execution_count": 40,
     "metadata": {},
     "output_type": "execute_result"
    }
   ],
   "source": [
    "np.unique(faces.target)"
   ]
  },
  {
   "cell_type": "code",
   "execution_count": 28,
   "metadata": {
    "ExecuteTime": {
     "end_time": "2019-10-29T14:04:39.860241Z",
     "start_time": "2019-10-29T14:04:39.848343Z"
    }
   },
   "outputs": [
    {
     "data": {
      "text/plain": [
       "(1348, 2914)"
      ]
     },
     "execution_count": 28,
     "metadata": {},
     "output_type": "execute_result"
    }
   ],
   "source": [
    "faces.data.shape"
   ]
  },
  {
   "cell_type": "code",
   "execution_count": 29,
   "metadata": {
    "ExecuteTime": {
     "end_time": "2019-10-29T14:04:53.738233Z",
     "start_time": "2019-10-29T14:04:53.725266Z"
    }
   },
   "outputs": [
    {
     "data": {
      "text/plain": [
       "(1348, 62, 47)"
      ]
     },
     "execution_count": 29,
     "metadata": {},
     "output_type": "execute_result"
    }
   ],
   "source": [
    "faces.images.shape"
   ]
  },
  {
   "cell_type": "code",
   "execution_count": 30,
   "metadata": {
    "ExecuteTime": {
     "end_time": "2019-10-29T14:07:05.946755Z",
     "start_time": "2019-10-29T14:07:05.131403Z"
    }
   },
   "outputs": [
    {
     "data": {
      "text/plain": [
       "PCA(copy=True, iterated_power='auto', n_components=150, random_state=None,\n",
       "  svd_solver='auto', tol=0.0, whiten=False)"
      ]
     },
     "execution_count": 30,
     "metadata": {},
     "output_type": "execute_result"
    }
   ],
   "source": [
    "from sklearn.decomposition import PCA\n",
    "pca = PCA(150)\n",
    "pca.fit(faces.data)"
   ]
  },
  {
   "cell_type": "code",
   "execution_count": 32,
   "metadata": {
    "ExecuteTime": {
     "end_time": "2019-10-29T14:07:51.476168Z",
     "start_time": "2019-10-29T14:07:51.465582Z"
    }
   },
   "outputs": [
    {
     "data": {
      "text/plain": [
       "(150,)"
      ]
     },
     "execution_count": 32,
     "metadata": {},
     "output_type": "execute_result"
    }
   ],
   "source": [
    "pca.explained_variance_ratio_.shape"
   ]
  },
  {
   "cell_type": "code",
   "execution_count": 33,
   "metadata": {
    "ExecuteTime": {
     "end_time": "2019-10-29T14:08:25.635948Z",
     "start_time": "2019-10-29T14:08:25.627639Z"
    }
   },
   "outputs": [
    {
     "data": {
      "text/plain": [
       "0.9457078313862439"
      ]
     },
     "execution_count": 33,
     "metadata": {},
     "output_type": "execute_result"
    }
   ],
   "source": [
    "x = sum(pca.explained_variance_ratio_)\n",
    "x"
   ]
  },
  {
   "cell_type": "code",
   "execution_count": 34,
   "metadata": {
    "ExecuteTime": {
     "end_time": "2019-10-29T14:10:09.070035Z",
     "start_time": "2019-10-29T14:10:08.983732Z"
    }
   },
   "outputs": [],
   "source": [
    "components = pca.transform(faces.data)\n",
    "projected = pca.inverse_transform(components)"
   ]
  },
  {
   "cell_type": "code",
   "execution_count": 36,
   "metadata": {
    "ExecuteTime": {
     "end_time": "2019-10-29T14:10:29.281530Z",
     "start_time": "2019-10-29T14:10:29.272719Z"
    }
   },
   "outputs": [
    {
     "data": {
      "text/plain": [
       "(1348, 150)"
      ]
     },
     "execution_count": 36,
     "metadata": {},
     "output_type": "execute_result"
    }
   ],
   "source": [
    "components.shape"
   ]
  },
  {
   "cell_type": "code",
   "execution_count": 37,
   "metadata": {
    "ExecuteTime": {
     "end_time": "2019-10-29T14:10:46.801385Z",
     "start_time": "2019-10-29T14:10:46.796335Z"
    }
   },
   "outputs": [
    {
     "data": {
      "text/plain": [
       "(1348, 2914)"
      ]
     },
     "execution_count": 37,
     "metadata": {},
     "output_type": "execute_result"
    }
   ],
   "source": [
    "projected.shape"
   ]
  },
  {
   "cell_type": "code",
   "execution_count": 42,
   "metadata": {
    "ExecuteTime": {
     "end_time": "2019-10-29T14:20:27.196776Z",
     "start_time": "2019-10-29T14:20:25.696519Z"
    },
    "scrolled": true
   },
   "outputs": [
    {
     "data": {
      "text/plain": [
       "Text(0, 0.5, '150-dim\\nreconstruction')"
      ]
     },
     "execution_count": 42,
     "metadata": {},
     "output_type": "execute_result"
    },
    {
     "data": {
      "image/png": "[encoded data removed]",
      "text/plain": [
       "<Figure size 720x180 with 20 Axes>"
      ]
     },
     "metadata": {},
     "output_type": "display_data"
    }
   ],
   "source": [
    "import matplotlib.pyplot as plt\n",
    "import seaborn as sns\n",
    "## Plot the results\n",
    "fig, ax = plt.subplots(2, 10, figsize=(10, 2.5),\n",
    "                      subplot_kw={'xticks':[], 'yticks':[]},\n",
    "                      gridspec_kw=dict(hspace=0.1, wspace=0.1))\n",
    "for i in range(10):\n",
    "    ax[0,i].imshow(faces.data[i].reshape(62,47), cmap='binary_r')\n",
    "    ax[1,i].imshow(projected[i].reshape(62,47), cmap='binary_r')\n",
    "    \n",
    "ax[0,0].set_ylabel('full-dim\\ninput')\n",
    "ax[1,0].set_ylabel('150-dim\\nreconstruction')"
   ]
  },
  {
   "cell_type": "markdown",
   "metadata": {},
   "source": [
    "__Ex4: PCA__\n",
    "<br> Iris.xls\n",
    "<br> correlation matrix\n",
    "<br> PCA (n_components=2)"
   ]
  },
  {
   "cell_type": "code",
   "execution_count": 44,
   "metadata": {
    "ExecuteTime": {
     "end_time": "2019-10-29T14:24:00.073407Z",
     "start_time": "2019-10-29T14:24:00.002599Z"
    }
   },
   "outputs": [
    {
     "data": {
      "text/html": [
       "<div>\n",
       "<style scoped>\n",
       "    .dataframe tbody tr th:only-of-type {\n",
       "        vertical-align: middle;\n",
       "    }\n",
       "\n",
       "    .dataframe tbody tr th {\n",
       "        vertical-align: top;\n",
       "    }\n",
       "\n",
       "    .dataframe thead th {\n",
       "        text-align: right;\n",
       "    }\n",
       "</style>\n",
       "<table border=\"1\" class=\"dataframe\">\n",
       "  <thead>\n",
       "    <tr style=\"text-align: right;\">\n",
       "      <th></th>\n",
       "      <th>sepallength</th>\n",
       "      <th>sepalwidth</th>\n",
       "      <th>petallength</th>\n",
       "      <th>petalwidth</th>\n",
       "      <th>iris</th>\n",
       "    </tr>\n",
       "  </thead>\n",
       "  <tbody>\n",
       "    <tr>\n",
       "      <th>0</th>\n",
       "      <td>5.1</td>\n",
       "      <td>3.5</td>\n",
       "      <td>1.4</td>\n",
       "      <td>0.2</td>\n",
       "      <td>Iris-setosa</td>\n",
       "    </tr>\n",
       "    <tr>\n",
       "      <th>1</th>\n",
       "      <td>4.9</td>\n",
       "      <td>3.0</td>\n",
       "      <td>1.4</td>\n",
       "      <td>0.2</td>\n",
       "      <td>Iris-setosa</td>\n",
       "    </tr>\n",
       "    <tr>\n",
       "      <th>2</th>\n",
       "      <td>4.7</td>\n",
       "      <td>3.2</td>\n",
       "      <td>1.3</td>\n",
       "      <td>0.2</td>\n",
       "      <td>Iris-setosa</td>\n",
       "    </tr>\n",
       "    <tr>\n",
       "      <th>3</th>\n",
       "      <td>4.6</td>\n",
       "      <td>3.1</td>\n",
       "      <td>1.5</td>\n",
       "      <td>0.2</td>\n",
       "      <td>Iris-setosa</td>\n",
       "    </tr>\n",
       "    <tr>\n",
       "      <th>4</th>\n",
       "      <td>5.0</td>\n",
       "      <td>3.6</td>\n",
       "      <td>1.4</td>\n",
       "      <td>0.2</td>\n",
       "      <td>Iris-setosa</td>\n",
       "    </tr>\n",
       "  </tbody>\n",
       "</table>\n",
       "</div>"
      ],
      "text/plain": [
       "   sepallength  sepalwidth  petallength  petalwidth         iris\n",
       "0          5.1         3.5          1.4         0.2  Iris-setosa\n",
       "1          4.9         3.0          1.4         0.2  Iris-setosa\n",
       "2          4.7         3.2          1.3         0.2  Iris-setosa\n",
       "3          4.6         3.1          1.5         0.2  Iris-setosa\n",
       "4          5.0         3.6          1.4         0.2  Iris-setosa"
      ]
     },
     "execution_count": 44,
     "metadata": {},
     "output_type": "execute_result"
    }
   ],
   "source": [
    "data = pd.read_excel('Iris.xls')\n",
    "data.head()"
   ]
  },
  {
   "cell_type": "code",
   "execution_count": 46,
   "metadata": {
    "ExecuteTime": {
     "end_time": "2019-10-29T14:24:39.011668Z",
     "start_time": "2019-10-29T14:24:38.992832Z"
    }
   },
   "outputs": [
    {
     "data": {
      "text/html": [
       "<div>\n",
       "<style scoped>\n",
       "    .dataframe tbody tr th:only-of-type {\n",
       "        vertical-align: middle;\n",
       "    }\n",
       "\n",
       "    .dataframe tbody tr th {\n",
       "        vertical-align: top;\n",
       "    }\n",
       "\n",
       "    .dataframe thead th {\n",
       "        text-align: right;\n",
       "    }\n",
       "</style>\n",
       "<table border=\"1\" class=\"dataframe\">\n",
       "  <thead>\n",
       "    <tr style=\"text-align: right;\">\n",
       "      <th></th>\n",
       "      <th>sepallength</th>\n",
       "      <th>sepalwidth</th>\n",
       "      <th>petallength</th>\n",
       "      <th>petalwidth</th>\n",
       "    </tr>\n",
       "  </thead>\n",
       "  <tbody>\n",
       "    <tr>\n",
       "      <th>sepallength</th>\n",
       "      <td>1.000000</td>\n",
       "      <td>-0.109369</td>\n",
       "      <td>0.871754</td>\n",
       "      <td>0.817954</td>\n",
       "    </tr>\n",
       "    <tr>\n",
       "      <th>sepalwidth</th>\n",
       "      <td>-0.109369</td>\n",
       "      <td>1.000000</td>\n",
       "      <td>-0.420516</td>\n",
       "      <td>-0.356544</td>\n",
       "    </tr>\n",
       "    <tr>\n",
       "      <th>petallength</th>\n",
       "      <td>0.871754</td>\n",
       "      <td>-0.420516</td>\n",
       "      <td>1.000000</td>\n",
       "      <td>0.962757</td>\n",
       "    </tr>\n",
       "    <tr>\n",
       "      <th>petalwidth</th>\n",
       "      <td>0.817954</td>\n",
       "      <td>-0.356544</td>\n",
       "      <td>0.962757</td>\n",
       "      <td>1.000000</td>\n",
       "    </tr>\n",
       "  </tbody>\n",
       "</table>\n",
       "</div>"
      ],
      "text/plain": [
       "             sepallength  sepalwidth  petallength  petalwidth\n",
       "sepallength     1.000000   -0.109369     0.871754    0.817954\n",
       "sepalwidth     -0.109369    1.000000    -0.420516   -0.356544\n",
       "petallength     0.871754   -0.420516     1.000000    0.962757\n",
       "petalwidth      0.817954   -0.356544     0.962757    1.000000"
      ]
     },
     "execution_count": 46,
     "metadata": {},
     "output_type": "execute_result"
    }
   ],
   "source": [
    "corr = data.corr()\n",
    "corr"
   ]
  },
  {
   "cell_type": "code",
   "execution_count": 47,
   "metadata": {
    "ExecuteTime": {
     "end_time": "2019-10-29T14:25:49.498907Z",
     "start_time": "2019-10-29T14:25:49.056921Z"
    }
   },
   "outputs": [
    {
     "data": {
      "text/plain": [
       "<matplotlib.axes._subplots.AxesSubplot at 0x190b8038d68>"
      ]
     },
     "execution_count": 47,
     "metadata": {},
     "output_type": "execute_result"
    },
    {
     "data": {
      "image/png": "[encoded data removed]",
      "text/plain": [
       "<Figure size 432x288 with 2 Axes>"
      ]
     },
     "metadata": {},
     "output_type": "display_data"
    }
   ],
   "source": [
    "import seaborn as sns\n",
    "sns.heatmap(corr,\n",
    "           xticklabels=corr.columns.values,\n",
    "           yticklabels=corr.columns.values)"
   ]
  },
  {
   "cell_type": "code",
   "execution_count": 48,
   "metadata": {
    "ExecuteTime": {
     "end_time": "2019-10-29T14:26:55.847643Z",
     "start_time": "2019-10-29T14:26:55.836545Z"
    }
   },
   "outputs": [],
   "source": [
    "A = data[['sepallength','sepalwidth','petallength','petalwidth']]"
   ]
  },
  {
   "cell_type": "code",
   "execution_count": 49,
   "metadata": {
    "ExecuteTime": {
     "end_time": "2019-10-29T14:27:19.787723Z",
     "start_time": "2019-10-29T14:27:19.774381Z"
    }
   },
   "outputs": [
    {
     "data": {
      "text/plain": [
       "PCA(copy=True, iterated_power='auto', n_components=2, random_state=None,\n",
       "  svd_solver='auto', tol=0.0, whiten=False)"
      ]
     },
     "execution_count": 49,
     "metadata": {},
     "output_type": "execute_result"
    }
   ],
   "source": [
    "pca = PCA(2)\n",
    "pca.fit(A)"
   ]
  },
  {
   "cell_type": "code",
   "execution_count": 50,
   "metadata": {
    "ExecuteTime": {
     "end_time": "2019-10-29T14:27:31.438746Z",
     "start_time": "2019-10-29T14:27:31.425641Z"
    }
   },
   "outputs": [
    {
     "data": {
      "text/plain": [
       "array([[ 0.36158968, -0.08226889,  0.85657211,  0.35884393],\n",
       "       [ 0.65653988,  0.72971237, -0.1757674 , -0.07470647]])"
      ]
     },
     "execution_count": 50,
     "metadata": {},
     "output_type": "execute_result"
    }
   ],
   "source": [
    "pca.components_"
   ]
  },
  {
   "cell_type": "code",
   "execution_count": 51,
   "metadata": {
    "ExecuteTime": {
     "end_time": "2019-10-29T14:27:57.373639Z",
     "start_time": "2019-10-29T14:27:57.365066Z"
    }
   },
   "outputs": [
    {
     "data": {
      "text/plain": [
       "array([4.22484077, 0.24224357])"
      ]
     },
     "execution_count": 51,
     "metadata": {},
     "output_type": "execute_result"
    }
   ],
   "source": [
    "pca.explained_variance_"
   ]
  },
  {
   "cell_type": "code",
   "execution_count": 54,
   "metadata": {
    "ExecuteTime": {
     "end_time": "2019-10-29T14:28:56.394262Z",
     "start_time": "2019-10-29T14:28:56.380385Z"
    }
   },
   "outputs": [
    {
     "data": {
      "text/plain": [
       "array([[-2.68420713,  0.32660731],\n",
       "       [-2.71539062, -0.16955685],\n",
       "       [-2.88981954, -0.13734561],\n",
       "       [-2.7464372 , -0.31112432],\n",
       "       [-2.72859298,  0.33392456]])"
      ]
     },
     "execution_count": 54,
     "metadata": {},
     "output_type": "execute_result"
    }
   ],
   "source": [
    "# transform data\n",
    "B = pca.transform(A)\n",
    "B[0:5]"
   ]
  },
  {
   "cell_type": "code",
   "execution_count": 55,
   "metadata": {
    "ExecuteTime": {
     "end_time": "2019-10-29T14:29:56.804393Z",
     "start_time": "2019-10-29T14:29:56.795414Z"
    }
   },
   "outputs": [
    {
     "data": {
      "text/plain": [
       "array([0.92461621, 0.05301557])"
      ]
     },
     "execution_count": 55,
     "metadata": {},
     "output_type": "execute_result"
    }
   ],
   "source": [
    "pca.explained_variance_ratio_"
   ]
  },
  {
   "cell_type": "code",
   "execution_count": 56,
   "metadata": {
    "ExecuteTime": {
     "end_time": "2019-10-29T14:34:22.737394Z",
     "start_time": "2019-10-29T14:34:22.705466Z"
    },
    "scrolled": true
   },
   "outputs": [
    {
     "data": {
      "text/html": [
       "<div>\n",
       "<style scoped>\n",
       "    .dataframe tbody tr th:only-of-type {\n",
       "        vertical-align: middle;\n",
       "    }\n",
       "\n",
       "    .dataframe tbody tr th {\n",
       "        vertical-align: top;\n",
       "    }\n",
       "\n",
       "    .dataframe thead th {\n",
       "        text-align: right;\n",
       "    }\n",
       "</style>\n",
       "<table border=\"1\" class=\"dataframe\">\n",
       "  <thead>\n",
       "    <tr style=\"text-align: right;\">\n",
       "      <th></th>\n",
       "      <th>principal component 1</th>\n",
       "      <th>principal component 2</th>\n",
       "      <th>types</th>\n",
       "    </tr>\n",
       "  </thead>\n",
       "  <tbody>\n",
       "    <tr>\n",
       "      <th>0</th>\n",
       "      <td>-2.684207</td>\n",
       "      <td>0.326607</td>\n",
       "      <td>Iris-setosa</td>\n",
       "    </tr>\n",
       "    <tr>\n",
       "      <th>1</th>\n",
       "      <td>-2.715391</td>\n",
       "      <td>-0.169557</td>\n",
       "      <td>Iris-setosa</td>\n",
       "    </tr>\n",
       "    <tr>\n",
       "      <th>2</th>\n",
       "      <td>-2.889820</td>\n",
       "      <td>-0.137346</td>\n",
       "      <td>Iris-setosa</td>\n",
       "    </tr>\n",
       "    <tr>\n",
       "      <th>3</th>\n",
       "      <td>-2.746437</td>\n",
       "      <td>-0.311124</td>\n",
       "      <td>Iris-setosa</td>\n",
       "    </tr>\n",
       "    <tr>\n",
       "      <th>4</th>\n",
       "      <td>-2.728593</td>\n",
       "      <td>0.333925</td>\n",
       "      <td>Iris-setosa</td>\n",
       "    </tr>\n",
       "  </tbody>\n",
       "</table>\n",
       "</div>"
      ],
      "text/plain": [
       "   principal component 1  principal component 2        types\n",
       "0              -2.684207               0.326607  Iris-setosa\n",
       "1              -2.715391              -0.169557  Iris-setosa\n",
       "2              -2.889820              -0.137346  Iris-setosa\n",
       "3              -2.746437              -0.311124  Iris-setosa\n",
       "4              -2.728593               0.333925  Iris-setosa"
      ]
     },
     "execution_count": 56,
     "metadata": {},
     "output_type": "execute_result"
    }
   ],
   "source": [
    "pricipalDf = pd.DataFrame(data = B\n",
    "                         ,columns = ['principal component 1','principal component 2'])\n",
    "y = np.array(data.iris)\n",
    "y = pd.DataFrame(data = y, columns = ['types'])\n",
    "finalDf = pd.concat([pricipalDf,y], axis = 1)\n",
    "finalDf.head()"
   ]
  },
  {
   "cell_type": "code",
   "execution_count": 58,
   "metadata": {
    "ExecuteTime": {
     "end_time": "2019-10-29T14:36:40.588869Z",
     "start_time": "2019-10-29T14:36:40.105138Z"
    }
   },
   "outputs": [
    {
     "data": {
      "image/png": "[encoded data removed]",
      "text/plain": [
       "<Figure size 576x576 with 1 Axes>"
      ]
     },
     "metadata": {},
     "output_type": "display_data"
    }
   ],
   "source": [
    "plt.figure(figsize=(8,8))\n",
    "sns.scatterplot(x='principal component 1', y='principal component 2', data = finalDf, hue='types')\n",
    "plt.show()"
   ]
  }
 ],
 "metadata": {
  "kernelspec": {
   "display_name": "Python 3",
   "language": "python",
   "name": "python3"
  },
  "language_info": {
   "codemirror_mode": {
    "name": "ipython",
    "version": 3
   },
   "file_extension": ".py",
   "mimetype": "text/x-python",
   "name": "python",
   "nbconvert_exporter": "python",
   "pygments_lexer": "ipython3",
   "version": "3.6.4"
  },
  "toc": {
   "base_numbering": 1,
   "nav_menu": {},
   "number_sections": true,
   "sideBar": true,
   "skip_h1_title": false,
   "title_cell": "Table of Contents",
   "title_sidebar": "Contents",
   "toc_cell": false,
   "toc_position": {},
   "toc_section_display": true,
   "toc_window_display": false
  }
 },
 "nbformat": 4,
 "nbformat_minor": 2
}
