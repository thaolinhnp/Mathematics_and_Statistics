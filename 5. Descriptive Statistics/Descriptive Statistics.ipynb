{
 "cells": [
  {
   "cell_type": "markdown",
   "metadata": {},
   "source": [
    "__Ex1: Descriptive Statistics - Count_Cars__"
   ]
  },
  {
   "cell_type": "code",
   "execution_count": 4,
   "metadata": {
    "ExecuteTime": {
     "end_time": "2019-11-03T03:11:39.610166Z",
     "start_time": "2019-11-03T03:11:39.291020Z"
    }
   },
   "outputs": [
    {
     "data": {
      "text/plain": [
       "array([23, 20, 16, 18, 30, 22, 26, 15,  5, 18, 14, 17, 11, 37, 21,  6, 10,\n",
       "       20, 22, 25, 19, 19, 19, 20, 12, 23, 24, 17, 18, 16, 27, 16, 28, 26,\n",
       "       15, 29, 19, 35, 20, 17, 12, 30, 21, 22, 20, 15, 18, 16, 23, 24, 15,\n",
       "       24, 28, 19, 24, 22, 17, 19,  8, 18, 17, 18, 23, 21, 25, 19, 20, 22,\n",
       "       21, 21, 16, 20, 19, 11, 23, 17, 23, 13, 17, 26, 26, 14, 15, 16, 27,\n",
       "       18, 21, 24, 33, 20, 21, 27, 18, 22, 17, 20, 14, 21, 22, 19])"
      ]
     },
     "execution_count": 4,
     "metadata": {},
     "output_type": "execute_result"
    }
   ],
   "source": [
    "import numpy as np\n",
    "f = open('count_cars.txt','r')\n",
    "content = f.read()\n",
    "cars = content.split()\n",
    "cars = list(map(int, cars))\n",
    "cars_array = np.array(cars)\n",
    "cars_array"
   ]
  },
  {
   "cell_type": "code",
   "execution_count": 7,
   "metadata": {
    "ExecuteTime": {
     "end_time": "2019-11-03T05:52:19.836042Z",
     "start_time": "2019-11-03T05:52:19.304287Z"
    }
   },
   "outputs": [
    {
     "data": {
      "image/png": "[encoded data removed]",
      "text/plain": [
       "<Figure size 576x288 with 2 Axes>"
      ]
     },
     "metadata": {},
     "output_type": "display_data"
    }
   ],
   "source": [
    "import matplotlib.pyplot as plt\n",
    "import seaborn as sns\n",
    "plt.figure(figsize=(8,4))\n",
    "plt.subplot(1,2,1)\n",
    "plt.hist(cars_array)\n",
    "plt.subplot(1,2,2)\n",
    "sns.distplot(cars_array)\n",
    "plt.show()"
   ]
  },
  {
   "cell_type": "code",
   "execution_count": 8,
   "metadata": {
    "ExecuteTime": {
     "end_time": "2019-11-03T05:52:46.864718Z",
     "start_time": "2019-11-03T05:52:46.856625Z"
    }
   },
   "outputs": [
    {
     "data": {
      "text/plain": [
       "19.97"
      ]
     },
     "execution_count": 8,
     "metadata": {},
     "output_type": "execute_result"
    }
   ],
   "source": [
    "cars_array.mean()"
   ]
  },
  {
   "cell_type": "code",
   "execution_count": 9,
   "metadata": {
    "ExecuteTime": {
     "end_time": "2019-11-03T05:53:02.255917Z",
     "start_time": "2019-11-03T05:53:02.245000Z"
    }
   },
   "outputs": [
    {
     "data": {
      "text/plain": [
       "37"
      ]
     },
     "execution_count": 9,
     "metadata": {},
     "output_type": "execute_result"
    }
   ],
   "source": [
    "cars_array.max()"
   ]
  },
  {
   "cell_type": "code",
   "execution_count": 10,
   "metadata": {
    "ExecuteTime": {
     "end_time": "2019-11-03T05:53:10.347860Z",
     "start_time": "2019-11-03T05:53:10.336162Z"
    }
   },
   "outputs": [
    {
     "data": {
      "text/plain": [
       "5"
      ]
     },
     "execution_count": 10,
     "metadata": {},
     "output_type": "execute_result"
    }
   ],
   "source": [
    "cars_array.min()"
   ]
  },
  {
   "cell_type": "code",
   "execution_count": 11,
   "metadata": {
    "ExecuteTime": {
     "end_time": "2019-11-03T05:54:08.395728Z",
     "start_time": "2019-11-03T05:54:08.386301Z"
    }
   },
   "outputs": [
    {
     "data": {
      "text/plain": [
       "ModeResult(mode=array([19]), count=array([9]))"
      ]
     },
     "execution_count": 11,
     "metadata": {},
     "output_type": "execute_result"
    }
   ],
   "source": [
    "from scipy import stats\n",
    "mode = stats.mode(cars_array)\n",
    "mode"
   ]
  },
  {
   "cell_type": "code",
   "execution_count": 12,
   "metadata": {
    "ExecuteTime": {
     "end_time": "2019-11-03T05:54:53.038008Z",
     "start_time": "2019-11-03T05:54:53.029894Z"
    }
   },
   "outputs": [
    {
     "data": {
      "text/plain": [
       "32"
      ]
     },
     "execution_count": 12,
     "metadata": {},
     "output_type": "execute_result"
    }
   ],
   "source": [
    "range_cars = np.ptp(cars_array)\n",
    "range_cars"
   ]
  },
  {
   "cell_type": "code",
   "execution_count": 14,
   "metadata": {
    "ExecuteTime": {
     "end_time": "2019-11-03T05:56:42.628814Z",
     "start_time": "2019-11-03T05:56:42.612903Z"
    }
   },
   "outputs": [
    {
     "data": {
      "text/plain": [
       "array([11., 15., 17., 20., 23., 27.])"
      ]
     },
     "execution_count": 14,
     "metadata": {},
     "output_type": "execute_result"
    }
   ],
   "source": [
    "percentiles = np.array([5,15,25,50,75,90])\n",
    "x = np.percentile(cars_array,percentiles)\n",
    "x"
   ]
  },
  {
   "cell_type": "code",
   "execution_count": 34,
   "metadata": {
    "ExecuteTime": {
     "end_time": "2019-11-03T07:57:32.640487Z",
     "start_time": "2019-11-03T07:57:32.397810Z"
    }
   },
   "outputs": [
    {
     "data": {
      "image/png": "[encoded data removed]",
      "text/plain": [
       "<Figure size 432x288 with 1 Axes>"
      ]
     },
     "metadata": {},
     "output_type": "display_data"
    }
   ],
   "source": [
    "plt.plot(x, percentiles/100, marker='D', color='red',linestyle='none')\n",
    "plt.show()"
   ]
  },
  {
   "cell_type": "code",
   "execution_count": 16,
   "metadata": {
    "ExecuteTime": {
     "end_time": "2019-11-03T05:59:19.388192Z",
     "start_time": "2019-11-03T05:59:19.106034Z"
    }
   },
   "outputs": [
    {
     "data": {
      "text/plain": [
       "<matplotlib.axes._subplots.AxesSubplot at 0x1ae64983f98>"
      ]
     },
     "execution_count": 16,
     "metadata": {},
     "output_type": "execute_result"
    },
    {
     "data": {
      "image/png": "[encoded data removed]",
      "text/plain": [
       "<Figure size 432x288 with 1 Axes>"
      ]
     },
     "metadata": {},
     "output_type": "display_data"
    }
   ],
   "source": [
    "# boxplot of cars_array\n",
    "sns.boxplot(cars_array)"
   ]
  },
  {
   "cell_type": "code",
   "execution_count": 25,
   "metadata": {
    "ExecuteTime": {
     "end_time": "2019-11-03T06:14:23.528234Z",
     "start_time": "2019-11-03T06:14:23.512079Z"
    }
   },
   "outputs": [
    {
     "name": "stdout",
     "output_type": "stream",
     "text": [
      "Indexs of outliers: [8, 13, 15, 37]\n",
      "Outliers value: [ 5 37  6 35]\n"
     ]
    }
   ],
   "source": [
    "#Using z-score to define outliers\n",
    "cars_z_score = stats.zscore(cars_array)\n",
    "outliers = cars_z_score[[(n <= -2.5)|(n >= 2.5) for n in cars_z_score]]\n",
    "indexes = [cars_z_score.tolist().index(i) for i in outliers]\n",
    "\n",
    "print('Indexs of outliers:', indexes)\n",
    "print('Outliers value:', cars_array[indexes])"
   ]
  },
  {
   "cell_type": "code",
   "execution_count": 26,
   "metadata": {
    "ExecuteTime": {
     "end_time": "2019-11-03T06:14:27.440700Z",
     "start_time": "2019-11-03T06:14:27.236792Z"
    }
   },
   "outputs": [
    {
     "data": {
      "image/png": "[encoded data removed]",
      "text/plain": [
       "<Figure size 432x288 with 1 Axes>"
      ]
     },
     "metadata": {},
     "output_type": "display_data"
    }
   ],
   "source": [
    "# remove ouliers\n",
    "cars_array_clean = cars_array.copy()\n",
    "cars_array_clean = np.delete(cars_array_clean,indexes)\n",
    "sns.boxplot(cars_array_clean)\n",
    "plt.show()"
   ]
  },
  {
   "cell_type": "code",
   "execution_count": 27,
   "metadata": {
    "ExecuteTime": {
     "end_time": "2019-11-03T06:16:00.746603Z",
     "start_time": "2019-11-03T06:16:00.737759Z"
    }
   },
   "outputs": [
    {
     "data": {
      "text/plain": [
       "6.0"
      ]
     },
     "execution_count": 27,
     "metadata": {},
     "output_type": "execute_result"
    }
   ],
   "source": [
    "#IQR for cars_array\n",
    "IQR = stats.iqr(cars_array)\n",
    "IQR"
   ]
  },
  {
   "cell_type": "code",
   "execution_count": 28,
   "metadata": {
    "ExecuteTime": {
     "end_time": "2019-11-03T06:16:56.474737Z",
     "start_time": "2019-11-03T06:16:56.466453Z"
    }
   },
   "outputs": [
    {
     "data": {
      "text/plain": [
       "30.489099999999993"
      ]
     },
     "execution_count": 28,
     "metadata": {},
     "output_type": "execute_result"
    }
   ],
   "source": [
    "var_cars = np.var(cars_array)\n",
    "var_cars"
   ]
  },
  {
   "cell_type": "code",
   "execution_count": 30,
   "metadata": {
    "ExecuteTime": {
     "end_time": "2019-11-03T06:17:17.040781Z",
     "start_time": "2019-11-03T06:17:17.030883Z"
    }
   },
   "outputs": [
    {
     "data": {
      "text/plain": [
       "5.52169358077755"
      ]
     },
     "execution_count": 30,
     "metadata": {},
     "output_type": "execute_result"
    }
   ],
   "source": [
    "# np.sqrt(var_cars)\n",
    "std_cars = np.std(cars_array)"
   ]
  },
  {
   "cell_type": "code",
   "execution_count": 31,
   "metadata": {
    "ExecuteTime": {
     "end_time": "2019-11-03T06:18:57.671968Z",
     "start_time": "2019-11-03T06:18:57.659512Z"
    }
   },
   "outputs": [
    {
     "data": {
      "text/plain": [
       "0.21285259034645865"
      ]
     },
     "execution_count": 31,
     "metadata": {},
     "output_type": "execute_result"
    }
   ],
   "source": [
    "## Skewness\n",
    "skew_cars = stats.skew(cars_array)\n",
    "skew_cars\n",
    "#skew > 0 => lech phai"
   ]
  },
  {
   "cell_type": "code",
   "execution_count": 32,
   "metadata": {
    "ExecuteTime": {
     "end_time": "2019-11-03T06:20:16.887666Z",
     "start_time": "2019-11-03T06:20:16.874721Z"
    }
   },
   "outputs": [
    {
     "data": {
      "text/plain": [
       "0.9396339028047"
      ]
     },
     "execution_count": 32,
     "metadata": {},
     "output_type": "execute_result"
    }
   ],
   "source": [
    "## Kurtosis\n",
    "kur_cars = stats.kurtosis(cars_array)\n",
    "kur_cars"
   ]
  },
  {
   "cell_type": "code",
   "execution_count": 33,
   "metadata": {
    "ExecuteTime": {
     "end_time": "2019-11-03T06:21:10.188683Z",
     "start_time": "2019-11-03T06:21:10.179737Z"
    }
   },
   "outputs": [
    {
     "data": {
      "text/plain": [
       "3.9396339028047"
      ]
     },
     "execution_count": 33,
     "metadata": {},
     "output_type": "execute_result"
    }
   ],
   "source": [
    "kur_cars = stats.kurtosis(cars_array, fisher = False)\n",
    "kur_cars"
   ]
  }
 ],
 "metadata": {
  "kernelspec": {
   "display_name": "Python 3",
   "language": "python",
   "name": "python3"
  },
  "language_info": {
   "codemirror_mode": {
    "name": "ipython",
    "version": 3
   },
   "file_extension": ".py",
   "mimetype": "text/x-python",
   "name": "python",
   "nbconvert_exporter": "python",
   "pygments_lexer": "ipython3",
   "version": "3.6.4"
  },
  "toc": {
   "base_numbering": 1,
   "nav_menu": {},
   "number_sections": true,
   "sideBar": true,
   "skip_h1_title": false,
   "title_cell": "Table of Contents",
   "title_sidebar": "Contents",
   "toc_cell": false,
   "toc_position": {},
   "toc_section_display": true,
   "toc_window_display": false
  }
 },
 "nbformat": 4,
 "nbformat_minor": 2
}
